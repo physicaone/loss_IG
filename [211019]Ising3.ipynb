{
  "nbformat": 4,
  "nbformat_minor": 0,
  "metadata": {
    "kernelspec": {
      "display_name": "Python 3",
      "language": "python",
      "name": "python3"
    },
    "language_info": {
      "codemirror_mode": {
        "name": "ipython",
        "version": 3
      },
      "file_extension": ".py",
      "mimetype": "text/x-python",
      "name": "python",
      "nbconvert_exporter": "python",
      "pygments_lexer": "ipython3",
      "version": "3.8.5"
    },
    "colab": {
      "name": "2D Ising model and finite size scaling.ipynb",
      "provenance": [],
      "machine_shape": "hm"
    }
  },
  "cells": [
    {
      "cell_type": "markdown",
      "metadata": {
        "id": "LMbYgULv-N8V"
      },
      "source": [
        "# Finite Size Scaling (2D Ising model)"
      ]
    },
    {
      "cell_type": "markdown",
      "metadata": {
        "id": "llcdJZQT-N8Y"
      },
      "source": [
        "## Useful functions"
      ]
    },
    {
      "cell_type": "markdown",
      "metadata": {
        "id": "H9QZOXR_-N8Y"
      },
      "source": [
        "$$m(T,L) = L^{-\\beta/\\nu} \\hat f[(T - T_c)L^{1/\\nu}] $$\n",
        "$$\\chi(T,L) = L^{\\gamma/\\nu}\\hat g[(T-T_c)L^{1/\\nu}]$$\n",
        "<br>\n",
        "Exact values for 2D Ising model are $\\beta = \\frac{1}{8}$, $\\nu = 1$, and $\\gamma = \\frac{7}{4}$. <br><br>\n",
        "\n",
        "We choose $x$ axis as $x = (T-T_c)L^{1/\\nu}$ and $y$ axis as $y = m(T,L)L^{\\beta/\\nu}$. <br>\n",
        "Therefore, $x = (T - 2.269)L$ and $y = m(T,L)L^{1/8}$. <br><br>\n",
        "\n",
        "We choose $x'$ aixs as $x' = (T-T_c)L^{1/\\nu}$ and $y'$ axis as $y' = \\chi(T,L)L^{-\\gamma/\\nu}$. <br>\n",
        "Therefore, $x' = (T-2.269)L$ and $y' = \\chi(T,L)L^{-7/4}$.\n"
      ]
    },
    {
      "cell_type": "code",
      "metadata": {
        "id": "3BUvC1-a-N8Z",
        "colab": {
          "base_uri": "https://localhost:8080/"
        },
        "outputId": "92d871e9-c903-41e5-e9a6-2db2bf4f0a47"
      },
      "source": [
        "import numpy as np\n",
        "import torch\n",
        "import torchvision.datasets\n",
        "import torchvision.models\n",
        "import torchvision.transforms\n",
        "import torch.optim as optim\n",
        "import torch.nn.functional as F\n",
        "from torchvision import datasets, transforms\n",
        "import torch.utils.data\n",
        "import torch.nn as nn\n",
        "from tqdm import tqdm, tnrange\n",
        "import warnings\n",
        "warnings.filterwarnings(\"ignore\")\n",
        "import random\n",
        "import pickle as pkl\n",
        "import pandas as pd\n",
        "from scipy.stats import entropy\n",
        "import copy\n",
        "import pandas as pd\n",
        "import numpy as np\n",
        "import matplotlib.pyplot as plt\n",
        "import matplotlib.gridspec as gridspec\n",
        "import time\n",
        "from scipy.stats import entropy\n",
        "\n",
        "CUDA = torch.cuda.is_available()\n",
        "CUDA_DEVICE = 0\n",
        "\n",
        "try:\n",
        "    from google.colab import drive\n",
        "    drive.mount('/content/drive')\n",
        "    base='drive/MyDrive'\n",
        "except:\n",
        "    if torch.cuda.device_count()>1:\n",
        "        base='.'\n",
        "    else:\n",
        "        base='Google Drive'\n",
        "\n",
        "if CUDA:\n",
        "    device='cuda'\n",
        "else:\n",
        "    device='cpu'\n",
        "torch.cuda.is_available()"
      ],
      "execution_count": 11,
      "outputs": [
        {
          "output_type": "stream",
          "name": "stdout",
          "text": [
            "Drive already mounted at /content/drive; to attempt to forcibly remount, call drive.mount(\"/content/drive\", force_remount=True).\n"
          ]
        },
        {
          "output_type": "execute_result",
          "data": {
            "text/plain": [
              "False"
            ]
          },
          "metadata": {},
          "execution_count": 11
        }
      ]
    },
    {
      "cell_type": "code",
      "metadata": {
        "id": "cn479C7U-N8Z"
      },
      "source": [
        "\n",
        "def magnetization(lattice):\n",
        "    '''\n",
        "    This is a function that returns absolute of spontaneous magnetization of a spin configuration.\n",
        "    Not returns magnetization per spin.\n",
        "    '''\n",
        "    L = len(lattice)\n",
        "    m = 0\n",
        "    for i in range(L):\n",
        "        for j in range(L):\n",
        "            m += lattice[i,j]\n",
        "    \n",
        "    return abs(m)"
      ],
      "execution_count": 12,
      "outputs": []
    },
    {
      "cell_type": "code",
      "metadata": {
        "scrolled": true,
        "id": "fjhOzPzL-N8a"
      },
      "source": [
        "def Ising_model(lattice, temperature_array, n0, d_delta, mcmax):\n",
        "    '''\n",
        "    This if a function which conducts computing statistics of 2D Ising lattice. \n",
        "    This function returns (ensemble) averaged magnetization per spin, magnetic susceptibility, and 4th cummulant (the Binder cummulant).\n",
        "    '''\n",
        "    \n",
        "    L = len(lattice)\n",
        "    \n",
        "    M_average = []\n",
        "    suscept = []\n",
        "    cummulant = []\n",
        "    \n",
        "    for tt in temperature_array:\n",
        "        m = 0\n",
        "        mag = []\n",
        "        mag2 = []\n",
        "        mag4 = []\n",
        "        equil = 0\n",
        "        count = 0\n",
        "        \n",
        "        while equil <= mcmax:\n",
        "            if equil < n0:\n",
        "                for i in range(L):\n",
        "                    for j in range(L):\n",
        "                        s = lattice[i,j]\n",
        "                        neigh = lattice[(i+1)%L, j] + lattice[i,(j+1)%L] + lattice[(i-1)%L,j] + lattice[i,(j-1)%L]\n",
        "                        DE = 2 * s * neigh \n",
        " \n",
        "                        if DE < 0:\n",
        "                            s *= -1 \n",
        "                        elif np.random.rand() < np.exp(- DE*1/tt):\n",
        "                            s *= -1 \n",
        "                        lattice[i,j] = s\n",
        "                equil += 1;\n",
        "                \n",
        "            else:\n",
        "                x = np.random.randint(L)\n",
        "                y = np.random.randint(L)\n",
        "                s = lattice[x,y]  \n",
        "                neigh = lattice[(x+1)%L, y] + lattice[x,(y+1)%L] + lattice[(x-1)%L,y] + lattice[x,(y-1)%L]\n",
        "                DE = 2 * s * neigh \n",
        "\n",
        "                #accept or reject \n",
        "                if DE < 0:\n",
        "                    s *= -1 \n",
        "\n",
        "                elif np.random.rand() < np.exp(- DE*1/tt):\n",
        "                    s *= -1 \n",
        "\n",
        "                lattice[x,y] = s\n",
        "                count += 1;\n",
        "                m = 0;\n",
        "\n",
        "                if count == n_delta:\n",
        "                    count = 0;\n",
        "                    m = magnetization(lattice)\n",
        "                    mag.append(m)\n",
        "                    mag2.append(m**2) \n",
        "                    mag4.append(m**4)\n",
        "\n",
        "                equil += 1;\n",
        "            \n",
        "        M_average.append(np.average(mag)/L**2)\n",
        "        suscept.append((np.average(mag2) - (np.average(mag))**2)/L**2)\n",
        "        cummulant.append(1- 1/3 * np.average(mag4)/(np.average(mag2)**2)) \n",
        "        \n",
        "    return M_average, suscept, cummulant"
      ],
      "execution_count": 13,
      "outputs": []
    },
    {
      "cell_type": "code",
      "metadata": {
        "id": "JrDgtKRT-N8b"
      },
      "source": [
        "def finite_size_scaling(lattice, temperature_array, critical_temperature, mags, suscepts):\n",
        "    '''\n",
        "    This function is a function for finite size scaling.\n",
        "    '''\n",
        "    \n",
        "    L = len(lattice)\n",
        "    scaled_temperature = (temperature_array - critical_temperature) * L\n",
        "    Mags, Sus = [], []\n",
        "    \n",
        "    for m in mags:\n",
        "        Mags.append(m * L**(+1/8))\n",
        "    for s in suscepts:\n",
        "        Sus.append(s * L **(-7/4))\n",
        "        \n",
        "    return scaled_temperature, Mags, Sus "
      ],
      "execution_count": 14,
      "outputs": []
    },
    {
      "cell_type": "markdown",
      "metadata": {
        "id": "wWO4LWjl-N8c"
      },
      "source": [
        "### Critical point finding"
      ]
    },
    {
      "cell_type": "code",
      "metadata": {
        "id": "6hpyFj_W-N8c"
      },
      "source": [
        "L1 = 3\n",
        "\n",
        "lattice1 = - np.ones((L1,L1))\n",
        "\n",
        "\n",
        "T = np.linspace(1,20,100)\n",
        "\n",
        "\n",
        "n0 = 2000\n",
        "n_delta = n0/2\n",
        "mcmax = 1500000"
      ],
      "execution_count": 15,
      "outputs": []
    },
    {
      "cell_type": "code",
      "metadata": {
        "id": "J1tbfhon-N8d",
        "colab": {
          "base_uri": "https://localhost:8080/"
        },
        "outputId": "d87f9cb4-b5eb-41b7-9406-99a5c6f43d21"
      },
      "source": [
        "start = time.time()\n",
        "mav1, sus1, u1 = Ising_model(lattice1, T, n0, n_delta, mcmax)\n",
        "\n",
        "end = time.time() - start\n",
        "print(end/60, 'min')"
      ],
      "execution_count": 16,
      "outputs": [
        {
          "output_type": "stream",
          "name": "stdout",
          "text": [
            "28.703242568174996 min\n"
          ]
        }
      ]
    },
    {
      "cell_type": "code",
      "metadata": {
        "id": "GFFiFflf-N8e",
        "colab": {
          "base_uri": "https://localhost:8080/",
          "height": 338
        },
        "outputId": "8f07f2ae-b3ee-4a71-8fa1-738e929f9fe7"
      },
      "source": [
        "#plot of magnetizations\n",
        "plt.plot(T, sus1, label = None)\n",
        "plt.axvline(x=1.9, c='r', label='T=1.9')\n",
        "plt.axvline(x=3.6, c='g', label='T=3.6')\n",
        "plt.axvline(x=16, c='b', label='T=16')\n",
        "# plt.xticks([1.9,3.0,16],[1.9,3.0,16])\n",
        "\n",
        "\n",
        "plt.title('magnetic susceptibility');\n",
        "plt.xlabel('Temperature');\n",
        "plt.ylabel('$\\chi_{mag}$');\n",
        "plt.legend(loc = 'upper right');\n",
        "plt.rcParams[\"font.size\"] = \"20\"\n",
        "plt.legend(bbox_to_anchor=(1, 1), ncol=1, fancybox=True, shadow=True)\n",
        "\n",
        "# plt.savefig('susceptibilities.png')"
      ],
      "execution_count": 18,
      "outputs": [
        {
          "output_type": "execute_result",
          "data": {
            "text/plain": [
              "<matplotlib.legend.Legend at 0x7f9a05602950>"
            ]
          },
          "metadata": {},
          "execution_count": 18
        },
        {
          "output_type": "display_data",
          "data": {
            "image/png": "[encoded data removed]",
            "text/plain": [
              "<Figure size 432x288 with 1 Axes>"
            ]
          },
          "metadata": {
            "needs_background": "light"
          }
        }
      ]
    },
    {
      "cell_type": "code",
      "metadata": {
        "id": "N7COXsy0_HDR"
      },
      "source": [
        "def decimal_to_binary(integer, n_hid):\n",
        "    string=bin(int(integer))[2:]\n",
        "    list0=[float(d) for d in string]\n",
        "    while len(list0)<n_hid:\n",
        "        list0=[0.]+list0\n",
        "    return torch.tensor([list0])\n",
        "def binary_to_decimal(list0):\n",
        "    value=0\n",
        "    for i in range(len(list0)):\n",
        "        value+=list0[-i-1]*2**(i)\n",
        "    return value\n",
        "\n",
        "def Ising_energy(v_list):\n",
        "    L = 3\n",
        "    E_list=[]\n",
        "    for n in range(len(v_list)):\n",
        "        v=v_list[n]\n",
        "        E = 0\n",
        "        for i in range(L):\n",
        "            for j in range(L):\n",
        "                s = v[i,j]\n",
        "                neigh = v[(i+1)%L, j] + v[i,(j+1)%L] + v[(i-1)%L,j] + v[i,(j-1)%L] \n",
        "                E += -neigh * s\n",
        "        E_list.append(E/2)\n",
        "    return np.array(E_list)\n",
        "\n",
        "def get_hist(list00):\n",
        "#     bins=range(int(min(list00)-1), int(max(list00)+1), 1)\n",
        "    # bins=[0.001*(1.5**x) for x in range(29)]\n",
        "    y1,x1,_ = plt.hist(list00, bins = 20, histtype='step')\n",
        "    x1 = 0.5*(x1[1:]+x1[:-1])\n",
        "    plt.close()\n",
        "    return x1, y1\n"
      ],
      "execution_count": 5,
      "outputs": []
    },
    {
      "cell_type": "markdown",
      "metadata": {
        "id": "o_MthO_f1SKB"
      },
      "source": [
        "# E std of m train sets"
      ]
    },
    {
      "cell_type": "code",
      "metadata": {
        "id": "xhVNB-YG-met",
        "colab": {
          "base_uri": "https://localhost:8080/"
        },
        "outputId": "eb980e39-fd5e-471d-f1ae-57688b8606ee"
      },
      "source": [
        "n_vis=9\n",
        "T_list=[1.9, 3.6, 16]\n",
        "\n",
        "v_list_ising=[]\n",
        "v_list_ising2=[]\n",
        "for s in range(2**n_vis):\n",
        "    v=decimal_to_binary(s, n_vis)[0]\n",
        "    v_list_ising.append(np.reshape(v,(3,3))*2-1)\n",
        "    v_list_ising2.append(v)\n",
        "v_list_ising2=torch.stack(v_list_ising2).to(device)      \n",
        "for T in T_list:\n",
        "    for vol in [256,512,1024]:\n",
        "        mean_train_list=[]\n",
        "\n",
        "        bf_list=np.exp(-Ising_energy(v_list_ising)/T)\n",
        "        Pv=np.array(torch.tensor(bf_list/sum(bf_list)))\n",
        "\n",
        "        trainset=np.array(pd.read_pickle('{base}/loss_IG/3*3/3*3_full_T={T}.pkl'.format(base=base, T=T)))\n",
        "\n",
        "        mean_true=0\n",
        "        mean_train_list.append(Ising_energy(np.reshape((trainset[0][:vol])*2-1,(vol,3,3))))\n",
        "        mean_true=np.dot(Ising_energy(v_list_ising), np.array(Pv))\n",
        "        print(vol, ', T={T}, True E={truemean}, sampled E_mean={mean}, sampled E_std={std}'.format(T=T, truemean=mean_true, mean=np.mean(mean_train_list), std=np.std(mean_train_list)))\n"
      ],
      "execution_count": null,
      "outputs": [
        {
          "output_type": "stream",
          "name": "stdout",
          "text": [
            "256 , T=1.9, True E=-16.35085105895996, sampled E_mean=-15.921875, sampled E_std=4.343834306735813\n",
            "512 , T=1.9, True E=-16.35085105895996, sampled E_mean=-16.03125, sampled E_std=4.2055348574824585\n",
            "1024 , T=1.9, True E=-16.35085105895996, sampled E_mean=-16.11328125, sampled E_std=4.087287286012379\n",
            "256 , T=3.6, True E=-7.900960922241211, sampled E_mean=-8.171875, sampled E_std=6.4300434667562705\n",
            "512 , T=3.6, True E=-7.900960922241211, sampled E_mean=-7.890625, sampled E_std=6.6699353152317\n",
            "1024 , T=3.6, True E=-7.900960922241211, sampled E_mean=-7.78125, sampled E_std=6.5989316133371165\n",
            "256 , T=16, True E=-1.2051705121994019, sampled E_mean=-1.0, sampled E_std=4.663689526544408\n",
            "512 , T=16, True E=-1.2051705121994019, sampled E_mean=-1.09375, sampled E_std=4.567954787155845\n",
            "1024 , T=16, True E=-1.2051705121994019, sampled E_mean=-0.9609375, sampled E_std=4.424545075043732\n"
          ]
        }
      ]
    },
    {
      "cell_type": "markdown",
      "metadata": {
        "id": "POYGQ04bc7Xa"
      },
      "source": [
        "# $D_{\\text{KL}}(P_V\\|Q_V)$"
      ]
    },
    {
      "cell_type": "code",
      "metadata": {
        "id": "EsZ1TmdKEPEt",
        "colab": {
          "base_uri": "https://localhost:8080/"
        },
        "outputId": "1ab8ed57-abe6-47a4-c2e1-fe65b421fbf9"
      },
      "source": [
        "for T in [1.9,3.6,16]:\n",
        "    trainset=np.array(pd.read_pickle('{base}/loss_IG/3*3/3*3_full_T={T}.pkl'.format(base=base, T=T)))\n",
        "    F_train_list=[]\n",
        "    for m in range(10):\n",
        "        mset=trainset[m]\n",
        "        state_count={}\n",
        "        for i in range(len(mset)):\n",
        "            state_count[str(binary_to_decimal(mset[i][0]))]=0\n",
        "        for i in range(len(mset)):\n",
        "            state_count[str(binary_to_decimal(mset[i][0]))]+=1\n",
        "        Pv=[]\n",
        "        key=list(state_count.keys())\n",
        "        value=list(state_count.values())\n",
        "        for i in range(len(key)):\n",
        "            Pv.append(value[i]/len(mset))\n",
        "        Pv=np.array(Pv)\n",
        "        bf=[]\n",
        "        for i in range(len(key)):\n",
        "            bf.append(np.exp(-Ising_energy([decimal_to_binary(float(key[i]),9).view(3,3)]))*Pv[i])\n",
        "        F_train=-np.log(sum(bf))\n",
        "        F_train_list.append(F_train)\n",
        "    F_train_mean=np.mean(F_train_list)\n",
        "    v_list_ising=[]\n",
        "    v_list_ising2=[]\n",
        "    for s in range(2**n_vis):\n",
        "        v=decimal_to_binary(s, n_vis)[0]\n",
        "        v_list_ising.append(np.reshape(v,(3,3))*2-1)\n",
        "        v_list_ising2.append(v)\n",
        "    bf_exact=np.exp(-Ising_energy(v_list_ising)/T)\n",
        "    F_exact=-np.log(sum(bf_exact))\n",
        "    S=entropy(bf_exact)\n",
        "    print(T, F_exact-F_train_mean-S)\n"
      ],
      "execution_count": null,
      "outputs": [
        {
          "output_type": "stream",
          "name": "stdout",
          "text": [
            "1.9 5.027246463559635\n",
            "3.6 3.7305938426016354\n",
            "16 0.4799011521954233\n"
          ]
        }
      ]
    },
    {
      "cell_type": "code",
      "metadata": {
        "id": "scourRvxgHQv"
      },
      "source": [
        ""
      ],
      "execution_count": null,
      "outputs": []
    },
    {
      "cell_type": "markdown",
      "metadata": {
        "id": "j5OvraWW1Dlt"
      },
      "source": [
        "# To get 'true dist.' and 'train dist.'."
      ]
    },
    {
      "cell_type": "code",
      "metadata": {
        "id": "7VPCEQR6fIRM"
      },
      "source": [
        "\n",
        "n_vis=9\n",
        "\n",
        "vol_list=[256,512,1024]\n",
        "T_list=[1.9, 3.6, 16]\n",
        "\n",
        "v_list_ising=[]\n",
        "v_list_ising2=[]\n",
        "for s in range(2**n_vis):\n",
        "    v=decimal_to_binary(s, n_vis)[0]\n",
        "    v_list_ising.append(np.reshape(v,(3,3))*2-1)\n",
        "    v_list_ising2.append(v)\n",
        "v_list_ising2=np.array(torch.stack(v_list_ising2))    \n",
        "v_list_ising=np.array(torch.stack(v_list_ising))\n",
        "\n",
        "train_energy={}\n",
        "true_dist={}\n",
        "train_dist={}\n",
        "for T in T_list:\n",
        "    train_energy[str(T)]={}\n",
        "    true_dist[str(T)]={}\n",
        "    train_dist[str(T)]={}\n",
        "    bf_list=np.exp(-Ising_energy(v_list_ising)/T)\n",
        "    Pv=np.array(torch.tensor(bf_list/sum(bf_list)))\n",
        "\n",
        "    trainset=np.array(pd.read_pickle('{base}/loss_IG/3*3/3*3_full_T={T}.pkl'.format(base=base, T=T)))\n",
        "    for vol in vol_list:\n",
        "        train_energy[str(T)][str(vol)]=Ising_energy(np.reshape((trainset[0][:vol])*2-1,(vol,3,3)))\n",
        "        train_dist[str(T)][str(vol)]={}\n",
        "        for j in range(len(train_energy[str(T)][str(vol)])):\n",
        "            train_dist[str(T)][str(vol)][int(train_energy[str(T)][str(vol)][j])]=0\n",
        "        for j in range(len(train_energy[str(T)][str(vol)])):\n",
        "            train_dist[str(T)][str(vol)][int(train_energy[str(T)][str(vol)][j])]+=1/vol\n",
        "\n",
        "    for i in range(2**n_vis):\n",
        "        true_dist[str(T)][int(Ising_energy([v_list_ising[i]]))]=0\n",
        "    for i in range(2**n_vis):\n",
        "        true_dist[str(T)][int(Ising_energy([v_list_ising[i]]))]+=Pv[i]\n"
      ],
      "execution_count": 6,
      "outputs": []
    },
    {
      "cell_type": "code",
      "metadata": {
        "id": "1O9J2KfXGcji",
        "outputId": "c298d3b7-613d-402f-a9d6-4b1d56615d70",
        "colab": {
          "base_uri": "https://localhost:8080/"
        }
      },
      "source": [
        "Ising_energy([np.array([[-1,-1,-1],[-1,-1,-1],[-1,-1,-1]])])"
      ],
      "execution_count": 41,
      "outputs": [
        {
          "output_type": "execute_result",
          "data": {
            "text/plain": [
              "array([-18.])"
            ]
          },
          "metadata": {},
          "execution_count": 41
        }
      ]
    },
    {
      "cell_type": "markdown",
      "metadata": {
        "id": "mlEGuMXz0_FN"
      },
      "source": [
        "# To get mse of dist."
      ]
    },
    {
      "cell_type": "code",
      "metadata": {
        "colab": {
          "base_uri": "https://localhost:8080/"
        },
        "id": "Il4lm7b9nHTQ",
        "outputId": "c35164ce-a71b-4564-cf8f-e7833d8408e1"
      },
      "source": [
        "energy_mse={}\n",
        "for T in T_list:\n",
        "    energy_mse[str(T)]={}\n",
        "    for vol in vol_list:\n",
        "        energy_mse[str(T)][str(vol)]=0\n",
        "        for key in true_dist[str(T)].keys():\n",
        "            try:\n",
        "                energy_mse[str(T)][str(vol)]+=(true_dist[str(T)][key]-train_dist[str(T)][str(vol)][key])**2\n",
        "            except:            # In case keys of true dist. do not exist in train dist..\n",
        "                energy_mse[str(T)][str(vol)]+=(true_dist[str(T)][key])**2\n",
        "        for key in train_dist[str(T)][str(vol)].keys():\n",
        "            try:\n",
        "                true_dist[str(T)][key]\n",
        "            except:            # In case keys of train dist. do not exist in true dist..\n",
        "                energy_mse[str(T)][str(vol)]+=(train_dist[str(T)][str(vol)][key])**2\n",
        "for T in T_list:\n",
        "    for vol in vol_list:\n",
        "        energy_mse[str(T)][str(vol)]=np.sqrt(energy_mse[str(T)][str(vol)])\n",
        "\n",
        "for T in T_list:\n",
        "    print('-------------')\n",
        "    for vol in vol_list:\n",
        "        print('T={T}, vol={vol}, mse={mse}'.format(T=T, vol=vol, mse=np.round(energy_mse[str(T)][str(vol)],5)))"
      ],
      "execution_count": 34,
      "outputs": [
        {
          "output_type": "stream",
          "name": "stdout",
          "text": [
            "-------------\n",
            "T=1.9, vol=256, mse=0.57757\n",
            "T=1.9, vol=512, mse=0.58314\n",
            "T=1.9, vol=1024, mse=0.58657\n",
            "-------------\n",
            "T=3.6, vol=256, mse=0.39833\n",
            "T=3.6, vol=512, mse=0.36795\n",
            "T=3.6, vol=1024, mse=0.36231\n",
            "-------------\n",
            "T=16, vol=256, mse=0.45703\n",
            "T=16, vol=512, mse=0.4605\n",
            "T=16, vol=1024, mse=0.46475\n"
          ]
        }
      ]
    },
    {
      "cell_type": "markdown",
      "metadata": {
        "id": "IkTzJzgQ1Lsa"
      },
      "source": [
        "# To plot true and train dist."
      ]
    },
    {
      "cell_type": "code",
      "metadata": {
        "colab": {
          "base_uri": "https://localhost:8080/",
          "height": 1000
        },
        "id": "qP1k2O78eXlK",
        "outputId": "1f2020ee-2a26-4856-dacb-3bbb28e55b1e"
      },
      "source": [
        "plt.figure(figsize=(8,15))\n",
        "T_color=['red', 'green', 'blue','black']\n",
        "\n",
        "T_list=[1.9,3.6,16]\n",
        "\n",
        "for t in range(len(T_list)):\n",
        "    plt.subplot(len(T_list),1, t+1)\n",
        "\n",
        "#         plt.subplot(2, 4, i)\n",
        "    plt.rcParams[\"font.size\"] = \"20\"\n",
        "    plt.title('T={T}'.format(T=T_list[t]))\n",
        "    plt.plot(list(true_dist[str(T_list[t])].keys()), list(true_dist[str(T_list[t])].values()), color='black', marker='.', label='True')\n",
        "    true_avg=np.dot(list(true_dist[str(T_list[t])].keys()),list(true_dist[str(T_list[t])].values()))\n",
        "    plt.axvline(x=true_avg, c='black', label='True mean', linewidth=5)\n",
        "    true_std=np.sqrt(np.dot(np.array(list(true_dist[str(T_list[t])].keys()))**2,list(true_dist[str(T_list[t])].values()))-true_avg**2)\n",
        "    plt.axvline(x=true_avg+true_std, c='red', linewidth=5)\n",
        "    plt.axvline(x=true_avg-true_std, c='red', linewidth=5)\n",
        "\n",
        "    v=0\n",
        "    for vol in vol_list:\n",
        "        \n",
        "        # plt.plot(x_dict[str(T)][str(vol)], y_dict[str(T)][str(vol)]/vol, c=T_color[t], label = vol_list[t], linewidth=20, alpha=0.4)\n",
        "        plt.hist(train_energy[str(T_list[t])][str(vol)], bins =np.linspace(min(true_dist[str(T_list[t])])-0.5,max(true_dist[str(T_list[t])])+0.5,3-min(true_dist[str(T_list[t])])+max(true_dist[str(T_list[t])])-1), histtype='step', color=T_color[v], label = vol_list[v],density=True)\n",
        "        v=v+1\n",
        "        plt.ylabel('Probability')\n",
        "\n",
        "    # plt.yscale('log')\n",
        "    plt.xticks([])\n",
        "    plt.xlabel('E')\n",
        "plt.xticks(np.linspace(min(true_dist[str(T_list[t])]),max(true_dist[str(T_list[t])]),5))\n",
        "\n",
        "#     plt.ylim(0, 1400)\n",
        "# plt.legend(loc='lower right', bbox_to_anchor=(1.3, 0.1), ncol=1, fancybox=True, shadow=True)\n"
      ],
      "execution_count": 10,
      "outputs": [
        {
          "output_type": "execute_result",
          "data": {
            "text/plain": [
              "([<matplotlib.axis.XTick at 0x7f9a060a7690>,\n",
              "  <matplotlib.axis.XTick at 0x7f9a06092a90>,\n",
              "  <matplotlib.axis.XTick at 0x7f9a007531d0>,\n",
              "  <matplotlib.axis.XTick at 0x7f9a00753d90>,\n",
              "  <matplotlib.axis.XTick at 0x7f9a0077a590>],\n",
              " <a list of 5 Text major ticklabel objects>)"
            ]
          },
          "metadata": {},
          "execution_count": 10
        },
        {
          "output_type": "display_data",
          "data": {
            "image/png": "[encoded data removed]",
            "text/plain": [
              "<Figure size 576x1080 with 3 Axes>"
            ]
          },
          "metadata": {
            "needs_background": "light"
          }
        }
      ]
    }
  ]
}