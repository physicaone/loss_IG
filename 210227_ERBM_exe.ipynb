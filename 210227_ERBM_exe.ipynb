{
 "cells": [
  {
   "cell_type": "code",
   "execution_count": 1,
   "metadata": {},
   "outputs": [],
   "source": [
    "import numpy as np\n",
    "import torch\n",
    "import torchvision.datasets\n",
    "import torchvision.models\n",
    "import torchvision.transforms\n",
    "from datetime import datetime\n",
    "from tqdm import tqdm, trange\n",
    "import warnings\n",
    "warnings.filterwarnings(\"ignore\")"
   ]
  },
  {
   "cell_type": "code",
   "execution_count": 2,
   "metadata": {},
   "outputs": [],
   "source": [
    "from energy_rbm import *\n",
    "import pandas as pd\n",
    "import matplotlib.pyplot as plt\n",
    "import matplotlib.gridspec as gridspec\n",
    "%matplotlib inline\n",
    "import numpy as np\n",
    "# np.seterr(divide='ignore', invalid='ignore')\n",
    "\n",
    "\n",
    "import re\n",
    "from time import sleep"
   ]
  },
  {
   "cell_type": "code",
   "execution_count": 3,
   "metadata": {},
   "outputs": [
    {
     "name": "stdout",
     "output_type": "stream",
     "text": [
      "/bin/sh: nvidia-smi: command not found\n"
     ]
    }
   ],
   "source": [
    "! nvidia-smi"
   ]
  },
  {
   "cell_type": "code",
   "execution_count": 4,
   "metadata": {},
   "outputs": [
    {
     "data": {
      "text/plain": [
       "False"
      ]
     },
     "execution_count": 4,
     "metadata": {},
     "output_type": "execute_result"
    }
   ],
   "source": [
    "CUDA = torch.cuda.is_available()\n",
    "CUDA_DEVICE = 0\n",
    "\n",
    "if CUDA:\n",
    "    device='cuda'\n",
    "else:\n",
    "    device='cpu'\n",
    "torch.cuda.is_available()"
   ]
  },
  {
   "cell_type": "code",
   "execution_count": 5,
   "metadata": {},
   "outputs": [
    {
     "data": {
      "text/plain": [
       "False"
      ]
     },
     "execution_count": 5,
     "metadata": {},
     "output_type": "execute_result"
    }
   ],
   "source": [
    "CUDA"
   ]
  },
  {
   "cell_type": "code",
   "execution_count": 6,
   "metadata": {},
   "outputs": [
    {
     "data": {
      "text/plain": [
       "True"
      ]
     },
     "execution_count": 6,
     "metadata": {},
     "output_type": "execute_result"
    }
   ],
   "source": [
    "torch.backends.cudnn.enabled"
   ]
  },
  {
   "cell_type": "markdown",
   "metadata": {},
   "source": [
    "# Train"
   ]
  },
  {
   "cell_type": "code",
   "execution_count": 7,
   "metadata": {
    "jupyter": {
     "source_hidden": true
    }
   },
   "outputs": [],
   "source": [
    "n_hid_range=[4, 8, 16, 32, 64, 128]\n",
    "# n_hid_range=[2, 128, 24, 48, 96]\n",
    "# n_hid_range=[128]\n",
    "\n",
    "\n",
    "n_vis=784\n",
    "k=5\n",
    "n_epochs=5001\n",
    "batch_size=60\n",
    "lr=0.01\n",
    "vol=300"
   ]
  },
  {
   "cell_type": "code",
   "execution_count": 53,
   "metadata": {
    "jupyter": {
     "source_hidden": true
    }
   },
   "outputs": [],
   "source": [
    "train_dataset = get_small_mnist(vol, 'train', [0,1])\n",
    "train_loader = torch.utils.data.DataLoader(train_dataset, batch_size)\n",
    "#     test_dataset = torchvision.datasets.MNIST(root=DATA_FOLDER, train=False, transform=torchvision.transforms.ToTensor(), download=True)\n",
    "test_dataset = get_small_mnist(1000, 'test', [0,1])\n",
    "test_loader = torch.utils.data.DataLoader(test_dataset, batch_size=2000)"
   ]
  },
  {
   "cell_type": "code",
   "execution_count": 54,
   "metadata": {
    "jupyter": {
     "source_hidden": true
    }
   },
   "outputs": [],
   "source": [
    "def train_and_get_data(n_hid, vol, model, train_loader=train_loader, test_loader=test_loader):\n",
    "    if model==0:\n",
    "        rbm = RBM(n_vis, n_hid, k, use_cuda=False)\n",
    "    else:\n",
    "        rbm=model\n",
    "        \n",
    "#     train_op = optim.Adam(rbm.parameters(), lr)\n",
    "    train_op = optim.SGD(rbm.parameters(), lr, momentum=0.9)\n",
    "\n",
    "    # train the RBM model\n",
    "    rbm.train()\n",
    "\n",
    "    train_loss_list=[]\n",
    "    test_loss_list=[]\n",
    "    for epoch in tqdm(range(n_epochs)):\n",
    "#     for epoch in trange(n_epochs):\n",
    "#     for epoch in range(n_epochs):\n",
    "        train_loss_epoch = []\n",
    "        test_loss_epoch = []\n",
    "        for _, (data, target) in enumerate(train_loader):\n",
    "            data=data.to(device)\n",
    "            v, v_gibbs = rbm(data.view(-1, 784))\n",
    "            train_loss = rbm.free_energy(v) - rbm.free_energy(v_gibbs)\n",
    "            train_loss_epoch.append(train_loss.item())\n",
    "            train_op.zero_grad()\n",
    "            train_loss.backward()\n",
    "            train_op.step()\n",
    "        for _, (data, target) in enumerate(test_loader):\n",
    "            data=data.to(device)\n",
    "            v, v_gibbs = rbm(data.view(-1, 784))\n",
    "            test_loss = rbm.free_energy(v) - rbm.free_energy(v_gibbs)\n",
    "            test_loss_epoch.append(test_loss.item())\n",
    "        train_loss_list.append(np.mean(train_loss_epoch))\n",
    "        test_loss_list.append(np.mean(test_loss_epoch))\n",
    "#         if epoch in [100, 1000, 10000, 100000]:\n",
    "#             print(\"epoch : {epoch}\".format(epoch=epoch))\n",
    "\n",
    "    with open('ERBM,SGD/lr=0.01/loss/2021-01-28_loss_n_hid={n_hid}_vol={v}_epoch={ep}.pkl'.format(n_hid=n_hid, v=vol*2, ep=epoch), 'wb') as f:\n",
    "        pkl.dump([train_loss_list, test_loss_list], f)\n",
    "    torch.save(rbm, 'ERBM,SGD/lr=0.01/models/2021-01-28_n_hid={n_hid}_vol={v}_epoch={ep}'.format(n_hid=n_hid, v=vol*2, ep=epoch))\n",
    "    "
   ]
  },
  {
   "cell_type": "code",
   "execution_count": 13,
   "metadata": {
    "collapsed": true,
    "jupyter": {
     "outputs_hidden": true,
     "source_hidden": true
    },
    "scrolled": true
   },
   "outputs": [
    {
     "name": "stderr",
     "output_type": "stream",
     "text": [
      "100%|██████████| 10001/10001 [56:20<00:00,  2.96it/s]\n"
     ]
    }
   ],
   "source": [
    "for n_hid in n_hid_range:\n",
    "    train_and_get_data(n_hid, 300\n",
    "#                    ,model=torch.load('ERBM,SGD/lr=0.01/models/2021-01-28_n_hid={n_hid}_vol=600_epoch=5000'.format(n_hid=n_hid)\n",
    "                    ,0\n",
    "                    ,train_loader=train_loader\n",
    "                    ,test_loader=test_loader)\n",
    "# for n_hid in n_hid_range:\n",
    "#     train_and_get_data(n_hid, 300\n",
    "#                    ,model=torch.load('ERBM,SGD/lr=0.05/models/2021-01-28_n_hid={n_hid}_vol=600_epoch=10000'.format(n_hid=n_hid))\n",
    "#                    ,train_loader=train_loader\n",
    "#                    ,test_loader=test_loader)\n"
   ]
  },
  {
   "cell_type": "markdown",
   "metadata": {},
   "source": [
    "# make samples"
   ]
  },
  {
   "cell_type": "code",
   "execution_count": 10,
   "metadata": {
    "jupyter": {
     "source_hidden": true
    }
   },
   "outputs": [],
   "source": [
    "def make_samples(model, n_sample=1000, step_eq=500):\n",
    "    model=model.cpu()\n",
    "    n_hid=len(model.h[0])\n",
    "    step_eq=500\n",
    "    v_samples=[]\n",
    "    h_samples=[]\n",
    "    encoded=[]\n",
    "#     torch.cuda.empty_cache()\n",
    "    train_dataset = get_small_mnist(6000, 'train', [0,1])\n",
    "    train_loader = torch.utils.data.DataLoader(train_dataset, 1)\n",
    "    for _, (data, target) in enumerate(train_loader):\n",
    "#         data=data.cuda()\n",
    "        encoded_sample = model.visible_to_hidden(data.view(-1, 784))\n",
    "        encoded_sample = encoded_sample.bernoulli()\n",
    "        encoded.append(str(encoded_sample.detach().cpu()))\n",
    "    with open('ERBM,SGD/lr=0.01/encoded/2021-01-28_encoded2_n_hid={n_hid}_vol=600_epoch=5000.pkl'.format(n_hid=n_hid), 'wb') as f:\n",
    "        pkl.dump(encoded, f)\n",
    "        \n",
    "    for n in tqdm(range(n_sample)):\n",
    "#     for n in range(n_sample):\n",
    "        input_random=torch.round(torch.rand(n_hid).view(1, n_hid))\n",
    "        for i in range(step_eq):\n",
    "            v_sample=model.hidden_to_visible(input_random)\n",
    "            v_sample=v_sample.bernoulli()\n",
    "            h_sample=model.visible_to_hidden(v_sample)\n",
    "            h_sample=h_sample.bernoulli()\n",
    "            input_random=h_sample\n",
    "        v_sample=model.hidden_to_visible(h_sample)\n",
    "#         v_samples.append(v_sample.view(1,28,28))\n",
    "        v_samples.append(np.reshape(v_sample.tolist(),(28,28)))\n",
    "        h_samples.append(str(h_sample.detach().cpu()))\n",
    "    with open('ERBM,SGD/lr=0.01/samples/2021-01-28_samples2_n_hid={n_hid}_vol=600_epoch=5000.pkl'.format(n_hid=n_hid), 'wb') as f:\n",
    "        pkl.dump(v_samples, f)\n",
    "    with open('ERBM,SGD/lr=0.01/encoded/2021-01-28_encoded_n_hid={n_hid}_vol=600_epoch=5000.pkl'.format(n_hid=n_hid), 'wb') as f:\n",
    "        pkl.dump(h_samples, f)\n"
   ]
  },
  {
   "cell_type": "code",
   "execution_count": 22,
   "metadata": {
    "collapsed": true,
    "jupyter": {
     "outputs_hidden": true,
     "source_hidden": true
    },
    "scrolled": true
   },
   "outputs": [
    {
     "name": "stderr",
     "output_type": "stream",
     "text": [
      "100%|██████████| 1000/1000 [00:33<00:00, 30.07it/s]\n"
     ]
    }
   ],
   "source": [
    "n_hid_range=[128]\n",
    "\n",
    "model_list=[]\n",
    "for i in n_hid_range:\n",
    "    model_list.append(torch.load('ERBM,SGD/lr=0.01/models/2021-01-28_n_hid={n_hid}_vol=600_epoch=5000'.format(n_hid=i), map_location=device))\n",
    "for i in range(len(model_list)):\n",
    "    make_samples(model_list[i], n_sample=1000, step_eq=500)"
   ]
  },
  {
   "cell_type": "markdown",
   "metadata": {},
   "source": [
    "# load models"
   ]
  },
  {
   "cell_type": "code",
   "execution_count": 11,
   "metadata": {
    "jupyter": {
     "source_hidden": true
    }
   },
   "outputs": [],
   "source": [
    "model_list=[]\n",
    "for i in n_hid_range:\n",
    "    model_list.append(torch.load('ERBM,SGD/lr=0.01/models/2021-01-28_n_hid={n_hid}_vol=12000_epoch=5000'.format(n_hid=i), map_location=device))\n"
   ]
  },
  {
   "cell_type": "markdown",
   "metadata": {},
   "source": [
    "# save parameters"
   ]
  },
  {
   "cell_type": "code",
   "execution_count": 12,
   "metadata": {
    "jupyter": {
     "source_hidden": true
    }
   },
   "outputs": [],
   "source": [
    "# save parameters as pickle\n",
    "a=model_list[4].h.detach().cpu()\n",
    "a=np.squeeze(a.numpy())\n",
    "with open('n_hid=64_vol_12000_h.pkl', 'wb') as f:\n",
    "    pkl.dump(a, f)"
   ]
  },
  {
   "cell_type": "markdown",
   "metadata": {},
   "source": [
    "# check E distribution"
   ]
  },
  {
   "cell_type": "code",
   "execution_count": 12,
   "metadata": {
    "jupyter": {
     "source_hidden": true
    }
   },
   "outputs": [],
   "source": [
    "n_hid=4\n",
    "step_eq=1\n",
    "model0=torch.load('ERBM,SGD/lr=0.01/models/2021-01-28_n_hid={n_hid}_vol=12000_epoch=5000'.format(n_hid=n_hid), map_location=device).float()\n",
    "model1=torch.load('ERBM,SGD/lr=0.01/models/2021-01-28_n_hid={n_hid}_vol=600_epoch=5000'.format(n_hid=n_hid), map_location=device).float()\n",
    "\n",
    "# n_hid_energy=check_energy(model0, model1, n_sample=100000, step_eq=step_eq)\n",
    "# n_hid_energy2=check_energy2(model0, model1, train_dataset)"
   ]
  },
  {
   "cell_type": "code",
   "execution_count": 13,
   "metadata": {
    "jupyter": {
     "source_hidden": true
    }
   },
   "outputs": [],
   "source": [
    "def check_energy2(model0, model1, dataset):\n",
    "    E0=[]; E1=[]\n",
    "#     dataset=np.squeeze(dataset)\n",
    "    for i in range(len(dataset)):\n",
    "        #for MNIST set's shape\n",
    "        E0.append(model0.energy(dataset[i][0].view(-1,784).bernoulli()).detach().numpy())\n",
    "        E1.append(model1.energy(dataset[i][0].view(-1,784).bernoulli()).detach().numpy())\n",
    "        #for generated set's shape\n",
    "#         E0.append(model0.energy(dataset[i])[0].detach().numpy())\n",
    "#         E1.append(model1.energy(dataset[i])[0].detach().numpy())\n",
    "\n",
    "    return E0, E1"
   ]
  },
  {
   "cell_type": "code",
   "execution_count": 14,
   "metadata": {
    "collapsed": true,
    "jupyter": {
     "outputs_hidden": true,
     "source_hidden": true
    }
   },
   "outputs": [
    {
     "data": {
      "image/png": "[encoded data removed]",
      "text/plain": [
       "<Figure size 504x360 with 1 Axes>"
      ]
     },
     "metadata": {
      "needs_background": "light"
     },
     "output_type": "display_data"
    }
   ],
   "source": [
    "def get_hist(list00, color):\n",
    "    bins=range(int(min(list00)-30), int(max(list00)+30), 1)\n",
    "    y1,x1,_ = plt.hist(list00, bins = bins, histtype='step', color=color)\n",
    "    x1 = 0.5*(x1[1:]+x1[:-1])\n",
    "    return x1, y1\n",
    "\n",
    "# n_hid=4\n",
    "model0=torch.load('ERBM,SGD/lr=0.01/models/2021-01-28_n_hid={n_hid}_vol=12000_epoch=5000'.format(n_hid=n_hid), map_location=device).float()\n",
    "model1=torch.load('ERBM,SGD/lr=0.01/models/2021-01-28_n_hid={n_hid}_vol=600_epoch=5000'.format(n_hid=n_hid), map_location=device).float()\n",
    "train_dataset = get_small_mnist(6000, 'train', [0, 1])\n",
    "n_hid_energy2=check_energy2(model0, model1, train_dataset)\n",
    "\n",
    "x0,y0=get_hist(np.squeeze(check_energy2(model0, model1, get_small_mnist(vol, 'train', [0]))[0]), 'red')\n",
    "x1,y1=get_hist(np.squeeze(check_energy2(model0, model1, get_small_mnist(vol, 'train', [0]))[0]), 'pink')\n",
    "x2,y2=get_hist(np.squeeze(check_energy2(model0, model1, get_small_mnist(vol, 'train', [1]))[0]), 'blue')\n",
    "x3,y3=get_hist(np.squeeze(check_energy2(model0, model1, get_small_mnist(vol, 'train', [1]))[0]), 'skyblue')\n",
    "plt.close()\n",
    "\n",
    "plt.figure(figsize=(7,5))\n",
    "\n",
    "plt.plot(x0, y0, '-', color='red',)\n",
    "plt.plot(x1, y1, '-.', color='pink',)\n",
    "plt.plot(x2, y2, '', color='blue',)\n",
    "plt.plot(x3, y3, '-.', color='skyblue',)\n",
    "plt.title('E dist. of 01 trainset n_hid={n_hid}'.format(n_hid=n_hid))\n",
    "plt.legend(['full model 0', 'sub model 0', 'full model 1', 'sub model 1'],\n",
    "           loc='upper right',\n",
    "           ncol=1, fancybox=True, shadow=True)\n",
    "# plt.text(350, 0.1, '~$k^{2.1}$ ', fontsize=20)\n",
    "plt.rcParams[\"font.size\"] = \"20\"\n",
    "plt.ylim([0,20])\n",
    "# plt.axis([-150, 200, 0, 20])\n",
    "# plt.savefig('image/IEvsn_hid.png', pad_inches=10)\n",
    "plt.plot()\n",
    "plt.show()\n"
   ]
  },
  {
   "cell_type": "code",
   "execution_count": 15,
   "metadata": {
    "collapsed": true,
    "jupyter": {
     "outputs_hidden": true,
     "source_hidden": true
    }
   },
   "outputs": [
    {
     "data": {
      "image/png": "[encoded data removed]",
      "text/plain": [
       "<Figure size 504x360 with 1 Axes>"
      ]
     },
     "metadata": {
      "needs_background": "light"
     },
     "output_type": "display_data"
    }
   ],
   "source": [
    "def get_hist(list00, color):\n",
    "    bins=range(int(min(list00)-30), int(max(list00)+30), 5)\n",
    "    y1,x1,_ = plt.hist(list00, bins = bins, histtype='step', color=color)\n",
    "    x1 = 0.5*(x1[1:]+x1[:-1])\n",
    "    return x1, y1\n",
    "\n",
    "# n_hid=4\n",
    "dataset0=pd.read_pickle('ERBM,SGD/lr=0.01/samples/2021-01-28_samples2_n_hid={n_hid}_vol=12000_epoch=5000.pkl'.format(n_hid=n_hid))\n",
    "dataset0=torch.tensor(np.array(dataset0).reshape(1000, 1, 784)).float()\n",
    "dataset1=pd.read_pickle('ERBM,SGD/lr=0.01/samples/2021-01-28_samples2_n_hid={n_hid}_vol=600_epoch=5000.pkl'.format(n_hid=n_hid))\n",
    "dataset1=torch.tensor(np.array(dataset1).reshape(1000, 1, 784)).float()\n",
    "\n",
    "n_hid_energy0=check_energy2(model0, model1, dataset0)\n",
    "n_hid_energy1=check_energy2(model0, model1, dataset1)\n",
    "\n",
    "x0,y0=get_hist(np.squeeze(check_energy2(model0, model1, dataset0)[0]), 'red')\n",
    "x1,y1=get_hist(np.squeeze(check_energy2(model0, model1, dataset1)[0]), 'pink')\n",
    "\n",
    "plt.close()\n",
    "\n",
    "plt.figure(figsize=(7,5))\n",
    "plt.plot(x0, y0, '-', color='red')\n",
    "plt.plot(x1, y1, '-', color='blue')\n",
    "\n",
    "\n",
    "plt.title('E dist. of gen_n_hid={n_hid}'.format(n_hid=n_hid))\n",
    "plt.legend(['full model', 'sub model'],\n",
    "           loc='upper right',\n",
    "           ncol=1, fancybox=True, shadow=True)\n",
    "\n",
    "# plt.text(350, 0.1, '~$k^{2.1}$ ', fontsize=20)\n",
    "plt.rcParams[\"font.size\"] = \"20\"\n",
    "# plt.ylim([0, 200])\n",
    "# plt.axis([-150, 200, 0, 500])\n",
    "# plt.savefig('image/IEvsn_hid.png', pad_inches=10)\n",
    "plt.plot()\n",
    "plt.show()\n"
   ]
  },
  {
   "cell_type": "markdown",
   "metadata": {},
   "source": [
    "# combin samples"
   ]
  },
  {
   "cell_type": "code",
   "execution_count": 16,
   "metadata": {
    "jupyter": {
     "source_hidden": true
    }
   },
   "outputs": [],
   "source": [
    "n_hid=4\n",
    "model0=torch.load('ERBM,SGD/lr=0.01/models/2021-01-28_n_hid={n_hid}_vol=12000_epoch=5000'.format(n_hid=n_hid), map_location=device).float()\n",
    "model1=torch.load('ERBM,SGD/lr=0.01/models/2021-01-28_n_hid={n_hid}_vol=600_epoch=5000'.format(n_hid=n_hid), map_location=device).float()\n",
    "train_dataset = get_small_mnist(6000, 'train', [0, 1])\n",
    "n_hid_energy2=check_energy2(model0, model1, train_dataset)\n",
    "def combine_trainset_genset(train_dataset, dataset0, dataset1):\n",
    "    a=(train_dataset.data/255).view(len(train_dataset),784)\n",
    "    b=dataset0.view(len(dataset0), 784)\n",
    "    c=dataset0.view(len(dataset1), 784)    \n",
    "    return torch.cat((a,b,c))\n",
    "com_config=combine_trainset_genset(train_dataset, dataset0, dataset1)"
   ]
  },
  {
   "cell_type": "markdown",
   "metadata": {},
   "source": [
    "# Gibbs E distribution"
   ]
  },
  {
   "cell_type": "code",
   "execution_count": 7,
   "metadata": {},
   "outputs": [],
   "source": [
    "\n",
    "n_hid=8\n",
    "model0=torch.load('ERBM,SGD/lr=0.01/models/2021-01-28_n_hid={n_hid}_vol=12000_epoch=5000'.format(n_hid=n_hid), map_location=device).float()\n",
    "\n",
    "def binary_to_decimal(list0):\n",
    "    value=0\n",
    "    for i in range(len(list0)):\n",
    "        value+=list0[-i-1]*2**(i)\n",
    "    return value\n",
    "\n",
    "def decimal_to_binary(integer):\n",
    "    string=bin(integer)[2:]\n",
    "    list0=[float(d) for d in string]\n",
    "    while len(list0)<n_hid:\n",
    "        list0=[0.]+list0\n",
    "    return torch.tensor([list0])\n",
    "\n",
    "def check_energy(model0, n_sample=10000, step_eq=500):\n",
    "    n_vis=len(model0.v[0]); n_hid=len(model0.h[0])\n",
    "    state_E_dict={}\n",
    "    hidden_state_list=[]\n",
    "    for i in range(2**n_hid):\n",
    "        state_E_dict[str(i)]=0\n",
    "    # for i in range(2**n_hid):\n",
    "    for i in [0]:\n",
    "        hidden_state_list.append(decimal_to_binary(i))\n",
    "    # for i in tqdm(range(len(hidden_state_list))):\n",
    "    for i in range(len(hidden_state_list)):\n",
    "        h_sample=hidden_state_list[i].to(device).detach()\n",
    "        for j in range(step_eq):\n",
    "            v_sample=model0.hidden_to_visible(h_sample).detach()\n",
    "            v_sample=v_sample.bernoulli().detach()\n",
    "            h_sample=model0.visible_to_hidden(v_sample).detach()\n",
    "            h_sample=h_sample.bernoulli().detach()\n",
    "        v_sample=model0.hidden_to_visible(h_sample).detach()\n",
    "        v_sample=v_sample.bernoulli().detach()\n",
    "        for n in tqdm(range(n_sample)):\n",
    "        # for n in range(n_sample):\n",
    "            h_sample=model0.visible_to_hidden(v_sample).detach()\n",
    "            h_sample=h_sample.bernoulli().detach()\n",
    "            v_sample=model0.hidden_to_visible(h_sample).detach()\n",
    "            v_sample=v_sample.bernoulli().detach()\n",
    "            # state_E_dict[str(binary_to_decimal(h_sample.view(4).int().detach().numpy()))].append(model0.energy2(v_sample, h_sample).detach().numpy()[0][0].astype(int))\n",
    "            state_E_dict[str(binary_to_decimal(h_sample.view(n_hid).cpu().int().detach().numpy()))]+=1\n",
    "#     print(state_E_dict)\n",
    "    with open('state_E_dict_n_hid={n_hid}_n_sample={n_sample}.pkl'.format(n_hid=n_hid, n_sample=n_sample), 'wb') as f:\n",
    "        pkl.dump(state_E_dict, f)\n"
   ]
  },
  {
   "cell_type": "code",
   "execution_count": null,
   "metadata": {
    "scrolled": true
   },
   "outputs": [
    {
     "name": "stderr",
     "output_type": "stream",
     "text": [
      " 11%|█         | 10954243/100000000 [16:00<2:10:30, 11370.95it/s]"
     ]
    }
   ],
   "source": [
    "\n",
    "check_energy(model0, n_sample=100000000, step_eq=1)"
   ]
  },
  {
   "cell_type": "code",
   "execution_count": 13,
   "metadata": {},
   "outputs": [],
   "source": [
    "a=pd.read_pickle('state_E_dict_n_hid=8.pkl')"
   ]
  },
  {
   "cell_type": "code",
   "execution_count": 14,
   "metadata": {
    "scrolled": true
   },
   "outputs": [
    {
     "data": {
      "text/plain": [
       "{'0': 0,\n",
       " '1': 0,\n",
       " '2': 685415,\n",
       " '3': 0,\n",
       " '4': 0,\n",
       " '5': 0,\n",
       " '6': 0,\n",
       " '7': 0,\n",
       " '8': 0,\n",
       " '9': 0,\n",
       " '10': 0,\n",
       " '11': 0,\n",
       " '12': 0,\n",
       " '13': 0,\n",
       " '14': 0,\n",
       " '15': 0,\n",
       " '16': 0,\n",
       " '17': 615,\n",
       " '18': 560686,\n",
       " '19': 200503,\n",
       " '20': 4286073,\n",
       " '21': 2013,\n",
       " '22': 71241,\n",
       " '23': 0,\n",
       " '24': 0,\n",
       " '25': 0,\n",
       " '26': 0,\n",
       " '27': 0,\n",
       " '28': 0,\n",
       " '29': 0,\n",
       " '30': 0,\n",
       " '31': 0,\n",
       " '32': 0,\n",
       " '33': 0,\n",
       " '34': 816,\n",
       " '35': 0,\n",
       " '36': 0,\n",
       " '37': 0,\n",
       " '38': 0,\n",
       " '39': 0,\n",
       " '40': 0,\n",
       " '41': 0,\n",
       " '42': 0,\n",
       " '43': 0,\n",
       " '44': 0,\n",
       " '45': 0,\n",
       " '46': 0,\n",
       " '47': 0,\n",
       " '48': 0,\n",
       " '49': 0,\n",
       " '50': 13137,\n",
       " '51': 0,\n",
       " '52': 228753,\n",
       " '53': 0,\n",
       " '54': 238573,\n",
       " '55': 0,\n",
       " '56': 0,\n",
       " '57': 0,\n",
       " '58': 0,\n",
       " '59': 0,\n",
       " '60': 0,\n",
       " '61': 0,\n",
       " '62': 0,\n",
       " '63': 0,\n",
       " '64': 0,\n",
       " '65': 0,\n",
       " '66': 8158845,\n",
       " '67': 337,\n",
       " '68': 0,\n",
       " '69': 0,\n",
       " '70': 0,\n",
       " '71': 0,\n",
       " '72': 0,\n",
       " '73': 0,\n",
       " '74': 0,\n",
       " '75': 0,\n",
       " '76': 0,\n",
       " '77': 0,\n",
       " '78': 0,\n",
       " '79': 0,\n",
       " '80': 0,\n",
       " '81': 24338,\n",
       " '82': 82630,\n",
       " '83': 4394041,\n",
       " '84': 865718,\n",
       " '85': 1499965,\n",
       " '86': 11397,\n",
       " '87': 695,\n",
       " '88': 0,\n",
       " '89': 0,\n",
       " '90': 0,\n",
       " '91': 0,\n",
       " '92': 0,\n",
       " '93': 0,\n",
       " '94': 0,\n",
       " '95': 0,\n",
       " '96': 0,\n",
       " '97': 0,\n",
       " '98': 84459,\n",
       " '99': 1,\n",
       " '100': 0,\n",
       " '101': 0,\n",
       " '102': 0,\n",
       " '103': 0,\n",
       " '104': 0,\n",
       " '105': 0,\n",
       " '106': 0,\n",
       " '107': 0,\n",
       " '108': 0,\n",
       " '109': 0,\n",
       " '110': 0,\n",
       " '111': 0,\n",
       " '112': 0,\n",
       " '113': 0,\n",
       " '114': 2270,\n",
       " '115': 13,\n",
       " '116': 178842,\n",
       " '117': 0,\n",
       " '118': 125538,\n",
       " '119': 17,\n",
       " '120': 0,\n",
       " '121': 0,\n",
       " '122': 0,\n",
       " '123': 0,\n",
       " '124': 0,\n",
       " '125': 0,\n",
       " '126': 0,\n",
       " '127': 0,\n",
       " '128': 0,\n",
       " '129': 0,\n",
       " '130': 139560,\n",
       " '131': 0,\n",
       " '132': 0,\n",
       " '133': 0,\n",
       " '134': 0,\n",
       " '135': 0,\n",
       " '136': 0,\n",
       " '137': 0,\n",
       " '138': 0,\n",
       " '139': 0,\n",
       " '140': 0,\n",
       " '141': 0,\n",
       " '142': 0,\n",
       " '143': 0,\n",
       " '144': 0,\n",
       " '145': 0,\n",
       " '146': 769781,\n",
       " '147': 0,\n",
       " '148': 0,\n",
       " '149': 0,\n",
       " '150': 32369,\n",
       " '151': 0,\n",
       " '152': 0,\n",
       " '153': 0,\n",
       " '154': 0,\n",
       " '155': 0,\n",
       " '156': 0,\n",
       " '157': 0,\n",
       " '158': 0,\n",
       " '159': 0,\n",
       " '160': 0,\n",
       " '161': 0,\n",
       " '162': 29720,\n",
       " '163': 0,\n",
       " '164': 0,\n",
       " '165': 0,\n",
       " '166': 0,\n",
       " '167': 0,\n",
       " '168': 0,\n",
       " '169': 0,\n",
       " '170': 0,\n",
       " '171': 0,\n",
       " '172': 0,\n",
       " '173': 0,\n",
       " '174': 0,\n",
       " '175': 0,\n",
       " '176': 0,\n",
       " '177': 0,\n",
       " '178': 684161,\n",
       " '179': 0,\n",
       " '180': 0,\n",
       " '181': 0,\n",
       " '182': 49100,\n",
       " '183': 0,\n",
       " '184': 0,\n",
       " '185': 0,\n",
       " '186': 0,\n",
       " '187': 0,\n",
       " '188': 0,\n",
       " '189': 0,\n",
       " '190': 0,\n",
       " '191': 0,\n",
       " '192': 0,\n",
       " '193': 0,\n",
       " '194': 683537,\n",
       " '195': 0,\n",
       " '196': 0,\n",
       " '197': 0,\n",
       " '198': 0,\n",
       " '199': 0,\n",
       " '200': 0,\n",
       " '201': 0,\n",
       " '202': 1,\n",
       " '203': 0,\n",
       " '204': 0,\n",
       " '205': 0,\n",
       " '206': 0,\n",
       " '207': 0,\n",
       " '208': 0,\n",
       " '209': 0,\n",
       " '210': 262805,\n",
       " '211': 0,\n",
       " '212': 0,\n",
       " '213': 0,\n",
       " '214': 106552,\n",
       " '215': 0,\n",
       " '216': 0,\n",
       " '217': 0,\n",
       " '218': 0,\n",
       " '219': 0,\n",
       " '220': 0,\n",
       " '221': 0,\n",
       " '222': 0,\n",
       " '223': 0,\n",
       " '224': 0,\n",
       " '225': 0,\n",
       " '226': 587617,\n",
       " '227': 0,\n",
       " '228': 0,\n",
       " '229': 0,\n",
       " '230': 0,\n",
       " '231': 0,\n",
       " '232': 0,\n",
       " '233': 0,\n",
       " '234': 0,\n",
       " '235': 0,\n",
       " '236': 0,\n",
       " '237': 0,\n",
       " '238': 0,\n",
       " '239': 0,\n",
       " '240': 0,\n",
       " '241': 0,\n",
       " '242': 322486,\n",
       " '243': 112,\n",
       " '244': 0,\n",
       " '245': 0,\n",
       " '246': 215268,\n",
       " '247': 0,\n",
       " '248': 0,\n",
       " '249': 0,\n",
       " '250': 0,\n",
       " '251': 0,\n",
       " '252': 0,\n",
       " '253': 0,\n",
       " '254': 0,\n",
       " '255': 0}"
      ]
     },
     "execution_count": 14,
     "metadata": {},
     "output_type": "execute_result"
    }
   ],
   "source": [
    "a"
   ]
  },
  {
   "cell_type": "code",
   "execution_count": 8,
   "metadata": {},
   "outputs": [
    {
     "ename": "TypeError",
     "evalue": "object of type 'int' has no len()",
     "output_type": "error",
     "traceback": [
      "\u001b[0;31m---------------------------------------------------------------------------\u001b[0m",
      "\u001b[0;31mTypeError\u001b[0m                                 Traceback (most recent call last)",
      "\u001b[0;32m<ipython-input-8-2b75d17ae071>\u001b[0m in \u001b[0;36m<module>\u001b[0;34m\u001b[0m\n\u001b[1;32m      1\u001b[0m \u001b[0;32mfor\u001b[0m \u001b[0mi\u001b[0m \u001b[0;32min\u001b[0m \u001b[0mrange\u001b[0m\u001b[0;34m(\u001b[0m\u001b[0mlen\u001b[0m\u001b[0;34m(\u001b[0m\u001b[0mlist\u001b[0m\u001b[0;34m(\u001b[0m\u001b[0ma\u001b[0m\u001b[0;34m.\u001b[0m\u001b[0mkeys\u001b[0m\u001b[0;34m(\u001b[0m\u001b[0;34m)\u001b[0m\u001b[0;34m)\u001b[0m\u001b[0;34m)\u001b[0m\u001b[0;34m)\u001b[0m\u001b[0;34m:\u001b[0m\u001b[0;34m\u001b[0m\u001b[0;34m\u001b[0m\u001b[0m\n\u001b[0;32m----> 2\u001b[0;31m     \u001b[0mprint\u001b[0m\u001b[0;34m(\u001b[0m\u001b[0mlen\u001b[0m\u001b[0;34m(\u001b[0m\u001b[0mlist\u001b[0m\u001b[0;34m(\u001b[0m\u001b[0ma\u001b[0m\u001b[0;34m.\u001b[0m\u001b[0mvalues\u001b[0m\u001b[0;34m(\u001b[0m\u001b[0;34m)\u001b[0m\u001b[0;34m)\u001b[0m\u001b[0;34m[\u001b[0m\u001b[0mi\u001b[0m\u001b[0;34m]\u001b[0m\u001b[0;34m)\u001b[0m\u001b[0;34m)\u001b[0m\u001b[0;34m\u001b[0m\u001b[0;34m\u001b[0m\u001b[0m\n\u001b[0m",
      "\u001b[0;31mTypeError\u001b[0m: object of type 'int' has no len()"
     ]
    }
   ],
   "source": [
    "for i in range(len(list(a.keys()))):\n",
    "    print(len(list(a.values())[i]))"
   ]
  },
  {
   "cell_type": "code",
   "execution_count": 95,
   "metadata": {},
   "outputs": [
    {
     "name": "stdout",
     "output_type": "stream",
     "text": [
      "2000000\n",
      "1203400\n",
      "2000000\n",
      "0\n",
      "164659\n",
      "31896\n",
      "10600045\n",
      "0\n",
      "0\n",
      "0\n",
      "0\n",
      "0\n",
      "0\n",
      "0\n",
      "0\n",
      "0\n"
     ]
    }
   ],
   "source": [
    "for i in range(len(list(a.keys()))):\n",
    "    print(len(list(a.values())[i]))"
   ]
  },
  {
   "cell_type": "code",
   "execution_count": null,
   "metadata": {},
   "outputs": [],
   "source": [
    "n_hid_energy=check_energy(model0, model1, n_sample=10000000, step_eq=1)\n",
    "plt.figure(figsize=(7,5))\n",
    "plt.plot(range(len(n_hid_energy[0])), list(n_hid_energy[0]), '-o', color='red', alpha=0.1)\n",
    "plt.plot(range(len(n_hid_energy[1])), list(n_hid_energy[1]), '-o', color='green', alpha=0.1)\n",
    "# plt.plot(range(len(n_hid_energy[2])), list(n_hid_energy[2]), '-o', color='blue', alpha=0.3)\n",
    "plt.grid(True)\n",
    "plt.xlabel('Gibbs steps', fontsize=20)\n",
    "plt.ylabel('RBM energy', fontsize=20)\n",
    "# plt.title('n_hid={n_hid}, eq={step_eq}'.format(n_hid=n_hid, step_eq=step_eq))\n",
    "plt.title('n_hid={n_hid}'.format(n_hid=n_hid))\n",
    "plt.legend(['E0', 'E1', 'E1-E0'],\n",
    "           loc='lower right', bbox_to_anchor=(1.3, 0.01), \n",
    "           ncol=1, fancybox=True, shadow=True)\n",
    "\n",
    "# plt.text(350, 0.1, '~$k^{2.1}$ ', fontsize=20)\n",
    "plt.rcParams[\"font.size\"] = \"20\"\n",
    "# plt.axis([2**5, 2**9, 0, 16])\n",
    "# plt.savefig('image/IEvsn_hid.png', pad_inches=10)\n",
    "plt.plot()\n",
    "plt.show()\n",
    "\n"
   ]
  },
  {
   "cell_type": "code",
   "execution_count": 23,
   "metadata": {},
   "outputs": [
    {
     "name": "stdout",
     "output_type": "stream",
     "text": [
      "-22.215847 69.7738\n"
     ]
    }
   ],
   "source": [
    "print(min(n_hid_energy[0]), max(n_hid_energy[0]))"
   ]
  },
  {
   "cell_type": "code",
   "execution_count": 25,
   "metadata": {},
   "outputs": [
    {
     "name": "stdout",
     "output_type": "stream",
     "text": [
      "-20.057194 74.38777\n"
     ]
    }
   ],
   "source": [
    "print(min(n_hid_energy[0]), max(n_hid_energy[0]))"
   ]
  },
  {
   "cell_type": "code",
   "execution_count": 27,
   "metadata": {},
   "outputs": [
    {
     "name": "stdout",
     "output_type": "stream",
     "text": [
      "-21.166048 66.963684\n"
     ]
    }
   ],
   "source": [
    "print(min(n_hid_energy[0]), max(n_hid_energy[0]))"
   ]
  },
  {
   "cell_type": "code",
   "execution_count": 152,
   "metadata": {},
   "outputs": [],
   "source": [
    "dict_config_E={}\n",
    "for i in range(len(E0)):\n",
    "    dict_config_E[com_config[i].round().int()]=int(np.round(E0[i]))"
   ]
  },
  {
   "cell_type": "code",
   "execution_count": 154,
   "metadata": {},
   "outputs": [],
   "source": [
    "with open('combined_config_E.pkl', 'wb') as f:\n",
    "    pkl.dump(dict_config_E, f)"
   ]
  },
  {
   "cell_type": "markdown",
   "metadata": {},
   "source": [
    "$\n",
    "\\left\\langle F_V \\right\\rangle _{q_{V}} + \\left\\langle E'_{VH}-E_{VH} \\right\\rangle _{P_{VH}}-F'\n",
    "$\n"
   ]
  },
  {
   "cell_type": "code",
   "execution_count": 19,
   "metadata": {
    "scrolled": true
   },
   "outputs": [
    {
     "name": "stdout",
     "output_type": "stream",
     "text": [
      "n_hid=4\n",
      "max:89.69696044921875, min:-16.539966583251953\n",
      "n_hid=8\n",
      "max:178.9167022705078, min:87.54429626464844\n",
      "n_hid=16\n",
      "max:34.393798828125, min:-80.123291015625\n",
      "n_hid=32\n",
      "max:115.65156555175781, min:-13.658447265625\n",
      "n_hid=64\n",
      "max:187.50131225585938, min:67.38631439208984\n"
     ]
    }
   ],
   "source": [
    "n_hid_range=[4, 8, 16, 32, 64]\n",
    "for n_hid in n_hid_range:\n",
    "    print('n_hid={n_hid}'.format(n_hid=n_hid))\n",
    "    model0=torch.load('ERBM,SGD/lr=0.01/models/2021-01-28_n_hid={n_hid}_vol=12000_epoch=5000'.format(n_hid=n_hid)).float()\n",
    "    v_sample0=torch.tensor(np.reshape(pd.read_pickle('ERBM,SGD/lr=0.01/samples/2021-01-28_samples2_n_hid={n_hid}_vol=12000_epoch=5000.pkl'.format(n_hid=n_hid)), (1000, 1, 784))).cuda().float()\n",
    "\n",
    "    check_energy(model0, v_sample0)"
   ]
  },
  {
   "cell_type": "code",
   "execution_count": 44,
   "metadata": {
    "scrolled": true
   },
   "outputs": [
    {
     "name": "stdout",
     "output_type": "stream",
     "text": [
      "n_hid=4, IG_loss=(-27.35398292541504, 39.349266052246094, 58.01517868041992)\n",
      "n_hid=8, IG_loss=(-136.95103454589844, 62.85564422607422, 153.4291534423828)\n",
      "n_hid=16, IG_loss=(25.486005783081055, 41.09246063232422, 1.4457576274871826)\n",
      "n_hid=32, IG_loss=(-26.709373474121094, 45.54371643066406, 84.99322509765625)\n",
      "n_hid=64, IG_loss=(-115.40055847167969, 83.30638885498047, 132.1706085205078)\n"
     ]
    }
   ],
   "source": [
    "data0=get_small_mnist(6000, 'train')\n",
    "data0=(get_small_mnist(6000, 'train').data.view(len(data0.data),784)/255.).cuda()\n",
    "for n_hid in n_hid_range:\n",
    "    model0=torch.load('ERBM,SGD/lr=0.01/models/2021-01-28_n_hid={n_hid}_vol=12000_epoch=5000'.format(n_hid=n_hid)).float()\n",
    "    model1=torch.load('ERBM,SGD/lr=0.01/models/2021-01-28_n_hid={n_hid}_vol=600_epoch=5000'.format(n_hid=n_hid)).float()\n",
    "\n",
    "    v_sample0=torch.tensor(np.reshape(pd.read_pickle('ERBM,SGD/lr=0.01/samples/2021-01-28_samples2_n_hid={n_hid}_vol=12000_epoch=5000.pkl'.format(n_hid=n_hid)), (1000, 1, 784))).cuda().float()\n",
    "    \n",
    "    print('n_hid={n_hid}, IG_loss={IG_loss}'.format(n_hid=n_hid, IG_loss=IG_loss(model0, model1, data0, v_sample0)))"
   ]
  },
  {
   "cell_type": "code",
   "execution_count": null,
   "metadata": {},
   "outputs": [],
   "source": []
  },
  {
   "cell_type": "code",
   "execution_count": null,
   "metadata": {},
   "outputs": [],
   "source": []
  }
 ],
 "metadata": {
  "kernelspec": {
   "display_name": "Python 3",
   "language": "python",
   "name": "python3"
  },
  "language_info": {
   "codemirror_mode": {
    "name": "ipython",
    "version": 3
   },
   "file_extension": ".py",
   "mimetype": "text/x-python",
   "name": "python",
   "nbconvert_exporter": "python",
   "pygments_lexer": "ipython3",
   "version": "3.7.4"
  }
 },
 "nbformat": 4,
 "nbformat_minor": 5
}
