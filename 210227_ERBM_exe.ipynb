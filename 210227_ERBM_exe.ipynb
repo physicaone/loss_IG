{
 "cells": [
  {
   "cell_type": "code",
   "execution_count": 1,
   "id": "duplicate-value",
   "metadata": {},
   "outputs": [],
   "source": [
    "import numpy as np\n",
    "import torch\n",
    "import torchvision.datasets\n",
    "import torchvision.models\n",
    "import torchvision.transforms\n",
    "from datetime import datetime\n",
    "from tqdm import tqdm\n",
    "import warnings\n",
    "warnings.filterwarnings(\"ignore\")"
   ]
  },
  {
   "cell_type": "code",
   "execution_count": 2,
   "id": "pleasant-observation",
   "metadata": {},
   "outputs": [],
   "source": [
    "from energy_rbm import *\n",
    "import pandas as pd\n",
    "import matplotlib.pyplot as plt\n",
    "import matplotlib.gridspec as gridspec\n",
    "%matplotlib inline\n",
    "import numpy as np\n",
    "# np.seterr(divide='ignore', invalid='ignore')\n"
   ]
  },
  {
   "cell_type": "code",
   "execution_count": 3,
   "id": "applied-regard",
   "metadata": {},
   "outputs": [
    {
     "name": "stdout",
     "output_type": "stream",
     "text": [
      "Fri Mar 19 15:12:17 2021       \n",
      "+-----------------------------------------------------------------------------+\n",
      "| NVIDIA-SMI 450.102.04   Driver Version: 450.102.04   CUDA Version: 11.0     |\n",
      "|-------------------------------+----------------------+----------------------+\n",
      "| GPU  Name        Persistence-M| Bus-Id        Disp.A | Volatile Uncorr. ECC |\n",
      "| Fan  Temp  Perf  Pwr:Usage/Cap|         Memory-Usage | GPU-Util  Compute M. |\n",
      "|                               |                      |               MIG M. |\n",
      "|===============================+======================+======================|\n",
      "|   0  GeForce RTX 206...  Off  | 00000000:01:00.0  On |                  N/A |\n",
      "|  0%   41C    P8    12W / 175W |    148MiB /  7973MiB |      0%      Default |\n",
      "|                               |                      |                  N/A |\n",
      "+-------------------------------+----------------------+----------------------+\n",
      "                                                                               \n",
      "+-----------------------------------------------------------------------------+\n",
      "| Processes:                                                                  |\n",
      "|  GPU   GI   CI        PID   Type   Process name                  GPU Memory |\n",
      "|        ID   ID                                                   Usage      |\n",
      "|=============================================================================|\n",
      "|    0   N/A  N/A      1013      G   /usr/lib/xorg/Xorg                 51MiB |\n",
      "|    0   N/A  N/A      7615      G   /usr/bin/gnome-shell               95MiB |\n",
      "+-----------------------------------------------------------------------------+\n"
     ]
    }
   ],
   "source": [
    "! nvidia-smi"
   ]
  },
  {
   "cell_type": "code",
   "execution_count": 4,
   "id": "unnecessary-weekend",
   "metadata": {},
   "outputs": [
    {
     "data": {
      "text/plain": [
       "True"
      ]
     },
     "execution_count": 4,
     "metadata": {},
     "output_type": "execute_result"
    }
   ],
   "source": [
    "\n",
    "CUDA = torch.cuda.is_available()\n",
    "CUDA_DEVICE = 0\n",
    " \n",
    "if CUDA:\n",
    "    torch.cuda.set_device(CUDA_DEVICE)\n",
    "torch.cuda.is_available()"
   ]
  },
  {
   "cell_type": "code",
   "execution_count": 5,
   "id": "regulation-blackjack",
   "metadata": {},
   "outputs": [
    {
     "data": {
      "text/plain": [
       "True"
      ]
     },
     "execution_count": 5,
     "metadata": {},
     "output_type": "execute_result"
    }
   ],
   "source": [
    "torch.backends.cudnn.enabled"
   ]
  },
  {
   "cell_type": "code",
   "execution_count": 6,
   "id": "reflected-telling",
   "metadata": {},
   "outputs": [],
   "source": [
    "n_hid_range=[4, 8, 16, 32, 64]\n",
    "# n_hid_range=[2, 128, 24, 48, 96]\n",
    "# n_hid_range=[2]\n",
    "\n",
    "\n",
    "n_vis=784\n",
    "k=5\n",
    "n_epochs=5001\n",
    "batch_size=60\n",
    "lr=0.01\n",
    "vol=300"
   ]
  },
  {
   "cell_type": "code",
   "execution_count": 7,
   "id": "cooked-gardening",
   "metadata": {},
   "outputs": [],
   "source": [
    "def transform_str_list(list0):\n",
    "    list1=[]\n",
    "    for i in range(len(list0)):    \n",
    "        aa=np.array(list0[i].strip('][ tensor()').strip('\\n').replace('\\n','').split(', ')).astype(float)\n",
    "        list1.append(aa)\n",
    "    \n",
    "    return torch.from_numpy(np.array(list1)).float()  \n",
    "\n",
    "def get_first_Trues(idx, vol):\n",
    "    i=0\n",
    "    for k in range(len(idx)):\n",
    "        if idx[k]==True:\n",
    "            i=i+1\n",
    "            if i>vol:\n",
    "                idx[k:]=False\n",
    "                break        \n",
    "    return idx\n",
    "\n",
    "def get_small_mnist(vol, train_or_test):\n",
    "    if train_or_test=='train':\n",
    "        dataset = datasets.MNIST(root='./data/mnist',train=True,\n",
    "                                 transform=transforms.ToTensor())\n",
    "    else:\n",
    "        dataset = datasets.MNIST(root='./data/mnist',train=False,\n",
    "                                 transform=transforms.ToTensor())\n",
    "        \n",
    "    dataset.targets = torch.tensor(dataset.targets)\n",
    "#     idx = dataset.targets==0\n",
    "\n",
    "    idx_list=[]\n",
    "    for k in [0,1]:\n",
    "        idx = dataset.targets==k\n",
    "        idx = get_first_Trues(idx, vol)\n",
    "        idx_list.append(idx)\n",
    "    idx=sum(idx_list)\n",
    "    idx2=[]\n",
    "    for i in range(len(idx)):\n",
    "        if idx[i]>=1:\n",
    "            idx2.append(True)\n",
    "        else:\n",
    "            idx2.append(False)\n",
    "    idx2=torch.tensor(idx2)\n",
    "    dataset.targets= dataset.targets[idx2]\n",
    "    dataset.data = dataset.data[idx2]\n",
    "    return dataset\n",
    "\n",
    "train_dataset = get_small_mnist(vol, 'train')\n",
    "train_loader = torch.utils.data.DataLoader(train_dataset, batch_size)\n",
    "#     test_dataset = torchvision.datasets.MNIST(root=DATA_FOLDER, train=False, transform=torchvision.transforms.ToTensor(), download=True)\n",
    "test_dataset = get_small_mnist(1000, 'test')\n",
    "test_loader = torch.utils.data.DataLoader(test_dataset, batch_size=2000)"
   ]
  },
  {
   "cell_type": "code",
   "execution_count": 8,
   "id": "searching-johnson",
   "metadata": {},
   "outputs": [],
   "source": [
    "def train_and_get_data(n_hid, vol, model, train_loader=train_loader, test_loader=test_loader):\n",
    "    if model==0:\n",
    "        rbm = RBM(n_vis, n_hid, k, use_cuda=True)\n",
    "    else:\n",
    "        rbm=model\n",
    "        \n",
    "#     train_op = optim.Adam(rbm.parameters(), lr)\n",
    "    train_op = optim.SGD(rbm.parameters(), lr, momentum=0.9)\n",
    "\n",
    "    # train the RBM model\n",
    "    rbm.train()\n",
    "\n",
    "    train_loss_list=[]\n",
    "    test_loss_list=[]\n",
    "    for epoch in tqdm(range(n_epochs)):\n",
    "\n",
    "#     for epoch in range(n_epochs):\n",
    "        train_loss_epoch = []\n",
    "        test_loss_epoch = []\n",
    "        for _, (data, target) in enumerate(train_loader):\n",
    "            data=data.cuda()\n",
    "            v, v_gibbs = rbm(data.view(-1, 784))\n",
    "            train_loss = rbm.free_energy(v) - rbm.free_energy(v_gibbs)\n",
    "            train_loss_epoch.append(train_loss.item())\n",
    "            train_op.zero_grad()\n",
    "            train_loss.backward()\n",
    "            train_op.step()\n",
    "        for _, (data, target) in enumerate(test_loader):\n",
    "            data=data.cuda()\n",
    "            v, v_gibbs = rbm(data.view(-1, 784))\n",
    "            test_loss = rbm.free_energy(v) - rbm.free_energy(v_gibbs)\n",
    "            test_loss_epoch.append(test_loss.item())\n",
    "        train_loss_list.append(np.mean(train_loss_epoch))\n",
    "        test_loss_list.append(np.mean(test_loss_epoch))\n",
    "#         if epoch in [100, 1000, 10000, 100000]:\n",
    "#             print(\"epoch : {epoch}\".format(epoch=epoch))\n",
    "        \n",
    "    with open('ERBM,SGD/lr=0.01/loss/2021-01-28_loss_n_hid={n_hid}_vol={v}_epoch={ep}.pkl'.format(n_hid=n_hid, v=vol*2, ep=epoch), 'wb') as f:\n",
    "        pkl.dump([train_loss_list, test_loss_list], f)\n",
    "    torch.save(rbm, 'ERBM,SGD/lr=0.01/models/2021-01-28_n_hid={n_hid}_vol={v}_epoch={ep}'.format(n_hid=n_hid, v=vol*2, ep=epoch))\n",
    "    "
   ]
  },
  {
   "cell_type": "code",
   "execution_count": 222,
   "id": "twenty-profile",
   "metadata": {
    "scrolled": true
   },
   "outputs": [
    {
     "name": "stderr",
     "output_type": "stream",
     "text": [
      "  0%|          | 0/5001 [00:00<?, ?it/s]"
     ]
    },
    {
     "name": "stdout",
     "output_type": "stream",
     "text": [
      "4\n"
     ]
    },
    {
     "name": "stderr",
     "output_type": "stream",
     "text": [
      "100%|██████████| 5001/5001 [14:09<00:00,  5.89it/s]\n",
      "  0%|          | 1/5001 [00:00<15:43,  5.30it/s]"
     ]
    },
    {
     "name": "stdout",
     "output_type": "stream",
     "text": [
      "8\n"
     ]
    },
    {
     "name": "stderr",
     "output_type": "stream",
     "text": [
      "100%|██████████| 5001/5001 [14:09<00:00,  5.89it/s]\n",
      "  0%|          | 1/5001 [00:00<14:35,  5.71it/s]"
     ]
    },
    {
     "name": "stdout",
     "output_type": "stream",
     "text": [
      "16\n"
     ]
    },
    {
     "name": "stderr",
     "output_type": "stream",
     "text": [
      "100%|██████████| 5001/5001 [14:14<00:00,  5.85it/s]\n",
      "  0%|          | 1/5001 [00:00<14:23,  5.79it/s]"
     ]
    },
    {
     "name": "stdout",
     "output_type": "stream",
     "text": [
      "32\n"
     ]
    },
    {
     "name": "stderr",
     "output_type": "stream",
     "text": [
      "100%|██████████| 5001/5001 [13:57<00:00,  5.97it/s]\n",
      "  0%|          | 1/5001 [00:00<13:53,  6.00it/s]"
     ]
    },
    {
     "name": "stdout",
     "output_type": "stream",
     "text": [
      "64\n"
     ]
    },
    {
     "name": "stderr",
     "output_type": "stream",
     "text": [
      "100%|██████████| 5001/5001 [13:36<00:00,  6.12it/s]\n"
     ]
    }
   ],
   "source": [
    "for n_hid in n_hid_range:\n",
    "    print(n_hid)\n",
    "    train_and_get_data(n_hid, vol, model=torch.load('ERBM,SGD/lr=0.05/models/2021-01-28_n_hid={n_hid}_vol=600_epoch=10000'.format(n_hid=n_hid))\n",
    "                       ,train_loader=train_loader, test_loader=test_loader)"
   ]
  },
  {
   "cell_type": "code",
   "execution_count": 10,
   "id": "average-engagement",
   "metadata": {},
   "outputs": [],
   "source": [
    "def make_samples(model, n_sample=1000, step_eq=500):\n",
    "    model=model.cpu()\n",
    "    n_hid=len(model.h[0])\n",
    "    step_eq=500\n",
    "    v_samples=[]\n",
    "    h_samples=[]\n",
    "    encoded=[]\n",
    "#     torch.cuda.empty_cache()\n",
    "    train_dataset = get_small_mnist(6000, 'train')\n",
    "    train_loader = torch.utils.data.DataLoader(train_dataset, 1)\n",
    "    for _, (data, target) in enumerate(train_loader):\n",
    "#         data=data.cuda()\n",
    "        encoded_sample = model.visible_to_hidden(data.view(-1, 784))\n",
    "        encoded_sample = encoded_sample.bernoulli()\n",
    "        encoded.append(str(encoded_sample.detach().cpu()))\n",
    "    with open('ERBM,SGD/lr=0.01/encoded/2021-01-28_encoded2_n_hid={n_hid}_vol=600_epoch=5000.pkl'.format(n_hid=n_hid), 'wb') as f:\n",
    "        pkl.dump(encoded, f)\n",
    "        \n",
    "    for n in tqdm(range(n_sample)):\n",
    "#     for n in range(n_sample):\n",
    "        input_random=torch.round(torch.rand(n_hid).view(1, n_hid))\n",
    "        for i in range(step_eq):\n",
    "            v_sample=model.hidden_to_visible(input_random)\n",
    "            v_sample=v_sample.bernoulli()\n",
    "            h_sample=model.visible_to_hidden(v_sample)\n",
    "            h_sample=h_sample.bernoulli()\n",
    "            input_random=h_sample\n",
    "        v_sample=model.hidden_to_visible(h_sample)\n",
    "#         v_samples.append(v_sample.view(1,28,28))\n",
    "        v_samples.append(np.reshape(v_sample.tolist(),(28,28)))\n",
    "        h_samples.append(str(h_sample.detach().cpu()))\n",
    "    with open('ERBM,SGD/lr=0.01/samples/2021-01-28_samples2_n_hid={n_hid}_vol=600_epoch=5000.pkl'.format(n_hid=n_hid), 'wb') as f:\n",
    "        pkl.dump(v_samples, f)\n",
    "    with open('ERBM,SGD/lr=0.01/encoded/2021-01-28_encoded_n_hid={n_hid}_vol=600_epoch=5000.pkl'.format(n_hid=n_hid), 'wb') as f:\n",
    "        pkl.dump(h_samples, f)\n"
   ]
  },
  {
   "cell_type": "code",
   "execution_count": 9,
   "id": "median-jason",
   "metadata": {
    "scrolled": true
   },
   "outputs": [
    {
     "ename": "NameError",
     "evalue": "name 'make_samples' is not defined",
     "output_type": "error",
     "traceback": [
      "\u001b[0;31m---------------------------------------------------------------------------\u001b[0m",
      "\u001b[0;31mNameError\u001b[0m                                 Traceback (most recent call last)",
      "\u001b[0;32m<ipython-input-9-78d8b26db0a5>\u001b[0m in \u001b[0;36m<module>\u001b[0;34m\u001b[0m\n\u001b[1;32m      5\u001b[0m     \u001b[0mmodel_list\u001b[0m\u001b[0;34m.\u001b[0m\u001b[0mappend\u001b[0m\u001b[0;34m(\u001b[0m\u001b[0mtorch\u001b[0m\u001b[0;34m.\u001b[0m\u001b[0mload\u001b[0m\u001b[0;34m(\u001b[0m\u001b[0;34m'ERBM,SGD/lr=0.01/models/2021-01-28_n_hid={n_hid}_vol=600_epoch=5000'\u001b[0m\u001b[0;34m.\u001b[0m\u001b[0mformat\u001b[0m\u001b[0;34m(\u001b[0m\u001b[0mn_hid\u001b[0m\u001b[0;34m=\u001b[0m\u001b[0mi\u001b[0m\u001b[0;34m)\u001b[0m\u001b[0;34m)\u001b[0m\u001b[0;34m)\u001b[0m\u001b[0;34m\u001b[0m\u001b[0;34m\u001b[0m\u001b[0m\n\u001b[1;32m      6\u001b[0m \u001b[0;32mfor\u001b[0m \u001b[0mi\u001b[0m \u001b[0;32min\u001b[0m \u001b[0mrange\u001b[0m\u001b[0;34m(\u001b[0m\u001b[0mlen\u001b[0m\u001b[0;34m(\u001b[0m\u001b[0mmodel_list\u001b[0m\u001b[0;34m)\u001b[0m\u001b[0;34m)\u001b[0m\u001b[0;34m:\u001b[0m\u001b[0;34m\u001b[0m\u001b[0;34m\u001b[0m\u001b[0m\n\u001b[0;32m----> 7\u001b[0;31m     \u001b[0mmake_samples\u001b[0m\u001b[0;34m(\u001b[0m\u001b[0mmodel_list\u001b[0m\u001b[0;34m[\u001b[0m\u001b[0mi\u001b[0m\u001b[0;34m]\u001b[0m\u001b[0;34m,\u001b[0m \u001b[0mn_sample\u001b[0m\u001b[0;34m=\u001b[0m\u001b[0;36m1000\u001b[0m\u001b[0;34m,\u001b[0m \u001b[0mstep_eq\u001b[0m\u001b[0;34m=\u001b[0m\u001b[0;36m500\u001b[0m\u001b[0;34m)\u001b[0m\u001b[0;34m\u001b[0m\u001b[0;34m\u001b[0m\u001b[0m\n\u001b[0m",
      "\u001b[0;31mNameError\u001b[0m: name 'make_samples' is not defined"
     ]
    }
   ],
   "source": [
    "# n_hid_range=[2]\n",
    "\n",
    "model_list=[]\n",
    "for i in n_hid_range:\n",
    "    model_list.append(torch.load('ERBM,SGD/lr=0.01/models/2021-01-28_n_hid={n_hid}_vol=600_epoch=5000'.format(n_hid=i)))\n",
    "for i in range(len(model_list)):\n",
    "    make_samples(model_list[i], n_sample=1000, step_eq=500)"
   ]
  },
  {
   "cell_type": "code",
   "execution_count": 11,
   "id": "funny-event",
   "metadata": {},
   "outputs": [],
   "source": [
    "model_list=[]\n",
    "for i in n_hid_range:\n",
    "    model_list.append(torch.load('ERBM,SGD/lr=0.01/models/2021-01-28_n_hid={n_hid}_vol=12000_epoch=5000'.format(n_hid=i)))\n"
   ]
  },
  {
   "cell_type": "code",
   "execution_count": 20,
   "id": "experimental-coordinate",
   "metadata": {},
   "outputs": [],
   "source": [
    "a=model_list[4].h.detach().cpu()\n",
    "a=np.squeeze(a.numpy())\n",
    "with open('n_hid=64_vol_12000_h.pkl', 'wb') as f:\n",
    "    pkl.dump(a, f)"
   ]
  },
  {
   "cell_type": "code",
   "execution_count": 12,
   "id": "adjustable-spectrum",
   "metadata": {},
   "outputs": [],
   "source": [
    "def IG_loss(model0, model1, data0, v_sample0):\n",
    "    E0=0; E1=0\n",
    "    F_V = model0.free_energy(data0)\n",
    "\n",
    "    v_sample0=torch.tensor(v_sample0)\n",
    "    for i in range(len(v_sample0)):\n",
    "        E0 += model0.energy(v_sample0[i])/len(v_sample0)\n",
    "        E1 += model1.energy(v_sample0[i])/len(v_sample0)\n",
    "    return float(F_V), float(E1), float(E0)"
   ]
  },
  {
   "cell_type": "code",
   "execution_count": 75,
   "id": "expired-essay",
   "metadata": {},
   "outputs": [],
   "source": [
    "def check_energy(model0, model1, n_sample=10000, step_eq=500):\n",
    "    E0_list=[]; E1_list=[]\n",
    "    v_list=[]\n",
    "    input_random=torch.round(torch.rand(n_vis).view(1, n_vis)).cuda()\n",
    "    for i in range(step_eq):\n",
    "        h_sample=model0.visible_to_hidden(input_random)\n",
    "        h_sample=h_sample.bernoulli()\n",
    "        v_sample=model0.hidden_to_visible(h_sample)\n",
    "        v_sample=v_sample.bernoulli()\n",
    "        input_random=v_sample\n",
    "    for n in tqdm(range(n_sample)):\n",
    "        h_sample=model0.visible_to_hidden(v_sample)\n",
    "        h_sample=h_sample.bernoulli()\n",
    "        v_sample=model0.hidden_to_visible(h_sample)\n",
    "        v_list.append(np.squeeze(v_sample.detach().cpu().numpy()))\n",
    "        v_sample=v_sample.bernoulli()\n",
    "        E0_list.append(np.squeeze(model0.energy(v_sample).detach().cpu().numpy()))\n",
    "        E1_list.append(np.squeeze(model1.energy(v_sample).detach().cpu().numpy()))\n",
    "    return np.array(E0_list), np.array(E1_list), np.array(E1_list)-np.array(E0_list), v_list\n",
    "\n",
    "#         v_samples.append(v_sample.view(1,28,28))\n",
    "#     v_samples.append(np.reshape(v_sample.tolist(),(28,28)))\n",
    "    \n",
    "    \n",
    "#     E_list=[]\n",
    "#     v_sample0=torch.tensor(v_sample0)\n",
    "#     for i in range(len(v_sample0)):\n",
    "#         E_list.append(model0.energy(v_sample0[i]))\n",
    "#     print('max:{max0}, min:{min0}'.format(max0=float(max(E_list)), min0=float(min(E_list))))\n",
    "#     return max(E_list), min(E_list)"
   ]
  },
  {
   "cell_type": "code",
   "execution_count": 79,
   "id": "worse-lobby",
   "metadata": {},
   "outputs": [
    {
     "name": "stderr",
     "output_type": "stream",
     "text": [
      "100%|██████████| 100000/100000 [01:02<00:00, 1610.12it/s]\n"
     ]
    }
   ],
   "source": [
    "n_hid=16\n",
    "step_eq=1\n",
    "model0=torch.load('ERBM,SGD/lr=0.01/models/2021-01-28_n_hid={n_hid}_vol=12000_epoch=5000'.format(n_hid=n_hid)).float()\n",
    "model1=torch.load('ERBM,SGD/lr=0.01/models/2021-01-28_n_hid={n_hid}_vol=600_epoch=5000'.format(n_hid=n_hid)).float()\n",
    "\n",
    "n_hid_energy=check_energy(model0, model1, n_sample=100000, step_eq=step_eq)\n"
   ]
  },
  {
   "cell_type": "code",
   "execution_count": 80,
   "id": "thrown-wedding",
   "metadata": {},
   "outputs": [
    {
     "data": {
      "image/png": "[encoded data removed]",
      "text/plain": [
       "<Figure size 504x360 with 1 Axes>"
      ]
     },
     "metadata": {
      "needs_background": "light"
     },
     "output_type": "display_data"
    }
   ],
   "source": [
    "\n",
    "plt.figure(figsize=(7,5))\n",
    "plt.plot(range(len(n_hid_energy[0])), list(n_hid_energy[0]), '-o', color='red', alpha=0.3)\n",
    "plt.plot(range(len(n_hid_energy[1])), list(n_hid_energy[1]), '-o', color='green', alpha=0.3)\n",
    "plt.plot(range(len(n_hid_energy[2])), list(n_hid_energy[2]), '-o', color='blue', alpha=0.3)\n",
    "plt.grid(True)\n",
    "plt.xlabel('Gibbs steps', fontsize=20)\n",
    "plt.ylabel('RBM energy', fontsize=20)\n",
    "# plt.title('n_hid={n_hid}, eq={step_eq}'.format(n_hid=n_hid, step_eq=step_eq))\n",
    "plt.title('n_hid={n_hid}'.format(n_hid=n_hid))\n",
    "plt.legend(['E0', 'E1', 'E1-E0'],\n",
    "           loc='lower right', bbox_to_anchor=(1.3, 0.01), \n",
    "           ncol=1, fancybox=True, shadow=True)\n",
    "\n",
    "# plt.text(350, 0.1, '~$k^{2.1}$ ', fontsize=20)\n",
    "plt.rcParams[\"font.size\"] = \"20\"\n",
    "# plt.axis([2**5, 2**9, 0, 16])\n",
    "# plt.savefig('image/IEvsn_hid.png', pad_inches=10)\n",
    "plt.plot()\n",
    "plt.show()\n"
   ]
  },
  {
   "cell_type": "code",
   "execution_count": 140,
   "id": "streaming-african",
   "metadata": {},
   "outputs": [
    {
     "data": {
      "text/plain": [
       "<matplotlib.image.AxesImage at 0x7f9bb0dd22e0>"
      ]
     },
     "execution_count": 140,
     "metadata": {},
     "output_type": "execute_result"
    },
    {
     "data": {
      "image/png": "[encoded data removed]",
      "text/plain": [
       "<Figure size 432x288 with 1 Axes>"
      ]
     },
     "metadata": {
      "needs_background": "light"
     },
     "output_type": "display_data"
    }
   ],
   "source": [
    "plt.imshow(n_hid_energy[3][90000].reshape(28,28), cmap=\"gray\")\n"
   ]
  },
  {
   "cell_type": "code",
   "execution_count": 139,
   "id": "saved-mission",
   "metadata": {},
   "outputs": [
    {
     "data": {
      "text/plain": [
       "-40.06088"
      ]
     },
     "execution_count": 139,
     "metadata": {},
     "output_type": "execute_result"
    }
   ],
   "source": [
    "n_hid_energy[2][90000]"
   ]
  },
  {
   "cell_type": "code",
   "execution_count": 141,
   "id": "atlantic-hostel",
   "metadata": {},
   "outputs": [
    {
     "data": {
      "text/plain": [
       "<matplotlib.image.AxesImage at 0x7f9bb0d6e460>"
      ]
     },
     "execution_count": 141,
     "metadata": {},
     "output_type": "execute_result"
    },
    {
     "data": {
      "image/png": "[encoded data removed]",
      "text/plain": [
       "<Figure size 432x288 with 1 Axes>"
      ]
     },
     "metadata": {
      "needs_background": "light"
     },
     "output_type": "display_data"
    }
   ],
   "source": [
    "aaaaa=torch.tensor(n_hid_energy[3][90000]).bernoulli().numpy()\n",
    "plt.imshow(aaaaa.reshape(28,28), cmap=\"gray\")\n"
   ]
  },
  {
   "cell_type": "code",
   "execution_count": 142,
   "id": "advance-obligation",
   "metadata": {},
   "outputs": [
    {
     "ename": "RuntimeError",
     "evalue": "mat1 dim 1 must match mat2 dim 0",
     "output_type": "error",
     "traceback": [
      "\u001b[0;31m---------------------------------------------------------------------------\u001b[0m",
      "\u001b[0;31mRuntimeError\u001b[0m                              Traceback (most recent call last)",
      "\u001b[0;32m<ipython-input-142-b0d37a1fd935>\u001b[0m in \u001b[0;36m<module>\u001b[0;34m\u001b[0m\n\u001b[1;32m      4\u001b[0m \u001b[0;32mfor\u001b[0m \u001b[0mi\u001b[0m \u001b[0;32min\u001b[0m \u001b[0mrange\u001b[0m\u001b[0;34m(\u001b[0m\u001b[0mlen\u001b[0m\u001b[0;34m(\u001b[0m\u001b[0mdataset0\u001b[0m\u001b[0;34m)\u001b[0m\u001b[0;34m)\u001b[0m\u001b[0;34m:\u001b[0m\u001b[0;34m\u001b[0m\u001b[0;34m\u001b[0m\u001b[0m\n\u001b[1;32m      5\u001b[0m \u001b[0;31m#     Elist.append(model3.energy(dataset0[i].view(784).float()))\u001b[0m\u001b[0;34m\u001b[0m\u001b[0;34m\u001b[0m\u001b[0;34m\u001b[0m\u001b[0m\n\u001b[0;32m----> 6\u001b[0;31m     \u001b[0mElist\u001b[0m\u001b[0;34m.\u001b[0m\u001b[0mappend\u001b[0m\u001b[0;34m(\u001b[0m\u001b[0mnp\u001b[0m\u001b[0;34m.\u001b[0m\u001b[0msqueeze\u001b[0m\u001b[0;34m(\u001b[0m\u001b[0mmodel3\u001b[0m\u001b[0;34m.\u001b[0m\u001b[0menergy\u001b[0m\u001b[0;34m(\u001b[0m\u001b[0mdataset0\u001b[0m\u001b[0;34m[\u001b[0m\u001b[0mi\u001b[0m\u001b[0;34m]\u001b[0m\u001b[0;34m)\u001b[0m\u001b[0;34m.\u001b[0m\u001b[0mdetach\u001b[0m\u001b[0;34m(\u001b[0m\u001b[0;34m)\u001b[0m\u001b[0;34m.\u001b[0m\u001b[0mcpu\u001b[0m\u001b[0;34m(\u001b[0m\u001b[0;34m)\u001b[0m\u001b[0;34m.\u001b[0m\u001b[0mnumpy\u001b[0m\u001b[0;34m(\u001b[0m\u001b[0;34m)\u001b[0m\u001b[0;34m)\u001b[0m\u001b[0;34m)\u001b[0m\u001b[0;34m\u001b[0m\u001b[0;34m\u001b[0m\u001b[0m\n\u001b[0m\u001b[1;32m      7\u001b[0m \u001b[0;34m\u001b[0m\u001b[0m\n\u001b[1;32m      8\u001b[0m \u001b[0mplt\u001b[0m\u001b[0;34m.\u001b[0m\u001b[0mfigure\u001b[0m\u001b[0;34m(\u001b[0m\u001b[0mfigsize\u001b[0m\u001b[0;34m=\u001b[0m\u001b[0;34m(\u001b[0m\u001b[0;36m7\u001b[0m\u001b[0;34m,\u001b[0m\u001b[0;36m5\u001b[0m\u001b[0;34m)\u001b[0m\u001b[0;34m)\u001b[0m\u001b[0;34m\u001b[0m\u001b[0;34m\u001b[0m\u001b[0m\n",
      "\u001b[0;32m~/Documents/GK/energy_rbm.py\u001b[0m in \u001b[0;36menergy\u001b[0;34m(self, v)\u001b[0m\n\u001b[1;32m     55\u001b[0m \u001b[0;34m\u001b[0m\u001b[0m\n\u001b[1;32m     56\u001b[0m     \u001b[0;32mdef\u001b[0m \u001b[0menergy\u001b[0m\u001b[0;34m(\u001b[0m\u001b[0mself\u001b[0m\u001b[0;34m,\u001b[0m \u001b[0mv\u001b[0m\u001b[0;34m)\u001b[0m\u001b[0;34m:\u001b[0m\u001b[0;34m\u001b[0m\u001b[0;34m\u001b[0m\u001b[0m\n\u001b[0;32m---> 57\u001b[0;31m         \u001b[0mh\u001b[0m\u001b[0;34m=\u001b[0m\u001b[0mtorch\u001b[0m\u001b[0;34m.\u001b[0m\u001b[0msigmoid\u001b[0m\u001b[0;34m(\u001b[0m\u001b[0mF\u001b[0m\u001b[0;34m.\u001b[0m\u001b[0mlinear\u001b[0m\u001b[0;34m(\u001b[0m\u001b[0mv\u001b[0m\u001b[0;34m,\u001b[0m \u001b[0mself\u001b[0m\u001b[0;34m.\u001b[0m\u001b[0mW\u001b[0m\u001b[0;34m,\u001b[0m \u001b[0mself\u001b[0m\u001b[0;34m.\u001b[0m\u001b[0mh\u001b[0m\u001b[0;34m)\u001b[0m\u001b[0;34m)\u001b[0m\u001b[0;34m\u001b[0m\u001b[0;34m\u001b[0m\u001b[0m\n\u001b[0m\u001b[1;32m     58\u001b[0m         \u001b[0mh\u001b[0m\u001b[0;34m=\u001b[0m\u001b[0mh\u001b[0m\u001b[0;34m.\u001b[0m\u001b[0mbernoulli\u001b[0m\u001b[0;34m(\u001b[0m\u001b[0;34m)\u001b[0m\u001b[0;34m\u001b[0m\u001b[0;34m\u001b[0m\u001b[0m\n\u001b[1;32m     59\u001b[0m         \u001b[0;32mreturn\u001b[0m \u001b[0;34m-\u001b[0m\u001b[0mtorch\u001b[0m\u001b[0;34m.\u001b[0m\u001b[0mmatmul\u001b[0m\u001b[0;34m(\u001b[0m\u001b[0mv\u001b[0m\u001b[0;34m,\u001b[0m \u001b[0mself\u001b[0m\u001b[0;34m.\u001b[0m\u001b[0mv\u001b[0m\u001b[0;34m.\u001b[0m\u001b[0mt\u001b[0m\u001b[0;34m(\u001b[0m\u001b[0;34m)\u001b[0m\u001b[0;34m)\u001b[0m\u001b[0;34m-\u001b[0m\u001b[0mtorch\u001b[0m\u001b[0;34m.\u001b[0m\u001b[0mmatmul\u001b[0m\u001b[0;34m(\u001b[0m\u001b[0mtorch\u001b[0m\u001b[0;34m.\u001b[0m\u001b[0mmatmul\u001b[0m\u001b[0;34m(\u001b[0m\u001b[0mv\u001b[0m\u001b[0;34m,\u001b[0m \u001b[0mself\u001b[0m\u001b[0;34m.\u001b[0m\u001b[0mW\u001b[0m\u001b[0;34m.\u001b[0m\u001b[0mt\u001b[0m\u001b[0;34m(\u001b[0m\u001b[0;34m)\u001b[0m\u001b[0;34m)\u001b[0m\u001b[0;34m,\u001b[0m\u001b[0mh\u001b[0m\u001b[0;34m.\u001b[0m\u001b[0mt\u001b[0m\u001b[0;34m(\u001b[0m\u001b[0;34m)\u001b[0m\u001b[0;34m)\u001b[0m\u001b[0;34m-\u001b[0m\u001b[0mtorch\u001b[0m\u001b[0;34m.\u001b[0m\u001b[0mmatmul\u001b[0m\u001b[0;34m(\u001b[0m\u001b[0mh\u001b[0m\u001b[0;34m,\u001b[0m \u001b[0mself\u001b[0m\u001b[0;34m.\u001b[0m\u001b[0mh\u001b[0m\u001b[0;34m.\u001b[0m\u001b[0mt\u001b[0m\u001b[0;34m(\u001b[0m\u001b[0;34m)\u001b[0m\u001b[0;34m)\u001b[0m\u001b[0;34m\u001b[0m\u001b[0;34m\u001b[0m\u001b[0m\n",
      "\u001b[0;32m~/anaconda3/lib/python3.8/site-packages/torch/nn/functional.py\u001b[0m in \u001b[0;36mlinear\u001b[0;34m(input, weight, bias)\u001b[0m\n\u001b[1;32m   1688\u001b[0m     \u001b[0;32mif\u001b[0m \u001b[0minput\u001b[0m\u001b[0;34m.\u001b[0m\u001b[0mdim\u001b[0m\u001b[0;34m(\u001b[0m\u001b[0;34m)\u001b[0m \u001b[0;34m==\u001b[0m \u001b[0;36m2\u001b[0m \u001b[0;32mand\u001b[0m \u001b[0mbias\u001b[0m \u001b[0;32mis\u001b[0m \u001b[0;32mnot\u001b[0m \u001b[0;32mNone\u001b[0m\u001b[0;34m:\u001b[0m\u001b[0;34m\u001b[0m\u001b[0;34m\u001b[0m\u001b[0m\n\u001b[1;32m   1689\u001b[0m         \u001b[0;31m# fused op is marginally faster\u001b[0m\u001b[0;34m\u001b[0m\u001b[0;34m\u001b[0m\u001b[0;34m\u001b[0m\u001b[0m\n\u001b[0;32m-> 1690\u001b[0;31m         \u001b[0mret\u001b[0m \u001b[0;34m=\u001b[0m \u001b[0mtorch\u001b[0m\u001b[0;34m.\u001b[0m\u001b[0maddmm\u001b[0m\u001b[0;34m(\u001b[0m\u001b[0mbias\u001b[0m\u001b[0;34m,\u001b[0m \u001b[0minput\u001b[0m\u001b[0;34m,\u001b[0m \u001b[0mweight\u001b[0m\u001b[0;34m.\u001b[0m\u001b[0mt\u001b[0m\u001b[0;34m(\u001b[0m\u001b[0;34m)\u001b[0m\u001b[0;34m)\u001b[0m\u001b[0;34m\u001b[0m\u001b[0;34m\u001b[0m\u001b[0m\n\u001b[0m\u001b[1;32m   1691\u001b[0m     \u001b[0;32melse\u001b[0m\u001b[0;34m:\u001b[0m\u001b[0;34m\u001b[0m\u001b[0;34m\u001b[0m\u001b[0m\n\u001b[1;32m   1692\u001b[0m         \u001b[0moutput\u001b[0m \u001b[0;34m=\u001b[0m \u001b[0minput\u001b[0m\u001b[0;34m.\u001b[0m\u001b[0mmatmul\u001b[0m\u001b[0;34m(\u001b[0m\u001b[0mweight\u001b[0m\u001b[0;34m.\u001b[0m\u001b[0mt\u001b[0m\u001b[0;34m(\u001b[0m\u001b[0;34m)\u001b[0m\u001b[0;34m)\u001b[0m\u001b[0;34m\u001b[0m\u001b[0;34m\u001b[0m\u001b[0m\n",
      "\u001b[0;31mRuntimeError\u001b[0m: mat1 dim 1 must match mat2 dim 0"
     ]
    }
   ],
   "source": [
    "dataset0=torch.tensor(pd.read_pickle('ERBM,SGD/lr=0.01/samples/2021-01-28_samples2_n_hid=16_vol=12000_epoch=5000.pkl')).cuda()\n",
    "Elist=[]\n",
    "model3=model_list[0].cuda()\n",
    "for i in range(len(dataset0)):\n",
    "#     Elist.append(model3.energy(dataset0[i].view(784).float()))\n",
    "    Elist.append(np.squeeze(model3.energy(dataset0[i]).detach().cpu().numpy()))\n",
    "\n",
    "plt.figure(figsize=(7,5))\n",
    "plt.plot(range(len(dataset0)), list(dataset0), '-o', color='red', alpha=0.01)\n",
    "plt.grid(True)\n",
    "plt.xlabel('Gibbs steps', fontsize=20)\n",
    "plt.ylabel('RBM energy', fontsize=20)\n",
    "# plt.title('n_hid={n_hid}, eq={step_eq}'.format(n_hid=n_hid, step_eq=step_eq))\n",
    "plt.title('n_hid={n_hid}'.format(n_hid=n_hid))\n",
    "plt.legend(['E0', 'E1', 'E1-E0'],\n",
    "           loc='lower right', bbox_to_anchor=(1.3, 0.01), \n",
    "           ncol=1, fancybox=True, shadow=True)\n",
    "\n",
    "# plt.text(350, 0.1, '~$k^{2.1}$ ', fontsize=20)\n",
    "plt.rcParams[\"font.size\"] = \"20\"\n",
    "# plt.axis([2**5, 2**9, 0, 16])\n",
    "# plt.savefig('image/IEvsn_hid.png', pad_inches=10)\n",
    "plt.plot()\n",
    "plt.show()\n"
   ]
  },
  {
   "cell_type": "code",
   "execution_count": 123,
   "id": "bound-relations",
   "metadata": {
    "scrolled": true
   },
   "outputs": [
    {
     "data": {
      "text/plain": [
       "tensor([1.9923e-06, 5.0812e-07, 7.3575e-07, 1.0632e-06, 7.0465e-07, 1.5801e-06,\n",
       "        6.2873e-07, 8.3157e-07, 2.5135e-06, 8.0698e-07, 6.6314e-07, 1.2970e-06,\n",
       "        8.2145e-07, 9.8472e-07, 6.6672e-07, 1.8612e-06, 8.2392e-07, 9.0741e-07,\n",
       "        1.1278e-06, 1.0670e-06, 5.8532e-07, 8.3830e-07, 1.1430e-06, 1.8194e-06,\n",
       "        2.3790e-06, 1.1508e-06, 1.1861e-06, 1.5200e-06, 1.2161e-06, 6.1265e-07,\n",
       "        4.9095e-07, 4.5380e-07, 9.3493e-07, 4.0988e-07, 1.1363e-06, 1.6188e-06,\n",
       "        2.0723e-06, 5.4739e-07, 4.2006e-07, 1.8109e-04, 2.1222e-04, 2.0062e-04,\n",
       "        9.6440e-06, 1.6200e-04, 1.0325e-04, 2.6893e-05, 1.3143e-06, 1.0681e-06,\n",
       "        1.7023e-06, 5.0245e-07, 1.3769e-06, 5.5856e-07, 7.3120e-07, 1.0724e-06,\n",
       "        5.4086e-07, 5.7380e-07, 1.0359e-06, 1.1292e-06, 1.6652e-06, 7.2050e-05,\n",
       "        1.5019e-05, 5.9343e-07, 7.0278e-05, 5.1956e-04, 1.1256e-04, 1.5812e-06,\n",
       "        1.0525e-06, 3.0400e-04, 4.5800e-04, 6.5657e-04, 4.9594e-04, 3.2395e-04,\n",
       "        1.0042e-03, 1.2015e-03, 2.2840e-04, 7.0605e-05, 6.0401e-05, 2.1990e-06,\n",
       "        6.4763e-07, 5.2913e-07, 9.3338e-07, 6.8415e-07, 1.4071e-06, 1.0195e-06,\n",
       "        9.9858e-07, 4.7040e-07, 5.9837e-06, 2.4354e-04, 8.1181e-05, 2.0565e-05,\n",
       "        1.9028e-05, 5.0793e-04, 5.6148e-04, 9.9656e-04, 1.7212e-03, 7.2965e-03,\n",
       "        1.6594e-02, 2.7048e-02, 3.1686e-02, 3.9995e-02, 3.3342e-02, 2.0027e-02,\n",
       "        1.0165e-02, 5.0098e-03, 2.0085e-03, 1.2326e-03, 3.0993e-04, 4.9103e-05,\n",
       "        3.7995e-05, 7.1052e-05, 9.4458e-07, 1.8442e-07, 6.9179e-07, 1.5031e-06,\n",
       "        3.4471e-06, 2.1997e-04, 5.6833e-05, 2.8556e-05, 6.1228e-04, 5.3164e-04,\n",
       "        2.2129e-03, 1.0373e-02, 2.7311e-02, 6.5018e-02, 1.3752e-01, 2.2532e-01,\n",
       "        2.6892e-01, 2.9264e-01, 2.7043e-01, 1.9239e-01, 9.0192e-02, 3.4115e-02,\n",
       "        1.3058e-02, 4.6109e-03, 2.5255e-03, 8.4347e-04, 1.1277e-05, 1.3903e-05,\n",
       "        9.1744e-07, 3.2168e-07, 1.2992e-06, 4.5179e-07, 2.9096e-06, 3.1757e-04,\n",
       "        4.9655e-05, 2.3235e-04, 4.5391e-04, 1.4715e-03, 6.7016e-03, 2.3852e-02,\n",
       "        7.1325e-02, 1.8968e-01, 3.8767e-01, 5.5942e-01, 6.2873e-01, 6.3309e-01,\n",
       "        5.8694e-01, 4.5297e-01, 2.5513e-01, 1.0045e-01, 3.4312e-02, 1.1448e-02,\n",
       "        3.5794e-03, 1.1748e-03, 8.4107e-05, 2.3899e-05, 5.1198e-07, 6.8005e-07,\n",
       "        3.2746e-07, 6.2627e-07, 1.6481e-06, 5.8436e-06, 2.4214e-04, 1.3585e-03,\n",
       "        1.5982e-03, 3.0724e-03, 1.1411e-02, 4.7443e-02, 1.7032e-01, 3.9048e-01,\n",
       "        6.0418e-01, 7.0655e-01, 7.3328e-01, 7.2006e-01, 7.0483e-01, 6.1100e-01,\n",
       "        4.4788e-01, 2.1005e-01, 7.4892e-02, 2.1305e-02, 5.1633e-03, 1.2862e-03,\n",
       "        2.3063e-04, 1.5184e-05, 2.1765e-04, 1.8690e-04, 7.4755e-07, 7.1265e-07,\n",
       "        2.6553e-06, 1.3382e-04, 3.7415e-04, 1.2030e-03, 1.4021e-03, 4.7212e-03,\n",
       "        2.4461e-02, 1.1625e-01, 3.1267e-01, 5.4924e-01, 6.8738e-01, 7.4269e-01,\n",
       "        6.7004e-01, 6.1510e-01, 6.5103e-01, 6.4732e-01, 5.9238e-01, 3.9601e-01,\n",
       "        1.5104e-01, 3.9179e-02, 8.7178e-03, 2.3283e-03, 8.0990e-04, 1.3592e-04,\n",
       "        2.9307e-05, 2.2428e-04, 1.1453e-04, 7.8562e-07, 2.3158e-04, 4.5136e-04,\n",
       "        1.8283e-04, 7.7664e-04, 1.7487e-03, 1.2114e-02, 5.9779e-02, 2.1306e-01,\n",
       "        4.5276e-01, 6.3901e-01, 7.4708e-01, 6.8061e-01, 5.5069e-01, 4.7827e-01,\n",
       "        5.3839e-01, 5.8260e-01, 6.6627e-01, 5.3222e-01, 2.8529e-01, 8.0090e-02,\n",
       "        1.6585e-02, 2.9367e-03, 7.4539e-04, 2.0843e-04, 9.7533e-07, 1.0427e-06,\n",
       "        2.7420e-06, 4.7593e-07, 1.5751e-04, 5.4343e-04, 4.2595e-04, 9.2465e-04,\n",
       "        3.3805e-03, 2.8144e-02, 9.9544e-02, 3.2492e-01, 5.8108e-01, 7.6214e-01,\n",
       "        7.3114e-01, 5.4772e-01, 3.7183e-01, 3.2823e-01, 3.6470e-01, 4.8706e-01,\n",
       "        6.6858e-01, 6.8038e-01, 4.1453e-01, 1.3520e-01, 3.1182e-02, 5.2247e-03,\n",
       "        2.5394e-04, 6.9065e-05, 2.4536e-06, 8.4264e-07, 7.5477e-07, 1.6272e-06,\n",
       "        3.9652e-04, 6.3183e-04, 6.0269e-04, 1.2190e-03, 8.4527e-03, 5.1701e-02,\n",
       "        1.8243e-01, 4.3376e-01, 7.2928e-01, 7.7650e-01, 5.7994e-01, 3.6092e-01,\n",
       "        2.2321e-01, 2.1103e-01, 2.2606e-01, 3.8535e-01, 6.1799e-01, 7.2770e-01,\n",
       "        5.6448e-01, 2.1716e-01, 4.9777e-02, 1.3533e-02, 6.8404e-04, 1.2973e-04,\n",
       "        8.6755e-06, 1.3053e-05, 1.4670e-06, 4.2736e-05, 6.5505e-06, 1.1220e-04,\n",
       "        3.9566e-04, 2.0264e-03, 1.7739e-02, 7.8524e-02, 2.5688e-01, 5.7182e-01,\n",
       "        8.0079e-01, 6.7434e-01, 4.2696e-01, 2.4634e-01, 1.4495e-01, 1.5840e-01,\n",
       "        1.5795e-01, 2.9691e-01, 5.6128e-01, 7.3432e-01, 6.4165e-01, 3.2011e-01,\n",
       "        7.8619e-02, 2.0823e-02, 1.9261e-03, 3.3104e-04, 4.5718e-04, 1.0747e-05,\n",
       "        6.5662e-07, 2.5541e-05, 1.0287e-04, 1.2042e-04, 3.0169e-04, 2.7432e-03,\n",
       "        2.5726e-02, 1.1765e-01, 3.8130e-01, 7.1930e-01, 7.6927e-01, 5.6303e-01,\n",
       "        3.0088e-01, 1.7772e-01, 1.0291e-01, 1.1399e-01, 1.3021e-01, 2.2015e-01,\n",
       "        4.9477e-01, 7.0654e-01, 6.7562e-01, 3.9231e-01, 1.1090e-01, 2.7320e-02,\n",
       "        3.4142e-03, 5.5074e-04, 3.8340e-04, 7.9895e-06, 1.7468e-06, 9.4901e-05,\n",
       "        1.7660e-04, 2.0309e-04, 3.0981e-04, 5.6806e-03, 4.1186e-02, 1.8342e-01,\n",
       "        5.0378e-01, 7.6206e-01, 7.3509e-01, 4.5812e-01, 2.1251e-01, 1.3203e-01,\n",
       "        7.7890e-02, 1.0991e-01, 9.9240e-02, 1.7386e-01, 4.6080e-01, 6.9186e-01,\n",
       "        6.7768e-01, 4.5899e-01, 1.2981e-01, 2.8981e-02, 4.8040e-03, 4.7188e-04,\n",
       "        2.5078e-05, 1.1132e-06, 1.2663e-06, 6.5397e-07, 5.3780e-06, 9.8305e-05,\n",
       "        4.1696e-04, 8.8664e-03, 5.6453e-02, 2.5009e-01, 5.9574e-01, 7.7165e-01,\n",
       "        6.9398e-01, 3.7450e-01, 1.5930e-01, 1.1317e-01, 5.5844e-02, 9.8253e-02,\n",
       "        8.7034e-02, 1.6980e-01, 4.6019e-01, 6.8052e-01, 6.8045e-01, 4.6668e-01,\n",
       "        1.3824e-01, 2.7145e-02, 5.4086e-03, 2.3850e-04, 3.9697e-07, 4.5880e-07,\n",
       "        6.9855e-07, 1.0025e-06, 7.1932e-06, 6.0602e-04, 4.3334e-04, 1.2635e-02,\n",
       "        7.3780e-02, 2.8608e-01, 6.3808e-01, 7.8566e-01, 6.6272e-01, 2.9459e-01,\n",
       "        1.3097e-01, 9.0383e-02, 5.0258e-02, 9.6716e-02, 9.1896e-02, 2.0597e-01,\n",
       "        4.9555e-01, 6.5904e-01, 6.6440e-01, 4.3710e-01, 1.1927e-01, 2.6597e-02,\n",
       "        4.3299e-03, 1.8312e-04, 1.0793e-06, 8.3163e-07, 1.4387e-06, 2.7679e-06,\n",
       "        7.2956e-06, 3.2822e-04, 7.3665e-04, 1.4657e-02, 7.3235e-02, 3.2835e-01,\n",
       "        6.7395e-01, 7.8570e-01, 6.1290e-01, 2.4980e-01, 1.0617e-01, 9.1665e-02,\n",
       "        5.1197e-02, 9.4282e-02, 1.2366e-01, 2.6722e-01, 5.1906e-01, 6.6775e-01,\n",
       "        6.5895e-01, 3.5841e-01, 9.6829e-02, 2.3261e-02, 2.2288e-03, 6.6965e-05,\n",
       "        1.4540e-05, 2.0703e-05, 5.6311e-07, 9.3598e-06, 3.7493e-06, 1.8072e-04,\n",
       "        9.3767e-04, 1.5011e-02, 7.7293e-02, 3.0119e-01, 6.9473e-01, 7.9565e-01,\n",
       "        6.0713e-01, 2.6706e-01, 1.0231e-01, 8.5812e-02, 5.5942e-02, 1.1203e-01,\n",
       "        1.8188e-01, 3.7373e-01, 6.0611e-01, 7.3668e-01, 5.8226e-01, 2.4846e-01,\n",
       "        6.5177e-02, 1.7312e-02, 9.6200e-04, 2.1985e-04, 1.1681e-05, 2.0327e-04,\n",
       "        1.0845e-06, 5.4458e-06, 5.8747e-07, 2.0209e-05, 9.1120e-04, 1.3222e-02,\n",
       "        6.0218e-02, 2.8937e-01, 6.7181e-01, 7.9871e-01, 6.0497e-01, 2.8145e-01,\n",
       "        1.2026e-01, 9.9226e-02, 9.1313e-02, 1.8370e-01, 3.0595e-01, 5.1713e-01,\n",
       "        7.2318e-01, 7.0259e-01, 4.2395e-01, 1.5525e-01, 4.7333e-02, 8.2808e-03,\n",
       "        3.5361e-04, 1.9940e-04, 9.6828e-06, 2.9144e-06, 2.1620e-06, 3.4814e-05,\n",
       "        5.3704e-05, 3.7602e-05, 8.9596e-04, 8.4964e-03, 4.4089e-02, 2.3103e-01,\n",
       "        6.0786e-01, 7.8431e-01, 6.6359e-01, 3.7919e-01, 2.1248e-01, 1.6379e-01,\n",
       "        1.7915e-01, 3.4737e-01, 4.9701e-01, 7.1182e-01, 7.5537e-01, 5.5423e-01,\n",
       "        2.6329e-01, 9.0687e-02, 2.4358e-02, 2.4076e-03, 1.8025e-04, 1.4965e-04,\n",
       "        1.1792e-05, 5.9743e-06, 1.7037e-06, 1.6348e-04, 1.4241e-04, 4.8498e-05,\n",
       "        5.5089e-04, 4.5083e-03, 2.8328e-02, 1.5565e-01, 4.6726e-01, 7.3379e-01,\n",
       "        7.4019e-01, 5.4521e-01, 4.0700e-01, 3.3529e-01, 4.1237e-01, 5.5094e-01,\n",
       "        7.0796e-01, 7.4906e-01, 6.1852e-01, 3.6764e-01, 1.6454e-01, 4.6833e-02,\n",
       "        7.0411e-03, 1.0793e-03, 1.9835e-04, 2.9489e-04, 2.6038e-04, 3.0767e-06,\n",
       "        4.1730e-06, 3.2546e-06, 8.1120e-05, 4.3653e-05, 4.1911e-04, 2.8539e-03,\n",
       "        1.5863e-02, 7.5515e-02, 2.9386e-01, 6.0525e-01, 7.4164e-01, 7.2891e-01,\n",
       "        6.4799e-01, 6.0151e-01, 6.6601e-01, 7.5371e-01, 7.5482e-01, 6.4189e-01,\n",
       "        4.2154e-01, 2.1636e-01, 6.3664e-02, 1.2358e-02, 2.1809e-03, 7.9154e-04,\n",
       "        4.4673e-04, 2.3950e-04, 1.3318e-03, 7.5932e-05, 4.8342e-06, 2.3422e-06,\n",
       "        9.9566e-06, 4.9114e-05, 5.4373e-04, 1.7080e-03, 8.4558e-03, 3.8178e-02,\n",
       "        1.4480e-01, 3.7943e-01, 6.2006e-01, 7.2908e-01, 7.8249e-01, 7.4770e-01,\n",
       "        7.4613e-01, 7.3824e-01, 6.2022e-01, 4.2408e-01, 2.0603e-01, 6.3026e-02,\n",
       "        1.5401e-02, 3.1046e-03, 1.9147e-03, 1.0891e-03, 7.8081e-04, 3.3839e-04,\n",
       "        3.2121e-04, 2.0843e-04, 1.2725e-06, 5.1287e-07, 1.2194e-06, 1.5953e-05,\n",
       "        4.9185e-05, 6.2793e-04, 3.6019e-03, 1.5668e-02, 5.8005e-02, 1.5274e-01,\n",
       "        3.1856e-01, 4.8324e-01, 6.1274e-01, 5.7364e-01, 5.1504e-01, 4.2617e-01,\n",
       "        2.7706e-01, 1.2276e-01, 4.4946e-02, 1.0193e-02, 2.1997e-03, 5.8669e-04,\n",
       "        4.9286e-04, 1.0976e-03, 9.6539e-04, 1.0946e-04, 2.7286e-05, 1.7423e-06,\n",
       "        1.1029e-06, 1.9813e-06, 1.5027e-06, 3.9170e-06, 4.7899e-05, 8.2456e-05,\n",
       "        3.6119e-04, 2.4015e-03, 1.1183e-02, 2.9646e-02, 6.8310e-02, 1.1020e-01,\n",
       "        1.4748e-01, 1.2435e-01, 9.6450e-02, 7.2094e-02, 3.7703e-02, 1.6055e-02,\n",
       "        5.1455e-03, 2.3318e-03, 4.0006e-04, 2.3736e-04, 2.0562e-04, 1.7251e-04,\n",
       "        1.6262e-04, 4.5071e-05, 1.4722e-06, 1.3041e-06, 9.8500e-07, 1.1161e-06,\n",
       "        3.4162e-07, 1.4380e-06, 1.7768e-06, 3.3861e-06, 1.6244e-05, 1.5274e-05,\n",
       "        3.7606e-04, 7.4286e-04, 9.7779e-04, 9.9564e-04, 8.8802e-04, 1.4485e-03,\n",
       "        1.2670e-03, 3.0127e-04, 8.2980e-06, 2.4809e-07, 3.9028e-06, 5.9622e-07,\n",
       "        7.5426e-07, 1.4932e-06, 7.5721e-07, 6.3694e-07, 5.2487e-07, 8.8837e-07,\n",
       "        1.7361e-06, 4.1816e-07, 1.6747e-06, 6.4935e-07, 3.7379e-07, 1.4903e-06,\n",
       "        1.2559e-06, 2.0298e-06, 9.6713e-07, 5.6725e-07, 8.9633e-07, 2.3112e-06,\n",
       "        3.4927e-06, 1.3647e-05, 1.5608e-06, 7.5923e-07, 1.0970e-04, 5.4781e-05,\n",
       "        8.7815e-05, 4.7185e-07, 7.6194e-07, 1.6130e-06, 8.5773e-07, 7.2255e-07,\n",
       "        7.2629e-07, 1.3759e-06, 1.0384e-06, 8.3931e-07, 7.1409e-07, 9.2451e-07,\n",
       "        2.4394e-06, 1.6248e-06, 3.4024e-07, 1.6922e-06, 7.8140e-07, 1.8464e-06,\n",
       "        2.2431e-06, 1.2978e-06, 9.3566e-07, 1.2606e-06, 1.2141e-06, 1.1785e-06,\n",
       "        5.1368e-07, 1.8145e-06, 7.8344e-07, 2.4443e-06, 3.8830e-07, 1.1106e-06,\n",
       "        1.4711e-06, 1.3094e-06, 1.5072e-06, 2.5730e-06, 2.8103e-07, 7.0938e-07,\n",
       "        6.0111e-07, 8.5331e-07, 1.5170e-06, 5.6317e-07], dtype=torch.float64)"
      ]
     },
     "execution_count": 123,
     "metadata": {},
     "output_type": "execute_result"
    }
   ],
   "source": [
    "dataset0[0].view(784)"
   ]
  },
  {
   "cell_type": "code",
   "execution_count": 94,
   "id": "activated-therapist",
   "metadata": {},
   "outputs": [
    {
     "data": {
      "text/plain": [
       "tensor([[2.5656e-12, 1.0000e+00, 1.0000e+00, 0.0000e+00]], device='cuda:0',\n",
       "       grad_fn=<SigmoidBackward>)"
      ]
     },
     "execution_count": 94,
     "metadata": {},
     "output_type": "execute_result"
    }
   ],
   "source": [
    "model_list[0].visible_to_hidden(torch.tensor(n_hid_energy[3][90000]).cuda().view(1,784))"
   ]
  },
  {
   "cell_type": "code",
   "execution_count": 120,
   "id": "concerned-currency",
   "metadata": {},
   "outputs": [
    {
     "data": {
      "text/plain": [
       "tensor([[-77.7591]], device='cuda:0', grad_fn=<AddBackward0>)"
      ]
     },
     "execution_count": 120,
     "metadata": {},
     "output_type": "execute_result"
    }
   ],
   "source": [
    "model_list[0].energy(torch.tensor(n_hid_energy[3][50000]).cuda().view(1,784))"
   ]
  },
  {
   "cell_type": "code",
   "execution_count": 84,
   "id": "powered-consideration",
   "metadata": {},
   "outputs": [],
   "source": [
    "def stround(x):\n",
    "    c = np.floor(x)\n",
    "    return c + ((x - c) > np.random.rand())\n"
   ]
  },
  {
   "cell_type": "code",
   "execution_count": 108,
   "id": "ongoing-pressing",
   "metadata": {},
   "outputs": [
    {
     "data": {
      "text/plain": [
       "array([1., 0., 0.])"
      ]
     },
     "execution_count": 108,
     "metadata": {},
     "output_type": "execute_result"
    }
   ],
   "source": [
    "stround([0.9, 0.5, 0.1])"
   ]
  },
  {
   "cell_type": "markdown",
   "id": "departmental-valve",
   "metadata": {},
   "source": [
    "$\n",
    "\\left\\langle F_V \\right\\rangle _{q_{V}} + \\left\\langle E'_{VH}-E_{VH} \\right\\rangle _{P_{VH}}-F'\n",
    "$\n"
   ]
  },
  {
   "cell_type": "code",
   "execution_count": 19,
   "id": "fancy-treasury",
   "metadata": {
    "scrolled": true
   },
   "outputs": [
    {
     "name": "stdout",
     "output_type": "stream",
     "text": [
      "n_hid=4\n",
      "max:89.69696044921875, min:-16.539966583251953\n",
      "n_hid=8\n",
      "max:178.9167022705078, min:87.54429626464844\n",
      "n_hid=16\n",
      "max:34.393798828125, min:-80.123291015625\n",
      "n_hid=32\n",
      "max:115.65156555175781, min:-13.658447265625\n",
      "n_hid=64\n",
      "max:187.50131225585938, min:67.38631439208984\n"
     ]
    }
   ],
   "source": [
    "n_hid_range=[4, 8, 16, 32, 64]\n",
    "for n_hid in n_hid_range:\n",
    "    print('n_hid={n_hid}'.format(n_hid=n_hid))\n",
    "    model0=torch.load('ERBM,SGD/lr=0.01/models/2021-01-28_n_hid={n_hid}_vol=12000_epoch=5000'.format(n_hid=n_hid)).float()\n",
    "    v_sample0=torch.tensor(np.reshape(pd.read_pickle('ERBM,SGD/lr=0.01/samples/2021-01-28_samples2_n_hid={n_hid}_vol=12000_epoch=5000.pkl'.format(n_hid=n_hid)), (1000, 1, 784))).cuda().float()\n",
    "\n",
    "    check_energy(model0, v_sample0)"
   ]
  },
  {
   "cell_type": "code",
   "execution_count": 44,
   "id": "shared-semiconductor",
   "metadata": {
    "scrolled": true
   },
   "outputs": [
    {
     "name": "stdout",
     "output_type": "stream",
     "text": [
      "n_hid=4, IG_loss=(-27.35398292541504, 39.349266052246094, 58.01517868041992)\n",
      "n_hid=8, IG_loss=(-136.95103454589844, 62.85564422607422, 153.4291534423828)\n",
      "n_hid=16, IG_loss=(25.486005783081055, 41.09246063232422, 1.4457576274871826)\n",
      "n_hid=32, IG_loss=(-26.709373474121094, 45.54371643066406, 84.99322509765625)\n",
      "n_hid=64, IG_loss=(-115.40055847167969, 83.30638885498047, 132.1706085205078)\n"
     ]
    }
   ],
   "source": [
    "data0=get_small_mnist(6000, 'train')\n",
    "data0=(get_small_mnist(6000, 'train').data.view(len(data0.data),784)/255.).cuda()\n",
    "for n_hid in n_hid_range:\n",
    "    model0=torch.load('ERBM,SGD/lr=0.01/models/2021-01-28_n_hid={n_hid}_vol=12000_epoch=5000'.format(n_hid=n_hid)).float()\n",
    "    model1=torch.load('ERBM,SGD/lr=0.01/models/2021-01-28_n_hid={n_hid}_vol=600_epoch=5000'.format(n_hid=n_hid)).float()\n",
    "\n",
    "    v_sample0=torch.tensor(np.reshape(pd.read_pickle('ERBM,SGD/lr=0.01/samples/2021-01-28_samples2_n_hid={n_hid}_vol=12000_epoch=5000.pkl'.format(n_hid=n_hid)), (1000, 1, 784))).cuda().float()\n",
    "    \n",
    "    print('n_hid={n_hid}, IG_loss={IG_loss}'.format(n_hid=n_hid, IG_loss=IG_loss(model0, model1, data0, v_sample0)))"
   ]
  },
  {
   "cell_type": "code",
   "execution_count": null,
   "id": "smoking-display",
   "metadata": {},
   "outputs": [],
   "source": []
  },
  {
   "cell_type": "code",
   "execution_count": null,
   "id": "round-finnish",
   "metadata": {},
   "outputs": [],
   "source": []
  }
 ],
 "metadata": {
  "kernelspec": {
   "display_name": "Python 3",
   "language": "python",
   "name": "python3"
  },
  "language_info": {
   "codemirror_mode": {
    "name": "ipython",
    "version": 3
   },
   "file_extension": ".py",
   "mimetype": "text/x-python",
   "name": "python",
   "nbconvert_exporter": "python",
   "pygments_lexer": "ipython3",
   "version": "3.8.8"
  }
 },
 "nbformat": 4,
 "nbformat_minor": 5
}
