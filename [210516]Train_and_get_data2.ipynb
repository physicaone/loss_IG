{
  "nbformat": 4,
  "nbformat_minor": 0,
  "metadata": {
    "colab": {
      "name": "[210516]Train_and_get_data.ipynb",
      "provenance": [],
      "machine_shape": "hm",
      "authorship_tag": "ABX9TyNA27zcsV5ZQX8p80O40xr/",
      "include_colab_link": true
    },
    "kernelspec": {
      "name": "python3",
      "display_name": "Python 3"
    },
    "language_info": {
      "name": "python"
    },
    "accelerator": "GPU",
    "widgets": {
      "application/vnd.jupyter.widget-state+json": {
        "c4669dec5e994b078e5aa18487f86efd": {
          "model_module": "@jupyter-widgets/controls",
          "model_name": "HBoxModel",
          "state": {
            "_view_name": "HBoxView",
            "_dom_classes": [],
            "_model_name": "HBoxModel",
            "_view_module": "@jupyter-widgets/controls",
            "_model_module_version": "1.5.0",
            "_view_count": null,
            "_view_module_version": "1.5.0",
            "box_style": "",
            "layout": "IPY_MODEL_8b80dc5d16cc48bba24470c20bd897b9",
            "_model_module": "@jupyter-widgets/controls",
            "children": [
              "IPY_MODEL_b0c940e3e98b43499382838c504af04c",
              "IPY_MODEL_22a3752fe4894008be069a632db96252"
            ]
          }
        },
        "8b80dc5d16cc48bba24470c20bd897b9": {
          "model_module": "@jupyter-widgets/base",
          "model_name": "LayoutModel",
          "state": {
            "_view_name": "LayoutView",
            "grid_template_rows": null,
            "right": null,
            "justify_content": null,
            "_view_module": "@jupyter-widgets/base",
            "overflow": null,
            "_model_module_version": "1.2.0",
            "_view_count": null,
            "flex_flow": null,
            "width": null,
            "min_width": null,
            "border": null,
            "align_items": null,
            "bottom": null,
            "_model_module": "@jupyter-widgets/base",
            "top": null,
            "grid_column": null,
            "overflow_y": null,
            "overflow_x": null,
            "grid_auto_flow": null,
            "grid_area": null,
            "grid_template_columns": null,
            "flex": null,
            "_model_name": "LayoutModel",
            "justify_items": null,
            "grid_row": null,
            "max_height": null,
            "align_content": null,
            "visibility": null,
            "align_self": null,
            "height": null,
            "min_height": null,
            "padding": null,
            "grid_auto_rows": null,
            "grid_gap": null,
            "max_width": null,
            "order": null,
            "_view_module_version": "1.2.0",
            "grid_template_areas": null,
            "object_position": null,
            "object_fit": null,
            "grid_auto_columns": null,
            "margin": null,
            "display": null,
            "left": null
          }
        },
        "b0c940e3e98b43499382838c504af04c": {
          "model_module": "@jupyter-widgets/controls",
          "model_name": "FloatProgressModel",
          "state": {
            "_view_name": "ProgressView",
            "style": "IPY_MODEL_06ad808ee18649d0bc295c9f21e2bd9d",
            "_dom_classes": [],
            "description": " 20%",
            "_model_name": "FloatProgressModel",
            "bar_style": "",
            "max": 10,
            "_view_module": "@jupyter-widgets/controls",
            "_model_module_version": "1.5.0",
            "value": 2,
            "_view_count": null,
            "_view_module_version": "1.5.0",
            "orientation": "horizontal",
            "min": 0,
            "description_tooltip": null,
            "_model_module": "@jupyter-widgets/controls",
            "layout": "IPY_MODEL_4d457552d2f4422cb7b067626821520c"
          }
        },
        "22a3752fe4894008be069a632db96252": {
          "model_module": "@jupyter-widgets/controls",
          "model_name": "HTMLModel",
          "state": {
            "_view_name": "HTMLView",
            "style": "IPY_MODEL_66cca15d1ee94c6dbaa95ddd94703394",
            "_dom_classes": [],
            "description": "",
            "_model_name": "HTMLModel",
            "placeholder": "​",
            "_view_module": "@jupyter-widgets/controls",
            "_model_module_version": "1.5.0",
            "value": " 2/10 [12:40&lt;50:19, 377.43s/it]",
            "_view_count": null,
            "_view_module_version": "1.5.0",
            "description_tooltip": null,
            "_model_module": "@jupyter-widgets/controls",
            "layout": "IPY_MODEL_e76df47bfb9945cca22b71acf3e7c547"
          }
        },
        "06ad808ee18649d0bc295c9f21e2bd9d": {
          "model_module": "@jupyter-widgets/controls",
          "model_name": "ProgressStyleModel",
          "state": {
            "_view_name": "StyleView",
            "_model_name": "ProgressStyleModel",
            "description_width": "initial",
            "_view_module": "@jupyter-widgets/base",
            "_model_module_version": "1.5.0",
            "_view_count": null,
            "_view_module_version": "1.2.0",
            "bar_color": null,
            "_model_module": "@jupyter-widgets/controls"
          }
        },
        "4d457552d2f4422cb7b067626821520c": {
          "model_module": "@jupyter-widgets/base",
          "model_name": "LayoutModel",
          "state": {
            "_view_name": "LayoutView",
            "grid_template_rows": null,
            "right": null,
            "justify_content": null,
            "_view_module": "@jupyter-widgets/base",
            "overflow": null,
            "_model_module_version": "1.2.0",
            "_view_count": null,
            "flex_flow": null,
            "width": null,
            "min_width": null,
            "border": null,
            "align_items": null,
            "bottom": null,
            "_model_module": "@jupyter-widgets/base",
            "top": null,
            "grid_column": null,
            "overflow_y": null,
            "overflow_x": null,
            "grid_auto_flow": null,
            "grid_area": null,
            "grid_template_columns": null,
            "flex": null,
            "_model_name": "LayoutModel",
            "justify_items": null,
            "grid_row": null,
            "max_height": null,
            "align_content": null,
            "visibility": null,
            "align_self": null,
            "height": null,
            "min_height": null,
            "padding": null,
            "grid_auto_rows": null,
            "grid_gap": null,
            "max_width": null,
            "order": null,
            "_view_module_version": "1.2.0",
            "grid_template_areas": null,
            "object_position": null,
            "object_fit": null,
            "grid_auto_columns": null,
            "margin": null,
            "display": null,
            "left": null
          }
        },
        "66cca15d1ee94c6dbaa95ddd94703394": {
          "model_module": "@jupyter-widgets/controls",
          "model_name": "DescriptionStyleModel",
          "state": {
            "_view_name": "StyleView",
            "_model_name": "DescriptionStyleModel",
            "description_width": "",
            "_view_module": "@jupyter-widgets/base",
            "_model_module_version": "1.5.0",
            "_view_count": null,
            "_view_module_version": "1.2.0",
            "_model_module": "@jupyter-widgets/controls"
          }
        },
        "e76df47bfb9945cca22b71acf3e7c547": {
          "model_module": "@jupyter-widgets/base",
          "model_name": "LayoutModel",
          "state": {
            "_view_name": "LayoutView",
            "grid_template_rows": null,
            "right": null,
            "justify_content": null,
            "_view_module": "@jupyter-widgets/base",
            "overflow": null,
            "_model_module_version": "1.2.0",
            "_view_count": null,
            "flex_flow": null,
            "width": null,
            "min_width": null,
            "border": null,
            "align_items": null,
            "bottom": null,
            "_model_module": "@jupyter-widgets/base",
            "top": null,
            "grid_column": null,
            "overflow_y": null,
            "overflow_x": null,
            "grid_auto_flow": null,
            "grid_area": null,
            "grid_template_columns": null,
            "flex": null,
            "_model_name": "LayoutModel",
            "justify_items": null,
            "grid_row": null,
            "max_height": null,
            "align_content": null,
            "visibility": null,
            "align_self": null,
            "height": null,
            "min_height": null,
            "padding": null,
            "grid_auto_rows": null,
            "grid_gap": null,
            "max_width": null,
            "order": null,
            "_view_module_version": "1.2.0",
            "grid_template_areas": null,
            "object_position": null,
            "object_fit": null,
            "grid_auto_columns": null,
            "margin": null,
            "display": null,
            "left": null
          }
        }
      }
    }
  },
  "cells": [
    {
      "cell_type": "markdown",
      "metadata": {
        "id": "view-in-github",
        "colab_type": "text"
      },
      "source": [
        "<a href=\"https://colab.research.google.com/github/physicaone/loss_IG/blob/master/%5B210516%5DTrain_and_get_data2.ipynb\" target=\"_parent\"><img src=\"https://colab.research.google.com/assets/colab-badge.svg\" alt=\"Open In Colab\"/></a>"
      ]
    },
    {
      "cell_type": "code",
      "metadata": {
        "colab": {
          "base_uri": "https://localhost:8080/"
        },
        "id": "MNNY-OapKZ1e",
        "outputId": "44b7dffa-36ca-46df-f5fb-98854b5edcd8"
      },
      "source": [
        "from google.colab import drive\n",
        "drive.mount('/content/drive')"
      ],
      "execution_count": 1,
      "outputs": [
        {
          "output_type": "stream",
          "text": [
            "Mounted at /content/drive\n"
          ],
          "name": "stdout"
        }
      ]
    },
    {
      "cell_type": "code",
      "metadata": {
        "id": "8WwA1oZ9JxYF"
      },
      "source": [
        "import numpy as np\n",
        "import torch\n",
        "import torchvision.datasets\n",
        "import torchvision.models\n",
        "import torchvision.transforms\n",
        "import torch.optim as optim\n",
        "import torch.nn.functional as F\n",
        "from torchvision import datasets, transforms\n",
        "from torchvision.utils import make_grid\n",
        "import torch.utils.data\n",
        "import torch.nn as nn\n",
        "from datetime import datetime\n",
        "from tqdm import tqdm, tnrange\n",
        "import warnings\n",
        "warnings.filterwarnings(\"ignore\")\n",
        "\n",
        "import random\n",
        "import pickle as pkl\n",
        "import pandas as pd\n",
        "import matplotlib.pyplot as plt\n",
        "import matplotlib.gridspec as gridspec\n",
        "%matplotlib inline\n",
        "# np.seterr(divide='ignore', invalid='ignore')\n",
        "import itertools\n",
        "import re\n",
        "from time import sleep"
      ],
      "execution_count": 2,
      "outputs": []
    },
    {
      "cell_type": "code",
      "metadata": {
        "id": "iq4s_-a3KJnN"
      },
      "source": [
        "class RBM(nn.Module):\n",
        "\n",
        "    def __init__(self, n_vis, n_hid, k, use_cuda):\n",
        "        \"\"\"Create a RBM.\"\"\"\n",
        "        super(RBM, self).__init__()\n",
        "        \n",
        "        if use_cuda==True:\n",
        "            self.v = nn.Parameter(torch.ones(1, n_vis).cuda())\n",
        "            self.h = nn.Parameter(torch.zeros(1, n_hid).cuda())\n",
        "            self.W = nn.Parameter(torch.randn(n_hid, n_vis).cuda())\n",
        "            self.k = k\n",
        "        else:\n",
        "            self.v = nn.Parameter(torch.ones(1, n_vis))\n",
        "            self.h = nn.Parameter(torch.zeros(1, n_hid))\n",
        "            self.W = nn.Parameter(torch.randn(n_hid, n_vis))\n",
        "            self.k = k     \n",
        "\n",
        "    def visible_to_hidden(self, v, beta):\n",
        "        return torch.sigmoid(F.linear(v, self.W, self.h)*beta)\n",
        "\n",
        "    def hidden_to_visible(self, h, beta):\n",
        "        return torch.sigmoid(F.linear(h, self.W.t(), self.v)*beta)\n",
        "\n",
        "    def free_energy(self, v):\n",
        "        v_term = torch.matmul(v, self.v.t())\n",
        "        w_x_h = F.linear(v, self.W, self.h)\n",
        "        h_term = torch.sum(F.softplus(w_x_h), dim=1)\n",
        "        return torch.mean(-h_term - v_term)\n",
        "    \n",
        "    def energy(self, v):\n",
        "        v=v.bernoulli()\n",
        "        h=torch.sigmoid(F.linear(v, self.W, self.h))\n",
        "        h=h.bernoulli()\n",
        "        return -torch.matmul(v, self.v.t())-torch.matmul(torch.matmul(v, self.W.t()),h.t())-torch.matmul(h, self.h.t())\n",
        "    \n",
        "    def energy2(self, v, h):\n",
        "        v=v.bernoulli()\n",
        "        h=h.bernoulli()\n",
        "        return -torch.matmul(v, self.v.t())-torch.matmul(torch.matmul(v, self.W.t()),h.t())-torch.matmul(h, self.h.t())\n",
        "\n",
        "    def forward(self, v):\n",
        "        h = self.visible_to_hidden(v,1)\n",
        "        h = h.bernoulli()\n",
        "        for _ in range(self.k):\n",
        "            v_gibb = self.hidden_to_visible(h,1).to(device)\n",
        "            v_gibb = v_gibb.bernoulli()\n",
        "            h = self.visible_to_hidden(v_gibb, 1).to(device)\n",
        "            h = h.bernoulli()\n",
        "        return v, v_gibb"
      ],
      "execution_count": 3,
      "outputs": []
    },
    {
      "cell_type": "code",
      "metadata": {
        "id": "Oeoe_rFeJz3M"
      },
      "source": [
        "\n",
        "def decimal_to_binary(integer):\n",
        "    string=bin(integer)[2:]\n",
        "    list0=[float(d) for d in string]\n",
        "    while len(list0)<n_hid:\n",
        "        list0=[0.]+list0\n",
        "    return torch.tensor([list0])\n",
        "\n",
        "def binary_to_decimal(list0):\n",
        "    value=0\n",
        "    for i in range(len(list0)):\n",
        "        value+=list0[-i-1]*2**(i)\n",
        "    return value\n"
      ],
      "execution_count": 4,
      "outputs": []
    },
    {
      "cell_type": "code",
      "metadata": {
        "id": "4OtodR59Jz50"
      },
      "source": [
        "# Complete infinite and zero T\n",
        "\n",
        "# fullconfigs=[]\n",
        "# for i in range(2**16):\n",
        "#     fullconfigs.append(decimal_to_binary(i).detach().numpy())\n",
        "# with open('drive/MyDrive/loss_IG/Ising/lr=0.01/4*4_inf_full.pkl', 'wb') as f:\n",
        "#     pkl.dump(fullconfigs, f)\n",
        "# random.shuffle(fullconfigs)\n",
        "# with open('drive/MyDrive/loss_IG/Ising/lr=0.01/4*4_inf_sub.pkl', 'wb') as f:\n",
        "#     pkl.dump(fullconfigs[:6000], f)\n",
        "\n",
        "\n",
        "# fullconfigs=[]\n",
        "# for i in range(int(2**16/2)-16):\n",
        "#     fullconfigs.append(decimal_to_binary(0).detach().numpy())\n",
        "#     fullconfigs.append(decimal_to_binary(2**16-1).detach().numpy())\n",
        "# for i in range(16):\n",
        "#     fullconfigs.append(decimal_to_binary(2**i).detach().numpy())\n",
        "#     fullconfigs.append(decimal_to_binary(2**16-1-2**i).detach().numpy())\n",
        "# subconfigs=[]\n",
        "# for i in range(2984):\n",
        "#     subconfigs.append(decimal_to_binary(0).detach().numpy())\n",
        "#     subconfigs.append(decimal_to_binary(2**16-1).detach().numpy())\n",
        "# for i in range(16):\n",
        "#     subconfigs.append(decimal_to_binary(2**i).detach().numpy())\n",
        "#     subconfigs.append(decimal_to_binary(2**16-1-2**i).detach().numpy())\n",
        "# random.shuffle(fullconfigs)\n",
        "# random.shuffle(subconfigs)\n",
        "# with open('drive/MyDrive/loss_IG/Ising/lr=0.01/4*4_zero_full.pkl', 'wb') as f:\n",
        "#     pkl.dump(fullconfigs, f)\n",
        "# with open('drive/MyDrive/loss_IG/Ising/lr=0.01/4*4_zero_sub.pkl', 'wb') as f:\n",
        "#     pkl.dump(subconfigs, f)"
      ],
      "execution_count": 5,
      "outputs": []
    },
    {
      "cell_type": "code",
      "metadata": {
        "colab": {
          "base_uri": "https://localhost:8080/"
        },
        "id": "_uMwJNfoJz8c",
        "outputId": "1251cb29-f717-48a9-8442-9e7222475f15"
      },
      "source": [
        "CUDA = torch.cuda.is_available()\n",
        "CUDA_DEVICE = 0\n",
        "\n",
        "if CUDA:\n",
        "    device='cuda'\n",
        "else:\n",
        "    device='cpu'\n",
        "torch.cuda.is_available()"
      ],
      "execution_count": 6,
      "outputs": [
        {
          "output_type": "execute_result",
          "data": {
            "text/plain": [
              "True"
            ]
          },
          "metadata": {
            "tags": []
          },
          "execution_count": 6
        }
      ]
    },
    {
      "cell_type": "code",
      "metadata": {
        "id": "rM0yA2GHJz-6"
      },
      "source": [
        "# n_hid_range=[2, 128, 24, 48, 96]\n",
        "# n_hid_range=[128]\n",
        "\n",
        "\n",
        "n_vis=9\n",
        "k=5\n",
        "n_epochs=10000\n",
        "batch_size=512\n",
        "lr=0.00001"
      ],
      "execution_count": 11,
      "outputs": []
    },
    {
      "cell_type": "code",
      "metadata": {
        "id": "QGxovHmTJ0BM"
      },
      "source": [
        "from torch.utils.data import Dataset\n",
        "\n",
        "class CustomDataset(Dataset): \n",
        "    def __init__(self, dataset):\n",
        "        data_x = dataset\n",
        "        self.x_data = data_x\n",
        "#         self.y_data = data_y\n",
        "\n",
        "    # 총 데이터의 개수를 리턴\n",
        "    def __len__(self): \n",
        "        return len(self.x_data)\n",
        "    # 인덱스를 입력받아 그에 맵핑되는 입출력 데이터를 파이토치의 Tensor 형태로 리턴\n",
        "    def __getitem__(self, idx): \n",
        "        x = torch.FloatTensor(self.x_data[idx])\n",
        "#         y = torch.FloatTensor([self.y_data[idx]])\n",
        "        return x"
      ],
      "execution_count": 12,
      "outputs": []
    },
    {
      "cell_type": "code",
      "metadata": {
        "id": "-iSKtLdZJ0Fx"
      },
      "source": [
        "fullconfigs=pd.read_pickle('drive/MyDrive/loss_IG/3*3/3*3_cri_full.pkl')\n",
        "def data_to_loader(fullconfigs):\n",
        "    fulldata=CustomDataset(fullconfigs)\n",
        "    full_dataset = fulldata\n",
        "    full_loader = torch.utils.data.DataLoader(full_dataset, batch_size)\n",
        "    return full_loader\n",
        "loader_list=[]\n",
        "for i in range(10):\n",
        "    loader_list.append(data_to_loader(fullconfigs[int(len(fullconfigs)*i/10):int(len(fullconfigs)*(i+1)/10)]))\n",
        "\n",
        "# subconfigs=pd.read_pickle('drive/MyDrive/loss_IG/Ising/lr=0.01/4*4_cri_sub.pkl')\n",
        "# subdata=CustomDataset(subconfigs)\n",
        "# sub_dataset = subdata\n",
        "# sub_loader = torch.utils.data.DataLoader(sub_dataset, batch_size)\n"
      ],
      "execution_count": 13,
      "outputs": []
    },
    {
      "cell_type": "code",
      "metadata": {
        "id": "CBWVyHvTJ0Hu"
      },
      "source": [
        "def train_and_get_data(n_hid, model, lr, train_loader, por, T):\n",
        "    if model==0:\n",
        "        rbm = RBM(n_vis, n_hid, k, use_cuda=CUDA)\n",
        "    else:\n",
        "        rbm=model\n",
        "    train_loss_list=[]\n",
        "    train_op = optim.Adam(rbm.parameters(), lr)\n",
        "    rbm.train()\n",
        "    for epoch in range(n_epochs):\n",
        "        train_loss_epoch = []\n",
        "        for _, (data) in enumerate(train_loader):\n",
        "            data=data.to(device)\n",
        "            v, v_gibbs = rbm(data.view(-1, n_vis))\n",
        "            train_loss = rbm.free_energy(v) - rbm.free_energy(v_gibbs)\n",
        "            train_loss_epoch.append(train_loss.item())\n",
        "            train_op.zero_grad()\n",
        "            train_loss.backward()\n",
        "            train_op.step()\n",
        "        val=np.mean(train_loss_epoch)\n",
        "        train_loss_list.append(val)\n",
        "        if epoch>10 and train_loss_list[-1]*train_loss_list[-2]<0:\n",
        "            break\n",
        "    with open('drive/MyDrive/loss_IG/3*3/loss/2021-05-02_loss_n_hid={n_hid}_{por}_T={T}.pkl'.format(n_hid=n_hid, por=por, T=T), 'wb') as f:\n",
        "        pkl.dump(train_loss_list, f)\n",
        "    torch.save(rbm.state_dict(), 'drive/MyDrive/loss_IG/3*3/state_dict/2021-05-02_n_hid={n_hid}_{por}_T={T}'.format(n_hid=n_hid, por=por, T=T))\n",
        "    "
      ],
      "execution_count": 14,
      "outputs": []
    },
    {
      "cell_type": "code",
      "metadata": {
        "id": "opE1aoZuJ0KA",
        "colab": {
          "base_uri": "https://localhost:8080/",
          "height": 48,
          "referenced_widgets": [
            "c4669dec5e994b078e5aa18487f86efd",
            "8b80dc5d16cc48bba24470c20bd897b9",
            "b0c940e3e98b43499382838c504af04c",
            "22a3752fe4894008be069a632db96252",
            "06ad808ee18649d0bc295c9f21e2bd9d",
            "4d457552d2f4422cb7b067626821520c",
            "66cca15d1ee94c6dbaa95ddd94703394",
            "e76df47bfb9945cca22b71acf3e7c547"
          ]
        },
        "outputId": "44cd6c55-f108-4e1f-84ec-3434135102a0"
      },
      "source": [
        "for n_hid in [1,2,4,6,8]:\n",
        "    for j in tnrange(10):\n",
        "        train_and_get_data(n_hid\n",
        "#                    ,model=torch.load('ERBM,SGD/lr=0.01/models/2021-01-28_n_hid={n_hid}_vol=600_epoch=5000'.format(n_hid=n_hid)\n",
        "                    ,0\n",
        "                    ,lr\n",
        "                    ,train_loader=loader_list[j]\n",
        "                    ,por='sub'\n",
        "                    ,T='2.3_{j}'.format(j=j))"
      ],
      "execution_count": null,
      "outputs": [
        {
          "output_type": "display_data",
          "data": {
            "application/vnd.jupyter.widget-view+json": {
              "model_id": "c4669dec5e994b078e5aa18487f86efd",
              "version_minor": 0,
              "version_major": 2
            },
            "text/plain": [
              "HBox(children=(FloatProgress(value=0.0, max=10.0), HTML(value='')))"
            ]
          },
          "metadata": {
            "tags": []
          }
        }
      ]
    },
    {
      "cell_type": "code",
      "metadata": {
        "id": "Jk2_47OKPDXZ"
      },
      "source": [
        ""
      ],
      "execution_count": null,
      "outputs": []
    }
  ]
}