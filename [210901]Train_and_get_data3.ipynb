{
  "nbformat": 4,
  "nbformat_minor": 0,
  "metadata": {
    "colab": {
      "name": "Train_and_check_IG2.py",
      "provenance": [],
      "collapsed_sections": [],
      "authorship_tag": "ABX9TyOqb6TX1dFbAvW2sAEhl3Kn",
      "include_colab_link": true
    },
    "kernelspec": {
      "name": "python3",
      "display_name": "Python 3"
    },
    "language_info": {
      "name": "python"
    }
  },
  "cells": [
    {
      "cell_type": "markdown",
      "metadata": {
        "id": "view-in-github",
        "colab_type": "text"
      },
      "source": [
        "<a href=\"https://colab.research.google.com/github/physicaone/loss_IG/blob/master/%5B210901%5DTrain_and_get_data3.ipynb\" target=\"_parent\"><img src=\"https://colab.research.google.com/assets/colab-badge.svg\" alt=\"Open In Colab\"/></a>"
      ]
    },
    {
      "cell_type": "code",
      "metadata": {
        "id": "bjVooLiyAa2A",
        "colab": {
          "base_uri": "https://localhost:8080/"
        },
        "outputId": "112fdd51-655b-4482-cf79-f1917c78a9b6"
      },
      "source": [
        "import numpy as np\n",
        "import torch\n",
        "import torchvision.datasets\n",
        "import torchvision.models\n",
        "import torchvision.transforms\n",
        "import torch.optim as optim\n",
        "import torch.nn.functional as F\n",
        "from torchvision import datasets, transforms\n",
        "import torch.utils.data\n",
        "import torch.nn as nn\n",
        "from tqdm import tqdm, tnrange\n",
        "import warnings\n",
        "warnings.filterwarnings(\"ignore\")\n",
        "import random\n",
        "import pickle as pkl\n",
        "import pandas as pd\n",
        "from scipy.stats import entropy\n",
        "import copy\n",
        "CUDA = torch.cuda.is_available()\n",
        "CUDA_DEVICE = 0\n",
        "\n",
        "try:\n",
        "    from google.colab import drive\n",
        "    drive.mount('/content/drive')\n",
        "    base='drive/MyDrive'\n",
        "except:\n",
        "    if torch.cuda.device_count()>1:\n",
        "        base='.'\n",
        "    else:\n",
        "        base='Google Drive'\n",
        "\n",
        "if CUDA:\n",
        "    device='cuda'\n",
        "else:\n",
        "    device='cpu'\n",
        "torch.cuda.is_available()"
      ],
      "execution_count": 6,
      "outputs": [
        {
          "output_type": "stream",
          "name": "stdout",
          "text": [
            "Mounted at /content/drive\n"
          ]
        },
        {
          "output_type": "execute_result",
          "data": {
            "text/plain": [
              "False"
            ]
          },
          "metadata": {},
          "execution_count": 6
        }
      ]
    },
    {
      "cell_type": "code",
      "metadata": {
        "id": "uZRIIZsoCFRX"
      },
      "source": [
        "def decimal_to_binary(integer, n_hid):\n",
        "    string=bin(int(integer))[2:]\n",
        "    list0=[float(d) for d in string]\n",
        "    while len(list0)<n_hid:\n",
        "        list0=[0.]+list0\n",
        "    return torch.tensor([list0])\n",
        "\n",
        "def Ising_energy(v_list):\n",
        "    L = 3\n",
        "    E_list=[]\n",
        "    for n in range(len(v_list)):\n",
        "        v=v_list[n]\n",
        "        E = 0\n",
        "        for i in range(L):\n",
        "            for j in range(L):\n",
        "                s = v[i,j]\n",
        "                neigh = v[(i+1)%L, j] + v[i,(j+1)%L] + v[(i-1)%L,j] + v[i,(j-1)%L] \n",
        "                E += -neigh * s\n",
        "        E_list.append(E/2)\n",
        "    return np.array(E_list)\n",
        "    \n",
        "class RBM(nn.Module):\n",
        "\n",
        "    def __init__(self, n_vis, n_hid, k):\n",
        "        \"\"\"Create a RBM.\"\"\"\n",
        "        super(RBM, self).__init__()\n",
        "        \n",
        "        self.v_bias = nn.Parameter(torch.zeros(1, n_vis).to(device))\n",
        "        self.h_bias = nn.Parameter(torch.zeros(1, n_hid).to(device))\n",
        "        self.Weight = nn.Parameter(std*torch.randn(n_hid, n_vis).to(device))\n",
        "        self.k = k\n",
        "\n",
        "\n",
        "    def v2h(self, v):\n",
        "        return torch.sigmoid(F.linear(v, self.Weight, self.h_bias))\n",
        "\n",
        "    def h2v(self, h):\n",
        "        return torch.sigmoid(F.linear(h, self.Weight.t(), self.v_bias))\n",
        "    \n",
        "    def Fv(self, v):\n",
        "        v_term = torch.matmul(v, self.v_bias.t()).view(len(v))\n",
        "        h_term = torch.sum(F.softplus(F.linear(v, self.Weight, self.h_bias)), dim=1)\n",
        "        return -h_term -v_term\n",
        "\n",
        "    def energy(self, v, h):\n",
        "        v=v.bernoulli()\n",
        "        h=h.bernoulli()\n",
        "        return -torch.matmul(v, self.v_bias.t())-torch.matmul(torch.matmul(v, self.Weight.t()),h.t())-torch.matmul(h, self.h_bias.t())\n",
        "    \n",
        "    def Energy_GPU2(self, v_list0, h_list0):\n",
        "        if CUDA:\n",
        "            n_split=torch.cuda.device_count()\n",
        "        else:\n",
        "            n_split=1\n",
        "        e_list=[]\n",
        "        m_split=2**6\n",
        "        for j in range(m_split):\n",
        "            v_list1=torch.stack(list(v_list0[j*int(len(v_list0)/m_split):(j+1)*int(len(v_list0)/m_split)]))\n",
        "            h_list1=torch.stack(list(h_list0[j*int(len(h_list0)/m_split):(j+1)*int(len(h_list0)/m_split)]))\n",
        "            vs=[]\n",
        "            hs=[]\n",
        "            for i in range(n_split):\n",
        "                v_list2=torch.stack(list(v_list1[i*int(len(v_list1)/n_split):(i+1)*int(len(v_list1)/n_split)]))\n",
        "                h_list2=torch.stack(list(h_list1[i*int(len(h_list1)/n_split):(i+1)*int(len(h_list1)/n_split)]))\n",
        "                if CUDA:\n",
        "                    v_list2=v_list2.to(device='cuda:' + str(i)).view(len(v_list2), n_vis)\n",
        "                    h_list2=h_list2.to(device='cuda:' + str(i)).view(len(h_list2), n_hid)\n",
        "                else:\n",
        "                    None\n",
        "                vs.append(v_list2)\n",
        "                hs.append(h_list2)\n",
        "            for i in range(n_split): \n",
        "                if CUDA:\n",
        "                    a=self.v_bias.to(device='cuda:' + str(i)).view(n_vis)\n",
        "                    b=self.h_bias.to(device='cuda:' + str(i)).view(n_hid)\n",
        "                    W=self.Weight.to(device='cuda:' + str(i)).view(n_hid, n_vis)\n",
        "                    e=(-torch.matmul(vs[i].float(), a)-torch.diagonal(torch.matmul(torch.matmul(vs[i].float(), W.t()), hs[i].float().t()))-torch.matmul(hs[i].float(), b)).to('cuda:0')\n",
        "                    e_list.append(e)\n",
        "                else:\n",
        "                    a=self.v_bias.view(n_vis)\n",
        "                    b=self.h_bias.view(n_hid)\n",
        "                    W=self.Weight.view(n_hid, n_vis)\n",
        "                    e=(-torch.matmul(vs[i].float(), a)-torch.diagonal(torch.matmul(torch.matmul(vs[i].float(), W.t()), hs[i].float().t()))-torch.matmul(hs[i].float(), b))\n",
        "                    e_list.append(e)\n",
        "        return torch.stack(e_list).view(len(v_list0))\n",
        "    \n",
        "    def forward(self, v):\n",
        "        h = self.v2h(v)\n",
        "        h = h.bernoulli()\n",
        "        for _ in range(self.k):\n",
        "            v_gibbs = self.h2v(h).to(device)\n",
        "            v_gibbs = v_gibbs.bernoulli()\n",
        "            h = self.v2h(v_gibbs).to(device)\n",
        "            h = h.bernoulli()\n",
        "        return v, v_gibbs\n",
        "        \n",
        "from torch.utils.data import Dataset\n",
        "\n",
        "class CustomDataset(Dataset): \n",
        "    def __init__(self, dataset):\n",
        "        data_x = dataset\n",
        "        self.x_data = data_x\n",
        "#         self.y_data = data_y\n",
        "\n",
        "    # 총 데이터의 개수를 리턴\n",
        "    def __len__(self): \n",
        "        return len(self.x_data)\n",
        "    # 인덱스를 입력받아 그에 맵핑되는 입출력 데이터를 파이토치의 Tensor 형태로 리턴\n",
        "    def __getitem__(self, idx): \n",
        "        x = torch.FloatTensor(self.x_data[idx])\n",
        "#         y = torch.FloatTensor([self.y_data[idx]])\n",
        "        return x\n",
        "\n",
        "def data_to_loader(fullconfigs):\n",
        "    fulldata=CustomDataset(fullconfigs)\n",
        "    full_dataset = fulldata\n",
        "    full_loader = torch.utils.data.DataLoader(full_dataset, batch_size)\n",
        "    return full_loader\n",
        "\n",
        "def train_and_get_data(n_hid, model, lr, train_loader):\n",
        "    # Train and get the new result\n",
        "    rbm=RBM(n_vis, n_hid, k)\n",
        "    train_op = optim.SGD(rbm.parameters(), lr, momentum=0.9)\n",
        "    rbm.train()\n",
        "    train_loss_list=[]\n",
        "    IG_loss_list=[]\n",
        "    model_list=[]\n",
        "    decay_count=0\n",
        "    # for epoch in tnrange(n_epochs):\n",
        "    epoch=0\n",
        "    while epoch<=n_epochs:\n",
        "        epoch+=1\n",
        "        train_loss_epoch = []\n",
        "        for _, (data) in enumerate(train_loader):\n",
        "            data=data.to(device)\n",
        "            v, v_gibbs = rbm(data.view(-1, n_vis))\n",
        "            train_loss = torch.mean(rbm.Fv(v)) - torch.mean(rbm.Fv(v_gibbs))\n",
        "            train_loss_epoch.append(train_loss.item())\n",
        "            train_op.zero_grad()\n",
        "            train_loss.backward()\n",
        "            train_op.step()\n",
        "        if epoch in epoch_to_save:\n",
        "#             decay_count+=1\n",
        "#             train_op = optim.SGD(rbm.parameters(), 0.5**decay_count, momentum=0.9)\n",
        "#             print(0.9**decay_count)\n",
        "            model_list.append(copy.deepcopy(rbm.cpu().state_dict()))\n",
        "            rbm.to(device)\n",
        "            train_loss_list.append(np.mean(train_loss_epoch))\n",
        "            Fv=torch.dot(rbm.Fv(v_list_ising2), Pv)\n",
        "            F=-torch.log(torch.sum(torch.exp(-rbm.Energy_GPU2(v_list_rbm, h_list_rbm))))\n",
        "            IG_loss_list.append(float((Fv-F-S).detach().cpu().numpy()))\n",
        "            print(epoch, train_loss_list[-1], IG_loss_list[-1])\n",
        "            if IG_loss_list[-1]==float('inf'):\n",
        "                epoch=int(epoch/2)\n",
        "                lr=lr*0.1    \n",
        "                train_op = optim.SGD(rbm.parameters(), lr, momentum=0.9)\n",
        "                rbm=RBM(n_vis, n_hid, k)\n",
        "                rbm.load_state_dict(model_list[-2])\n",
        "                rbm.train()\n",
        "                rbm.to(device)\n",
        "                IG_loss_list.pop()\n",
        "                train_loss_list.pop()\n",
        "                model_list.pop()\n",
        "\n",
        "        # if min_loss>train_loss_list[-1]:\n",
        "        #     min_loss=train_loss_list[-1]\n",
        "        #     model_to_save=rbm\n",
        "        # if epoch>100 and train_loss_list[-1]>=train_loss_list[-30] and train_loss_list[-1]>=train_loss_list[-100]:\n",
        "        #     model_to_save=rbm\n",
        "        #     break\n",
        "\n",
        "    return model_list, train_loss_list, IG_loss_list"
      ],
      "execution_count": 10,
      "outputs": []
    },
    {
      "cell_type": "code",
      "metadata": {
        "id": "MXq6vMn5aSZ-"
      },
      "source": [
        "# Hyper parameter들을 설정\n",
        "n_vis=9\n",
        "k=5\n",
        "lr=0.1\n",
        "vol=256\n",
        "std=0.5\n",
        "batch_size=int(vol/2)\n",
        "epoch_to_save=[2**i for i in range(18)]\n",
        "n_epochs=epoch_to_save[-1]+1"
      ],
      "execution_count": 11,
      "outputs": []
    },
    {
      "cell_type": "code",
      "metadata": {
        "id": "loPGxzez8Ong",
        "colab": {
          "base_uri": "https://localhost:8080/"
        },
        "outputId": "a3a0c0c9-238a-4f65-c4c5-5cfd788f0c3c"
      },
      "source": [
        "\n",
        "torch.set_printoptions(precision=10)\n",
        "for n_hid in [1,2,3,4]:\n",
        "    v_list_rbm=[]; h_list_rbm=[]\n",
        "    for s in tqdm(range(2**(n_vis+n_hid))):\n",
        "        full=decimal_to_binary(s, n_hid+n_vis)[0]\n",
        "        v=full[:n_vis]; h=full[-n_hid:]\n",
        "        v_list_rbm.append(v); h_list_rbm.append(h)\n",
        "    v_list_rbm=torch.stack(v_list_rbm).to(device)\n",
        "    h_list_rbm=torch.stack(h_list_rbm).to(device)\n",
        "\n",
        "    v_list_ising=[]\n",
        "    v_list_ising2=[]\n",
        "    for s in range(2**n_vis):\n",
        "        v=decimal_to_binary(s, n_vis)[0]\n",
        "        v_list_ising.append(np.reshape(v,(3,3))*2-1)\n",
        "        v_list_ising2.append(v)\n",
        "    v_list_ising2=torch.stack(v_list_ising2).to(device)        \n",
        "    for T in [1.47]:\n",
        "        dict_model={}\n",
        "        dict_train_loss={}\n",
        "        dict_IG_loss={}\n",
        "        fullconfigs=pd.read_pickle('{base}/loss_IG/3*3/3*3_full_T={T}.pkl'.format(base=base, T=T))\n",
        "        loader_list=[]\n",
        "        for i in range(10):\n",
        "            loader_list.append(data_to_loader(fullconfigs[i][:vol]))\n",
        "\n",
        "        bf_list=np.exp(-Ising_energy(v_list_ising)/T)\n",
        "        S=entropy(bf_list)\n",
        "        Pv=torch.tensor(bf_list/sum(bf_list)).to(device)\n",
        "        # try:\n",
        "        #     old_model=pd.read_pickle('{base}/loss_IG/3*3/state_dict/model_n_hid={n_hid}_T={T}.pkl'.format(base=base, n_hid=n_hid, T=T))\n",
        "        # except:\n",
        "        #     old_model=0\n",
        "        # dict_model={}\n",
        "        # dict_train_loss={}\n",
        "        # dict_IG_loss={}\n",
        "        # for m in range(10):\n",
        "        for m in range(10):\n",
        "            model0, train_loss_list, IG_loss_list=train_and_get_data(n_hid, 0, lr=lr, train_loader=loader_list[m])\n",
        "            dict_model[str(m)]=model0\n",
        "            dict_train_loss[str(m)]=np.array(train_loss_list)\n",
        "            dict_IG_loss[str(m)]=np.array(IG_loss_list)\n",
        "        with open('{base}/loss_IG/3*3/state_dict/model_n_hid={n_hid}_T={T}_lr={lr}_vol={vol}_std={std}.pkl'.format(base=base, n_hid=n_hid, T=T, lr=lr, vol=vol, std=std), 'wb') as f:\n",
        "            pkl.dump(dict_model, f)\n",
        "        with open('{base}/loss_IG/3*3/loss/train_loss_n_hid={n_hid}_T={T}_lr={lr}_vol={vol}_std={std}.pkl'.format(base=base, n_hid=n_hid, T=T, lr=lr, vol=vol, std=std), 'wb') as f:\n",
        "            pkl.dump(dict_train_loss, f)\n",
        "        with open('{base}/loss_IG/3*3/loss/IG_loss_n_hid={n_hid}_T={T}_lr={lr}_vol={vol}_std={std}.pkl'.format(base=base, n_hid=n_hid, T=T, lr=lr, vol=vol, std=std), 'wb') as f:\n",
        "            pkl.dump(dict_IG_loss, f)"
      ],
      "execution_count": null,
      "outputs": [
        {
          "output_type": "stream",
          "name": "stderr",
          "text": [
            "100%|██████████| 1024/1024 [00:00<00:00, 32007.09it/s]\n"
          ]
        },
        {
          "output_type": "stream",
          "name": "stdout",
          "text": [
            "1 0.08290225267410278 5.268431663513184\n",
            "2 0.04936486482620239 5.251439094543457\n",
            "4 -0.058299481868743896 5.245017051696777\n",
            "8 0.1005256175994873 5.314057350158691\n",
            "16 -0.5602455139160156 4.542604446411133\n",
            "32 -2.086845278739929 2.567396402359009\n",
            "64 -1.9161377549171448 2.6573355197906494\n",
            "128 -1.0081653594970703 4.92109489440918\n",
            "256 -0.32555437088012695 7.747138977050781\n",
            "512 -0.18888521194458008 8.994880676269531\n",
            "1024 -0.03623533248901367 9.177054405212402\n",
            "2048 -0.10255861282348633 9.465153694152832\n",
            "4096 0.03706550598144531 9.458208084106445\n",
            "8192 -0.012134075164794922 9.106773376464844\n",
            "16384 -0.09854745864868164 8.701620101928711\n",
            "32768 0.11716508865356445 8.353245735168457\n",
            "65536 0.05745124816894531 8.191793441772461\n",
            "131072 -0.022220134735107422 7.757046699523926\n",
            "1 -0.0222911536693573 5.178923606872559\n",
            "2 -0.07853151112794876 5.142624855041504\n",
            "4 -0.15675809234380722 5.070293426513672\n",
            "8 -0.35863447189331055 4.887977600097656\n",
            "16 -1.244534969329834 3.768752336502075\n",
            "32 -2.213956356048584 1.9265120029449463\n",
            "64 -1.2732467651367188 2.967829942703247\n",
            "128 -0.7012519836425781 5.318148612976074\n",
            "256 -0.42232799530029297 7.213622093200684\n",
            "512 -0.19304656982421875 8.617884635925293\n",
            "1024 -0.13813400268554688 9.585862159729004\n",
            "2048 0.02884197235107422 11.1815824508667\n",
            "4096 -0.06793975830078125 12.28269100189209\n",
            "8192 0.025045394897460938 13.198851585388184\n",
            "16384 0.0378265380859375 13.795042991638184\n",
            "32768 0.1307220458984375 13.95728588104248\n"
          ]
        }
      ]
    },
    {
      "cell_type": "markdown",
      "metadata": {
        "id": "WtyTVPnWv2jC"
      },
      "source": [
        "# Move dicts from GPU to CPU"
      ]
    },
    {
      "cell_type": "code",
      "metadata": {
        "id": "5yRpKe-kGqZu"
      },
      "source": [
        "lr=0.9\n",
        "for T in [1.47,1.78,2.3,5.2,16]:\n",
        "    for n_hid in [1,2,4,8,16]:\n",
        "        models=pd.read_pickle('{base}/loss_IG/3*3/state_dict/model_n_hid={n_hid}_T={T}_lr={lr}.pkl'.format(base=base, n_hid=n_hid, T=T, lr=lr))\n",
        "        new_models=[]\n",
        "        for i in range(len(models)):\n",
        "            rbm=RBM(n_vis, n_hid, k)\n",
        "            rbm.load_state_dict(models[i])\n",
        "            new_models.append(rbm.cpu().state_dict())\n",
        "        with open('{base}/loss_IG/3*3/state_dict/model_n_hid={n_hid}_T={T}_lr={lr}_1.pkl'.format(base=base, n_hid=n_hid, T=T, lr=lr), 'wb') as f:\n",
        "            pkl.dump(new_models, f)    "
      ],
      "execution_count": null,
      "outputs": []
    },
    {
      "cell_type": "markdown",
      "metadata": {
        "id": "Pz7GMMaZfDEz"
      },
      "source": [
        "# $D_{\\text{KL}}(P_{\\text{trainset}}\\|P_{\\text{realIsing}})$"
      ]
    },
    {
      "cell_type": "code",
      "metadata": {
        "id": "G9PB1BXhXxFD",
        "colab": {
          "base_uri": "https://localhost:8080/"
        },
        "outputId": "617a2c35-2a52-4ef0-fe62-b51117b8f66e"
      },
      "source": [
        "def Entropy(fullconfigs):\n",
        "    config_count={} # 각 hidden layer state 갯수 파악 (k)\n",
        "    for i in range(len(fullconfigs)):\n",
        "        config_count[str(fullconfigs[i])]=0\n",
        "    for i in range(len(fullconfigs)):\n",
        "        config_count[str(fullconfigs[i])]+=1\n",
        "\n",
        "    listk=[]\n",
        "    for i in range(len(list(config_count.values()))):\n",
        "        listk.append(int(list(config_count.values())[i]))\n",
        "    listmk=[]\n",
        "    kcount={} # 갯수의 갯수 파악 (m_k)\n",
        "    for i in range(len(listk)):\n",
        "        kcount[listk[i]]=0\n",
        "    for i in range(len(listk)):\n",
        "        kcount[listk[i]]+=1\n",
        "    for i in range(len(kcount)):\n",
        "        listmk.append(kcount[sorted(list(kcount))[i]])\n",
        "    x,y= sorted(list(kcount)), listmk\n",
        "\n",
        "    N=len(fullconfigs)\n",
        "    H_s=0\n",
        "    for i in range(len(x)):\n",
        "        H_s-=(x[i]*y[i]/N)*np.log(x[i]/N)\n",
        "    return H_s\n",
        "\n",
        "torch.set_printoptions(precision=10)\n",
        "v_list_ising=[]\n",
        "v_list_ising2=[]\n",
        "for s in range(2**n_vis):\n",
        "    v=decimal_to_binary(s, n_vis)[0]\n",
        "    v_list_ising.append(np.reshape(v,(3,3))*2-1)\n",
        "    v_list_ising2.append(v)\n",
        "v_list_ising2=torch.stack(v_list_ising2).to(device)        \n",
        "for T in [1.47, 1.78, 2.3, 5.2, 16]:\n",
        "    fullconfigs=pd.read_pickle('{base}/loss_IG/3*3/3*3_full_T={T}.pkl'.format(base=base, T=T))\n",
        "    S=Entropy(fullconfigs[0])\n",
        "    bf_list_exact=np.exp(-Ising_energy(v_list_ising)/T)\n",
        "    F_exact=-np.log(sum(bf_list_exact))\n",
        "    bf_list_train=np.exp(-Ising_energy(np.reshape(fullconfigs[0],(len(fullconfigs[0]),3,3))*2-1))\n",
        "    F_train=np.dot(bf_list_train, -Ising_energy(np.reshape(fullconfigs[0],(len(fullconfigs[0]),3,3))*2-1))/sum(bf_list_train)\n",
        "    print(T, F_train-F_exact-S)\n",
        "    # S=entropy(bf_list)\n",
        "    # Pv=torch.tensor(bf_list/sum(bf_list)).to(device)    "
      ],
      "execution_count": null,
      "outputs": [
        {
          "output_type": "stream",
          "text": [
            "1.47 29.978602375811814\n",
            "1.78 27.4414906741254\n",
            "2.3 24.244981963649273\n",
            "5.2 18.891115054608626\n",
            "16 18.064142139269855\n"
          ],
          "name": "stdout"
        }
      ]
    },
    {
      "cell_type": "code",
      "metadata": {
        "id": "2NtIrCeztm9p"
      },
      "source": [
        ""
      ],
      "execution_count": null,
      "outputs": []
    }
  ]
}