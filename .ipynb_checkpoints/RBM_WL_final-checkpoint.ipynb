{
 "cells": [
  {
   "cell_type": "code",
   "execution_count": 1,
   "metadata": {
    "id": "negative-berkeley"
   },
   "outputs": [],
   "source": [
    "import time\n",
    "from tqdm import tqdm\n",
    "import warnings\n",
    "warnings.filterwarnings(\"ignore\")\n",
    "import numpy as np\n",
    "import pandas as pd\n",
    "import math\n",
    "import time\n",
    "import multiprocessing\n",
    "from multiprocessing import Pool"
   ]
  },
  {
   "cell_type": "code",
   "execution_count": 5,
   "metadata": {},
   "outputs": [],
   "source": [
    "# cpu_count=multiprocessing.cpu_count()\n",
    "cpu_count = 10"
   ]
  },
  {
   "cell_type": "code",
   "execution_count": 2,
   "metadata": {
    "id": "portuguese-george"
   },
   "outputs": [],
   "source": [
    "def stround(x):\n",
    "    c = np.floor(x)\n",
    "    return c + ((x - c) > np.random.rand())\n",
    "\n",
    "def activate(x):\n",
    "    sigma = 1/ (1 + np.exp(-x))\n",
    "    return sigma\n",
    "\n",
    "def energy(a, b, W, visible_vector):\n",
    "    '''\n",
    "    Enerexponentf Restricted Bolztmann machine for given parameters.\n",
    "    CAUTION: a, b must be column vector. \n",
    "    '''\n",
    "    #W.shape = (n_hid, 784)\n",
    "    l = len(b) #n_hid\n",
    "    v = visible_vector.reshape(784,1) #v.shape = (784,1)\n",
    "    a, b = a.reshape(784,1), b.reshape(l,1) #both are column vector\n",
    "    h = stround(activate(np.matmul(v.T,W.T).T + b)) #column vector\n",
    "    e = -np.dot(a.T,v) - np.dot(b.T,h) - np.matmul(np.matmul(v.T, W.T), h) #a scalar\n",
    "    \n",
    "    return e\n",
    "\n",
    "def initial(lattice_size):\n",
    "    '''\n",
    "    Making random configuration which consists of 0/1.\n",
    "    '''\n",
    "    config = np.random.randint(2, size = (lattice_size, lattice_size))\n",
    "    return config\n",
    "\n",
    "def function0(index_E1, e):\n",
    "    for i in range(len(index_E1)-1):\n",
    "        c_1, c_2 = index_E1[i][1], index_E1[i+1][1]\n",
    "        if e >= c_1 and e <= (c_1 + c_2)/2:\n",
    "            ini_index = index_E1[i][0]\n",
    "            break\n",
    "        elif e >= (c_1 + c_2)/2 and e <= c_2: \n",
    "            ini_index = index_E1[i+1][0]\n",
    "            break\n",
    "            \n",
    "def multi_processing(index_E, e):\n",
    "    chunks = [index_E[i::cpu_count] for i in range(cpu_count)]\n",
    "    pool = Pool(processes=cpu_count)\n",
    "    result = pool.map_async(function0, chunks)\n",
    "    while not result.ready():\n",
    "        time.sleep(0.5)"
   ]
  },
  {
   "cell_type": "code",
   "execution_count": 7,
   "metadata": {
    "id": "double-citizenship"
   },
   "outputs": [],
   "source": [
    "def wang_landau(a,b,W): #lattice_size = 28 for MNIST RBM\n",
    "    '''\n",
    "    Trained model의 parameters를 넣고, sample_size만큼의 spin flip을 \"시도\"합니다.\n",
    "    Energy space를 1간격으로 uniform하게 나눕니다.\n",
    "    '''\n",
    "    config = initial(28) #초기 이미지 만들기\n",
    "    \n",
    "    \n",
    "    ######## 이 부분은 경험적으로 얻은 값을 대입하시면 됩니다.####################\n",
    "    E_min=1600\n",
    "    E_max=3500\n",
    "    E = np.linspace(E_min, E_max, 400)\n",
    "    ##############################################################################\n",
    "\n",
    "    e = energy(a, b, W, config) #initial configuration의 energy입니다.\n",
    "    ln_gE = np.zeros(len(E))\n",
    "    Histogram = np.zeros(len(E))\n",
    "    log_modi_factor = 1\n",
    "    \n",
    "    index_E1, index_E2 = [], []\n",
    "    ini_index, cha_index = 0, 0\n",
    "    \n",
    "    count_flat, count_sweep = 0, 0\n",
    "\n",
    "    for i in enumerate(E): \n",
    "        index_E1.append(i)\n",
    "    for j in enumerate(E): \n",
    "        index_E2.append(j)\n",
    "    \n",
    "    while count_flat <= 27:\n",
    "        count_sweep += 1\n",
    "        for i in range(28):\n",
    "            for j in range(28):\n",
    "                s = config[i,j]\n",
    "\n",
    "                #spin flip\n",
    "                #count_flip += 1\n",
    "                if s == 0:\n",
    "                    s = 1\n",
    "                else:\n",
    "                    s = 0\n",
    "                config[i,j] = s\n",
    "                ee = energy(a, b, W, config) #spin을 하나 flip한 사진의 에너지를 구합니다.\n",
    "\n",
    "                for k in range(len(index_E1)-1):\n",
    "                    c_1, c_2 = index_E1[k][1], index_E1[k+1][1]\n",
    "                    if e >= c_1 and e <= (c_1 + c_2)/2:\n",
    "                        ini_index = index_E1[k][0]\n",
    "                        break\n",
    "                    elif e >= (c_1 + c_2)/2 and e <= c_2: \n",
    "                        ini_index = index_E1[k+1][0]\n",
    "                        break\n",
    "\n",
    "                for k in range(len(index_E2)-1):\n",
    "                    c_1, c_2 = index_E2[k][1], index_E2[k+1][1]\n",
    "                    if ee >= c_1 and ee <= (c_1 + c_2)/2:\n",
    "                        cha_index = index_E2[k][0]\n",
    "                        break\n",
    "                    elif ee >= (c_1 + c_2)/2 and ee <= c_2: \n",
    "                        cha_index = index_E2[k+1][0]\n",
    "                        break\n",
    "        #         multi_processing(index_E1, e)\n",
    "        #         multi_processing(index_E2, ee)\n",
    "\n",
    "                p = np.exp(ln_gE[ini_index] - ln_gE[cha_index])\n",
    "                if p > np.random.rand():\n",
    "                    s = s #keeps flipped value\n",
    "                    Histogram[cha_index] += 1\n",
    "                    ln_gE[cha_index] += log_modi_factor\n",
    "                    e = ee\n",
    "                else:\n",
    "                    if s == 0:\n",
    "                        s = 1\n",
    "                    else:\n",
    "                        s = 0 \n",
    "                    config[i,j] = s #spin flip is rejected\n",
    "                    Histogram[ini_index] += 1\n",
    "                    ln_gE[ini_index] += log_modi_factor\n",
    "                    e = e\n",
    "\n",
    "        #Is the Histogram flat?\n",
    "        if count_sweep % 10000 == 0:\n",
    "            Havg = np.mean(Histogram)\n",
    "            Hmin = min(Histogram)\n",
    "            print(Histogram)\n",
    "            if Havg*0.80 <= Hmin:\n",
    "                Histogram = np.zeros_like(E)\n",
    "                log_modi_factor *= 0.5\n",
    "                count_flat += 1\n",
    "                print(f\"{count_flat}\")\n",
    "    return ln_gE"
   ]
  },
  {
   "cell_type": "markdown",
   "metadata": {
    "id": "3g_d_4kpsv-T"
   },
   "source": [
    "Partition function $Z = \\sum_{E} g(E) e^{-E}$. <br>\r\n",
    "Free energy is defined as $F = - \\text{log}{Z}$. <br>"
   ]
  },
  {
   "cell_type": "markdown",
   "metadata": {
    "id": "s-LlKYSuqt6d"
   },
   "source": [
    "## 필요한 parameter를 불러오시면 됩니다."
   ]
  },
  {
   "cell_type": "code",
   "execution_count": 4,
   "metadata": {
    "id": "north-provider"
   },
   "outputs": [],
   "source": [
    "#여기서 필요하신 값들을 대입하시면 됩니다.\n",
    "a = pd.read_pickle('n_hid=4_vol_12000_bias_v.pkl')\n",
    "b = pd.read_pickle('n_hid=4_vol_12000_bias_h.pkl')\n",
    "W = pd.read_pickle('n_hid=4_vol_12000_weight.pkl')"
   ]
  },
  {
   "cell_type": "code",
   "execution_count": 8,
   "metadata": {
    "id": "d28496Atrl9M",
    "scrolled": true
   },
   "outputs": [
    {
     "ename": "KeyboardInterrupt",
     "evalue": "",
     "output_type": "error",
     "traceback": [
      "\u001b[0;31m---------------------------------------------------------------------------\u001b[0m",
      "\u001b[0;31mKeyboardInterrupt\u001b[0m                         Traceback (most recent call last)",
      "\u001b[0;32m<ipython-input-8-45822db1547b>\u001b[0m in \u001b[0;36m<module>\u001b[0;34m\u001b[0m\n\u001b[1;32m      1\u001b[0m \u001b[0mstart\u001b[0m \u001b[0;34m=\u001b[0m \u001b[0mtime\u001b[0m\u001b[0;34m.\u001b[0m\u001b[0mtime\u001b[0m\u001b[0;34m(\u001b[0m\u001b[0;34m)\u001b[0m\u001b[0;34m\u001b[0m\u001b[0;34m\u001b[0m\u001b[0m\n\u001b[0;32m----> 2\u001b[0;31m \u001b[0mlngE\u001b[0m \u001b[0;34m=\u001b[0m \u001b[0mwang_landau\u001b[0m\u001b[0;34m(\u001b[0m\u001b[0ma\u001b[0m\u001b[0;34m,\u001b[0m\u001b[0mb\u001b[0m\u001b[0;34m,\u001b[0m\u001b[0mW\u001b[0m\u001b[0;34m)\u001b[0m\u001b[0;34m\u001b[0m\u001b[0;34m\u001b[0m\u001b[0m\n\u001b[0m\u001b[1;32m      3\u001b[0m \u001b[0mend\u001b[0m \u001b[0;34m=\u001b[0m \u001b[0mtime\u001b[0m\u001b[0;34m.\u001b[0m\u001b[0mtime\u001b[0m\u001b[0;34m(\u001b[0m\u001b[0;34m)\u001b[0m \u001b[0;34m-\u001b[0m \u001b[0mstart\u001b[0m\u001b[0;34m\u001b[0m\u001b[0;34m\u001b[0m\u001b[0m\n\u001b[1;32m      4\u001b[0m \u001b[0mprint\u001b[0m\u001b[0;34m(\u001b[0m\u001b[0;34mf\"Takes {end/60} min\"\u001b[0m\u001b[0;34m)\u001b[0m\u001b[0;34m\u001b[0m\u001b[0;34m\u001b[0m\u001b[0m\n",
      "\u001b[0;32m<ipython-input-7-eaff0145a3bf>\u001b[0m in \u001b[0;36mwang_landau\u001b[0;34m(a, b, W)\u001b[0m\n\u001b[1;32m     57\u001b[0m                         \u001b[0mcha_index\u001b[0m \u001b[0;34m=\u001b[0m \u001b[0mindex_E2\u001b[0m\u001b[0;34m[\u001b[0m\u001b[0mk\u001b[0m\u001b[0;34m]\u001b[0m\u001b[0;34m[\u001b[0m\u001b[0;36m0\u001b[0m\u001b[0;34m]\u001b[0m\u001b[0;34m\u001b[0m\u001b[0;34m\u001b[0m\u001b[0m\n\u001b[1;32m     58\u001b[0m                         \u001b[0;32mbreak\u001b[0m\u001b[0;34m\u001b[0m\u001b[0;34m\u001b[0m\u001b[0m\n\u001b[0;32m---> 59\u001b[0;31m                     \u001b[0;32melif\u001b[0m \u001b[0mee\u001b[0m \u001b[0;34m>=\u001b[0m \u001b[0;34m(\u001b[0m\u001b[0mc_1\u001b[0m \u001b[0;34m+\u001b[0m \u001b[0mc_2\u001b[0m\u001b[0;34m)\u001b[0m\u001b[0;34m/\u001b[0m\u001b[0;36m2\u001b[0m \u001b[0;32mand\u001b[0m \u001b[0mee\u001b[0m \u001b[0;34m<=\u001b[0m \u001b[0mc_2\u001b[0m\u001b[0;34m:\u001b[0m\u001b[0;34m\u001b[0m\u001b[0;34m\u001b[0m\u001b[0m\n\u001b[0m\u001b[1;32m     60\u001b[0m                         \u001b[0mcha_index\u001b[0m \u001b[0;34m=\u001b[0m \u001b[0mindex_E2\u001b[0m\u001b[0;34m[\u001b[0m\u001b[0mk\u001b[0m\u001b[0;34m+\u001b[0m\u001b[0;36m1\u001b[0m\u001b[0;34m]\u001b[0m\u001b[0;34m[\u001b[0m\u001b[0;36m0\u001b[0m\u001b[0;34m]\u001b[0m\u001b[0;34m\u001b[0m\u001b[0;34m\u001b[0m\u001b[0m\n\u001b[1;32m     61\u001b[0m                         \u001b[0;32mbreak\u001b[0m\u001b[0;34m\u001b[0m\u001b[0;34m\u001b[0m\u001b[0m\n",
      "\u001b[0;31mKeyboardInterrupt\u001b[0m: "
     ]
    }
   ],
   "source": [
    "start = time.time()\r\n",
    "lngE = wang_landau(a,b,W)\r\n",
    "end = time.time() - start\r\n",
    "print(f\"Takes {end/60} min\")"
   ]
  },
  {
   "cell_type": "code",
   "execution_count": 14,
   "metadata": {},
   "outputs": [],
   "source": [
    "import pickle as pkl\n",
    "with open('lngE_8.pkl', 'wb') as f:\n",
    "    pkl.dump(lngE, f)"
   ]
  },
  {
   "cell_type": "code",
   "execution_count": null,
   "metadata": {},
   "outputs": [],
   "source": []
  }
 ],
 "metadata": {
  "colab": {
   "collapsed_sections": [],
   "name": "RBM_WL_final.ipynb",
   "provenance": []
  },
  "kernelspec": {
   "display_name": "Python 3",
   "language": "python",
   "name": "python3"
  },
  "language_info": {
   "codemirror_mode": {
    "name": "ipython",
    "version": 3
   },
   "file_extension": ".py",
   "mimetype": "text/x-python",
   "name": "python",
   "nbconvert_exporter": "python",
   "pygments_lexer": "ipython3",
   "version": "3.7.4"
  }
 },
 "nbformat": 4,
 "nbformat_minor": 5
}
