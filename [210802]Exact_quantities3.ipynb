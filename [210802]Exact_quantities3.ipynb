{
  "nbformat": 4,
  "nbformat_minor": 0,
  "metadata": {
    "colab": {
      "name": "Copy of [210516]sampling_with_PT.ipynb",
      "provenance": [],
      "collapsed_sections": [],
      "machine_shape": "hm",
      "include_colab_link": true
    },
    "kernelspec": {
      "display_name": "Python 3",
      "language": "python",
      "name": "python3"
    },
    "language_info": {
      "codemirror_mode": {
        "name": "ipython",
        "version": 3
      },
      "file_extension": ".py",
      "mimetype": "text/x-python",
      "name": "python",
      "nbconvert_exporter": "python",
      "pygments_lexer": "ipython3",
      "version": "3.7.4"
    },
    "widgets": {
      "application/vnd.jupyter.widget-state+json": {
        "c78153e3514d461a896d01d631cdacce": {
          "model_module": "@jupyter-widgets/controls",
          "model_name": "HBoxModel",
          "state": {
            "_view_name": "HBoxView",
            "_dom_classes": [],
            "_model_name": "HBoxModel",
            "_view_module": "@jupyter-widgets/controls",
            "_model_module_version": "1.5.0",
            "_view_count": null,
            "_view_module_version": "1.5.0",
            "box_style": "",
            "layout": "IPY_MODEL_3001afaeea6f432fb928cfb63069e8c1",
            "_model_module": "@jupyter-widgets/controls",
            "children": [
              "IPY_MODEL_be388c598290491bbeec9a4656f6c99b",
              "IPY_MODEL_837566fb81b4419bb5fd1f358a81654b"
            ]
          }
        },
        "3001afaeea6f432fb928cfb63069e8c1": {
          "model_module": "@jupyter-widgets/base",
          "model_name": "LayoutModel",
          "state": {
            "_view_name": "LayoutView",
            "grid_template_rows": null,
            "right": null,
            "justify_content": null,
            "_view_module": "@jupyter-widgets/base",
            "overflow": null,
            "_model_module_version": "1.2.0",
            "_view_count": null,
            "flex_flow": null,
            "width": null,
            "min_width": null,
            "border": null,
            "align_items": null,
            "bottom": null,
            "_model_module": "@jupyter-widgets/base",
            "top": null,
            "grid_column": null,
            "overflow_y": null,
            "overflow_x": null,
            "grid_auto_flow": null,
            "grid_area": null,
            "grid_template_columns": null,
            "flex": null,
            "_model_name": "LayoutModel",
            "justify_items": null,
            "grid_row": null,
            "max_height": null,
            "align_content": null,
            "visibility": null,
            "align_self": null,
            "height": null,
            "min_height": null,
            "padding": null,
            "grid_auto_rows": null,
            "grid_gap": null,
            "max_width": null,
            "order": null,
            "_view_module_version": "1.2.0",
            "grid_template_areas": null,
            "object_position": null,
            "object_fit": null,
            "grid_auto_columns": null,
            "margin": null,
            "display": null,
            "left": null
          }
        },
        "be388c598290491bbeec9a4656f6c99b": {
          "model_module": "@jupyter-widgets/controls",
          "model_name": "FloatProgressModel",
          "state": {
            "_view_name": "ProgressView",
            "style": "IPY_MODEL_5665bf37c1924f8db2b59e78c1c7ebf5",
            "_dom_classes": [],
            "description": "100%",
            "_model_name": "FloatProgressModel",
            "bar_style": "success",
            "max": 1024,
            "_view_module": "@jupyter-widgets/controls",
            "_model_module_version": "1.5.0",
            "value": 1024,
            "_view_count": null,
            "_view_module_version": "1.5.0",
            "orientation": "horizontal",
            "min": 0,
            "description_tooltip": null,
            "_model_module": "@jupyter-widgets/controls",
            "layout": "IPY_MODEL_50cdf63e01394ce4b18efb24b3fa719e"
          }
        },
        "837566fb81b4419bb5fd1f358a81654b": {
          "model_module": "@jupyter-widgets/controls",
          "model_name": "HTMLModel",
          "state": {
            "_view_name": "HTMLView",
            "style": "IPY_MODEL_887e7f30122d49bfa3704480363b468e",
            "_dom_classes": [],
            "description": "",
            "_model_name": "HTMLModel",
            "placeholder": "​",
            "_view_module": "@jupyter-widgets/controls",
            "_model_module_version": "1.5.0",
            "value": " 1024/1024 [26:33&lt;00:00,  1.56s/it]",
            "_view_count": null,
            "_view_module_version": "1.5.0",
            "description_tooltip": null,
            "_model_module": "@jupyter-widgets/controls",
            "layout": "IPY_MODEL_7a193e9df90347b087efcf6963cd3129"
          }
        },
        "5665bf37c1924f8db2b59e78c1c7ebf5": {
          "model_module": "@jupyter-widgets/controls",
          "model_name": "ProgressStyleModel",
          "state": {
            "_view_name": "StyleView",
            "_model_name": "ProgressStyleModel",
            "description_width": "initial",
            "_view_module": "@jupyter-widgets/base",
            "_model_module_version": "1.5.0",
            "_view_count": null,
            "_view_module_version": "1.2.0",
            "bar_color": null,
            "_model_module": "@jupyter-widgets/controls"
          }
        },
        "50cdf63e01394ce4b18efb24b3fa719e": {
          "model_module": "@jupyter-widgets/base",
          "model_name": "LayoutModel",
          "state": {
            "_view_name": "LayoutView",
            "grid_template_rows": null,
            "right": null,
            "justify_content": null,
            "_view_module": "@jupyter-widgets/base",
            "overflow": null,
            "_model_module_version": "1.2.0",
            "_view_count": null,
            "flex_flow": null,
            "width": null,
            "min_width": null,
            "border": null,
            "align_items": null,
            "bottom": null,
            "_model_module": "@jupyter-widgets/base",
            "top": null,
            "grid_column": null,
            "overflow_y": null,
            "overflow_x": null,
            "grid_auto_flow": null,
            "grid_area": null,
            "grid_template_columns": null,
            "flex": null,
            "_model_name": "LayoutModel",
            "justify_items": null,
            "grid_row": null,
            "max_height": null,
            "align_content": null,
            "visibility": null,
            "align_self": null,
            "height": null,
            "min_height": null,
            "padding": null,
            "grid_auto_rows": null,
            "grid_gap": null,
            "max_width": null,
            "order": null,
            "_view_module_version": "1.2.0",
            "grid_template_areas": null,
            "object_position": null,
            "object_fit": null,
            "grid_auto_columns": null,
            "margin": null,
            "display": null,
            "left": null
          }
        },
        "887e7f30122d49bfa3704480363b468e": {
          "model_module": "@jupyter-widgets/controls",
          "model_name": "DescriptionStyleModel",
          "state": {
            "_view_name": "StyleView",
            "_model_name": "DescriptionStyleModel",
            "description_width": "",
            "_view_module": "@jupyter-widgets/base",
            "_model_module_version": "1.5.0",
            "_view_count": null,
            "_view_module_version": "1.2.0",
            "_model_module": "@jupyter-widgets/controls"
          }
        },
        "7a193e9df90347b087efcf6963cd3129": {
          "model_module": "@jupyter-widgets/base",
          "model_name": "LayoutModel",
          "state": {
            "_view_name": "LayoutView",
            "grid_template_rows": null,
            "right": null,
            "justify_content": null,
            "_view_module": "@jupyter-widgets/base",
            "overflow": null,
            "_model_module_version": "1.2.0",
            "_view_count": null,
            "flex_flow": null,
            "width": null,
            "min_width": null,
            "border": null,
            "align_items": null,
            "bottom": null,
            "_model_module": "@jupyter-widgets/base",
            "top": null,
            "grid_column": null,
            "overflow_y": null,
            "overflow_x": null,
            "grid_auto_flow": null,
            "grid_area": null,
            "grid_template_columns": null,
            "flex": null,
            "_model_name": "LayoutModel",
            "justify_items": null,
            "grid_row": null,
            "max_height": null,
            "align_content": null,
            "visibility": null,
            "align_self": null,
            "height": null,
            "min_height": null,
            "padding": null,
            "grid_auto_rows": null,
            "grid_gap": null,
            "max_width": null,
            "order": null,
            "_view_module_version": "1.2.0",
            "grid_template_areas": null,
            "object_position": null,
            "object_fit": null,
            "grid_auto_columns": null,
            "margin": null,
            "display": null,
            "left": null
          }
        }
      }
    },
    "accelerator": "GPU"
  },
  "cells": [
    {
      "cell_type": "markdown",
      "metadata": {
        "id": "view-in-github",
        "colab_type": "text"
      },
      "source": [
        "<a href=\"https://colab.research.google.com/github/physicaone/loss_IG/blob/master/%5B210802%5DExact_quantities3.ipynb\" target=\"_parent\"><img src=\"https://colab.research.google.com/assets/colab-badge.svg\" alt=\"Open In Colab\"/></a>"
      ]
    },
    {
      "cell_type": "code",
      "metadata": {
        "colab": {
          "base_uri": "https://localhost:8080/"
        },
        "id": "Te6zZB8sZFDm",
        "outputId": "631cc9e2-9e92-4c62-c331-e1d763b79deb"
      },
      "source": [
        "try:\n",
        "    from google.colab import drive\n",
        "    drive.mount('/content/drive')\n",
        "    base='drive/MyDrive'\n",
        "except:\n",
        "    base='Google Drive'"
      ],
      "execution_count": 36,
      "outputs": [
        {
          "output_type": "stream",
          "text": [
            "Drive already mounted at /content/drive; to attempt to forcibly remount, call drive.mount(\"/content/drive\", force_remount=True).\n"
          ],
          "name": "stdout"
        }
      ]
    },
    {
      "cell_type": "code",
      "metadata": {
        "id": "JBWjLs2eV-0R"
      },
      "source": [
        "import numpy as np\n",
        "import torch\n",
        "import torchvision.datasets\n",
        "import torchvision.models\n",
        "import torchvision.transforms\n",
        "import torch.nn.functional as F\n",
        "from torchvision import datasets, transforms\n",
        "from torchvision.utils import make_grid\n",
        "import torch.utils.data\n",
        "import torch.nn as nn\n",
        "from itertools import combinations\n",
        "from itertools import permutations\n",
        "from datetime import datetime\n",
        "from tqdm import tqdm, tnrange\n",
        "import warnings\n",
        "warnings.filterwarnings(\"ignore\")\n",
        "import pickle as pkl\n",
        "import pandas as pd\n",
        "import matplotlib.pyplot as plt\n",
        "import matplotlib.gridspec as gridspec\n",
        "%matplotlib inline\n",
        "# np.seterr(divide='ignore', invalid='ignore')\n",
        "import itertools\n",
        "import re\n",
        "from time import sleep\n",
        "from scipy.stats import entropy\n"
      ],
      "execution_count": 37,
      "outputs": []
    },
    {
      "cell_type": "markdown",
      "metadata": {
        "id": "QZMPF-Cs4prw"
      },
      "source": [
        "#Define RBM class"
      ]
    },
    {
      "cell_type": "code",
      "metadata": {
        "id": "4UlSsScJdssV"
      },
      "source": [
        "# stdv = 1. / math.sqrt(self.weight.size(1))\n",
        "# self.weight.data.uniform_(-stdv, stdv)\n",
        "# if self.bias is not None:\n",
        "#     self.bias.data.uniform_(-stdv, stdv)\n",
        "# https://github.com/pytorch/pytorch/blob/master/torch/nn/modules/linear.py\n",
        "\n",
        "\n",
        "class RBM(nn.Module):\n",
        "\n",
        "    def __init__(self, n_vis, n_hid, k, use_cuda):\n",
        "        \"\"\"Create a RBM.\"\"\"\n",
        "        super(RBM, self).__init__()\n",
        "        \n",
        "        if use_cuda==True:\n",
        "            self.v = nn.Parameter(torch.ones(1, n_vis).cuda())\n",
        "            self.h = nn.Parameter(torch.zeros(1, n_hid).cuda())\n",
        "            self.W = nn.Parameter(torch.randn(n_hid, n_vis).cuda())\n",
        "            self.k = k\n",
        "        else:\n",
        "            self.v = nn.Parameter(torch.ones(1, n_vis))\n",
        "            self.h = nn.Parameter(torch.zeros(1, n_hid))\n",
        "            self.W = nn.Parameter(torch.randn(n_hid, n_vis))\n",
        "            self.k = k     \n",
        "\n",
        "    def visible_to_hidden(self, v, beta):\n",
        "        return torch.sigmoid(F.linear(v, self.W, self.h)*beta)\n",
        "\n",
        "    def hidden_to_visible(self, h, beta):\n",
        "        return torch.sigmoid(F.linear(h, self.W.t(), self.v)*beta)\n",
        "\n",
        "    def free_energy(self, v):\n",
        "        v_term = torch.matmul(v, self.v.t())\n",
        "        w_x_h = F.linear(v, self.W, self.h)\n",
        "        h_term = torch.sum(F.softplus(w_x_h), dim=1)\n",
        "        return torch.mean(-h_term - v_term)\n",
        "    \n",
        "    def energy2(self, v, h):\n",
        "        return -torch.matmul(v, self.v.t())-torch.matmul(torch.matmul(v, self.W.t()),h.t())-torch.matmul(h, self.h.t())\n",
        "\n",
        "    def forward(self, v):\n",
        "        h = self.visible_to_hidden(v)\n",
        "        h = h.bernoulli()\n",
        "        for _ in range(self.k):\n",
        "            v_gibb = self.hidden_to_visible(h)\n",
        "            v_gibb = v_gibb.bernoulli()\n",
        "            h = self.visible_to_hidden(v_gibb)\n",
        "            h = h.bernoulli()\n",
        "        return v, v_gibb"
      ],
      "execution_count": 38,
      "outputs": []
    },
    {
      "cell_type": "markdown",
      "metadata": {
        "id": "0JcNwwuj4lFg"
      },
      "source": [
        "# Check CUDA availability"
      ]
    },
    {
      "cell_type": "code",
      "metadata": {
        "colab": {
          "base_uri": "https://localhost:8080/"
        },
        "id": "zdT15FDJV-0X",
        "outputId": "201436fd-9379-4da7-c841-ca265d3353ae"
      },
      "source": [
        "CUDA = torch.cuda.is_available()\n",
        "CUDA_DEVICE = 0\n",
        "\n",
        "if CUDA:\n",
        "    device='cuda'\n",
        "else:\n",
        "    device='cpu'\n",
        "torch.cuda.is_available(); CUDA"
      ],
      "execution_count": 31,
      "outputs": [
        {
          "output_type": "execute_result",
          "data": {
            "text/plain": [
              "True"
            ]
          },
          "metadata": {
            "tags": []
          },
          "execution_count": 31
        }
      ]
    },
    {
      "cell_type": "markdown",
      "metadata": {
        "id": "HDzjIM3bidLM"
      },
      "source": [
        "# Define fundamental functions"
      ]
    },
    {
      "cell_type": "code",
      "metadata": {
        "id": "N0jqccefV-0X"
      },
      "source": [
        "# 아래 두 함수는 PT와는 아무 상관 없습니다. 10진법을 2진법으로 바꾸고 리스트 형태로 변형하는 함수입니다. 예)15->[1,1,1,1]\n",
        "# 그리고 그 다음은 역함수입니다.\n",
        "def decimal_to_binary(integer, n_hid):\n",
        "    string=bin(int(integer))[2:]\n",
        "    list0=[float(d) for d in string]\n",
        "    while len(list0)<n_hid:\n",
        "        list0=[0.]+list0\n",
        "    return torch.tensor([list0])\n",
        "\n",
        "def binary_to_decimal(list0):\n",
        "    value=0\n",
        "    list0=list0.tolist()\n",
        "    for i in range(len(list0)):\n",
        "        value+=list0[-i-1]*2**(i)\n",
        "    return int(value)\n",
        "\n",
        "def get_hist(list00, color='red'):\n",
        "    bins=range(int(min(list00)-30), int(max(list00)+30), 1)\n",
        "    y1,x1,_ = plt.hist(list00, bins = bins, histtype='step', color=color)\n",
        "    x1 = 0.5*(x1[1:]+x1[:-1])\n",
        "    return x1, y1\n",
        "\n",
        "def flatten_list(list0):\n",
        "    flattened = [val for sublist in list0 for val in sublist]\n",
        "    return flattened\n",
        "\n",
        "def Energy(model0_dict, v_list, h_list):\n",
        "    a=model0_dict['v'].detach()\n",
        "    b=model0_dict['h'].detach()\n",
        "    W=model0_dict['W'].detach()\n",
        "    values=[]\n",
        "    for i in range(len(v_list)):\n",
        "        e=-np.matmul(v_list[i], a.t())-np.matmul(np.matmul(v_list[i], W.t()), h_list[i].t())-np.matmul(h_list[i], b.t())\n",
        "        values.append(e.detach())\n",
        "    return float(np.mean(values))\n",
        "    \n",
        "def Energy_GPU(model0_dict, v_list0, h_list0):\n",
        "    n_split=4\n",
        "    a=model0_dict['v'].detach().cuda().view(n_vis)\n",
        "    b=model0_dict['h'].detach().cuda().view(n_hid)\n",
        "    W=model0_dict['W'].detach().cuda().view(n_hid, n_vis)\n",
        "    values=[]\n",
        "    len(h_list0)\n",
        "    for i in range(n_split):\n",
        "        v_list=torch.stack(list(v_list0[i*int(len(v_list0)/n_split):(i+1)*int(len(v_list0)/n_split)]))\n",
        "        h_list=torch.stack(list(h_list0[i*int(len(h_list0)/n_split):(i+1)*int(len(h_list0)/n_split)]))\n",
        "        v_list=v_list.detach().cuda().view(len(v_list), n_vis)\n",
        "        h_list=h_list.detach().cuda().view(len(h_list), n_hid)\n",
        "        e=-torch.matmul(v_list.float(), a)-torch.diagonal(torch.matmul(torch.matmul(v_list.float(), W.t()), h_list.float().t()))-torch.matmul(h_list.float(), b)\n",
        "        values.append(np.mean(e.cpu().detach().numpy()))\n",
        "    return np.mean(values)\n",
        "\n",
        "# Energy_GPU returns an array of values\n",
        "def Energy_GPU2(model0_dict, v_list0, h_list0):\n",
        "    n_split=torch.cuda.device_count()\n",
        "\n",
        "    values=[]\n",
        "    vs=[]\n",
        "    hs=[]\n",
        "    for i in range(n_split):\n",
        "        v_list=torch.stack(list(v_list0[i*int(len(v_list0)/n_split):(i+1)*int(len(v_list0)/n_split)]))\n",
        "        h_list=torch.stack(list(h_list0[i*int(len(h_list0)/n_split):(i+1)*int(len(h_list0)/n_split)]))\n",
        "        v_list=v_list.detach().to(device='cuda:' + str(i)).view(len(v_list), n_vis)\n",
        "        h_list=h_list.detach().to(device='cuda:' + str(i)).view(len(h_list), n_hid)\n",
        "        vs.append(v_list)\n",
        "        hs.append(h_list)\n",
        "    for i in range(n_split):  \n",
        "        a=model0_dict['v'].detach().to(device='cuda:' + str(i)).view(n_vis)\n",
        "        b=model0_dict['h'].detach().to(device='cuda:' + str(i)).view(n_hid)\n",
        "        W=model0_dict['W'].detach().to(device='cuda:' + str(i)).view(n_hid, n_vis)\n",
        "        e=-torch.matmul(vs[i].float(), a)-torch.diagonal(torch.matmul(torch.matmul(vs[i].float(), W.t()), hs[i].float().t()))-torch.matmul(hs[i].float(), b)\n",
        "        values.append(e.cpu().detach().numpy())\n",
        "\n",
        "    return np.array(flatten_list(values))\n",
        "\n",
        "\n",
        "def sigmoid(x):\n",
        "    return 1 / (1 + np.exp(-x))\n"
      ],
      "execution_count": 32,
      "outputs": []
    },
    {
      "cell_type": "code",
      "metadata": {
        "id": "xmv-j18uV-0Z"
      },
      "source": [
        ""
      ],
      "execution_count": 20,
      "outputs": []
    },
    {
      "cell_type": "markdown",
      "metadata": {
        "id": "mTf6ADh6-6F6"
      },
      "source": [
        "# Exact FE for larger n_hid"
      ]
    },
    {
      "cell_type": "code",
      "metadata": {
        "id": "cPQ2a6GB_tIr",
        "outputId": "240b7ea8-ae71-4934-9b95-da4feebf0a2c",
        "colab": {
          "base_uri": "https://localhost:8080/",
          "height": 66,
          "referenced_widgets": [
            "c78153e3514d461a896d01d631cdacce",
            "3001afaeea6f432fb928cfb63069e8c1",
            "be388c598290491bbeec9a4656f6c99b",
            "837566fb81b4419bb5fd1f358a81654b",
            "5665bf37c1924f8db2b59e78c1c7ebf5",
            "50cdf63e01394ce4b18efb24b3fa719e",
            "887e7f30122d49bfa3704480363b468e",
            "7a193e9df90347b087efcf6963cd3129"
          ]
        }
      },
      "source": [
        "# Energy differnece term using rearranged exact Q\n",
        "n_split=2**10\n",
        "n_vis=9\n",
        "for n_hid in [12]:\n",
        "    for T in [1.78]:\n",
        "        model_dicts_mn=pd.read_pickle('{base}/loss_IG/3*3/state_dict/n_hid={n_hid}_T={T}_mn.pkl'.format(base=base, n_hid=n_hid, T=T)) \n",
        "        model_dicts_CM=pd.read_pickle('{base}/loss_IG/3*3/state_dict/n_hid={n_hid}_T={T}_CM.pkl'.format(base=base, n_hid=n_hid, T=T))\n",
        "        model_dicts_mn_rearranged=pd.read_pickle('{base}/loss_IG/3*3/state_dict/n_hid={n_hid}_T={T}_mn_rearranged.pkl'.format(base=base, n_hid=n_hid, T=T)) \n",
        "        model_dicts_CM_rearranged=pd.read_pickle('{base}/loss_IG/3*3/state_dict/n_hid={n_hid}_T={T}_CM_rearranged.pkl'.format(base=base, n_hid=n_hid, T=T))\n",
        "\n",
        "        dE_CM2mn={}\n",
        "        dE_mn2CM={}\n",
        "        dE_CM2mn_rearranged={}\n",
        "        dE_mn2CM_rearranged={}\n",
        "        for m in range(10):\n",
        "            dE_CM2mn[str(m)]={}\n",
        "            dE_mn2CM[str(m)]={}\n",
        "            dE_CM2mn_rearranged[str(m)]={}\n",
        "            dE_mn2CM_rearranged[str(m)]={}            \n",
        "            for n in range(10):\n",
        "                dE_CM2mn[str(m)][str(n)]=0\n",
        "                dE_mn2CM[str(m)][str(n)]=0\n",
        "                dE_CM2mn_rearranged[str(m)][str(n)]=0\n",
        "                dE_mn2CM_rearranged[str(m)][str(n)]=0        \n",
        "        \n",
        "        Z_mn={}\n",
        "        Z_CM=0\n",
        "        Z_mn_rearranged={}\n",
        "        Z_CM_rearranged=0\n",
        "        for m in range(10):\n",
        "            Z_mn[str(m)]={}\n",
        "            Z_mn_rearranged[str(m)]={}\n",
        "            for n in range(10):\n",
        "                Z_mn[str(m)][str(n)]=0\n",
        "                Z_mn_rearranged[str(m)][str(n)]=0\n",
        "\n",
        "        for j in tnrange(n_split):\n",
        "            v_list=[]; h_list=[]\n",
        "            for s in range(j*int(2**(n_vis+n_hid)/n_split), (j+1)*int(2**(n_vis+n_hid)/n_split)):\n",
        "                full=decimal_to_binary(s, n_hid+n_vis)[0]\n",
        "                v=full[:n_vis]; h=full[-n_hid:]\n",
        "                v_list.append(v); h_list.append(h)\n",
        "            v_list0=torch.stack(v_list)\n",
        "            h_list0=torch.stack(h_list)\n",
        "\n",
        "            E_CM=Energy_GPU2(model_dicts_CM, v_list0, h_list0)\n",
        "            E_CM_rearranged=Energy_GPU2(model_dicts_CM_rearranged, v_list0, h_list0)\n",
        "            Z_CM+=sum(np.exp(-E_CM))\n",
        "            Z_CM_rearranged+=sum(np.exp(-E_CM_rearranged))\n",
        "            for m in range(10):\n",
        "                for n in range(10):\n",
        "                    E_mn=Energy_GPU2(model_dicts_mn[str(m)][str(n)], v_list0, h_list0)\n",
        "                    dE_mn2CM[str(m)][str(n)]+=sum((E_CM-E_mn)*np.exp(-E_mn))\n",
        "                    dE_CM2mn[str(m)][str(n)]+=sum((E_mn-E_CM)*np.exp(-E_CM))\n",
        "                    Z_mn[str(m)][str(n)]+=sum(np.exp(-E_mn))\n",
        "\n",
        "                    E_mn_rearranged=Energy_GPU2(model_dicts_mn_rearranged[str(m)][str(n)], v_list0, h_list0)\n",
        "                    dE_mn2CM_rearranged[str(m)][str(n)]+=sum((E_CM_rearranged-E_mn_rearranged)*np.exp(-E_mn_rearranged))\n",
        "                    dE_CM2mn_rearranged[str(m)][str(n)]+=sum((E_mn_rearranged-E_CM_rearranged)*np.exp(-E_CM_rearranged))\n",
        "                    Z_mn_rearranged[str(m)][str(n)]+=sum(np.exp(-E_mn_rearranged))                    \n",
        "        FE_CM=-np.log(Z_CM)\n",
        "        FE_mn={}\n",
        "        FE_CM_rearranged=-np.log(Z_CM_rearranged)\n",
        "        FE_mn_rearranged={}        \n",
        "        for m in range(10):\n",
        "            FE_mn[str(m)]={}\n",
        "            FE_mn_rearranged[str(m)]={}\n",
        "            for n in range(10):\n",
        "                dE_CM2mn[str(m)][str(n)]=dE_CM2mn[str(m)][str(n)]/Z_CM\n",
        "                dE_mn2CM[str(m)][str(n)]=dE_mn2CM[str(m)][str(n)]/Z_mn[str(m)][str(n)]\n",
        "                FE_mn[str(m)][str(n)]=-np.log(Z_mn[str(m)][str(n)])\n",
        "\n",
        "                dE_CM2mn_rearranged[str(m)][str(n)]=dE_CM2mn_rearranged[str(m)][str(n)]/Z_CM_rearranged\n",
        "                dE_mn2CM_rearranged[str(m)][str(n)]=dE_mn2CM_rearranged[str(m)][str(n)]/Z_mn_rearranged[str(m)][str(n)]\n",
        "                FE_mn_rearranged[str(m)][str(n)]=-np.log(Z_mn_rearranged[str(m)][str(n)])                \n",
        "        with open('{base}/loss_IG/3*3/data/3*3_n_hid={n_hid}_T={T}_FE_exact.pkl'.format(base=base, n_hid=n_hid, T=T), 'wb') as f:\n",
        "            pkl.dump({'mn':FE_mn, 'CM':FE_CM}, f)\n",
        "        with open('{base}/loss_IG/3*3/data/3*3_n_hid={n_hid}_T={T}_dE_exact.pkl'.format(base=base, n_hid=n_hid, T=T), 'wb') as f:\n",
        "            pkl.dump({'mn2CM':dE_mn2CM, 'CM2mn':dE_CM2mn}, f)\n",
        "        with open('{base}/loss_IG/3*3/data/3*3_n_hid={n_hid}_T={T}_FE_exact_rearranged.pkl'.format(base=base, n_hid=n_hid, T=T), 'wb') as f:\n",
        "            pkl.dump({'mn':FE_mn_rearranged, 'CM':FE_CM_rearranged}, f)\n",
        "        with open('{base}/loss_IG/3*3/data/3*3_n_hid={n_hid}_T={T}_dE_exact_rearranged.pkl'.format(base=base, n_hid=n_hid, T=T), 'wb') as f:\n",
        "            pkl.dump({'mn2CM':dE_mn2CM_rearranged, 'CM2mn':dE_CM2mn_rearranged}, f)            "
      ],
      "execution_count": 39,
      "outputs": [
        {
          "output_type": "display_data",
          "data": {
            "application/vnd.jupyter.widget-view+json": {
              "model_id": "c78153e3514d461a896d01d631cdacce",
              "version_minor": 0,
              "version_major": 2
            },
            "text/plain": [
              "HBox(children=(FloatProgress(value=0.0, max=1024.0), HTML(value='')))"
            ]
          },
          "metadata": {
            "tags": []
          }
        },
        {
          "output_type": "stream",
          "text": [
            "\n"
          ],
          "name": "stdout"
        }
      ]
    },
    {
      "cell_type": "markdown",
      "metadata": {
        "id": "DystC6mdn86_"
      },
      "source": [
        "# <E'-E> mn 서로 기준"
      ]
    },
    {
      "cell_type": "code",
      "metadata": {
        "id": "v0anijtjNUXw"
      },
      "source": [
        "# Energy differnece term using rearranged exact Q\n",
        "n_split=2**7\n",
        "\n",
        "for n_hid in [12]:\n",
        "    for T in [16]:\n",
        "        model_dicts_mn=pd.read_pickle('{base}/loss_IG/3*3/state_dict/n_hid={n_hid}_T={T}_mn.pkl'.format(base=base, n_hid=n_hid, T=T)) \n",
        "        FE_mn=pd.read_pickle('{base}/loss_IG/3*3/data/3*3_n_hid={n_hid}_T={T}_FE_exact.pkl'.format(base=base, n_hid=n_hid, T=T))['mn']\n",
        "        model_dicts_mn_rearranged=pd.read_pickle('{base}/loss_IG/3*3/state_dict/n_hid={n_hid}_T={T}_mn_rearranged.pkl'.format(base=base, n_hid=n_hid, T=T)) \n",
        "        FE_mn_rearranged=pd.read_pickle('{base}/loss_IG/3*3/data/3*3_n_hid={n_hid}_T={T}_FE_exact_rearranged.pkl'.format(base=base, n_hid=n_hid, T=T))['mn']        \n",
        "        \n",
        "        dE_mn={}\n",
        "        dE_mn_rearranged={}\n",
        "        for i in range(100):\n",
        "            i=str(i).zfill(2)\n",
        "            dE_mn[i]={}\n",
        "            dE_mn_rearranged[i]={}\n",
        "            for j in range(100):\n",
        "                j=str(j).zfill(2)\n",
        "                dE_mn[i][j]=0\n",
        "                dE_mn_rearranged[i][j]=0\n",
        "        \n",
        "\n",
        "        for j in tnrange(n_split):\n",
        "            v_list=[]; h_list=[]\n",
        "            for s in range(j*int(2**(n_vis+n_hid)/n_split), (j+1)*int(2**(n_vis+n_hid)/n_split)):\n",
        "                full=decimal_to_binary(s, n_hid+n_vis)[0]\n",
        "                v=full[:n_vis]; h=full[-n_hid:]\n",
        "                v_list.append(v); h_list.append(h)\n",
        "            v_list0=torch.stack(v_list)\n",
        "            h_list0=torch.stack(h_list)\n",
        "\n",
        "            E_mn={}\n",
        "            E_mn_rearranged={}\n",
        "            for m in range(10):\n",
        "                E_mn[str(m)]={}\n",
        "                E_mn_rearranged[str(m)]={}\n",
        "                for n in range(10):\n",
        "                    E_mn[str(m)][str(n)]=Energy_GPU2(model_dicts_mn[str(m)][str(n)], v_list0, h_list0)\n",
        "                    E_mn_rearranged[str(m)][str(n)]=Energy_GPU2(model_dicts_mn_rearranged[str(m)][str(n)], v_list0, h_list0)\n",
        "\n",
        "            for i in range(100):\n",
        "                i=str(i).zfill(2)\n",
        "                for j in range(100):\n",
        "                    j=str(j).zfill(2)\n",
        "                    dE_mn[i][j]+=sum((E_mn[j[0]][j[1]]-E_mn[i[0]][i[1]])*np.exp(-E_mn[i[0]][i[1]]))\n",
        "                    dE_mn_rearranged[i][j]+=sum((E_mn_rearranged[j[0]][j[1]]-E_mn_rearranged[i[0]][i[1]])*np.exp(-E_mn_rearranged[i[0]][i[1]]))\n",
        "\n",
        "        for i in range(100):\n",
        "            i=str(i).zfill(2)\n",
        "            for j in range(100):\n",
        "                j=str(j).zfill(2)\n",
        "                dE_mn[i][j]=dE_mn[i][j]/np.exp(-FE_mn[i[0]][i[1]])\n",
        "                dE_mn_rearranged[i][j]=dE_mn_rearranged[i][j]/np.exp(-FE_mn_rearranged[i[0]][i[1]])\n",
        "\n",
        "        with open('{base}/loss_IG/3*3/data/3*3_n_hid={n_hid}_T={T}_dE10000_exact.pkl'.format(base=base, n_hid=n_hid, T=T), 'wb') as f:\n",
        "            pkl.dump(dE_mn, f)\n",
        "        with open('{base}/loss_IG/3*3/data/3*3_n_hid={n_hid}_T={T}_dE10000_exact_rearranged.pkl'.format(base=base, n_hid=n_hid, T=T), 'wb') as f:\n",
        "            pkl.dump(dE_mn_rearranged, f)            "
      ],
      "execution_count": null,
      "outputs": []
    },
    {
      "cell_type": "markdown",
      "metadata": {
        "id": "Wofc8Yd6KVCp"
      },
      "source": [
        "# Entropy"
      ]
    },
    {
      "cell_type": "code",
      "metadata": {
        "id": "WBIGlILle0sY"
      },
      "source": [
        "def Ising_energy(v_list):\n",
        "    L = 3\n",
        "    E_list=[]\n",
        "    for n in range(len(v_list)):\n",
        "        v=v_list[n]\n",
        "        E = 0\n",
        "        for i in range(L):\n",
        "            for j in range(L):\n",
        "                s = v[i,j]\n",
        "                neigh = v[(i+1)%L, j] + v[i,(j+1)%L] + v[(i-1)%L,j] + v[i,(j-1)%L] \n",
        "                E += -neigh * s\n",
        "        E_list.append(E/2)\n",
        "    return np.array(E_list)\n",
        "    \n",
        "def FE_V(model0, v0):\n",
        "#     v0=torch.tensor(v0)\n",
        "    a=model0['v'].detach()\n",
        "    b=model0['h'].detach()\n",
        "    W=model0['W'].detach()\n",
        "    values=[]\n",
        "    for i in range(len(v0)):\n",
        "        v_term = torch.matmul(v0[i].detach(), a.t()).detach()\n",
        "        w_x_h = F.linear(v0[i].detach(), W, b).detach()\n",
        "        h_term = torch.sum(F.softplus(w_x_h), dim=1).detach()\n",
        "        values.append((-h_term - v_term).detach().numpy())\n",
        "    return np.squeeze(values)\n",
        "\n",
        "v_list=[]\n",
        "v_list2=[]\n",
        "for s in range(2**n_vis):\n",
        "    v=decimal_to_binary(s, n_vis)[0]\n",
        "    v_list.append(np.reshape(v,(3,3))*2-1)\n",
        "    v_list2.append(np.reshape(v,(1, 9)))\n",
        "for T in [1.78]:\n",
        "    bf_list=np.exp(-Ising_energy(v_list)/T)\n",
        "    Pv=bf_list/sum(bf_list)\n",
        "#     with open('{base}/loss_IG/3*3/data/3*3_T={T}_S_exact.pkl'.format(base=base, T=T), 'wb') as f:\n",
        "#         pkl.dump(entropy(Pv), f)\n",
        "\n",
        "    for n_hid in [12]:\n",
        "        model_dict_mn=pd.read_pickle('{base}/loss_IG/3*3/state_dict/n_hid={n_hid}_T={T}_mn.pkl'.format(base=base, n_hid=n_hid, T=T))\n",
        "        model_dict_CM=pd.read_pickle('{base}/loss_IG/3*3/state_dict/n_hid={n_hid}_T={T}_CM.pkl'.format(base=base, n_hid=n_hid, T=T))         \n",
        "        model_dict_mn_rearranged=pd.read_pickle('{base}/loss_IG/3*3/state_dict/n_hid={n_hid}_T={T}_mn_rearranged.pkl'.format(base=base, n_hid=n_hid, T=T))\n",
        "        model_dict_CM_rearranged=pd.read_pickle('{base}/loss_IG/3*3/state_dict/n_hid={n_hid}_T={T}_CM_rearranged.pkl'.format(base=base, n_hid=n_hid, T=T))        \n",
        "        FE_V_mn={}\n",
        "        FE_V_mn_rearranged={}\n",
        "        for m in tnrange(10):\n",
        "            FE_V_mn[str(m)]={}\n",
        "            FE_V_mn_rearranged[str(m)]={}\n",
        "            for n in range(10):\n",
        "                model_dict0=model_dicts_mn[str(m)][str(n)]\n",
        "                FE_V_mn[str(m)][str(n)]=np.dot(FE_V(model_dict_mn[str(m)][str(n)], v_list2),Pv)\n",
        "                model_dict0_rearranged=model_dicts_mn_rearranged[str(m)][str(n)]\n",
        "                FE_V_mn_rearranged[str(m)][str(n)]=np.dot(FE_V(model_dict_mn_rearranged[str(m)][str(n)], v_list2),Pv)                \n",
        "        FE_V_CM=np.dot(FE_V(model_dict_mn[str(m)][str(n)], v_list2),Pv)\n",
        "        FE_V_CM_rearranged=np.dot(FE_V(model_dict_mn_rearranged[str(m)][str(n)], v_list2),Pv)\n",
        "        with open('{base}/loss_IG/3*3/data/3*3_n_hid={n_hid}_T={T}_FE_V_exact.pkl'.format(base=base, n_hid=n_hid, T=T), 'wb') as f:\n",
        "            pkl.dump({'mn':FE_V_mn, 'CM':FE_V_CM}, f)\n",
        "        with open('{base}/loss_IG/3*3/data/3*3_n_hid={n_hid}_T={T}_FE_V_exact_rearranged.pkl'.format(base=base, n_hid=n_hid, T=T), 'wb') as f:\n",
        "            pkl.dump({'mn':FE_V_mn_rearranged, 'CM':FE_V_CM_rearranged}, f)"
      ],
      "execution_count": null,
      "outputs": []
    },
    {
      "cell_type": "code",
      "metadata": {
        "id": "pP3kzr_-WZCc"
      },
      "source": [
        ""
      ],
      "execution_count": null,
      "outputs": []
    }
  ]
}