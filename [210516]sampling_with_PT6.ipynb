{
  "nbformat": 4,
  "nbformat_minor": 0,
  "metadata": {
    "colab": {
      "name": "Copy of [210516]sampling_with_PT.ipynb",
      "provenance": [],
      "collapsed_sections": [],
      "machine_shape": "hm",
      "include_colab_link": true
    },
    "kernelspec": {
      "display_name": "Python 3",
      "language": "python",
      "name": "python3"
    },
    "language_info": {
      "codemirror_mode": {
        "name": "ipython",
        "version": 3
      },
      "file_extension": ".py",
      "mimetype": "text/x-python",
      "name": "python",
      "nbconvert_exporter": "python",
      "pygments_lexer": "ipython3",
      "version": "3.7.4"
    },
    "widgets": {
      "application/vnd.jupyter.widget-state+json": {
        "3f422b9f48074d509f747de8eb3d03b6": {
          "model_module": "@jupyter-widgets/controls",
          "model_name": "HBoxModel",
          "state": {
            "_view_name": "HBoxView",
            "_dom_classes": [],
            "_model_name": "HBoxModel",
            "_view_module": "@jupyter-widgets/controls",
            "_model_module_version": "1.5.0",
            "_view_count": null,
            "_view_module_version": "1.5.0",
            "box_style": "",
            "layout": "IPY_MODEL_4e993dd928834f709b0f712423803c47",
            "_model_module": "@jupyter-widgets/controls",
            "children": [
              "IPY_MODEL_b36c7498c39541379be2034f116de8d2",
              "IPY_MODEL_c990cedd784c4cca9339943107b92b51"
            ]
          }
        },
        "4e993dd928834f709b0f712423803c47": {
          "model_module": "@jupyter-widgets/base",
          "model_name": "LayoutModel",
          "state": {
            "_view_name": "LayoutView",
            "grid_template_rows": null,
            "right": null,
            "justify_content": null,
            "_view_module": "@jupyter-widgets/base",
            "overflow": null,
            "_model_module_version": "1.2.0",
            "_view_count": null,
            "flex_flow": null,
            "width": null,
            "min_width": null,
            "border": null,
            "align_items": null,
            "bottom": null,
            "_model_module": "@jupyter-widgets/base",
            "top": null,
            "grid_column": null,
            "overflow_y": null,
            "overflow_x": null,
            "grid_auto_flow": null,
            "grid_area": null,
            "grid_template_columns": null,
            "flex": null,
            "_model_name": "LayoutModel",
            "justify_items": null,
            "grid_row": null,
            "max_height": null,
            "align_content": null,
            "visibility": null,
            "align_self": null,
            "height": null,
            "min_height": null,
            "padding": null,
            "grid_auto_rows": null,
            "grid_gap": null,
            "max_width": null,
            "order": null,
            "_view_module_version": "1.2.0",
            "grid_template_areas": null,
            "object_position": null,
            "object_fit": null,
            "grid_auto_columns": null,
            "margin": null,
            "display": null,
            "left": null
          }
        },
        "b36c7498c39541379be2034f116de8d2": {
          "model_module": "@jupyter-widgets/controls",
          "model_name": "FloatProgressModel",
          "state": {
            "_view_name": "ProgressView",
            "style": "IPY_MODEL_96ae4f31ed504f32b58ca708b48f7d12",
            "_dom_classes": [],
            "description": "100%",
            "_model_name": "FloatProgressModel",
            "bar_style": "success",
            "max": 10,
            "_view_module": "@jupyter-widgets/controls",
            "_model_module_version": "1.5.0",
            "value": 10,
            "_view_count": null,
            "_view_module_version": "1.5.0",
            "orientation": "horizontal",
            "min": 0,
            "description_tooltip": null,
            "_model_module": "@jupyter-widgets/controls",
            "layout": "IPY_MODEL_1499286c9f1e4c6798fb5b31806cc455"
          }
        },
        "c990cedd784c4cca9339943107b92b51": {
          "model_module": "@jupyter-widgets/controls",
          "model_name": "HTMLModel",
          "state": {
            "_view_name": "HTMLView",
            "style": "IPY_MODEL_74003b4df2df4079b64ccf6ddd4c1935",
            "_dom_classes": [],
            "description": "",
            "_model_name": "HTMLModel",
            "placeholder": "​",
            "_view_module": "@jupyter-widgets/controls",
            "_model_module_version": "1.5.0",
            "value": " 10/10 [33:28&lt;00:00, 200.84s/it]",
            "_view_count": null,
            "_view_module_version": "1.5.0",
            "description_tooltip": null,
            "_model_module": "@jupyter-widgets/controls",
            "layout": "IPY_MODEL_99a6403d47604efb97300069bd16c2f5"
          }
        },
        "96ae4f31ed504f32b58ca708b48f7d12": {
          "model_module": "@jupyter-widgets/controls",
          "model_name": "ProgressStyleModel",
          "state": {
            "_view_name": "StyleView",
            "_model_name": "ProgressStyleModel",
            "description_width": "initial",
            "_view_module": "@jupyter-widgets/base",
            "_model_module_version": "1.5.0",
            "_view_count": null,
            "_view_module_version": "1.2.0",
            "bar_color": null,
            "_model_module": "@jupyter-widgets/controls"
          }
        },
        "1499286c9f1e4c6798fb5b31806cc455": {
          "model_module": "@jupyter-widgets/base",
          "model_name": "LayoutModel",
          "state": {
            "_view_name": "LayoutView",
            "grid_template_rows": null,
            "right": null,
            "justify_content": null,
            "_view_module": "@jupyter-widgets/base",
            "overflow": null,
            "_model_module_version": "1.2.0",
            "_view_count": null,
            "flex_flow": null,
            "width": null,
            "min_width": null,
            "border": null,
            "align_items": null,
            "bottom": null,
            "_model_module": "@jupyter-widgets/base",
            "top": null,
            "grid_column": null,
            "overflow_y": null,
            "overflow_x": null,
            "grid_auto_flow": null,
            "grid_area": null,
            "grid_template_columns": null,
            "flex": null,
            "_model_name": "LayoutModel",
            "justify_items": null,
            "grid_row": null,
            "max_height": null,
            "align_content": null,
            "visibility": null,
            "align_self": null,
            "height": null,
            "min_height": null,
            "padding": null,
            "grid_auto_rows": null,
            "grid_gap": null,
            "max_width": null,
            "order": null,
            "_view_module_version": "1.2.0",
            "grid_template_areas": null,
            "object_position": null,
            "object_fit": null,
            "grid_auto_columns": null,
            "margin": null,
            "display": null,
            "left": null
          }
        },
        "74003b4df2df4079b64ccf6ddd4c1935": {
          "model_module": "@jupyter-widgets/controls",
          "model_name": "DescriptionStyleModel",
          "state": {
            "_view_name": "StyleView",
            "_model_name": "DescriptionStyleModel",
            "description_width": "",
            "_view_module": "@jupyter-widgets/base",
            "_model_module_version": "1.5.0",
            "_view_count": null,
            "_view_module_version": "1.2.0",
            "_model_module": "@jupyter-widgets/controls"
          }
        },
        "99a6403d47604efb97300069bd16c2f5": {
          "model_module": "@jupyter-widgets/base",
          "model_name": "LayoutModel",
          "state": {
            "_view_name": "LayoutView",
            "grid_template_rows": null,
            "right": null,
            "justify_content": null,
            "_view_module": "@jupyter-widgets/base",
            "overflow": null,
            "_model_module_version": "1.2.0",
            "_view_count": null,
            "flex_flow": null,
            "width": null,
            "min_width": null,
            "border": null,
            "align_items": null,
            "bottom": null,
            "_model_module": "@jupyter-widgets/base",
            "top": null,
            "grid_column": null,
            "overflow_y": null,
            "overflow_x": null,
            "grid_auto_flow": null,
            "grid_area": null,
            "grid_template_columns": null,
            "flex": null,
            "_model_name": "LayoutModel",
            "justify_items": null,
            "grid_row": null,
            "max_height": null,
            "align_content": null,
            "visibility": null,
            "align_self": null,
            "height": null,
            "min_height": null,
            "padding": null,
            "grid_auto_rows": null,
            "grid_gap": null,
            "max_width": null,
            "order": null,
            "_view_module_version": "1.2.0",
            "grid_template_areas": null,
            "object_position": null,
            "object_fit": null,
            "grid_auto_columns": null,
            "margin": null,
            "display": null,
            "left": null
          }
        },
        "e1b2b600ecd746a59feeddcdb3b68165": {
          "model_module": "@jupyter-widgets/controls",
          "model_name": "HBoxModel",
          "state": {
            "_view_name": "HBoxView",
            "_dom_classes": [],
            "_model_name": "HBoxModel",
            "_view_module": "@jupyter-widgets/controls",
            "_model_module_version": "1.5.0",
            "_view_count": null,
            "_view_module_version": "1.5.0",
            "box_style": "",
            "layout": "IPY_MODEL_90dc5bca974e40e4942b2bcb60eded15",
            "_model_module": "@jupyter-widgets/controls",
            "children": [
              "IPY_MODEL_a4aee473e1634496a94354dff444c187",
              "IPY_MODEL_9195e52cedb949118b1c06874fcc3462"
            ]
          }
        },
        "90dc5bca974e40e4942b2bcb60eded15": {
          "model_module": "@jupyter-widgets/base",
          "model_name": "LayoutModel",
          "state": {
            "_view_name": "LayoutView",
            "grid_template_rows": null,
            "right": null,
            "justify_content": null,
            "_view_module": "@jupyter-widgets/base",
            "overflow": null,
            "_model_module_version": "1.2.0",
            "_view_count": null,
            "flex_flow": null,
            "width": null,
            "min_width": null,
            "border": null,
            "align_items": null,
            "bottom": null,
            "_model_module": "@jupyter-widgets/base",
            "top": null,
            "grid_column": null,
            "overflow_y": null,
            "overflow_x": null,
            "grid_auto_flow": null,
            "grid_area": null,
            "grid_template_columns": null,
            "flex": null,
            "_model_name": "LayoutModel",
            "justify_items": null,
            "grid_row": null,
            "max_height": null,
            "align_content": null,
            "visibility": null,
            "align_self": null,
            "height": null,
            "min_height": null,
            "padding": null,
            "grid_auto_rows": null,
            "grid_gap": null,
            "max_width": null,
            "order": null,
            "_view_module_version": "1.2.0",
            "grid_template_areas": null,
            "object_position": null,
            "object_fit": null,
            "grid_auto_columns": null,
            "margin": null,
            "display": null,
            "left": null
          }
        },
        "a4aee473e1634496a94354dff444c187": {
          "model_module": "@jupyter-widgets/controls",
          "model_name": "FloatProgressModel",
          "state": {
            "_view_name": "ProgressView",
            "style": "IPY_MODEL_a4906721d64c4f16baadce462785ef3b",
            "_dom_classes": [],
            "description": " 30%",
            "_model_name": "FloatProgressModel",
            "bar_style": "",
            "max": 10,
            "_view_module": "@jupyter-widgets/controls",
            "_model_module_version": "1.5.0",
            "value": 3,
            "_view_count": null,
            "_view_module_version": "1.5.0",
            "orientation": "horizontal",
            "min": 0,
            "description_tooltip": null,
            "_model_module": "@jupyter-widgets/controls",
            "layout": "IPY_MODEL_139a1c4457e243699443696660541814"
          }
        },
        "9195e52cedb949118b1c06874fcc3462": {
          "model_module": "@jupyter-widgets/controls",
          "model_name": "HTMLModel",
          "state": {
            "_view_name": "HTMLView",
            "style": "IPY_MODEL_7983cba0dd1641fda4cf9986b1304df3",
            "_dom_classes": [],
            "description": "",
            "_model_name": "HTMLModel",
            "placeholder": "​",
            "_view_module": "@jupyter-widgets/controls",
            "_model_module_version": "1.5.0",
            "value": " 3/10 [07:00&lt;16:20, 140.07s/it]",
            "_view_count": null,
            "_view_module_version": "1.5.0",
            "description_tooltip": null,
            "_model_module": "@jupyter-widgets/controls",
            "layout": "IPY_MODEL_a34975bfab7f4531b99afabf4f6615a5"
          }
        },
        "a4906721d64c4f16baadce462785ef3b": {
          "model_module": "@jupyter-widgets/controls",
          "model_name": "ProgressStyleModel",
          "state": {
            "_view_name": "StyleView",
            "_model_name": "ProgressStyleModel",
            "description_width": "initial",
            "_view_module": "@jupyter-widgets/base",
            "_model_module_version": "1.5.0",
            "_view_count": null,
            "_view_module_version": "1.2.0",
            "bar_color": null,
            "_model_module": "@jupyter-widgets/controls"
          }
        },
        "139a1c4457e243699443696660541814": {
          "model_module": "@jupyter-widgets/base",
          "model_name": "LayoutModel",
          "state": {
            "_view_name": "LayoutView",
            "grid_template_rows": null,
            "right": null,
            "justify_content": null,
            "_view_module": "@jupyter-widgets/base",
            "overflow": null,
            "_model_module_version": "1.2.0",
            "_view_count": null,
            "flex_flow": null,
            "width": null,
            "min_width": null,
            "border": null,
            "align_items": null,
            "bottom": null,
            "_model_module": "@jupyter-widgets/base",
            "top": null,
            "grid_column": null,
            "overflow_y": null,
            "overflow_x": null,
            "grid_auto_flow": null,
            "grid_area": null,
            "grid_template_columns": null,
            "flex": null,
            "_model_name": "LayoutModel",
            "justify_items": null,
            "grid_row": null,
            "max_height": null,
            "align_content": null,
            "visibility": null,
            "align_self": null,
            "height": null,
            "min_height": null,
            "padding": null,
            "grid_auto_rows": null,
            "grid_gap": null,
            "max_width": null,
            "order": null,
            "_view_module_version": "1.2.0",
            "grid_template_areas": null,
            "object_position": null,
            "object_fit": null,
            "grid_auto_columns": null,
            "margin": null,
            "display": null,
            "left": null
          }
        },
        "7983cba0dd1641fda4cf9986b1304df3": {
          "model_module": "@jupyter-widgets/controls",
          "model_name": "DescriptionStyleModel",
          "state": {
            "_view_name": "StyleView",
            "_model_name": "DescriptionStyleModel",
            "description_width": "",
            "_view_module": "@jupyter-widgets/base",
            "_model_module_version": "1.5.0",
            "_view_count": null,
            "_view_module_version": "1.2.0",
            "_model_module": "@jupyter-widgets/controls"
          }
        },
        "a34975bfab7f4531b99afabf4f6615a5": {
          "model_module": "@jupyter-widgets/base",
          "model_name": "LayoutModel",
          "state": {
            "_view_name": "LayoutView",
            "grid_template_rows": null,
            "right": null,
            "justify_content": null,
            "_view_module": "@jupyter-widgets/base",
            "overflow": null,
            "_model_module_version": "1.2.0",
            "_view_count": null,
            "flex_flow": null,
            "width": null,
            "min_width": null,
            "border": null,
            "align_items": null,
            "bottom": null,
            "_model_module": "@jupyter-widgets/base",
            "top": null,
            "grid_column": null,
            "overflow_y": null,
            "overflow_x": null,
            "grid_auto_flow": null,
            "grid_area": null,
            "grid_template_columns": null,
            "flex": null,
            "_model_name": "LayoutModel",
            "justify_items": null,
            "grid_row": null,
            "max_height": null,
            "align_content": null,
            "visibility": null,
            "align_self": null,
            "height": null,
            "min_height": null,
            "padding": null,
            "grid_auto_rows": null,
            "grid_gap": null,
            "max_width": null,
            "order": null,
            "_view_module_version": "1.2.0",
            "grid_template_areas": null,
            "object_position": null,
            "object_fit": null,
            "grid_auto_columns": null,
            "margin": null,
            "display": null,
            "left": null
          }
        }
      }
    }
  },
  "cells": [
    {
      "cell_type": "markdown",
      "metadata": {
        "id": "view-in-github",
        "colab_type": "text"
      },
      "source": [
        "<a href=\"https://colab.research.google.com/github/physicaone/loss_IG/blob/master/%5B210516%5Dsampling_with_PT6.ipynb\" target=\"_parent\"><img src=\"https://colab.research.google.com/assets/colab-badge.svg\" alt=\"Open In Colab\"/></a>"
      ]
    },
    {
      "cell_type": "code",
      "metadata": {
        "colab": {
          "base_uri": "https://localhost:8080/"
        },
        "id": "Te6zZB8sZFDm",
        "outputId": "4b1f7fa3-623b-42c9-e93d-bb0680ce6c50"
      },
      "source": [
        "try:\n",
        "    from google.colab import drive\n",
        "    drive.mount('/content/drive')\n",
        "    base='drive/MyDrive'\n",
        "except:\n",
        "    base='Google Drive'"
      ],
      "execution_count": 1,
      "outputs": [
        {
          "output_type": "stream",
          "text": [
            "Mounted at /content/drive\n"
          ],
          "name": "stdout"
        }
      ]
    },
    {
      "cell_type": "code",
      "metadata": {
        "id": "JBWjLs2eV-0R"
      },
      "source": [
        "import numpy as np\n",
        "import torch\n",
        "import torchvision.datasets\n",
        "import torchvision.models\n",
        "import torchvision.transforms\n",
        "import torch.nn.functional as F\n",
        "from torchvision import datasets, transforms\n",
        "from torchvision.utils import make_grid\n",
        "import torch.utils.data\n",
        "import torch.nn as nn\n",
        "from itertools import combinations\n",
        "from itertools import permutations\n",
        "from datetime import datetime\n",
        "from tqdm import tqdm, tnrange\n",
        "import warnings\n",
        "warnings.filterwarnings(\"ignore\")\n",
        "import pickle as pkl\n",
        "import pandas as pd\n",
        "import matplotlib.pyplot as plt\n",
        "import matplotlib.gridspec as gridspec\n",
        "%matplotlib inline\n",
        "# np.seterr(divide='ignore', invalid='ignore')\n",
        "import itertools\n",
        "import re\n",
        "from time import sleep"
      ],
      "execution_count": 2,
      "outputs": []
    },
    {
      "cell_type": "markdown",
      "metadata": {
        "id": "QZMPF-Cs4prw"
      },
      "source": [
        "#Define RBM class"
      ]
    },
    {
      "cell_type": "code",
      "metadata": {
        "id": "4UlSsScJdssV"
      },
      "source": [
        "class RBM(nn.Module):\n",
        "\n",
        "    def __init__(self, n_vis, n_hid, k, use_cuda):\n",
        "        \"\"\"Create a RBM.\"\"\"\n",
        "        super(RBM, self).__init__()\n",
        "        \n",
        "        if use_cuda==True:\n",
        "            self.v = nn.Parameter(torch.ones(1, n_vis).cuda())\n",
        "            self.h = nn.Parameter(torch.zeros(1, n_hid).cuda())\n",
        "            self.W = nn.Parameter(torch.randn(n_hid, n_vis).cuda())\n",
        "            self.k = k\n",
        "        else:\n",
        "            self.v = nn.Parameter(torch.ones(1, n_vis))\n",
        "            self.h = nn.Parameter(torch.zeros(1, n_hid))\n",
        "            self.W = nn.Parameter(torch.randn(n_hid, n_vis))\n",
        "            self.k = k     \n",
        "\n",
        "    def visible_to_hidden(self, v, beta):\n",
        "        return torch.sigmoid(F.linear(v, self.W, self.h)*beta)\n",
        "\n",
        "    def hidden_to_visible(self, h, beta):\n",
        "        return torch.sigmoid(F.linear(h, self.W.t(), self.v)*beta)\n",
        "\n",
        "    def free_energy(self, v):\n",
        "        v_term = torch.matmul(v, self.v.t())\n",
        "        w_x_h = F.linear(v, self.W, self.h)\n",
        "        h_term = torch.sum(F.softplus(w_x_h), dim=1)\n",
        "        return torch.mean(-h_term - v_term)\n",
        "    \n",
        "    def energy2(self, v, h):\n",
        "        return -torch.matmul(v, self.v.t())-torch.matmul(torch.matmul(v, self.W.t()),h.t())-torch.matmul(h, self.h.t())\n",
        "\n",
        "    def forward(self, v):\n",
        "        h = self.visible_to_hidden(v)\n",
        "        h = h.bernoulli()\n",
        "        for _ in range(self.k):\n",
        "            v_gibb = self.hidden_to_visible(h)\n",
        "            v_gibb = v_gibb.bernoulli()\n",
        "            h = self.visible_to_hidden(v_gibb)\n",
        "            h = h.bernoulli()\n",
        "        return v, v_gibb"
      ],
      "execution_count": 3,
      "outputs": []
    },
    {
      "cell_type": "markdown",
      "metadata": {
        "id": "0JcNwwuj4lFg"
      },
      "source": [
        "# Check CUDA availability"
      ]
    },
    {
      "cell_type": "code",
      "metadata": {
        "colab": {
          "base_uri": "https://localhost:8080/"
        },
        "id": "zdT15FDJV-0X",
        "outputId": "6d56bd85-506a-4e0b-dd28-4c2e480ea370"
      },
      "source": [
        "CUDA = torch.cuda.is_available()\n",
        "CUDA_DEVICE = 0\n",
        "\n",
        "if CUDA:\n",
        "    device='cuda'\n",
        "else:\n",
        "    device='cpu'\n",
        "torch.cuda.is_available(); CUDA"
      ],
      "execution_count": 4,
      "outputs": [
        {
          "output_type": "execute_result",
          "data": {
            "text/plain": [
              "False"
            ]
          },
          "metadata": {
            "tags": []
          },
          "execution_count": 4
        }
      ]
    },
    {
      "cell_type": "markdown",
      "metadata": {
        "id": "HDzjIM3bidLM"
      },
      "source": [
        "# Define fundamental functions"
      ]
    },
    {
      "cell_type": "code",
      "metadata": {
        "id": "N0jqccefV-0X"
      },
      "source": [
        "# 아래 두 함수는 PT와는 아무 상관 없습니다. 10진법을 2진법으로 바꾸고 리스트 형태로 변형하는 함수입니다. 예)15->[1,1,1,1]\n",
        "# 그리고 그 다음은 역함수입니다.\n",
        "def decimal_to_binary(integer):\n",
        "    string=bin(integer)[2:]\n",
        "    list0=[float(d) for d in string]\n",
        "    while len(list0)<n_hid:\n",
        "        list0=[0.]+list0\n",
        "    return torch.tensor([list0])\n",
        "\n",
        "def binary_to_decimal(list0):\n",
        "    value=0\n",
        "    list0=list0.tolist()\n",
        "    for i in range(len(list0)):\n",
        "        value+=list0[-i-1]*2**(i)\n",
        "    return int(value)\n",
        "\n",
        "# 이 함수는 PT에 사용되는 transition 확률을 계산합니다.\n",
        "def swap_prob(i,j, model, list00, list11):\n",
        "    v1=torch.tensor(list00[i]).view(1,n_vis)\n",
        "    v2=torch.tensor(list00[j]).view(1,n_vis)\n",
        "    h1=torch.tensor(list11[i]).view(1,n_hid)\n",
        "    h2=torch.tensor(list11[j]).view(1,n_hid)\n",
        "    beta1=beta_list[i]\n",
        "    beta2=beta_list[j]\n",
        "    return torch.exp((beta2-beta1)*(model.energy2(v2, h2)-model.energy2(v1, h1)))\n",
        "\n",
        "# 이 함수는 tansition 확률에 의거, swap을 수행합니다.\n",
        "def swap(list0, list1, model):\n",
        "    k=np.random.randint(0, len(list0)-1)\n",
        "    combination=[k, k+1]\n",
        "    if swap_prob(combination[0], combination[1], model, list0, list1)>=np.random.rand():\n",
        "        a=list0[combination[0]].clone()\n",
        "        b=list0[combination[1]].clone() \n",
        "        list0[combination[0]]=b\n",
        "        list0[combination[1]]=a\n",
        "        \n",
        "        c=list1[combination[0]].clone()\n",
        "        d=list1[combination[1]].clone() \n",
        "        list1[combination[0]]=d\n",
        "        list1[combination[1]]=c\n",
        "    else: None\n",
        "#     return list0, list1\n",
        "#     combinations=list(itertools.combinations(list(range(len(list0))), 2))\n",
        "#     for k in range(len(combinations)):\n",
        "#         if swap_prob(combinations[k][1], combinations[k][0])>=np.random.rand():\n",
        "#             list0[combinations[k][0]]=list0[combinations[k][1]]; list0[combinations[k][1]]=list0[combinations[k][0]]\n",
        "#         else: None\n",
        "#     return list0\n",
        "\n",
        "def P_h(list0):\n",
        "    config_count={}\n",
        "    for i in range(len(list0)):\n",
        "        config_count[str(int(binary_to_decimal(list0[i][0])))]=0\n",
        "    for i in range(len(list0)):\n",
        "        config_count[str(int(binary_to_decimal(list0[i][0])))]+=1\n",
        "    return config_count\n",
        "\n",
        "def prod(L):\n",
        "    p=1\n",
        "    for i in L:\n",
        "        p= i * p\n",
        "    return p\n",
        "\n",
        "# def Estimate_Z(model0, states):\n",
        "#     Z=0\n",
        "#     for i in range(len(states[0])):\n",
        "#         Z+=torch.exp(-model0.energy2(states[0][i], states[1][i])).detach()\n",
        "#     return float(Z.detach().numpy())\n",
        "\n",
        "def get_hist(list00, color='red'):\n",
        "    bins=range(int(min(list00)-30), int(max(list00)+30), 1)\n",
        "    y1,x1,_ = plt.hist(list00, bins = bins, histtype='step', color=color)\n",
        "    x1 = 0.5*(x1[1:]+x1[:-1])\n",
        "    return x1, y1\n",
        "\n",
        "def flatten_list(list0):\n",
        "    flattened = [val for sublist in list0 for val in sublist]\n",
        "    return flattened\n"
      ],
      "execution_count": 47,
      "outputs": []
    },
    {
      "cell_type": "markdown",
      "metadata": {
        "id": "JVUbdwS_ihkm"
      },
      "source": [
        "# Define stat. physical functions"
      ]
    },
    {
      "cell_type": "code",
      "metadata": {
        "id": "xmv-j18uV-0Z"
      },
      "source": [
        "def Entropy(fullconfigs):\n",
        "    config_count={} # 각 hidden layer state 갯수 파악 (k)\n",
        "    for i in range(len(fullconfigs)):\n",
        "        config_count[str(fullconfigs[i])]=0\n",
        "    for i in range(len(fullconfigs)):\n",
        "        config_count[str(fullconfigs[i])]+=1\n",
        "\n",
        "    listk=[]\n",
        "    for i in range(len(list(config_count.values()))):\n",
        "        listk.append(int(list(config_count.values())[i]))\n",
        "    listmk=[]\n",
        "    kcount={} # 갯수의 갯수 파악 (m_k)\n",
        "    for i in range(len(listk)):\n",
        "        kcount[listk[i]]=0\n",
        "    for i in range(len(listk)):\n",
        "        kcount[listk[i]]+=1\n",
        "    for i in range(len(kcount)):\n",
        "        listmk.append(kcount[sorted(list(kcount))[i]])\n",
        "    x,y= sorted(list(kcount)), listmk\n",
        "\n",
        "    list100=[]\n",
        "    list100kmk=[]\n",
        "    for i in range(len(x)):\n",
        "        list100kmk.append(x[i]*y[i])\n",
        "    for i in range(len(x)):\n",
        "        for j in range(list100kmk[i]):\n",
        "            list100.append(x[i])\n",
        "    N=len(list100)\n",
        "    H_s=0\n",
        "    for i in range(len(x)):\n",
        "        H_s-=(x[i]*y[i]/N)*np.log(x[i]/N)\n",
        "    return H_s\n",
        "\n",
        "def FE_mean_std(model0_dict, p):\n",
        "    FE_list=[]\n",
        "    for i in range(len(p)):\n",
        "        # n_vis=len(model0_dict['v'][0]); n_hid=len(model0_dict['h'][0])\n",
        "        integer=list(p.keys())[i]\n",
        "        h=decimal_to_binary(int(integer)).to(device)\n",
        "        a=model0_dict['v'].view(1,n_vis).detach()\n",
        "        b=model0_dict['h'].view(1,n_hid).detach()\n",
        "        W=model0_dict['W'].view(n_hid,n_vis).detach()\n",
        "        \n",
        "        FE=prod(torch.sigmoid(-F.linear(h, W.t(), a)).detach()[0])*100000\n",
        "        FE=FE*p[integer]\n",
        "        FE=FE/sum(list(p.values()))\n",
        "        FE=torch.log(FE.detach())-torch.log(torch.tensor([[100000]]))-torch.dot(b[0],h[0].t())\n",
        "        FE_list.append(FE.detach())\n",
        "    return [float(torch.mean(torch.tensor(FE_list)).detach().numpy()), float(torch.std(torch.tensor(FE_list)).detach().numpy())]\n",
        "\n",
        "def dE_mean_std(model0_dict, model1_dict, v_list, h_list):\n",
        "    dE=[]\n",
        "    for i in range(len(v_list)):\n",
        "        E0=model0_dict.energy2(v_list[i].float().detach(), h_list[i].float().detach())[0].detach()\n",
        "        E1=model1_dict.energy2(v_list[i].float().detach(), h_list[i].float().detach())[0].detach()\n",
        "        dE.append(E1-E0)\n",
        "    return [float(torch.mean(torch.tensor(dE)).numpy()), float(torch.std(torch.tensor(dE)).numpy())]\n",
        "\n",
        "def Energy(model0_dict, v_list, h_list):\n",
        "    a=model0_dict['v'].detach()\n",
        "    b=model0_dict['h'].detach()\n",
        "    W=model0_dict['W'].detach()\n",
        "    values=[]\n",
        "    for i in range(len(v_list)):\n",
        "        e=-np.matmul(v_list[i], a.t())-np.matmul(np.matmul(v_list[i], W.t()), h_list[i].t())-np.matmul(h_list[i], b.t())\n",
        "        values.append(e.detach())\n",
        "    return float(np.mean(values))\n",
        "    \n",
        "def Energy_GPU(model0_dict, v_list0, h_list0):\n",
        "    n_split=4\n",
        "    a=model0_dict['v'].detach().cuda().view(n_vis)\n",
        "    b=model0_dict['h'].detach().cuda().view(n_hid)\n",
        "    W=model0_dict['W'].detach().cuda().view(n_hid, n_vis)\n",
        "    values=[]\n",
        "    for i in range(n_split):\n",
        "        v_list=torch.stack(list(v_list0[i*int(len(v_list0)/n_split):(i+1)*int(len(v_list0)/n_split)]))\n",
        "        h_list=torch.stack(list(h_list0[i*int(len(h_list0)/n_split):(i+1)*int(len(h_list0)/n_split)]))\n",
        "\n",
        "        v_list=v_list.detach().cuda().view(len(v_list), n_vis); h_list=h_list.detach().cuda().view(len(h_list),n_hid)\n",
        "        e=-torch.matmul(v_list.float(), a)-torch.diagonal(torch.matmul(torch.matmul(v_list.float(), W.t()), h_list.float().t()))-torch.matmul(h_list.float(), b)\n",
        "        values.append(np.mean(e.cpu().detach().numpy()))\n",
        "    return np.mean(values)\n",
        "\n",
        "def FE_V(model0, v0):\n",
        "    v0=torch.tensor(v0)\n",
        "    a=model0['v'].detach()\n",
        "    b=model0['h'].detach()\n",
        "    W=model0['W'].detach()\n",
        "    values=[]\n",
        "    for i in range(len(v0)):\n",
        "        v_term = torch.matmul(v0[i].detach(), a.t()).detach()\n",
        "        w_x_h = F.linear(v0[i].detach(), W, b).detach()\n",
        "        h_term = torch.sum(F.softplus(w_x_h), dim=1).detach()\n",
        "        values.append(torch.mean(-h_term - v_term).detach().numpy())\n",
        "    return float(np.mean(values))\n",
        "    \n",
        "def sampling_with_PT(fullmodel, eq_step, n_step):\n",
        "    # states for full model\n",
        "    hidden_states_now0=[decimal_to_binary(2**n_hid-1)]*len(beta_list)\n",
        "    visible_states_now0=[1.]*len(beta_list)\n",
        "\n",
        "    coldest_hidden0=[]\n",
        "    coldest_visible0=[]\n",
        "    \n",
        "    # equilibrium steps for full model\n",
        "    for step in range(eq_step):\n",
        "        for i in range(len(beta_list)):\n",
        "            visible_states_now0[i]=fullmodel.hidden_to_visible(hidden_states_now0[i].to(device), beta_list[i]).bernoulli().detach()\n",
        "            hidden_states_now0[i]=fullmodel.visible_to_hidden(visible_states_now0[i].to(device), beta_list[i]).bernoulli().detach()\n",
        "\n",
        "    # Tasks with PT\n",
        "    for step in range(n_step):\n",
        "        for i in range(len(beta_list)):\n",
        "            # Gibbs sampling of fu\n",
        "            visible_states_now0[i]=fullmodel.hidden_to_visible(hidden_states_now0[i].to(device), beta_list[i]).bernoulli().detach()\n",
        "            hidden_states_now0[i]=fullmodel.visible_to_hidden(visible_states_now0[i].to(device), beta_list[i]).bernoulli().detach()\n",
        "        swap(visible_states_now0, hidden_states_now0, fullmodel)\n",
        "        coldest_hidden0.append(int(binary_to_decimal(hidden_states_now0[0].view(n_hid))))\n",
        "        coldest_visible0.append(int(binary_to_decimal(visible_states_now0[0].view(n_vis))))\n",
        "    return coldest_visible0, coldest_hidden0"
      ],
      "execution_count": 66,
      "outputs": []
    },
    {
      "cell_type": "code",
      "metadata": {
        "id": "aAai0VLA3KYy"
      },
      "source": [
        "n_hid_list=[1,2,4,8,16]\n",
        "T_list=[1.47, 2.3, 3.2, 14.8]\n",
        "n_beta=5\n",
        "n_sample=100000\n",
        "beta_list=torch.tensor(np.linspace(1,0,n_beta).astype(float)).to(device)\n",
        "n_vis=9"
      ],
      "execution_count": 67,
      "outputs": []
    },
    {
      "cell_type": "markdown",
      "metadata": {
        "id": "mEf_P22LiXKb"
      },
      "source": [
        "# mn model의 샘플 만들기\n"
      ]
    },
    {
      "cell_type": "code",
      "metadata": {
        "id": "yFmksUeFj3AI"
      },
      "source": [
        "for T in T_list:\n",
        "    for n_hid in n_hid_list:\n",
        "        dict0={}\n",
        "        models=pd.read_pickle('{base}/loss_IG/3*3/state_dict/n_hid={n_hid}_T={T}_mn.pkl'.format(base=base, n_hid=n_hid, T=T))\n",
        "        for m in tnrange(10):\n",
        "            dict0[str(m)]={}\n",
        "            for n in range(10):\n",
        "                model1_dict=models[str(m)][str(n)]\n",
        "                model1=RBM(n_vis=n_vis, n_hid=n_hid, k=1, use_cuda=CUDA)\n",
        "                model1.load_state_dict(model1_dict)\n",
        "                a0, b0=sampling_with_PT(model1, 100, n_sample)\n",
        "                dict0[str(m)][str(n)]=[a0,b0]\n",
        "        with open('{base}/loss_IG/3*3/samples/3*3_PT{n_beta}_{n_sample}_n_hid={n_hid}_T={T}_mn.pkl'.format(base=base, n_beta=n_beta, n_sample=n_sample, n_hid=n_hid, T=T), 'wb') as f:\n",
        "            pkl.dump(dict0, f)"
      ],
      "execution_count": null,
      "outputs": []
    },
    {
      "cell_type": "markdown",
      "metadata": {
        "id": "RfiZCv5tiTWy"
      },
      "source": [
        "# CM_m model의 샘플 만들기\n"
      ]
    },
    {
      "cell_type": "code",
      "metadata": {
        "id": "G70_NAJB2gQT",
        "colab": {
          "base_uri": "https://localhost:8080/",
          "height": 66,
          "referenced_widgets": [
            "3f422b9f48074d509f747de8eb3d03b6",
            "4e993dd928834f709b0f712423803c47",
            "b36c7498c39541379be2034f116de8d2",
            "c990cedd784c4cca9339943107b92b51",
            "96ae4f31ed504f32b58ca708b48f7d12",
            "1499286c9f1e4c6798fb5b31806cc455",
            "74003b4df2df4079b64ccf6ddd4c1935",
            "99a6403d47604efb97300069bd16c2f5"
          ]
        },
        "outputId": "e6ad0d35-ba01-42e3-baa1-ac5e3a74a005"
      },
      "source": [
        "for T in T_list:\n",
        "    for n_hid in n_hid_list:\n",
        "        dict0={}\n",
        "        models=pd.read_pickle('{base}/loss_IG/3*3/state_dict/n_hid={n_hid}_T={T}_CM_m.pkl'.format(base=base, n_hid=n_hid, T=T))\n",
        "        for m in tnrange(10):\n",
        "            dict0[str(m)]={}\n",
        "            model1_dict=models[str(m)]\n",
        "            model1=RBM(n_vis=n_vis, n_hid=n_hid, k=1, use_cuda=CUDA)\n",
        "            model1.load_state_dict(model1_dict)\n",
        "            a0, b0=sampling_with_PT(model1, 100, 100000)\n",
        "            dict0[str(m)]=[a0,b0]\n",
        "        with open('{base}/loss_IG/3*3/samples/3*3_PT{n_beta}_{n_sample}_n_hid={n_hid}_T={T}_CM_m.pkl'.format(base=base, n_beta=n_beta, n_sample=n_sample, n_hid=n_hid, T=T), 'wb') as f:\n",
        "            pkl.dump(dict0, f)"
      ],
      "execution_count": null,
      "outputs": [
        {
          "output_type": "display_data",
          "data": {
            "application/vnd.jupyter.widget-view+json": {
              "model_id": "3f422b9f48074d509f747de8eb3d03b6",
              "version_minor": 0,
              "version_major": 2
            },
            "text/plain": [
              "HBox(children=(FloatProgress(value=0.0, max=10.0), HTML(value='')))"
            ]
          },
          "metadata": {
            "tags": []
          }
        },
        {
          "output_type": "stream",
          "text": [
            "\n"
          ],
          "name": "stdout"
        }
      ]
    },
    {
      "cell_type": "markdown",
      "metadata": {
        "id": "kBMXW2GJiNlT"
      },
      "source": [
        "# CM model의 샘플 만들기"
      ]
    },
    {
      "cell_type": "code",
      "metadata": {
        "id": "gAx6StlB2gZE"
      },
      "source": [
        "for T in T_list:\n",
        "    for n_hid in n_hid_list:\n",
        "        model1_dict=pd.read_pickle('{base}/loss_IG/3*3/state_dict/n_hid={n_hid}_T={T}_CM.pkl'.format(base=base, n_hid=n_hid, T=T))\n",
        "        model1=RBM(n_vis=n_vis, n_hid=n_hid, k=1, use_cuda=CUDA)\n",
        "        model1.load_state_dict(model1_dict)\n",
        "        a0, b0=sampling_with_PT(model1, 100, 100000)\n",
        "        with open('{base}/loss_IG/3*3/samples/3*3_PT{n_beta}_{n_sample}_n_hid={n_hid}_T={T}_CM.pkl'.format(base=base, n_beta=n_beta, n_sample=n_sample, n_hid=n_hid, T=T), 'wb') as f:\n",
        "            pkl.dump([a0,b0]], f)"
      ],
      "execution_count": null,
      "outputs": []
    },
    {
      "cell_type": "markdown",
      "metadata": {
        "id": "kUcPRPd7W8hD"
      },
      "source": [
        "# Entropy of m"
      ]
    },
    {
      "cell_type": "code",
      "metadata": {
        "id": "Nq-5AgJ3W7t2"
      },
      "source": [
        "for T in T_list:\n",
        "    fullconfigs=pd.read_pickle('{base}/loss_IG/3*3/3*3_full_T={T}.pkl'.format(base=base, T=T))\n",
        "    for n_hid in n_hid_list:\n",
        "        S_m={}\n",
        "        for m in range(10):\n",
        "            S_m[str(m)]=Entropy(fullconfigs[m])\n",
        "        S_CM=Entropy(flatten_list(fullconfigs))\n",
        "        with open('{base}/loss_IG/3*3/data/3*3_PT20_0.1M_n_T={T}_S.pkl'.format(base=base, T=T), 'wb') as f:\n",
        "            pkl.dump({'CM_m':S_m, 'CM':S_CM}, f)"
      ],
      "execution_count": null,
      "outputs": []
    },
    {
      "cell_type": "markdown",
      "metadata": {
        "id": "AK4dvvtecQ4r"
      },
      "source": [
        "# CM, CM_m, mn의 Free energy 계산"
      ]
    },
    {
      "cell_type": "code",
      "metadata": {
        "id": "3ts9y-Xls-dG"
      },
      "source": [
        "for T in T_list:\n",
        "    for n_hid in n_hid_list:\n",
        "        dict0={}; dict1={}; dict2={}\n",
        "        model_dicts_mn=pd.read_pickle('{base}/loss_IG/3*3/state_dict/n_hid={n_hid}_T={T}_mn.pkl'.format(base=base, n_hid=n_hid, T=T))\n",
        "        model_dicts_CM_m=pd.read_pickle('{base}/loss_IG/3*3/state_dict/n_hid={n_hid}_T={T}_CM_m.pkl'.format(base=base, n_hid=n_hid, T=T))\n",
        "        model_dicts_CM=pd.read_pickle('{base}/loss_IG/3*3/state_dict/n_hid={n_hid}_T={T}_CM.pkl'.format(base=base, n_hid=n_hid, T=T))\n",
        "\n",
        "        for m in tnrange(10):\n",
        "            dict0[str(m)]={}\n",
        "            for n in range(10):\n",
        "                vh0=pd.read_pickle('{base}/loss_IG/3*3/samples/3*3_PT20_0.1M_n_hid={n_hid}_T={T}_m={m}_n={n}.pkl'.format(base=base, n_hid=n_hid,T=T,m=m,n=n))\n",
        "                model_dict0=model_dicts_mn[str(m)][str(n)]\n",
        "                dict0[str(m)][str(n)]=FE_mean_std(model_dict0, P_h(vh0[1][0]))[0]\n",
        "            vh1=pd.read_pickle('{base}/loss_IG/3*3/samples/3*3_PT20_0.1M_n_hid={n_hid}_T={T}_CM_m={m}.pkl'.format(base=base, n_hid=n_hid,T=T,m=m))\n",
        "            model_dict1=model_dicts_CM_m[str(m)]\n",
        "            dict1[str(m)]=FE_mean_std(model_dict1, P_h(vh1[1][0]))[0]\n",
        "        vh2=pd.read_pickle('{base}/loss_IG/3*3/samples/3*3_PT20_0.1M_n_hid={n_hid}_T={T}_CM.pkl'.format(base=base, n_hid=n_hid,T=T))\n",
        "        model_dict2=model_dicts_CM\n",
        "        dict2=FE_mean_std(model_dict2,P_h(vh2[1][0]))[0]\n",
        "        with open('{base}/loss_IG/3*3/data/3*3_PT20_0.1M_n_hid={n_hid}_T={T}_FE.pkl'.format(base=base, n_hid=n_hid, T=T), 'wb') as f:\n",
        "            pkl.dump({'mn':dict0, 'CM_m':dict1, 'CM':dict2}, f)"
      ],
      "execution_count": null,
      "outputs": []
    },
    {
      "cell_type": "markdown",
      "metadata": {
        "id": "VzxR-Hb9cdhT"
      },
      "source": [
        "# CM, CM_m, mn의 marginalized Free energy 계산"
      ]
    },
    {
      "cell_type": "code",
      "metadata": {
        "id": "RT2FB8VghHOZ",
        "colab": {
          "base_uri": "https://localhost:8080/",
          "height": 48,
          "referenced_widgets": [
            "e1b2b600ecd746a59feeddcdb3b68165",
            "90dc5bca974e40e4942b2bcb60eded15",
            "a4aee473e1634496a94354dff444c187",
            "9195e52cedb949118b1c06874fcc3462",
            "a4906721d64c4f16baadce462785ef3b",
            "139a1c4457e243699443696660541814",
            "7983cba0dd1641fda4cf9986b1304df3",
            "a34975bfab7f4531b99afabf4f6615a5"
          ]
        },
        "outputId": "ff18c550-db2e-464d-fb3f-c75f201f268c"
      },
      "source": [
        "for T in T_list:\n",
        "    fullconfigs=pd.read_pickle('{base}/loss_IG/3*3/3*3_full_T={T}.pkl'.format(base=base, T=T))\n",
        "    for n_hid in n_hid_list:\n",
        "        dict0={}; dict1={}; dict2={}\n",
        "        model_dicts_mn=pd.read_pickle('{base}/loss_IG/3*3/state_dict/n_hid={n_hid}_T={T}_mn.pkl'.format(base=base, n_hid=n_hid, T=T))\n",
        "        model_dicts_CM_m=pd.read_pickle('{base}/loss_IG/3*3/state_dict/n_hid={n_hid}_T={T}_CM_m.pkl'.format(base=base, n_hid=n_hid, T=T))\n",
        "        model_dicts_CM=pd.read_pickle('{base}/loss_IG/3*3/state_dict/n_hid={n_hid}_T={T}_CM.pkl'.format(base=base, n_hid=n_hid, T=T))\n",
        "\n",
        "        for m in tnrange(10):\n",
        "            dict0[str(m)]={}\n",
        "            for n in range(10):\n",
        "                vh0=pd.read_pickle('{base}/loss_IG/3*3/samples/3*3_PT20_0.1M_n_hid={n_hid}_T={T}_m={m}_n={n}.pkl'.format(base=base, n_hid=n_hid,T=T,m=m,n=n))\n",
        "                model_dict0=model_dicts_mn[str(m)][str(n)]\n",
        "                dict0[str(m)][str(n)]=FE_V(model_dict0, fullconfigs[m])\n",
        "            vh1=pd.read_pickle('{base}/loss_IG/3*3/samples/3*3_PT20_0.1M_n_hid={n_hid}_T={T}_CM_m={m}.pkl'.format(base=base, n_hid=n_hid,T=T,m=m))\n",
        "            model_dict1=model_dicts_CM_m[str(m)]\n",
        "            dict1[str(m)]=FE_V(model_dict1, fullconfigs[m])\n",
        "        vh2=pd.read_pickle('{base}/loss_IG/3*3/samples/3*3_PT20_0.1M_n_hid={n_hid}_T={T}_CM.pkl'.format(base=base, n_hid=n_hid,T=T))\n",
        "        model_dict2=model_dicts_CM\n",
        "        dict2=FE_V(model_dict2, flatten_list(fullconfigs))\n",
        "        with open('{base}/loss_IG/3*3/data/3*3_PT20_0.1M_n_hid={n_hid}_T={T}_FE_V.pkl'.format(base=base, n_hid=n_hid, T=T), 'wb') as f:\n",
        "            pkl.dump({'mn':dict0, 'CM_m':dict1, 'CM':dict2}, f)"
      ],
      "execution_count": null,
      "outputs": [
        {
          "output_type": "display_data",
          "data": {
            "application/vnd.jupyter.widget-view+json": {
              "model_id": "e1b2b600ecd746a59feeddcdb3b68165",
              "version_minor": 0,
              "version_major": 2
            },
            "text/plain": [
              "HBox(children=(FloatProgress(value=0.0, max=10.0), HTML(value='')))"
            ]
          },
          "metadata": {
            "tags": []
          }
        }
      ]
    },
    {
      "cell_type": "markdown",
      "metadata": {
        "id": "Otm9UBq8cktd"
      },
      "source": [
        "# CM, CM_m, mn의 <E'-E> 계산"
      ]
    },
    {
      "cell_type": "code",
      "metadata": {
        "id": "Eyuyf9G-Isbz"
      },
      "source": [
        "for T in T_list:\n",
        "    for n_hid in n_hid_list:\n",
        "        dE_CM={}; dE_CM_m={}\n",
        "        model_dict_CM=pd.read_pickle('{base}/loss_IG/3*3/state_dict/n_hid={n_hid}_T={T}_CM.pkl'.format(base=base, n_hid=n_hid, T=T))\n",
        "        model_dict_CM_m=pd.read_pickle('{base}/loss_IG/3*3/state_dict/n_hid={n_hid}_T={T}_CM_m.pkl'.format(base=base, n_hid=n_hid, T=T))\n",
        "        model_dict_mn=pd.read_pickle('{base}/loss_IG/3*3/state_dict/n_hid={n_hid}_T={T}_mn.pkl'.format(base=base, n_hid=n_hid, T=T))\n",
        "        vh=pd.read_pickle('{base}/loss_IG/3*3/samples/3*3_PT20_0.1M_n_hid={n_hid}_T={T}_CM.pkl'.format(base=base, n_hid=n_hid, T=T))\n",
        "        for m in tnrange(10):\n",
        "            dE_CM[str(m)]={}; dE_CM_m[str(m)]={}\n",
        "            vh_m=pd.read_pickle('{base}/loss_IG/3*3/samples/3*3_PT20_0.1M_n_hid={n_hid}_T={T}_CM_m={m}.pkl'.format(base=base, n_hid=n_hid, T=T, m=m))\n",
        "            for n in range(10):\n",
        "                dE_CM[str(m)][str(n)]=Energy(model_dict_mn[str(m)][str(n)], vh[0][0], vh[1][0])-Energy(model_dict_CM, vh[0][0], vh[1][0])\n",
        "                dE_CM_m[str(m)][str(n)]=Energy(model_dict_mn[str(m)][str(n)], vh_m[0][0], vh_m[1][0])-Energy(model_dict_CM_m[str(m)], vh_m[0][0], vh_m[1][0])\n",
        "        with open('{base}/loss_IG/3*3/data/3*3_PT20_0.1M_n_hid={n_hid}_T={T}_dE.pkl'.format(base=base, n_hid=n_hid, T=T), 'wb') as f:\n",
        "            pkl.dump({'CM':dE_CM, 'CM_m':dE_CM_m}, f)"
      ],
      "execution_count": null,
      "outputs": []
    },
    {
      "cell_type": "code",
      "metadata": {
        "id": "oE9hi4WbfuLm"
      },
      "source": [
        "for T in T_list:\n",
        "    for n_hid in n_hid_list:\n",
        "        dE={}\n",
        "        model_dict_mn=pd.read_pickle('{base}/loss_IG/3*3/state_dict/n_hid={n_hid}_T={T}_mn.pkl'.format(base=base, n_hid=n_hid, T=T))\n",
        "        for i in tnrange(100):\n",
        "            i=str(i).zfill(2)\n",
        "            vh0=pd.read_pickle('{base}/loss_IG/3*3/samples/3*3_PT20_0.1M_n_hid={n_hid}_T={T}_m={m}_n={n}.pkl'.format(base=base, n_hid=n_hid, T=T, m=i[0], n=i[1]))\n",
        "            model0=model_dict_mn[i[0]][i[1]]\n",
        "            dE[str(i)]={}\n",
        "            for j in range(100):\n",
        "                j=str(j).zfill(2)\n",
        "                model1=model_dict_mn[j[0]][j[1]]\n",
        "                dE[str(i)][str(j)]=float(Energy_GPU(model1, vh0[0][0], vh0[1][0]))-float(Energy_GPU(model0, vh0[0][0], vh0[1][0]))\n",
        "        with open('{base}/loss_IG/3*3/data/3*3_PT20_0.1M_n_hid={n_hid}_T={T}_dE10000.pkl'.format(base=base, n_hid=n_hid, T=T), 'wb') as f:\n",
        "            pkl.dump(dE, f) "
      ],
      "execution_count": null,
      "outputs": []
    }
  ]
}