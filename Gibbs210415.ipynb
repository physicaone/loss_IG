{
  "nbformat": 4,
  "nbformat_minor": 0,
  "metadata": {
    "colab": {
      "name": "Gibbs210415.ipynb",
      "provenance": [],
      "collapsed_sections": [],
      "machine_shape": "hm",
      "authorship_tag": "ABX9TyMwv2Kp253tz269yVV0aNlk"
    },
    "kernelspec": {
      "name": "python3",
      "display_name": "Python 3"
    },
    "language_info": {
      "name": "python"
    },
    "accelerator": "GPU"
  },
  "cells": [
    {
      "cell_type": "code",
      "metadata": {
        "id": "EXv8znUTQKB9"
      },
      "source": [
        "import numpy as np\n",
        "import torch\n",
        "import torchvision.datasets\n",
        "import torchvision.models\n",
        "import torchvision.transforms\n",
        "from datetime import datetime\n",
        "from tqdm import tqdm, trange\n",
        "import warnings\n",
        "warnings.filterwarnings(\"ignore\")"
      ],
      "execution_count": 1,
      "outputs": []
    },
    {
      "cell_type": "code",
      "metadata": {
        "id": "SQOkwsVjQNRw"
      },
      "source": [
        "from energy_rbm import *\n",
        "import pandas as pd\n",
        "import matplotlib.pyplot as plt\n",
        "import matplotlib.gridspec as gridspec\n",
        "%matplotlib inline\n",
        "import numpy as np\n",
        "# np.seterr(divide='ignore', invalid='ignore')\n",
        "\n",
        "\n",
        "import re\n",
        "from time import sleep"
      ],
      "execution_count": 2,
      "outputs": []
    },
    {
      "cell_type": "code",
      "metadata": {
        "colab": {
          "base_uri": "https://localhost:8080/"
        },
        "id": "CcWN7lh3XIyQ",
        "outputId": "5c38dc38-4629-4420-9e4b-7551c9064f41"
      },
      "source": [
        "gpu_info = !nvidia-smi\n",
        "gpu_info = '\\n'.join(gpu_info)\n",
        "if gpu_info.find('failed') >= 0:\n",
        "  print('Select the Runtime > \"Change runtime type\" menu to enable a GPU accelerator, ')\n",
        "  print('and then re-execute this cell.')\n",
        "else:\n",
        "  print(gpu_info)"
      ],
      "execution_count": 3,
      "outputs": [
        {
          "output_type": "stream",
          "text": [
            "Thu Apr 15 13:56:56 2021       \n",
            "+-----------------------------------------------------------------------------+\n",
            "| NVIDIA-SMI 460.67       Driver Version: 460.32.03    CUDA Version: 11.2     |\n",
            "|-------------------------------+----------------------+----------------------+\n",
            "| GPU  Name        Persistence-M| Bus-Id        Disp.A | Volatile Uncorr. ECC |\n",
            "| Fan  Temp  Perf  Pwr:Usage/Cap|         Memory-Usage | GPU-Util  Compute M. |\n",
            "|                               |                      |               MIG M. |\n",
            "|===============================+======================+======================|\n",
            "|   0  Tesla P100-PCIE...  Off  | 00000000:00:04.0 Off |                    0 |\n",
            "| N/A   43C    P0    27W / 250W |      0MiB / 16280MiB |      0%      Default |\n",
            "|                               |                      |                  N/A |\n",
            "+-------------------------------+----------------------+----------------------+\n",
            "                                                                               \n",
            "+-----------------------------------------------------------------------------+\n",
            "| Processes:                                                                  |\n",
            "|  GPU   GI   CI        PID   Type   Process name                  GPU Memory |\n",
            "|        ID   ID                                                   Usage      |\n",
            "|=============================================================================|\n",
            "|  No running processes found                                                 |\n",
            "+-----------------------------------------------------------------------------+\n"
          ],
          "name": "stdout"
        }
      ]
    },
    {
      "cell_type": "code",
      "metadata": {
        "id": "TZWS92ACQTkn"
      },
      "source": [
        "CUDA = torch.cuda.is_available()\n",
        "CUDA_DEVICE = 0\n",
        "\n",
        "if CUDA:\n",
        "    device='cuda'\n",
        "else:\n",
        "    device='cpu'\n",
        "torch.cuda.is_available()\n",
        "device='cpu'"
      ],
      "execution_count": 4,
      "outputs": []
    },
    {
      "cell_type": "code",
      "metadata": {
        "id": "-OPaS1AAQZkZ"
      },
      "source": [
        "\n",
        "n_hid=4\n",
        "model0=torch.load('2021-01-28_n_hid={n_hid}_vol=12000_epoch=5000'.format(n_hid=n_hid), map_location=device).float()\n",
        "\n",
        "def binary_to_decimal(list0):\n",
        "    value=0\n",
        "    for i in range(len(list0)):\n",
        "        value+=list0[-i-1]*2**(i)\n",
        "    return value\n",
        "\n",
        "def decimal_to_binary(integer):\n",
        "    string=bin(integer)[2:]\n",
        "    list0=[float(d) for d in string]\n",
        "    while len(list0)<n_hid:\n",
        "        list0=[0.]+list0\n",
        "    return torch.tensor([list0])\n",
        "\n",
        "def check_energy(model0, n_sample=10000, step_eq=500):\n",
        "    n_vis=len(model0.v[0]); n_hid=len(model0.h[0])\n",
        "    state_E_dict={}\n",
        "    hidden_state_list=[]\n",
        "    for i in range(2**n_hid):\n",
        "        state_E_dict[str(i)]=0\n",
        "    # for i in range(2**n_hid):\n",
        "    for i in [0]:\n",
        "        hidden_state_list.append(decimal_to_binary(i))\n",
        "    # for i in tqdm(range(len(hidden_state_list))):\n",
        "    for i in range(len(hidden_state_list)):\n",
        "        h_sample=hidden_state_list[i].to(device).detach()\n",
        "        for j in range(step_eq):\n",
        "            v_sample=model0.hidden_to_visible(h_sample).detach()\n",
        "            v_sample=v_sample.bernoulli().detach()\n",
        "            h_sample=model0.visible_to_hidden(v_sample).detach()\n",
        "            h_sample=h_sample.bernoulli().detach()\n",
        "        v_sample=model0.hidden_to_visible(h_sample).detach()\n",
        "        v_sample=v_sample.bernoulli().detach()\n",
        "        for n in tqdm(range(n_sample)):\n",
        "        # for n in range(n_sample):\n",
        "            h_sample=model0.visible_to_hidden(v_sample).detach()\n",
        "            h_sample=h_sample.bernoulli().detach()\n",
        "            v_sample=model0.hidden_to_visible(h_sample).detach()\n",
        "            v_sample=v_sample.bernoulli().detach()\n",
        "            # state_E_dict[str(binary_to_decimal(h_sample.view(4).int().detach().numpy()))].append(model0.energy2(v_sample, h_sample).detach().numpy()[0][0].astype(int))\n",
        "            state_E_dict[str(binary_to_decimal(h_sample.view(n_hid).cpu().int().detach().numpy()))]+=1\n",
        "#     print(state_E_dict)\n",
        "    with open('state_E_dict_n_hid={n_hid}_n_sample={n_sample}.pkl'.format(n_hid=n_hid, n_sample=n_sample), 'wb') as f:\n",
        "        pkl.dump(state_E_dict, f)\n"
      ],
      "execution_count": 5,
      "outputs": []
    },
    {
      "cell_type": "code",
      "metadata": {
        "colab": {
          "base_uri": "https://localhost:8080/"
        },
        "id": "iZiBOCU6QqnS",
        "outputId": "0aa64eed-58c1-4d48-d397-9c616a91edca"
      },
      "source": [
        "check_energy(model0, n_sample=100000000, step_eq=1)"
      ],
      "execution_count": null,
      "outputs": [
        {
          "output_type": "stream",
          "text": [
            " 18%|█▊        | 17949982/100000000 [50:48<3:54:34, 5829.72it/s]"
          ],
          "name": "stderr"
        }
      ]
    },
    {
      "cell_type": "code",
      "metadata": {
        "id": "h3nplW47mzgc"
      },
      "source": [
        ""
      ],
      "execution_count": null,
      "outputs": []
    },
    {
      "cell_type": "code",
      "metadata": {
        "id": "xnLvhGsknhvC"
      },
      "source": [
        ""
      ],
      "execution_count": null,
      "outputs": []
    }
  ]
}