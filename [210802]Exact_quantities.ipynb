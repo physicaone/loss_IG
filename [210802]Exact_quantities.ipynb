{
  "nbformat": 4,
  "nbformat_minor": 0,
  "metadata": {
    "colab": {
      "name": "Copy of [210516]sampling_with_PT.ipynb",
      "provenance": [],
      "collapsed_sections": [],
      "machine_shape": "hm",
      "include_colab_link": true
    },
    "kernelspec": {
      "display_name": "Python 3",
      "language": "python",
      "name": "python3"
    },
    "language_info": {
      "codemirror_mode": {
        "name": "ipython",
        "version": 3
      },
      "file_extension": ".py",
      "mimetype": "text/x-python",
      "name": "python",
      "nbconvert_exporter": "python",
      "pygments_lexer": "ipython3",
      "version": "3.7.4"
    },
    "widgets": {
      "application/vnd.jupyter.widget-state+json": {
        "fc6d6738f62644058e7bac2c8c4a9671": {
          "model_module": "@jupyter-widgets/controls",
          "model_name": "HBoxModel",
          "state": {
            "_view_name": "HBoxView",
            "_dom_classes": [],
            "_model_name": "HBoxModel",
            "_view_module": "@jupyter-widgets/controls",
            "_model_module_version": "1.5.0",
            "_view_count": null,
            "_view_module_version": "1.5.0",
            "box_style": "",
            "layout": "IPY_MODEL_05940784c1ba48b280cce025fcab4685",
            "_model_module": "@jupyter-widgets/controls",
            "children": [
              "IPY_MODEL_f4abbdb5701644acb503200ba5b8a8b7",
              "IPY_MODEL_a82896e584be4e9e8ab066d7c18b73a3"
            ]
          }
        },
        "05940784c1ba48b280cce025fcab4685": {
          "model_module": "@jupyter-widgets/base",
          "model_name": "LayoutModel",
          "state": {
            "_view_name": "LayoutView",
            "grid_template_rows": null,
            "right": null,
            "justify_content": null,
            "_view_module": "@jupyter-widgets/base",
            "overflow": null,
            "_model_module_version": "1.2.0",
            "_view_count": null,
            "flex_flow": null,
            "width": null,
            "min_width": null,
            "border": null,
            "align_items": null,
            "bottom": null,
            "_model_module": "@jupyter-widgets/base",
            "top": null,
            "grid_column": null,
            "overflow_y": null,
            "overflow_x": null,
            "grid_auto_flow": null,
            "grid_area": null,
            "grid_template_columns": null,
            "flex": null,
            "_model_name": "LayoutModel",
            "justify_items": null,
            "grid_row": null,
            "max_height": null,
            "align_content": null,
            "visibility": null,
            "align_self": null,
            "height": null,
            "min_height": null,
            "padding": null,
            "grid_auto_rows": null,
            "grid_gap": null,
            "max_width": null,
            "order": null,
            "_view_module_version": "1.2.0",
            "grid_template_areas": null,
            "object_position": null,
            "object_fit": null,
            "grid_auto_columns": null,
            "margin": null,
            "display": null,
            "left": null
          }
        },
        "f4abbdb5701644acb503200ba5b8a8b7": {
          "model_module": "@jupyter-widgets/controls",
          "model_name": "FloatProgressModel",
          "state": {
            "_view_name": "ProgressView",
            "style": "IPY_MODEL_54070af321464dc483eb2ecad17b3f88",
            "_dom_classes": [],
            "description": "100%",
            "_model_name": "FloatProgressModel",
            "bar_style": "success",
            "max": 8192,
            "_view_module": "@jupyter-widgets/controls",
            "_model_module_version": "1.5.0",
            "value": 8192,
            "_view_count": null,
            "_view_module_version": "1.5.0",
            "orientation": "horizontal",
            "min": 0,
            "description_tooltip": null,
            "_model_module": "@jupyter-widgets/controls",
            "layout": "IPY_MODEL_e8ec3d4fb3a540ec853bc390bbe6ac45"
          }
        },
        "a82896e584be4e9e8ab066d7c18b73a3": {
          "model_module": "@jupyter-widgets/controls",
          "model_name": "HTMLModel",
          "state": {
            "_view_name": "HTMLView",
            "style": "IPY_MODEL_677ea6ff7992400f869540770931b84f",
            "_dom_classes": [],
            "description": "",
            "_model_name": "HTMLModel",
            "placeholder": "​",
            "_view_module": "@jupyter-widgets/controls",
            "_model_module_version": "1.5.0",
            "value": " 8192/8192 [3:25:37&lt;00:00,  1.51s/it]",
            "_view_count": null,
            "_view_module_version": "1.5.0",
            "description_tooltip": null,
            "_model_module": "@jupyter-widgets/controls",
            "layout": "IPY_MODEL_fc174255f7d448e99ad8c3fea77887cd"
          }
        },
        "54070af321464dc483eb2ecad17b3f88": {
          "model_module": "@jupyter-widgets/controls",
          "model_name": "ProgressStyleModel",
          "state": {
            "_view_name": "StyleView",
            "_model_name": "ProgressStyleModel",
            "description_width": "initial",
            "_view_module": "@jupyter-widgets/base",
            "_model_module_version": "1.5.0",
            "_view_count": null,
            "_view_module_version": "1.2.0",
            "bar_color": null,
            "_model_module": "@jupyter-widgets/controls"
          }
        },
        "e8ec3d4fb3a540ec853bc390bbe6ac45": {
          "model_module": "@jupyter-widgets/base",
          "model_name": "LayoutModel",
          "state": {
            "_view_name": "LayoutView",
            "grid_template_rows": null,
            "right": null,
            "justify_content": null,
            "_view_module": "@jupyter-widgets/base",
            "overflow": null,
            "_model_module_version": "1.2.0",
            "_view_count": null,
            "flex_flow": null,
            "width": null,
            "min_width": null,
            "border": null,
            "align_items": null,
            "bottom": null,
            "_model_module": "@jupyter-widgets/base",
            "top": null,
            "grid_column": null,
            "overflow_y": null,
            "overflow_x": null,
            "grid_auto_flow": null,
            "grid_area": null,
            "grid_template_columns": null,
            "flex": null,
            "_model_name": "LayoutModel",
            "justify_items": null,
            "grid_row": null,
            "max_height": null,
            "align_content": null,
            "visibility": null,
            "align_self": null,
            "height": null,
            "min_height": null,
            "padding": null,
            "grid_auto_rows": null,
            "grid_gap": null,
            "max_width": null,
            "order": null,
            "_view_module_version": "1.2.0",
            "grid_template_areas": null,
            "object_position": null,
            "object_fit": null,
            "grid_auto_columns": null,
            "margin": null,
            "display": null,
            "left": null
          }
        },
        "677ea6ff7992400f869540770931b84f": {
          "model_module": "@jupyter-widgets/controls",
          "model_name": "DescriptionStyleModel",
          "state": {
            "_view_name": "StyleView",
            "_model_name": "DescriptionStyleModel",
            "description_width": "",
            "_view_module": "@jupyter-widgets/base",
            "_model_module_version": "1.5.0",
            "_view_count": null,
            "_view_module_version": "1.2.0",
            "_model_module": "@jupyter-widgets/controls"
          }
        },
        "fc174255f7d448e99ad8c3fea77887cd": {
          "model_module": "@jupyter-widgets/base",
          "model_name": "LayoutModel",
          "state": {
            "_view_name": "LayoutView",
            "grid_template_rows": null,
            "right": null,
            "justify_content": null,
            "_view_module": "@jupyter-widgets/base",
            "overflow": null,
            "_model_module_version": "1.2.0",
            "_view_count": null,
            "flex_flow": null,
            "width": null,
            "min_width": null,
            "border": null,
            "align_items": null,
            "bottom": null,
            "_model_module": "@jupyter-widgets/base",
            "top": null,
            "grid_column": null,
            "overflow_y": null,
            "overflow_x": null,
            "grid_auto_flow": null,
            "grid_area": null,
            "grid_template_columns": null,
            "flex": null,
            "_model_name": "LayoutModel",
            "justify_items": null,
            "grid_row": null,
            "max_height": null,
            "align_content": null,
            "visibility": null,
            "align_self": null,
            "height": null,
            "min_height": null,
            "padding": null,
            "grid_auto_rows": null,
            "grid_gap": null,
            "max_width": null,
            "order": null,
            "_view_module_version": "1.2.0",
            "grid_template_areas": null,
            "object_position": null,
            "object_fit": null,
            "grid_auto_columns": null,
            "margin": null,
            "display": null,
            "left": null
          }
        },
        "1b720f295fe641e9b6a284962539cf8d": {
          "model_module": "@jupyter-widgets/controls",
          "model_name": "HBoxModel",
          "state": {
            "_view_name": "HBoxView",
            "_dom_classes": [],
            "_model_name": "HBoxModel",
            "_view_module": "@jupyter-widgets/controls",
            "_model_module_version": "1.5.0",
            "_view_count": null,
            "_view_module_version": "1.5.0",
            "box_style": "",
            "layout": "IPY_MODEL_dedd3d437aac4029851320cf20adddd3",
            "_model_module": "@jupyter-widgets/controls",
            "children": [
              "IPY_MODEL_20a81db2ec14445cbdbe0fe440d4c3e6",
              "IPY_MODEL_5e401e73b4b94a358043157005405f64"
            ]
          }
        },
        "dedd3d437aac4029851320cf20adddd3": {
          "model_module": "@jupyter-widgets/base",
          "model_name": "LayoutModel",
          "state": {
            "_view_name": "LayoutView",
            "grid_template_rows": null,
            "right": null,
            "justify_content": null,
            "_view_module": "@jupyter-widgets/base",
            "overflow": null,
            "_model_module_version": "1.2.0",
            "_view_count": null,
            "flex_flow": null,
            "width": null,
            "min_width": null,
            "border": null,
            "align_items": null,
            "bottom": null,
            "_model_module": "@jupyter-widgets/base",
            "top": null,
            "grid_column": null,
            "overflow_y": null,
            "overflow_x": null,
            "grid_auto_flow": null,
            "grid_area": null,
            "grid_template_columns": null,
            "flex": null,
            "_model_name": "LayoutModel",
            "justify_items": null,
            "grid_row": null,
            "max_height": null,
            "align_content": null,
            "visibility": null,
            "align_self": null,
            "height": null,
            "min_height": null,
            "padding": null,
            "grid_auto_rows": null,
            "grid_gap": null,
            "max_width": null,
            "order": null,
            "_view_module_version": "1.2.0",
            "grid_template_areas": null,
            "object_position": null,
            "object_fit": null,
            "grid_auto_columns": null,
            "margin": null,
            "display": null,
            "left": null
          }
        },
        "20a81db2ec14445cbdbe0fe440d4c3e6": {
          "model_module": "@jupyter-widgets/controls",
          "model_name": "FloatProgressModel",
          "state": {
            "_view_name": "ProgressView",
            "style": "IPY_MODEL_f2f36a1855684fa791a2dd7319e2e9f6",
            "_dom_classes": [],
            "description": " 27%",
            "_model_name": "FloatProgressModel",
            "bar_style": "",
            "max": 8192,
            "_view_module": "@jupyter-widgets/controls",
            "_model_module_version": "1.5.0",
            "value": 2240,
            "_view_count": null,
            "_view_module_version": "1.5.0",
            "orientation": "horizontal",
            "min": 0,
            "description_tooltip": null,
            "_model_module": "@jupyter-widgets/controls",
            "layout": "IPY_MODEL_07426b6006b0459ca932d8f7498f8c7e"
          }
        },
        "5e401e73b4b94a358043157005405f64": {
          "model_module": "@jupyter-widgets/controls",
          "model_name": "HTMLModel",
          "state": {
            "_view_name": "HTMLView",
            "style": "IPY_MODEL_5e653b41309a4b99b9809845e4899544",
            "_dom_classes": [],
            "description": "",
            "_model_name": "HTMLModel",
            "placeholder": "​",
            "_view_module": "@jupyter-widgets/controls",
            "_model_module_version": "1.5.0",
            "value": " 2240/8192 [56:36&lt;2:30:10,  1.51s/it]",
            "_view_count": null,
            "_view_module_version": "1.5.0",
            "description_tooltip": null,
            "_model_module": "@jupyter-widgets/controls",
            "layout": "IPY_MODEL_4d5d8a94860743a6a40153ad947a2b0f"
          }
        },
        "f2f36a1855684fa791a2dd7319e2e9f6": {
          "model_module": "@jupyter-widgets/controls",
          "model_name": "ProgressStyleModel",
          "state": {
            "_view_name": "StyleView",
            "_model_name": "ProgressStyleModel",
            "description_width": "initial",
            "_view_module": "@jupyter-widgets/base",
            "_model_module_version": "1.5.0",
            "_view_count": null,
            "_view_module_version": "1.2.0",
            "bar_color": null,
            "_model_module": "@jupyter-widgets/controls"
          }
        },
        "07426b6006b0459ca932d8f7498f8c7e": {
          "model_module": "@jupyter-widgets/base",
          "model_name": "LayoutModel",
          "state": {
            "_view_name": "LayoutView",
            "grid_template_rows": null,
            "right": null,
            "justify_content": null,
            "_view_module": "@jupyter-widgets/base",
            "overflow": null,
            "_model_module_version": "1.2.0",
            "_view_count": null,
            "flex_flow": null,
            "width": null,
            "min_width": null,
            "border": null,
            "align_items": null,
            "bottom": null,
            "_model_module": "@jupyter-widgets/base",
            "top": null,
            "grid_column": null,
            "overflow_y": null,
            "overflow_x": null,
            "grid_auto_flow": null,
            "grid_area": null,
            "grid_template_columns": null,
            "flex": null,
            "_model_name": "LayoutModel",
            "justify_items": null,
            "grid_row": null,
            "max_height": null,
            "align_content": null,
            "visibility": null,
            "align_self": null,
            "height": null,
            "min_height": null,
            "padding": null,
            "grid_auto_rows": null,
            "grid_gap": null,
            "max_width": null,
            "order": null,
            "_view_module_version": "1.2.0",
            "grid_template_areas": null,
            "object_position": null,
            "object_fit": null,
            "grid_auto_columns": null,
            "margin": null,
            "display": null,
            "left": null
          }
        },
        "5e653b41309a4b99b9809845e4899544": {
          "model_module": "@jupyter-widgets/controls",
          "model_name": "DescriptionStyleModel",
          "state": {
            "_view_name": "StyleView",
            "_model_name": "DescriptionStyleModel",
            "description_width": "",
            "_view_module": "@jupyter-widgets/base",
            "_model_module_version": "1.5.0",
            "_view_count": null,
            "_view_module_version": "1.2.0",
            "_model_module": "@jupyter-widgets/controls"
          }
        },
        "4d5d8a94860743a6a40153ad947a2b0f": {
          "model_module": "@jupyter-widgets/base",
          "model_name": "LayoutModel",
          "state": {
            "_view_name": "LayoutView",
            "grid_template_rows": null,
            "right": null,
            "justify_content": null,
            "_view_module": "@jupyter-widgets/base",
            "overflow": null,
            "_model_module_version": "1.2.0",
            "_view_count": null,
            "flex_flow": null,
            "width": null,
            "min_width": null,
            "border": null,
            "align_items": null,
            "bottom": null,
            "_model_module": "@jupyter-widgets/base",
            "top": null,
            "grid_column": null,
            "overflow_y": null,
            "overflow_x": null,
            "grid_auto_flow": null,
            "grid_area": null,
            "grid_template_columns": null,
            "flex": null,
            "_model_name": "LayoutModel",
            "justify_items": null,
            "grid_row": null,
            "max_height": null,
            "align_content": null,
            "visibility": null,
            "align_self": null,
            "height": null,
            "min_height": null,
            "padding": null,
            "grid_auto_rows": null,
            "grid_gap": null,
            "max_width": null,
            "order": null,
            "_view_module_version": "1.2.0",
            "grid_template_areas": null,
            "object_position": null,
            "object_fit": null,
            "grid_auto_columns": null,
            "margin": null,
            "display": null,
            "left": null
          }
        },
        "cb3b93558387489fa455aefba05ccd82": {
          "model_module": "@jupyter-widgets/controls",
          "model_name": "HBoxModel",
          "state": {
            "_view_name": "HBoxView",
            "_dom_classes": [],
            "_model_name": "HBoxModel",
            "_view_module": "@jupyter-widgets/controls",
            "_model_module_version": "1.5.0",
            "_view_count": null,
            "_view_module_version": "1.5.0",
            "box_style": "",
            "layout": "IPY_MODEL_1c7e3a5e55054b9d9b8727214926c573",
            "_model_module": "@jupyter-widgets/controls",
            "children": [
              "IPY_MODEL_53444be695df48af9da499ac3d1d038e",
              "IPY_MODEL_b655fdaf49f64bc78f1194f30d64bd1f"
            ]
          }
        },
        "1c7e3a5e55054b9d9b8727214926c573": {
          "model_module": "@jupyter-widgets/base",
          "model_name": "LayoutModel",
          "state": {
            "_view_name": "LayoutView",
            "grid_template_rows": null,
            "right": null,
            "justify_content": null,
            "_view_module": "@jupyter-widgets/base",
            "overflow": null,
            "_model_module_version": "1.2.0",
            "_view_count": null,
            "flex_flow": null,
            "width": null,
            "min_width": null,
            "border": null,
            "align_items": null,
            "bottom": null,
            "_model_module": "@jupyter-widgets/base",
            "top": null,
            "grid_column": null,
            "overflow_y": null,
            "overflow_x": null,
            "grid_auto_flow": null,
            "grid_area": null,
            "grid_template_columns": null,
            "flex": null,
            "_model_name": "LayoutModel",
            "justify_items": null,
            "grid_row": null,
            "max_height": null,
            "align_content": null,
            "visibility": null,
            "align_self": null,
            "height": null,
            "min_height": null,
            "padding": null,
            "grid_auto_rows": null,
            "grid_gap": null,
            "max_width": null,
            "order": null,
            "_view_module_version": "1.2.0",
            "grid_template_areas": null,
            "object_position": null,
            "object_fit": null,
            "grid_auto_columns": null,
            "margin": null,
            "display": null,
            "left": null
          }
        },
        "53444be695df48af9da499ac3d1d038e": {
          "model_module": "@jupyter-widgets/controls",
          "model_name": "FloatProgressModel",
          "state": {
            "_view_name": "ProgressView",
            "style": "IPY_MODEL_d4a7b879700c4885a4f74d1e4fbd4fb0",
            "_dom_classes": [],
            "description": "100%",
            "_model_name": "FloatProgressModel",
            "bar_style": "success",
            "max": 100,
            "_view_module": "@jupyter-widgets/controls",
            "_model_module_version": "1.5.0",
            "value": 100,
            "_view_count": null,
            "_view_module_version": "1.5.0",
            "orientation": "horizontal",
            "min": 0,
            "description_tooltip": null,
            "_model_module": "@jupyter-widgets/controls",
            "layout": "IPY_MODEL_1c6d47e0844744a38c9f4c817d3539ee"
          }
        },
        "b655fdaf49f64bc78f1194f30d64bd1f": {
          "model_module": "@jupyter-widgets/controls",
          "model_name": "HTMLModel",
          "state": {
            "_view_name": "HTMLView",
            "style": "IPY_MODEL_0031df6a324f4976ae712891f73f2a11",
            "_dom_classes": [],
            "description": "",
            "_model_name": "HTMLModel",
            "placeholder": "​",
            "_view_module": "@jupyter-widgets/controls",
            "_model_module_version": "1.5.0",
            "value": " 100/100 [7:10:19&lt;00:00, 258.19s/it]",
            "_view_count": null,
            "_view_module_version": "1.5.0",
            "description_tooltip": null,
            "_model_module": "@jupyter-widgets/controls",
            "layout": "IPY_MODEL_61159caacbb0480997aa2614ae16ea95"
          }
        },
        "d4a7b879700c4885a4f74d1e4fbd4fb0": {
          "model_module": "@jupyter-widgets/controls",
          "model_name": "ProgressStyleModel",
          "state": {
            "_view_name": "StyleView",
            "_model_name": "ProgressStyleModel",
            "description_width": "initial",
            "_view_module": "@jupyter-widgets/base",
            "_model_module_version": "1.5.0",
            "_view_count": null,
            "_view_module_version": "1.2.0",
            "bar_color": null,
            "_model_module": "@jupyter-widgets/controls"
          }
        },
        "1c6d47e0844744a38c9f4c817d3539ee": {
          "model_module": "@jupyter-widgets/base",
          "model_name": "LayoutModel",
          "state": {
            "_view_name": "LayoutView",
            "grid_template_rows": null,
            "right": null,
            "justify_content": null,
            "_view_module": "@jupyter-widgets/base",
            "overflow": null,
            "_model_module_version": "1.2.0",
            "_view_count": null,
            "flex_flow": null,
            "width": null,
            "min_width": null,
            "border": null,
            "align_items": null,
            "bottom": null,
            "_model_module": "@jupyter-widgets/base",
            "top": null,
            "grid_column": null,
            "overflow_y": null,
            "overflow_x": null,
            "grid_auto_flow": null,
            "grid_area": null,
            "grid_template_columns": null,
            "flex": null,
            "_model_name": "LayoutModel",
            "justify_items": null,
            "grid_row": null,
            "max_height": null,
            "align_content": null,
            "visibility": null,
            "align_self": null,
            "height": null,
            "min_height": null,
            "padding": null,
            "grid_auto_rows": null,
            "grid_gap": null,
            "max_width": null,
            "order": null,
            "_view_module_version": "1.2.0",
            "grid_template_areas": null,
            "object_position": null,
            "object_fit": null,
            "grid_auto_columns": null,
            "margin": null,
            "display": null,
            "left": null
          }
        },
        "0031df6a324f4976ae712891f73f2a11": {
          "model_module": "@jupyter-widgets/controls",
          "model_name": "DescriptionStyleModel",
          "state": {
            "_view_name": "StyleView",
            "_model_name": "DescriptionStyleModel",
            "description_width": "",
            "_view_module": "@jupyter-widgets/base",
            "_model_module_version": "1.5.0",
            "_view_count": null,
            "_view_module_version": "1.2.0",
            "_model_module": "@jupyter-widgets/controls"
          }
        },
        "61159caacbb0480997aa2614ae16ea95": {
          "model_module": "@jupyter-widgets/base",
          "model_name": "LayoutModel",
          "state": {
            "_view_name": "LayoutView",
            "grid_template_rows": null,
            "right": null,
            "justify_content": null,
            "_view_module": "@jupyter-widgets/base",
            "overflow": null,
            "_model_module_version": "1.2.0",
            "_view_count": null,
            "flex_flow": null,
            "width": null,
            "min_width": null,
            "border": null,
            "align_items": null,
            "bottom": null,
            "_model_module": "@jupyter-widgets/base",
            "top": null,
            "grid_column": null,
            "overflow_y": null,
            "overflow_x": null,
            "grid_auto_flow": null,
            "grid_area": null,
            "grid_template_columns": null,
            "flex": null,
            "_model_name": "LayoutModel",
            "justify_items": null,
            "grid_row": null,
            "max_height": null,
            "align_content": null,
            "visibility": null,
            "align_self": null,
            "height": null,
            "min_height": null,
            "padding": null,
            "grid_auto_rows": null,
            "grid_gap": null,
            "max_width": null,
            "order": null,
            "_view_module_version": "1.2.0",
            "grid_template_areas": null,
            "object_position": null,
            "object_fit": null,
            "grid_auto_columns": null,
            "margin": null,
            "display": null,
            "left": null
          }
        }
      }
    },
    "accelerator": "GPU"
  },
  "cells": [
    {
      "cell_type": "markdown",
      "metadata": {
        "id": "view-in-github",
        "colab_type": "text"
      },
      "source": [
        "<a href=\"https://colab.research.google.com/github/physicaone/loss_IG/blob/master/%5B210802%5DExact_quantities.ipynb\" target=\"_parent\"><img src=\"https://colab.research.google.com/assets/colab-badge.svg\" alt=\"Open In Colab\"/></a>"
      ]
    },
    {
      "cell_type": "code",
      "metadata": {
        "colab": {
          "base_uri": "https://localhost:8080/"
        },
        "id": "Te6zZB8sZFDm",
        "outputId": "584407e5-45c8-493b-9de0-7d52621da2b1"
      },
      "source": [
        "try:\n",
        "    from google.colab import drive\n",
        "    drive.mount('/content/drive')\n",
        "    base='drive/MyDrive'\n",
        "except:\n",
        "    base='Google Drive'"
      ],
      "execution_count": 1,
      "outputs": [
        {
          "output_type": "stream",
          "text": [
            "Drive already mounted at /content/drive; to attempt to forcibly remount, call drive.mount(\"/content/drive\", force_remount=True).\n"
          ],
          "name": "stdout"
        }
      ]
    },
    {
      "cell_type": "code",
      "metadata": {
        "id": "JBWjLs2eV-0R"
      },
      "source": [
        "import numpy as np\n",
        "import torch\n",
        "import torchvision.datasets\n",
        "import torchvision.models\n",
        "import torchvision.transforms\n",
        "import torch.nn.functional as F\n",
        "from torchvision import datasets, transforms\n",
        "from torchvision.utils import make_grid\n",
        "import torch.utils.data\n",
        "import torch.nn as nn\n",
        "from itertools import combinations\n",
        "from itertools import permutations\n",
        "from datetime import datetime\n",
        "from tqdm import tqdm, tnrange\n",
        "import warnings\n",
        "warnings.filterwarnings(\"ignore\")\n",
        "import pickle as pkl\n",
        "import pandas as pd\n",
        "import matplotlib.pyplot as plt\n",
        "import matplotlib.gridspec as gridspec\n",
        "%matplotlib inline\n",
        "# np.seterr(divide='ignore', invalid='ignore')\n",
        "import itertools\n",
        "import re\n",
        "from time import sleep\n",
        "from scipy.stats import entropy\n"
      ],
      "execution_count": 2,
      "outputs": []
    },
    {
      "cell_type": "markdown",
      "metadata": {
        "id": "QZMPF-Cs4prw"
      },
      "source": [
        "#Define RBM class"
      ]
    },
    {
      "cell_type": "code",
      "metadata": {
        "id": "4UlSsScJdssV"
      },
      "source": [
        "class RBM(nn.Module):\n",
        "\n",
        "    def __init__(self, n_vis, n_hid, k, use_cuda):\n",
        "        \"\"\"Create a RBM.\"\"\"\n",
        "        super(RBM, self).__init__()\n",
        "        \n",
        "        if use_cuda==True:\n",
        "            self.v = nn.Parameter(torch.ones(1, n_vis).cuda())\n",
        "            self.h = nn.Parameter(torch.zeros(1, n_hid).cuda())\n",
        "            self.W = nn.Parameter(torch.randn(n_hid, n_vis).cuda())\n",
        "            self.k = k\n",
        "        else:\n",
        "            self.v = nn.Parameter(torch.ones(1, n_vis))\n",
        "            self.h = nn.Parameter(torch.zeros(1, n_hid))\n",
        "            self.W = nn.Parameter(torch.randn(n_hid, n_vis))\n",
        "            self.k = k     \n",
        "\n",
        "    def visible_to_hidden(self, v, beta):\n",
        "        return torch.sigmoid(F.linear(v, self.W, self.h)*beta)\n",
        "\n",
        "    def hidden_to_visible(self, h, beta):\n",
        "        return torch.sigmoid(F.linear(h, self.W.t(), self.v)*beta)\n",
        "\n",
        "    def free_energy(self, v):\n",
        "        v_term = torch.matmul(v, self.v.t())\n",
        "        w_x_h = F.linear(v, self.W, self.h)\n",
        "        h_term = torch.sum(F.softplus(w_x_h), dim=1)\n",
        "        return torch.mean(-h_term - v_term)\n",
        "    \n",
        "    def energy2(self, v, h):\n",
        "        return -torch.matmul(v, self.v.t())-torch.matmul(torch.matmul(v, self.W.t()),h.t())-torch.matmul(h, self.h.t())\n",
        "\n",
        "    def forward(self, v):\n",
        "        h = self.visible_to_hidden(v)\n",
        "        h = h.bernoulli()\n",
        "        for _ in range(self.k):\n",
        "            v_gibb = self.hidden_to_visible(h)\n",
        "            v_gibb = v_gibb.bernoulli()\n",
        "            h = self.visible_to_hidden(v_gibb)\n",
        "            h = h.bernoulli()\n",
        "        return v, v_gibb"
      ],
      "execution_count": 3,
      "outputs": []
    },
    {
      "cell_type": "markdown",
      "metadata": {
        "id": "0JcNwwuj4lFg"
      },
      "source": [
        "# Check CUDA availability"
      ]
    },
    {
      "cell_type": "code",
      "metadata": {
        "colab": {
          "base_uri": "https://localhost:8080/"
        },
        "id": "zdT15FDJV-0X",
        "outputId": "bb4efc6d-a446-43e8-99de-8a4290dea27c"
      },
      "source": [
        "CUDA = torch.cuda.is_available()\n",
        "CUDA_DEVICE = 0\n",
        "\n",
        "if CUDA:\n",
        "    device='cuda'\n",
        "else:\n",
        "    device='cpu'\n",
        "torch.cuda.is_available(); CUDA"
      ],
      "execution_count": 4,
      "outputs": [
        {
          "output_type": "execute_result",
          "data": {
            "text/plain": [
              "True"
            ]
          },
          "metadata": {
            "tags": []
          },
          "execution_count": 4
        }
      ]
    },
    {
      "cell_type": "markdown",
      "metadata": {
        "id": "HDzjIM3bidLM"
      },
      "source": [
        "# Define fundamental functions"
      ]
    },
    {
      "cell_type": "code",
      "metadata": {
        "id": "N0jqccefV-0X"
      },
      "source": [
        "# 아래 두 함수는 PT와는 아무 상관 없습니다. 10진법을 2진법으로 바꾸고 리스트 형태로 변형하는 함수입니다. 예)15->[1,1,1,1]\n",
        "# 그리고 그 다음은 역함수입니다.\n",
        "def decimal_to_binary(integer, n_hid):\n",
        "    string=bin(int(integer))[2:]\n",
        "    list0=[float(d) for d in string]\n",
        "    while len(list0)<n_hid:\n",
        "        list0=[0.]+list0\n",
        "    return torch.tensor([list0])\n",
        "\n",
        "def binary_to_decimal(list0):\n",
        "    value=0\n",
        "    list0=list0.tolist()\n",
        "    for i in range(len(list0)):\n",
        "        value+=list0[-i-1]*2**(i)\n",
        "    return int(value)\n",
        "\n",
        "def get_hist(list00, color='red'):\n",
        "    bins=range(int(min(list00)-30), int(max(list00)+30), 1)\n",
        "    y1,x1,_ = plt.hist(list00, bins = bins, histtype='step', color=color)\n",
        "    x1 = 0.5*(x1[1:]+x1[:-1])\n",
        "    return x1, y1\n",
        "\n",
        "def flatten_list(list0):\n",
        "    flattened = [val for sublist in list0 for val in sublist]\n",
        "    return flattened\n",
        "\n",
        "def Energy(model0_dict, v_list, h_list):\n",
        "    a=model0_dict['v'].detach()\n",
        "    b=model0_dict['h'].detach()\n",
        "    W=model0_dict['W'].detach()\n",
        "    values=[]\n",
        "    for i in range(len(v_list)):\n",
        "        e=-np.matmul(v_list[i], a.t())-np.matmul(np.matmul(v_list[i], W.t()), h_list[i].t())-np.matmul(h_list[i], b.t())\n",
        "        values.append(e.detach())\n",
        "    return float(np.mean(values))\n",
        "    \n",
        "def Energy_GPU(model0_dict, v_list0, h_list0):\n",
        "    n_split=4\n",
        "    a=model0_dict['v'].detach().cuda().view(n_vis)\n",
        "    b=model0_dict['h'].detach().cuda().view(n_hid)\n",
        "    W=model0_dict['W'].detach().cuda().view(n_hid, n_vis)\n",
        "    values=[]\n",
        "    len(h_list0)\n",
        "    for i in range(n_split):\n",
        "        v_list=torch.stack(list(v_list0[i*int(len(v_list0)/n_split):(i+1)*int(len(v_list0)/n_split)]))\n",
        "        h_list=torch.stack(list(h_list0[i*int(len(h_list0)/n_split):(i+1)*int(len(h_list0)/n_split)]))\n",
        "        v_list=v_list.detach().cuda().view(len(v_list), n_vis)\n",
        "        h_list=h_list.detach().cuda().view(len(h_list), n_hid)\n",
        "        e=-torch.matmul(v_list.float(), a)-torch.diagonal(torch.matmul(torch.matmul(v_list.float(), W.t()), h_list.float().t()))-torch.matmul(h_list.float(), b)\n",
        "        values.append(np.mean(e.cpu().detach().numpy()))\n",
        "    return np.mean(values)\n",
        "\n",
        "# Energy_GPU returns an array of values\n",
        "def Energy_GPU2(model0_dict, v_list0, h_list0):\n",
        "    n_split=4\n",
        "    a=model0_dict['v'].detach().cuda().view(n_vis)\n",
        "    b=model0_dict['h'].detach().cuda().view(n_hid)\n",
        "    W=model0_dict['W'].detach().cuda().view(n_hid, n_vis)\n",
        "    values=[]\n",
        "    len(h_list0)\n",
        "    for i in range(n_split):\n",
        "        v_list=torch.stack(list(v_list0[i*int(len(v_list0)/n_split):(i+1)*int(len(v_list0)/n_split)]))\n",
        "        h_list=torch.stack(list(h_list0[i*int(len(h_list0)/n_split):(i+1)*int(len(h_list0)/n_split)]))\n",
        "        v_list=v_list.detach().cuda().view(len(v_list), n_vis)\n",
        "        h_list=h_list.detach().cuda().view(len(h_list), n_hid)\n",
        "        e=-torch.matmul(v_list.float(), a)-torch.diagonal(torch.matmul(torch.matmul(v_list.float(), W.t()), h_list.float().t()))-torch.matmul(h_list.float(), b)\n",
        "        values.append(e.cpu().detach().numpy())\n",
        "\n",
        "    return np.array(flatten_list(values))\n",
        "\n",
        "\n",
        "def sigmoid(x):\n",
        "    return 1 / (1 + np.exp(-x))\n",
        "\n",
        "def Exact_Q_Z(model0_dict, n_vis, n_hid, n_split, v_list0, h_list0):\n",
        "    a=model0_dict['v'].detach().cuda().view(n_vis)\n",
        "    b=model0_dict['h'].detach().cuda().view(n_hid)\n",
        "    W=model0_dict['W'].detach().cuda().view(n_hid, n_vis)\n",
        "    values=[]\n",
        "    len(h_list0)\n",
        "    for i in range(n_split):\n",
        "        v_list=torch.stack(list(v_list0[i*int(len(v_list0)/n_split):(i+1)*int(len(v_list0)/n_split)]))\n",
        "        h_list=torch.stack(list(h_list0[i*int(len(h_list0)/n_split):(i+1)*int(len(h_list0)/n_split)]))\n",
        "        v_list=v_list.detach().cuda().view(len(v_list), n_vis)\n",
        "        h_list=h_list.detach().cuda().view(len(h_list), n_hid)\n",
        "        e=-torch.matmul(v_list.float(), a)-torch.diagonal(torch.matmul(torch.matmul(v_list.float(), W.t()), h_list.float().t()))-torch.matmul(h_list.float(), b)\n",
        "        values=values+list(torch.exp(-e).detach().cpu().numpy())\n",
        "\n",
        "    # return float(torch.sum(torch.tensor(values)).detach().numpy())\n",
        "    return np.array(values)/sum(values), sum(values)\n",
        "\n",
        "def Energy_from_Q(Q_Z_ideal, Q_Z_real):\n",
        "    ideal_E_list=-np.log(np.array(Q_Z_ideal[0]*Q_Z_ideal[1]))\n",
        "    real_E_list=-np.log(np.array(Q_Z_real[0]*Q_Z_ideal[1]))\n",
        "    dE=[]\n",
        "    for i in range(len(ideal_E_list)):\n",
        "        dE.append(real_E_list[i]*Q_Z_ideal[0][i]-ideal_E_list[i]*Q_Z_ideal[0][i])\n",
        "    return sum(dE)\n"
      ],
      "execution_count": 5,
      "outputs": []
    },
    {
      "cell_type": "code",
      "metadata": {
        "id": "xmv-j18uV-0Z"
      },
      "source": [
        ""
      ],
      "execution_count": 5,
      "outputs": []
    },
    {
      "cell_type": "code",
      "metadata": {
        "id": "aAai0VLA3KYy"
      },
      "source": [
        "n_hid_list=[16,24,32]\n",
        "T_list=[1.47,1.78,2.3,5.2,16]\n",
        "n_vis=9"
      ],
      "execution_count": 6,
      "outputs": []
    },
    {
      "cell_type": "markdown",
      "metadata": {
        "id": "tiY07r0o_W4Z"
      },
      "source": [
        "# Exact distribution and partition function"
      ]
    },
    {
      "cell_type": "code",
      "metadata": {
        "id": "Odp0cm0N2G-c"
      },
      "source": [
        "for n_hid in [1,2,4,8,12]:\n",
        "    v_list=[]; h_list=[]\n",
        "    for s in range(2**(n_vis+n_hid)):\n",
        "        full=decimal_to_binary(s, n_hid+n_vis)[0]\n",
        "        v=full[:n_vis]; h=full[-n_hid:]\n",
        "        v_list.append(v); h_list.append(h)\n",
        "    v_list0=torch.stack(v_list)\n",
        "    h_list0=torch.stack(h_list)\n",
        "    if n_hid in [1,2,4,8]:\n",
        "        n_split=4\n",
        "    else:\n",
        "        n_split=2000\n",
        "    for T in T_list:\n",
        "        dict0={}; dict1={}; dict2={}\n",
        "        models=pd.read_pickle('{base}/loss_IG/3*3/state_dict/n_hid={n_hid}_T={T}_mn_rearranged.pkl'.format(base=base, n_hid=n_hid, T=T)) \n",
        "        model_dicts_CM_m=pd.read_pickle('{base}/loss_IG/3*3/state_dict/n_hid={n_hid}_T={T}_CM_m_rearranged.pkl'.format(base=base, n_hid=n_hid, T=T))\n",
        "        model_dicts_CM=pd.read_pickle('{base}/loss_IG/3*3/state_dict/n_hid={n_hid}_T={T}_CM_rearranged.pkl'.format(base=base, n_hid=n_hid, T=T))\n",
        "        dict2=Exact_Q_Z(model_dicts_CM, n_vis, n_hid, n_split, v_list0, h_list0)\n",
        "        for m in tnrange(10):\n",
        "            dict0[str(m)]={}\n",
        "            dict1[str(m)]=Exact_Q_Z(model_dicts_CM_m[str(m)], n_vis, n_hid, n_split, v_list0, h_list0)\n",
        "            for n in range(10):\n",
        "                dict0[str(m)][str(n)]=Exact_Q_Z(models[str(m)][str(n)], n_vis, n_hid, n_split, v_list0, h_list0)\n",
        "        \n",
        "        with open('{base}/loss_IG/3*3/data/3*3_n_hid={n_hid}_T={T}_Q_Z_rearranged.pkl'.format(base=base, n_hid=n_hid, T=T), 'wb') as f:\n",
        "            pkl.dump({'mn':dict0, 'CM_m':dict1, 'CM':dict2}, f)"
      ],
      "execution_count": null,
      "outputs": []
    },
    {
      "cell_type": "code",
      "metadata": {
        "id": "ngmM6tiM7Kpa"
      },
      "source": [
        "# exact FE using rearranged exact Z\n",
        "for n_hid in [1,2,4,8,12]:\n",
        "    for T in T_list:\n",
        "        dict0={}; dict1={}; dict2={}\n",
        "        models=pd.read_pickle('{base}/loss_IG/3*3/state_dict/n_hid={n_hid}_T={T}_mn_rearranged.pkl'.format(base=base, n_hid=n_hid, T=T)) \n",
        "        model_dicts_CM_m=pd.read_pickle('{base}/loss_IG/3*3/state_dict/n_hid={n_hid}_T={T}_CM_m_rearranged.pkl'.format(base=base, n_hid=n_hid, T=T))\n",
        "        model_dicts_CM=pd.read_pickle('{base}/loss_IG/3*3/state_dict/n_hid={n_hid}_T={T}_CM_rearranged.pkl'.format(base=base, n_hid=n_hid, T=T))\n",
        "        Q_Z=pd.read_pickle('{base}/loss_IG/3*3/data/3*3_n_hid={n_hid}_T={T}_Q_Z_rearranged.pkl'.format(base=base, n_hid=n_hid, T=T))\n",
        "        dict2=-np.log(Q_Z['CM'][1])\n",
        "        for m in tnrange(10):\n",
        "            dict0[str(m)]={}\n",
        "            dict1[str(m)]=-np.log(Q_Z['CM_m'][str(m)][1])\n",
        "            for n in range(10):\n",
        "                dict0[str(m)][str(n)]=-np.log(Q_Z['mn'][str(m)][str(n)][1])\n",
        "        \n",
        "        with open('{base}/loss_IG/3*3/data/3*3_n_hid={n_hid}_T={T}_FE_exact_rearranged.pkl'.format(base=base, n_hid=n_hid, T=T), 'wb') as f:\n",
        "            pkl.dump({'mn':dict0, 'CM_m':dict1, 'CM':dict2}, f)"
      ],
      "execution_count": null,
      "outputs": []
    },
    {
      "cell_type": "code",
      "metadata": {
        "id": "rQgniswYCn0H"
      },
      "source": [
        "# Energy differnece term using rearranged exact Q\n",
        "for n_hid in [1,2,4,8,12]:\n",
        "    for T in T_list:\n",
        "        dict_CM={}; dict_CM_m={}\n",
        "        Q_Z=pd.read_pickle('{base}/loss_IG/3*3/data/3*3_n_hid={n_hid}_T={T}_Q_Z_rearranged.pkl'.format(base=base, n_hid=n_hid, T=T))\n",
        "        for m in tnrange(10):\n",
        "            dict_CM[str(m)]={}\n",
        "            dict_CM_m[str(m)]={ }\n",
        "            for n in range(10):\n",
        "                dict_CM[str(m)][str(n)]=Energy_from_Q(Q_Z['CM'], Q_Z['mn'][str(m)][str(n)])\n",
        "                dict_CM_m[str(m)][str(n)]=Energy_from_Q(Q_Z['CM_m'][str(m)], Q_Z['mn'][str(m)][str(n)])\n",
        "        \n",
        "        with open('{base}/loss_IG/3*3/data/3*3_n_hid={n_hid}_T={T}_dE_exact_rearranged.pkl'.format(base=base, n_hid=n_hid, T=T), 'wb') as f:\n",
        "            pkl.dump({'CM_m':dict_CM_m, 'CM':dict_CM}, f)"
      ],
      "execution_count": null,
      "outputs": []
    },
    {
      "cell_type": "markdown",
      "metadata": {
        "id": "mTf6ADh6-6F6"
      },
      "source": [
        "# Exact FE for larger n_hid"
      ]
    },
    {
      "cell_type": "code",
      "metadata": {
        "colab": {
          "base_uri": "https://localhost:8080/",
          "height": 113,
          "referenced_widgets": [
            "fc6d6738f62644058e7bac2c8c4a9671",
            "05940784c1ba48b280cce025fcab4685",
            "f4abbdb5701644acb503200ba5b8a8b7",
            "a82896e584be4e9e8ab066d7c18b73a3",
            "54070af321464dc483eb2ecad17b3f88",
            "e8ec3d4fb3a540ec853bc390bbe6ac45",
            "677ea6ff7992400f869540770931b84f",
            "fc174255f7d448e99ad8c3fea77887cd",
            "1b720f295fe641e9b6a284962539cf8d",
            "dedd3d437aac4029851320cf20adddd3",
            "20a81db2ec14445cbdbe0fe440d4c3e6",
            "5e401e73b4b94a358043157005405f64",
            "f2f36a1855684fa791a2dd7319e2e9f6",
            "07426b6006b0459ca932d8f7498f8c7e",
            "5e653b41309a4b99b9809845e4899544",
            "4d5d8a94860743a6a40153ad947a2b0f"
          ]
        },
        "id": "cPQ2a6GB_tIr",
        "outputId": "26f602a0-1794-41b5-cf97-f67089b4d9cb"
      },
      "source": [
        "# Energy differnece term using rearranged exact Q\n",
        "n_split=2**13\n",
        "\n",
        "for n_hid in [16]:\n",
        "    for T in [1.47,1.78,2.3,5.2,16]:\n",
        "        model_dicts_mn=pd.read_pickle('{base}/loss_IG/3*3/state_dict/n_hid={n_hid}_T={T}_mn.pkl'.format(base=base, n_hid=n_hid, T=T)) \n",
        "        model_dicts_CM=pd.read_pickle('{base}/loss_IG/3*3/state_dict/n_hid={n_hid}_T={T}_CM.pkl'.format(base=base, n_hid=n_hid, T=T))\n",
        "\n",
        "        dE_CM2mn={}\n",
        "        dE_mn2CM={}\n",
        "        for m in range(10):\n",
        "            dE_CM2mn[str(m)]={}\n",
        "            dE_mn2CM[str(m)]={}\n",
        "            for n in range(10):\n",
        "                dE_CM2mn[str(m)][str(n)]=0\n",
        "                dE_mn2CM[str(m)][str(n)]=0\n",
        "        \n",
        "        FE_mn={}\n",
        "        FE_CM=0\n",
        "        for m in range(10):\n",
        "            FE_mn[str(m)]={}\n",
        "            for n in range(10):\n",
        "                FE_mn[str(m)][str(n)]=0\n",
        "\n",
        "        for j in tnrange(n_split):\n",
        "            v_list=[]; h_list=[]\n",
        "            for s in range(j*int(2**(n_vis+n_hid)/n_split), (j+1)*int(2**(n_vis+n_hid)/n_split)):\n",
        "                full=decimal_to_binary(s, n_hid+n_vis)[0]\n",
        "                v=full[:n_vis]; h=full[-n_hid:]\n",
        "                v_list.append(v); h_list.append(h)\n",
        "            v_list0=torch.stack(v_list)\n",
        "            h_list0=torch.stack(h_list)\n",
        "\n",
        "            E_CM=Energy_GPU2(model_dicts_CM, v_list0, h_list0)\n",
        "            FE_CM+=sum(np.exp(-E_CM))\n",
        "            for m in range(10):\n",
        "                for n in range(10):\n",
        "                    E_mn=Energy_GPU2(model_dicts_mn[str(m)][str(n)], v_list0, h_list0)\n",
        "                    dE_mn2CM[str(m)][str(n)]+=sum((E_CM-E_mn)*np.exp(-E_mn))\n",
        "                    dE_CM2mn[str(m)][str(n)]+=sum((E_mn-E_CM)*np.exp(-E_CM))\n",
        "                    FE_mn[str(m)][str(n)]+=sum(np.exp(-E_mn))\n",
        "        \n",
        "        for m in range(10):\n",
        "            for n in range(10):\n",
        "                dE_CM2mn[str(m)][str(n)]=dE_CM2mn[str(m)][str(n)]/np.exp(-FE_mn[str(m)][str(n)])\n",
        "                dE_mn2CM[str(m)][str(n)]=dE_mn2CM[str(m)][str(n)]/np.exp(-FE_CM)\n",
        "\n",
        "        with open('{base}/loss_IG/3*3/data/3*3_n_hid={n_hid}_T={T}_FE_exact.pkl'.format(base=base, n_hid=n_hid, T=T), 'wb') as f:\n",
        "            pkl.dump({'mn':FE_mn, 'CM':FE_CM}, f)\n",
        "        with open('{base}/loss_IG/3*3/data/3*3_n_hid={n_hid}_T={T}_dE_exact.pkl'.format(base=base, n_hid=n_hid, T=T), 'wb') as f:\n",
        "            pkl.dump({'mn2CM':dE_mn2CM, 'CM2mn':dE_CM2mn}, f)"
      ],
      "execution_count": null,
      "outputs": [
        {
          "output_type": "display_data",
          "data": {
            "application/vnd.jupyter.widget-view+json": {
              "model_id": "fc6d6738f62644058e7bac2c8c4a9671",
              "version_minor": 0,
              "version_major": 2
            },
            "text/plain": [
              "HBox(children=(FloatProgress(value=0.0, max=8192.0), HTML(value='')))"
            ]
          },
          "metadata": {
            "tags": []
          }
        },
        {
          "output_type": "stream",
          "text": [
            "\n",
            "\n"
          ],
          "name": "stdout"
        },
        {
          "output_type": "display_data",
          "data": {
            "application/vnd.jupyter.widget-view+json": {
              "model_id": "1b720f295fe641e9b6a284962539cf8d",
              "version_minor": 0,
              "version_major": 2
            },
            "text/plain": [
              "HBox(children=(FloatProgress(value=0.0, max=8192.0), HTML(value='')))"
            ]
          },
          "metadata": {
            "tags": []
          }
        }
      ]
    },
    {
      "cell_type": "markdown",
      "metadata": {
        "id": "DystC6mdn86_"
      },
      "source": [
        "# <E'-E> mn 서로 기준"
      ]
    },
    {
      "cell_type": "code",
      "metadata": {
        "colab": {
          "base_uri": "https://localhost:8080/",
          "height": 81,
          "referenced_widgets": [
            "cb3b93558387489fa455aefba05ccd82",
            "1c7e3a5e55054b9d9b8727214926c573",
            "53444be695df48af9da499ac3d1d038e",
            "b655fdaf49f64bc78f1194f30d64bd1f",
            "d4a7b879700c4885a4f74d1e4fbd4fb0",
            "1c6d47e0844744a38c9f4c817d3539ee",
            "0031df6a324f4976ae712891f73f2a11",
            "61159caacbb0480997aa2614ae16ea95"
          ]
        },
        "id": "v0anijtjNUXw",
        "outputId": "61b09bc0-7a4d-45d9-f1fb-897e435b5199"
      },
      "source": [
        "# Energy differnece term using rearranged exact Q\n",
        "n_split=2**13\n",
        "\n",
        "for n_hid in [16]:\n",
        "    for T in [1.47,1.78,2.3,5.2,16]:\n",
        "        model_dicts_mn=pd.read_pickle('{base}/loss_IG/3*3/state_dict/n_hid={n_hid}_T={T}_mn.pkl'.format(base=base, n_hid=n_hid, T=T)) \n",
        "        FE_mn=pd.read_pickle('{base}/loss_IG/3*3/data/3*3_T={T}_FE_exact.pkl'.format(base=base, T=T)['mn']\n",
        "        dE_mn={}\n",
        "        for m in range(10):\n",
        "            dE_mn[str(m)]={}\n",
        "            for n in range(10):\n",
        "                dE_mn[str(m)][str(n)]=0\n",
        "        \n",
        "\n",
        "        for j in tnrange(n_split):\n",
        "            v_list=[]; h_list=[]\n",
        "            for s in range(j*int(2**(n_vis+n_hid)/n_split), (j+1)*int(2**(n_vis+n_hid)/n_split)):\n",
        "                full=decimal_to_binary(s, n_hid+n_vis)[0]\n",
        "                v=full[:n_vis]; h=full[-n_hid:]\n",
        "                v_list.append(v); h_list.append(h)\n",
        "            v_list0=torch.stack(v_list)\n",
        "            h_list0=torch.stack(h_list)\n",
        "\n",
        "            E_mn={}\n",
        "            for m in range(10):\n",
        "                E_mn[str(m)]={}\n",
        "                for n in range(10):\n",
        "                    E_mn[str(m)][str(n)]=Energy_GPU2(model_dicts_mn[str(m)][str(n)], v_list0, h_list0)\n",
        "\n",
        "            dE_mn={}\n",
        "            for i in tnrange(100):\n",
        "                i=str(i).zfill(2)\n",
        "                dE_mn[str(i)]={}\n",
        "                for j in range(100):\n",
        "                    j=str(j).zfill(2)\n",
        "                    dE_mn[i][j]+=sum((E_mn[j[0]][j[1]]-E_mn[i[0]][i[1]])*np.exp(-E_mn[i[0]][i[1]]))\n",
        "\n",
        "        for i in tnrange(100):\n",
        "            i=str(i).zfill(2)\n",
        "            for j in range(100):\n",
        "                j=str(j).zfill(2)\n",
        "                dE_mn[i][j]=dE_mn[i][j]/np.exp(-FE_mn[i[0]][i[1]])\n",
        "\n",
        "        with open('{base}/loss_IG/3*3/data/3*3_n_hid={n_hid}_T={T}_dE10000_exact.pkl'.format(base=base, n_hid=n_hid, T=T), 'wb') as f:\n",
        "            pkl.dump(dE_mn, f)"
      ],
      "execution_count": 8,
      "outputs": [
        {
          "output_type": "stream",
          "text": [
            "1.78 12\n"
          ],
          "name": "stdout"
        },
        {
          "output_type": "display_data",
          "data": {
            "application/vnd.jupyter.widget-view+json": {
              "model_id": "cb3b93558387489fa455aefba05ccd82",
              "version_minor": 0,
              "version_major": 2
            },
            "text/plain": [
              "HBox(children=(FloatProgress(value=0.0), HTML(value='')))"
            ]
          },
          "metadata": {
            "tags": []
          }
        },
        {
          "output_type": "stream",
          "text": [
            "\n"
          ],
          "name": "stdout"
        }
      ]
    },
    {
      "cell_type": "markdown",
      "metadata": {
        "id": "Wofc8Yd6KVCp"
      },
      "source": [
        "# Entropy"
      ]
    },
    {
      "cell_type": "code",
      "metadata": {
        "id": "WBIGlILle0sY"
      },
      "source": [
        "def Ising_energy(v_list):\n",
        "    L = 3\n",
        "    E_list=[]\n",
        "    for n in range(len(v_list)):\n",
        "        v=v_list[n]\n",
        "        E = 0\n",
        "        for i in range(L):\n",
        "            for j in range(L):\n",
        "                s = v[i,j]\n",
        "                neigh = v[(i+1)%L, j] + v[i,(j+1)%L] + v[(i-1)%L,j] + v[i,(j-1)%L] \n",
        "                E += -neigh * s\n",
        "        E_list.append(E/2)\n",
        "    return np.array(E_list)\n",
        "\n",
        "\n",
        "v_list=[]\n",
        "for s in range(2**n_vis):\n",
        "    v=decimal_to_binary(s, n_vis)[0]\n",
        "    v_list.append(np.reshape(v,(3,3))*2-1)\n",
        "\n",
        "for T in [1.47,1.78,2.3,5.2,16]:\n",
        "\n",
        "    bf_list=np.exp(-Ising_energy(v_list)/T)\n",
        "    Pv=bf_list/sum(bf_list)\n",
        "\n",
        "    with open('{base}/loss_IG/3*3/data/3*3_T={T}_S_exact.pkl'.format(base=base, T=T), 'wb') as f:\n",
        "        pkl.dump(entropy(Pv), f)\n"
      ],
      "execution_count": null,
      "outputs": []
    }
  ]
}