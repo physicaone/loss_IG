{
  "nbformat": 4,
  "nbformat_minor": 0,
  "metadata": {
    "colab": {
      "name": "Copy of [210516]sampling_with_PT.ipynb",
      "provenance": [],
      "collapsed_sections": [],
      "machine_shape": "hm",
      "include_colab_link": true
    },
    "kernelspec": {
      "display_name": "Python 3",
      "language": "python",
      "name": "python3"
    },
    "language_info": {
      "codemirror_mode": {
        "name": "ipython",
        "version": 3
      },
      "file_extension": ".py",
      "mimetype": "text/x-python",
      "name": "python",
      "nbconvert_exporter": "python",
      "pygments_lexer": "ipython3",
      "version": "3.7.4"
    }
  },
  "cells": [
    {
      "cell_type": "markdown",
      "metadata": {
        "id": "view-in-github",
        "colab_type": "text"
      },
      "source": [
        "<a href=\"https://colab.research.google.com/github/physicaone/loss_IG/blob/master/%5B210516%5Dsampling_with_PT4.ipynb\" target=\"_parent\"><img src=\"https://colab.research.google.com/assets/colab-badge.svg\" alt=\"Open In Colab\"/></a>"
      ]
    },
    {
      "cell_type": "code",
      "metadata": {
        "colab": {
          "base_uri": "https://localhost:8080/"
        },
        "id": "Te6zZB8sZFDm",
        "outputId": "7fa70381-1560-49b1-e1d5-6472f4744e0f"
      },
      "source": [
        "try:\n",
        "    from google.colab import drive\n",
        "    drive.mount('/content/drive')\n",
        "    base='drive/MyDrive'\n",
        "except:\n",
        "    base='Google Drive'"
      ],
      "execution_count": 13,
      "outputs": [
        {
          "output_type": "stream",
          "text": [
            "Drive already mounted at /content/drive; to attempt to forcibly remount, call drive.mount(\"/content/drive\", force_remount=True).\n"
          ],
          "name": "stdout"
        }
      ]
    },
    {
      "cell_type": "code",
      "metadata": {
        "id": "JBWjLs2eV-0R"
      },
      "source": [
        "import numpy as np\n",
        "import torch\n",
        "import torchvision.datasets\n",
        "import torchvision.models\n",
        "import torchvision.transforms\n",
        "import torch.nn.functional as F\n",
        "from torchvision import datasets, transforms\n",
        "from torchvision.utils import make_grid\n",
        "import torch.utils.data\n",
        "import torch.nn as nn\n",
        "from itertools import combinations\n",
        "from itertools import permutations\n",
        "from datetime import datetime\n",
        "from tqdm import tqdm, tnrange\n",
        "import warnings\n",
        "warnings.filterwarnings(\"ignore\")\n",
        "import pickle as pkl\n",
        "import pandas as pd\n",
        "import matplotlib.pyplot as plt\n",
        "import matplotlib.gridspec as gridspec\n",
        "%matplotlib inline\n",
        "# np.seterr(divide='ignore', invalid='ignore')\n",
        "import itertools\n",
        "import re\n",
        "from time import sleep"
      ],
      "execution_count": 14,
      "outputs": []
    },
    {
      "cell_type": "markdown",
      "metadata": {
        "id": "QZMPF-Cs4prw"
      },
      "source": [
        "#Define RBM class"
      ]
    },
    {
      "cell_type": "code",
      "metadata": {
        "id": "4UlSsScJdssV"
      },
      "source": [
        "class RBM(nn.Module):\n",
        "\n",
        "    def __init__(self, n_vis, n_hid, k, use_cuda):\n",
        "        \"\"\"Create a RBM.\"\"\"\n",
        "        super(RBM, self).__init__()\n",
        "        \n",
        "        if use_cuda==True:\n",
        "            self.v = nn.Parameter(torch.ones(1, n_vis).cuda())\n",
        "            self.h = nn.Parameter(torch.zeros(1, n_hid).cuda())\n",
        "            self.W = nn.Parameter(torch.randn(n_hid, n_vis).cuda())\n",
        "            self.k = k\n",
        "        else:\n",
        "            self.v = nn.Parameter(torch.ones(1, n_vis))\n",
        "            self.h = nn.Parameter(torch.zeros(1, n_hid))\n",
        "            self.W = nn.Parameter(torch.randn(n_hid, n_vis))\n",
        "            self.k = k     \n",
        "\n",
        "    def visible_to_hidden(self, v, beta):\n",
        "        return torch.sigmoid(F.linear(v, self.W, self.h)*beta)\n",
        "\n",
        "    def hidden_to_visible(self, h, beta):\n",
        "        return torch.sigmoid(F.linear(h, self.W.t(), self.v)*beta)\n",
        "\n",
        "    def free_energy(self, v):\n",
        "        v_term = torch.matmul(v, self.v.t())\n",
        "        w_x_h = F.linear(v, self.W, self.h)\n",
        "        h_term = torch.sum(F.softplus(w_x_h), dim=1)\n",
        "        return torch.mean(-h_term - v_term)\n",
        "    \n",
        "    def energy2(self, v, h):\n",
        "        return -torch.matmul(v, self.v.t())-torch.matmul(torch.matmul(v, self.W.t()),h.t())-torch.matmul(h, self.h.t())\n",
        "\n",
        "    def forward(self, v):\n",
        "        h = self.visible_to_hidden(v)\n",
        "        h = h.bernoulli()\n",
        "        for _ in range(self.k):\n",
        "            v_gibb = self.hidden_to_visible(h)\n",
        "            v_gibb = v_gibb.bernoulli()\n",
        "            h = self.visible_to_hidden(v_gibb)\n",
        "            h = h.bernoulli()\n",
        "        return v, v_gibb"
      ],
      "execution_count": 15,
      "outputs": []
    },
    {
      "cell_type": "markdown",
      "metadata": {
        "id": "0JcNwwuj4lFg"
      },
      "source": [
        "# Check CUDA availability"
      ]
    },
    {
      "cell_type": "code",
      "metadata": {
        "colab": {
          "base_uri": "https://localhost:8080/"
        },
        "id": "zdT15FDJV-0X",
        "outputId": "d534e5b2-cf4e-429f-9087-0c4727898608"
      },
      "source": [
        "CUDA = torch.cuda.is_available()\n",
        "CUDA_DEVICE = 0\n",
        "\n",
        "if CUDA:\n",
        "    device='cuda'\n",
        "else:\n",
        "    device='cpu'\n",
        "torch.cuda.is_available(); CUDA"
      ],
      "execution_count": 16,
      "outputs": [
        {
          "output_type": "execute_result",
          "data": {
            "text/plain": [
              "False"
            ]
          },
          "metadata": {
            "tags": []
          },
          "execution_count": 16
        }
      ]
    },
    {
      "cell_type": "markdown",
      "metadata": {
        "id": "HDzjIM3bidLM"
      },
      "source": [
        "# Define fundamental functions"
      ]
    },
    {
      "cell_type": "code",
      "metadata": {
        "id": "N0jqccefV-0X"
      },
      "source": [
        "# 아래 두 함수는 PT와는 아무 상관 없습니다. 10진법을 2진법으로 바꾸고 리스트 형태로 변형하는 함수입니다. 예)15->[1,1,1,1]\n",
        "# 그리고 그 다음은 역함수입니다.\n",
        "def decimal_to_binary(integer):\n",
        "    string=bin(integer)[2:]\n",
        "    list0=[float(d) for d in string]\n",
        "    while len(list0)<n_hid:\n",
        "        list0=[0.]+list0\n",
        "    return torch.tensor([list0])\n",
        "\n",
        "def binary_to_decimal(list0):\n",
        "    value=0\n",
        "    for i in range(len(list0)):\n",
        "        value+=list0[-i-1]*2**(i)\n",
        "    return value\n",
        "\n",
        "# 이 함수는 PT에 사용되는 transition 확률을 계산합니다.\n",
        "def swap_prob(i,j, model, list00, list11):\n",
        "    v1=torch.tensor(list00[i]).view(1,n_vis)\n",
        "    v2=torch.tensor(list00[j]).view(1,n_vis)\n",
        "    h1=torch.tensor(list11[i]).view(1,n_hid)\n",
        "    h2=torch.tensor(list11[j]).view(1,n_hid)\n",
        "    beta1=beta_list[i]\n",
        "    beta2=beta_list[j]\n",
        "    return torch.exp((beta2-beta1)*(model.energy2(v2, h2)-model.energy2(v1, h1)))\n",
        "\n",
        "# 이 함수는 tansition 확률에 의거, swap을 수행합니다.\n",
        "def swap(list0, list1, model):\n",
        "    k=np.random.randint(0, len(list0)-1)\n",
        "    combination=[k, k+1]\n",
        "    if swap_prob(combination[0], combination[1], model, list0, list1)>=np.random.rand():\n",
        "        a=list0[combination[0]]\n",
        "        b=list0[combination[1]] \n",
        "        list0[combination[0]]=b\n",
        "        list0[combination[1]]=a\n",
        "        \n",
        "        c=list1[combination[0]]\n",
        "        d=list1[combination[1]] \n",
        "        list1[combination[0]]=d\n",
        "        list1[combination[1]]=c\n",
        "    else: None\n",
        "#     return list0, list1\n",
        "#     combinations=list(itertools.combinations(list(range(len(list0))), 2))\n",
        "#     for k in range(len(combinations)):\n",
        "#         if swap_prob(combinations[k][1], combinations[k][0])>=np.random.rand():\n",
        "#             list0[combinations[k][0]]=list0[combinations[k][1]]; list0[combinations[k][1]]=list0[combinations[k][0]]\n",
        "#         else: None\n",
        "#     return list0\n",
        "\n",
        "def P_h(list0):\n",
        "    config_count={}\n",
        "    for i in range(len(list0)):\n",
        "        config_count[str(int(binary_to_decimal(list0[i][0])))]=0\n",
        "    for i in range(len(list0)):\n",
        "        config_count[str(int(binary_to_decimal(list0[i][0])))]+=1\n",
        "    return config_count\n",
        "\n",
        "def prod(L):\n",
        "    p=1\n",
        "    for i in L:\n",
        "        p= i * p\n",
        "    return p\n",
        "\n",
        "# def Estimate_Z(model0, states):\n",
        "#     Z=0\n",
        "#     for i in range(len(states[0])):\n",
        "#         Z+=torch.exp(-model0.energy2(states[0][i], states[1][i])).detach()\n",
        "#     return float(Z.detach().numpy())\n",
        "\n",
        "def get_hist(list00, color='red'):\n",
        "    bins=range(int(min(list00)-30), int(max(list00)+30), 1)\n",
        "    y1,x1,_ = plt.hist(list00, bins = bins, histtype='step', color=color)\n",
        "    x1 = 0.5*(x1[1:]+x1[:-1])\n",
        "    return x1, y1\n",
        "\n",
        "def flatten_list(list0):\n",
        "    flattened = [val for sublist in list0 for val in sublist]\n",
        "    return flattened\n"
      ],
      "execution_count": 17,
      "outputs": []
    },
    {
      "cell_type": "markdown",
      "metadata": {
        "id": "JVUbdwS_ihkm"
      },
      "source": [
        "# Define stat. physical functions"
      ]
    },
    {
      "cell_type": "code",
      "metadata": {
        "id": "xmv-j18uV-0Z"
      },
      "source": [
        "def Entropy(fullconfigs):\n",
        "    config_count={} # 각 hidden layer state 갯수 파악 (k)\n",
        "    for i in range(len(fullconfigs)):\n",
        "        config_count[str(fullconfigs[i])]=0\n",
        "    for i in range(len(fullconfigs)):\n",
        "        config_count[str(fullconfigs[i])]+=1\n",
        "\n",
        "    listk=[]\n",
        "    for i in range(len(list(config_count.values()))):\n",
        "        listk.append(int(list(config_count.values())[i]))\n",
        "    listmk=[]\n",
        "    kcount={} # 갯수의 갯수 파악 (m_k)\n",
        "    for i in range(len(listk)):\n",
        "        kcount[listk[i]]=0\n",
        "    for i in range(len(listk)):\n",
        "        kcount[listk[i]]+=1\n",
        "    for i in range(len(kcount)):\n",
        "        listmk.append(kcount[sorted(list(kcount))[i]])\n",
        "    x,y= sorted(list(kcount)), listmk\n",
        "\n",
        "    list100=[]\n",
        "    list100kmk=[]\n",
        "    for i in range(len(x)):\n",
        "        list100kmk.append(x[i]*y[i])\n",
        "    for i in range(len(x)):\n",
        "        for j in range(list100kmk[i]):\n",
        "            list100.append(x[i])\n",
        "    N=len(list100)\n",
        "    H_s=0\n",
        "    for i in range(len(x)):\n",
        "        H_s-=(x[i]*y[i]/N)*np.log(x[i]/N)\n",
        "    return H_s\n",
        "\n",
        "def FE_mean_std(model0_dict, p):\n",
        "    FE_list=[]\n",
        "    for i in range(len(p)):\n",
        "        # n_vis=len(model0_dict['v'][0]); n_hid=len(model0_dict['h'][0])\n",
        "        integer=list(p.keys())[i]\n",
        "        h=decimal_to_binary(int(integer)).to(device)\n",
        "        a=model0_dict['v'].view(1,n_vis).detach()\n",
        "        b=model0_dict['h'].view(1,n_hid).detach()\n",
        "        W=model0_dict['W'].view(n_hid,n_vis).detach()\n",
        "        \n",
        "        FE=prod(torch.sigmoid(-F.linear(h, W.t(), a)).detach()[0])*100000\n",
        "        FE=FE*p[integer]\n",
        "        FE=FE/sum(list(p.values()))\n",
        "        FE=torch.log(FE.detach())-torch.log(torch.tensor([[100000]]))-torch.dot(b[0],h[0].t())\n",
        "        FE_list.append(FE.detach())\n",
        "    return [float(torch.mean(torch.tensor(FE_list)).detach().numpy()), float(torch.std(torch.tensor(FE_list)).detach().numpy())]\n",
        "\n",
        "def dE_mean_std(model0_dict, model1_dict, v_list, h_list):\n",
        "    dE=[]\n",
        "    for i in range(len(v_list)):\n",
        "        E0=model0_dict.energy2(v_list[i].float().detach(), h_list[i].float().detach())[0].detach()\n",
        "        E1=model1_dict.energy2(v_list[i].float().detach(), h_list[i].float().detach())[0].detach()\n",
        "        dE.append(E1-E0)\n",
        "    return [float(torch.mean(torch.tensor(dE)).numpy()), float(torch.std(torch.tensor(dE)).numpy())]\n",
        "\n",
        "def Energy(model0_dict, v_list, h_list):\n",
        "    a=model0_dict['v'].detach()\n",
        "    b=model0_dict['h'].detach()\n",
        "    W=model0_dict['W'].detach()\n",
        "    values=[]\n",
        "    for i in range(len(v_list)):\n",
        "        e=-np.matmul(v_list[i], a.t())-np.matmul(np.matmul(v_list[i], W.t()), h_list[i].t())-np.matmul(h_list[i], b.t())\n",
        "        values.append(e.detach())\n",
        "    return float(np.mean(values))\n",
        "\n",
        "def FE_V(model0, v0):\n",
        "    v0=torch.tensor(v0)\n",
        "    a=model0['v'].detach()\n",
        "    b=model0['h'].detach()\n",
        "    W=model0['W'].detach()\n",
        "    values=[]\n",
        "    for i in range(len(v0)):\n",
        "        v_term = torch.matmul(v0[i].detach(), a.t()).detach()\n",
        "        w_x_h = F.linear(v0[i].detach(), W, b).detach()\n",
        "        h_term = torch.sum(F.softplus(w_x_h), dim=1).detach()\n",
        "        values.append(torch.mean(-h_term - v_term).detach().numpy())\n",
        "    return float(np.mean(values))\n",
        "    \n",
        "def sampling_with_PT(fullmodel, eq_step, n_step):\n",
        "    # states for full model\n",
        "    hidden_states_now0=[decimal_to_binary(2**n_hid-1)]*len(beta_list)\n",
        "    visible_states_now0=[1.]*len(beta_list)\n",
        "\n",
        "    coldest_hidden0=[]\n",
        "    coldest_visible0=[]\n",
        "    \n",
        "    # equilibrium steps for full model\n",
        "    for step in range(eq_step):\n",
        "        for i in range(len(beta_list)):\n",
        "            visible_states_now0[i]=fullmodel.hidden_to_visible(hidden_states_now0[i].to(device), beta_list[i]).bernoulli().detach()\n",
        "            hidden_states_now0[i]=fullmodel.visible_to_hidden(visible_states_now0[i].to(device), beta_list[i]).bernoulli().detach()\n",
        "    \n",
        "\n",
        "    # Tasks with PT\n",
        "    for step in range(n_step):\n",
        "        for i in range(len(beta_list)):\n",
        "            # Gibbs sampling of fu\n",
        "            visible_states_now0[i]=fullmodel.hidden_to_visible(hidden_states_now0[i].to(device), beta_list[i]).bernoulli().detach()\n",
        "            hidden_states_now0[i]=fullmodel.visible_to_hidden(visible_states_now0[i].to(device), beta_list[i]).bernoulli().detach()\n",
        "        swap(visible_states_now0, hidden_states_now0, fullmodel)\n",
        "        coldest_hidden0.append(hidden_states_now0[0].int())\n",
        "        coldest_visible0.append(visible_states_now0[0].int())\n",
        "\n",
        "    return coldest_visible0, coldest_hidden0"
      ],
      "execution_count": 18,
      "outputs": []
    },
    {
      "cell_type": "code",
      "metadata": {
        "id": "aAai0VLA3KYy"
      },
      "source": [
        "n_hid_list=[1,2,4,8]"
      ],
      "execution_count": 19,
      "outputs": []
    },
    {
      "cell_type": "markdown",
      "metadata": {
        "id": "mEf_P22LiXKb"
      },
      "source": [
        "# mn model의 샘플 만들기\n"
      ]
    },
    {
      "cell_type": "code",
      "metadata": {
        "id": "yFmksUeFj3AI"
      },
      "source": [
        "beta_list=torch.tensor(np.linspace(1,0,20).astype(int)).to(device)\n",
        "n_vis=9\n",
        "T='3.2'\n",
        "for n_hid in n_hid_list:\n",
        "    models=pd.read_pickle('{base}/loss_IG/3*3/state_dict/n_hid={n_hid}_T={T}_mn.pkl'.format(base=base, n_hid=n_hid, T=T))\n",
        "    for m in tnrange(10):\n",
        "        for n in range(10):\n",
        "            list_v=[]; list_h=[]\n",
        "            model1_dict=models[str(m)][str(n)]\n",
        "            model1=RBM(n_vis=n_vis, n_hid=n_hid, k=1, use_cuda=CUDA)\n",
        "            model1.load_state_dict(model1_dict)\n",
        "            a0, b0=sampling_with_PT(model1, 100, 100000)\n",
        "            list_v.append(a0); list_h.append(b0)\n",
        "            with open('{base}/loss_IG/3*3/samples/3*3_PT20_0.1M_n_hid={n_hid}_T={T}_m={m}_n={n}.pkl'.format(base=base, n_hid=n_hid, T=T, m=m, n=n), 'wb') as f:\n",
        "                pkl.dump([list_v, list_h], f)"
      ],
      "execution_count": null,
      "outputs": []
    },
    {
      "cell_type": "markdown",
      "metadata": {
        "id": "RfiZCv5tiTWy"
      },
      "source": [
        "# CM_m model의 샘플 만들기\n"
      ]
    },
    {
      "cell_type": "code",
      "metadata": {
        "id": "G70_NAJB2gQT"
      },
      "source": [
        "beta_list=torch.tensor(np.linspace(1,0,20).astype(int)).to(device)\n",
        "n_vis=9\n",
        "T='3.2'\n",
        "for n_hid in n_hid_list:\n",
        "    models=pd.read_pickle('{base}/loss_IG/3*3/state_dict/n_hid={n_hid}_T={T}_CM_m.pkl'.format(base=base, n_hid=n_hid, T=T))\n",
        "    for m in tnrange(10):\n",
        "        list_v=[]; list_h=[]\n",
        "        model1_dict=models[str(m)]\n",
        "        model1=RBM(n_vis=n_vis, n_hid=n_hid, k=1, use_cuda=CUDA)\n",
        "        model1.load_state_dict(model1_dict)\n",
        "        a0, b0=sampling_with_PT(model1, 100, 100000)\n",
        "        list_v.append(a0); list_h.append(b0)\n",
        "        with open('{base}/loss_IG/3*3/samples/3*3_PT20_0.1M_n_hid={n_hid}_T={T}_CM_m={m}.pkl'.format(base=base, n_hid=n_hid, T=T, m=m), 'wb') as f:\n",
        "            pkl.dump([list_v, list_h], f)"
      ],
      "execution_count": null,
      "outputs": []
    },
    {
      "cell_type": "markdown",
      "metadata": {
        "id": "kBMXW2GJiNlT"
      },
      "source": [
        "# CM model의 샘플 만들기"
      ]
    },
    {
      "cell_type": "code",
      "metadata": {
        "id": "gAx6StlB2gZE"
      },
      "source": [
        "beta_list=torch.tensor(np.linspace(1,0,20).astype(int)).to(device)\n",
        "n_vis=9\n",
        "T='3.2'\n",
        "for n_hid in n_hid_list:\n",
        "    list_v=[]; list_h=[]\n",
        "    model1_dict=pd.read_pickle('{base}/loss_IG/3*3/state_dict/n_hid={n_hid}_T={T}_CM.pkl'.format(base=base, n_hid=n_hid, T=T))\n",
        "    \n",
        "    model1=RBM(n_vis=n_vis, n_hid=n_hid, k=1, use_cuda=CUDA)\n",
        "    model1.load_state_dict(model1_dict)\n",
        "    a0, b0=sampling_with_PT(model1, 100, 100000)\n",
        "    list_v.append(a0); list_h.append(b0)\n",
        "    with open('{base}/loss_IG/3*3/samples/3*3_PT20_0.1M_n_hid={n_hid}_T={T}_CM.pkl'.format(base=base, n_hid=n_hid, T=T), 'wb') as f:\n",
        "        pkl.dump([list_v, list_h], f)"
      ],
      "execution_count": null,
      "outputs": []
    },
    {
      "cell_type": "markdown",
      "metadata": {
        "id": "kUcPRPd7W8hD"
      },
      "source": [
        "# Entropy of m"
      ]
    },
    {
      "cell_type": "code",
      "metadata": {
        "id": "Nq-5AgJ3W7t2"
      },
      "source": [
        "T='3.2'\n",
        "fullconfigs=pd.read_pickle('{base}/loss_IG/3*3/3*3_full_T=3.2.pkl'.format(base=base))\n",
        "S_m={}\n",
        "for m in range(10):\n",
        "    S_m[str(m)]=Entropy(fullconfigs[m])\n",
        "S_CM=Entropy(flatten_list(fullconfigs))\n",
        "with open('{base}/loss_IG/3*3/data/3*3_PT20_0.1M_n_T={T}_S.pkl'.format(base=base, T=T), 'wb') as f:\n",
        "    pkl.dump({'CM_m':S_m, 'CM':S_CM}, f)"
      ],
      "execution_count": null,
      "outputs": []
    },
    {
      "cell_type": "markdown",
      "metadata": {
        "id": "AK4dvvtecQ4r"
      },
      "source": [
        "# CM, CM_m, mn의 Free energy 계산"
      ]
    },
    {
      "cell_type": "code",
      "metadata": {
        "id": "3ts9y-Xls-dG"
      },
      "source": [
        "T='3.2'\n",
        "n_vis=9\n",
        "for n_hid in n_hid_list:\n",
        "    dict0={}; dict1={}; dict2={}\n",
        "    model_dicts_mn=pd.read_pickle('{base}/loss_IG/3*3/state_dict/n_hid={n_hid}_T={T}_mn.pkl'.format(base=base, n_hid=n_hid, T=T))\n",
        "    model_dicts_CM_m=pd.read_pickle('{base}/loss_IG/3*3/state_dict/n_hid={n_hid}_T={T}_CM_m.pkl'.format(base=base, n_hid=n_hid, T=T))\n",
        "    model_dicts_CM=pd.read_pickle('{base}/loss_IG/3*3/state_dict/n_hid={n_hid}_T={T}_CM.pkl'.format(base=base, n_hid=n_hid, T=T))\n",
        "\n",
        "    for m in tnrange(10):\n",
        "        dict0[str(m)]={}\n",
        "        for n in range(10):\n",
        "            vh0=pd.read_pickle('{base}/loss_IG/3*3/samples/3*3_PT20_0.1M_n_hid={n_hid}_T={T}_m={m}_n={n}.pkl'.format(base=base, n_hid=n_hid,T=T,m=m,n=n))\n",
        "            model_dict0=model_dicts_mn[str(m)][str(n)]\n",
        "            dict0[str(m)][str(n)]=FE_mean_std(model_dict0, P_h(vh0[1][0]))[0]\n",
        "        vh1=pd.read_pickle('{base}/loss_IG/3*3/samples/3*3_PT20_0.1M_n_hid={n_hid}_T={T}_CM_m={m}.pkl'.format(base=base, n_hid=n_hid,T=T,m=m))\n",
        "        model_dict1=model_dicts_CM_m[str(m)]\n",
        "        dict1[str(m)]=FE_mean_std(model_dict1, P_h(vh1[1][0]))[0]\n",
        "    vh2=pd.read_pickle('{base}/loss_IG/3*3/samples/3*3_PT20_0.1M_n_hid={n_hid}_T={T}_CM.pkl'.format(base=base, n_hid=n_hid,T=T))\n",
        "    model_dict2=model_dicts_CM\n",
        "    dict2=FE_mean_std(model_dict2,\n",
        "    P_h(vh2[1][0]))[0]\n",
        "    with open('{base}/loss_IG/3*3/data/3*3_PT20_0.1M_n_hid={n_hid}_T={T}_FE.pkl'.format(base=base, n_hid=n_hid, T=T), 'wb') as f:\n",
        "        pkl.dump({'mn':dict0, 'CM_m':dict1, 'CM':dict2}, f)"
      ],
      "execution_count": null,
      "outputs": []
    },
    {
      "cell_type": "markdown",
      "metadata": {
        "id": "VzxR-Hb9cdhT"
      },
      "source": [
        "# CM, CM_m, mn의 marginalized Free energy 계산"
      ]
    },
    {
      "cell_type": "code",
      "metadata": {
        "id": "RT2FB8VghHOZ"
      },
      "source": [
        "fullconfigs=pd.read_pickle('{base}/loss_IG/3*3/3*3_full_T=3.2.pkl'.format(base=base))\n",
        "T='3.2'\n",
        "n_vis=9\n",
        "for n_hid in [8]:\n",
        "    dict0={}; dict1={}; dict2={}\n",
        "    model_dicts_mn=pd.read_pickle('{base}/loss_IG/3*3/state_dict/n_hid={n_hid}_T={T}_mn.pkl'.format(base=base, n_hid=n_hid, T=T))\n",
        "    model_dicts_CM_m=pd.read_pickle('{base}/loss_IG/3*3/state_dict/n_hid={n_hid}_T={T}_CM_m.pkl'.format(base=base, n_hid=n_hid, T=T))\n",
        "    model_dicts_CM=pd.read_pickle('{base}/loss_IG/3*3/state_dict/n_hid={n_hid}_T={T}_CM.pkl'.format(base=base, n_hid=n_hid, T=T))\n",
        "\n",
        "    for m in tnrange(10):\n",
        "        dict0[str(m)]={}\n",
        "        for n in range(10):\n",
        "            vh0=pd.read_pickle('{base}/loss_IG/3*3/samples/3*3_PT20_0.1M_n_hid={n_hid}_T={T}_m={m}_n={n}.pkl'.format(base=base, n_hid=n_hid,T=T,m=m,n=n))\n",
        "            model_dict0=model_dicts_mn[str(m)][str(n)]\n",
        "            dict0[str(m)][str(n)]=FE_V(model_dict0, fullconfigs[m])\n",
        "        vh1=pd.read_pickle('{base}/loss_IG/3*3/samples/3*3_PT20_0.1M_n_hid={n_hid}_T={T}_CM_m={m}.pkl'.format(base=base, n_hid=n_hid,T=T,m=m))\n",
        "        model_dict1=model_dicts_CM_m[str(m)]\n",
        "        dict1[str(m)]=FE_V(model_dict1, fullconfigs[m])\n",
        "    vh2=pd.read_pickle('{base}/loss_IG/3*3/samples/3*3_PT20_0.1M_n_hid={n_hid}_T={T}_CM.pkl'.format(base=base, n_hid=n_hid,T=T))\n",
        "    model_dict2=model_dicts_CM\n",
        "    dict2=FE_V(model_dict2, flatten_list(fullconfigs))\n",
        "    with open('{base}/loss_IG/3*3/data/3*3_PT20_0.1M_n_hid={n_hid}_T={T}_FE_V.pkl'.format(base=base, n_hid=n_hid, T=T), 'wb') as f:\n",
        "        pkl.dump({'mn':dict0, 'CM_m':dict1, 'CM':dict2}, f)"
      ],
      "execution_count": null,
      "outputs": []
    },
    {
      "cell_type": "markdown",
      "metadata": {
        "id": "Otm9UBq8cktd"
      },
      "source": [
        "# CM, CM_m, mn의 <E'-E> 계산"
      ]
    },
    {
      "cell_type": "code",
      "metadata": {
        "id": "Eyuyf9G-Isbz"
      },
      "source": [
        "T='3.2'\n",
        "for n_hid in n_hid_list:\n",
        "    dE_CM={}; dE_CM_m={}\n",
        "    model_dict_CM=pd.read_pickle('{base}/loss_IG/3*3/state_dict/n_hid={n_hid}_T={T}_CM.pkl'.format(base=base, n_hid=n_hid, T=T))\n",
        "    model_dict_CM_m=pd.read_pickle('{base}/loss_IG/3*3/state_dict/n_hid={n_hid}_T={T}_CM_m.pkl'.format(base=base, n_hid=n_hid, T=T))\n",
        "    model_dict_mn=pd.read_pickle('{base}/loss_IG/3*3/state_dict/n_hid={n_hid}_T={T}_mn.pkl'.format(base=base, n_hid=n_hid, T=T))\n",
        "    vh=pd.read_pickle('{base}/loss_IG/3*3/samples/3*3_PT20_0.1M_n_hid={n_hid}_T={T}_CM.pkl'.format(base=base, n_hid=n_hid, T=T))\n",
        "    for m in tnrange(10):\n",
        "        dE_CM[str(m)]={}; dE_CM_m[str(m)]={}\n",
        "        vh_m=pd.read_pickle('{base}/loss_IG/3*3/samples/3*3_PT20_0.1M_n_hid={n_hid}_T={T}_CM_m={m}.pkl'.format(base=base, n_hid=n_hid, T=T, m=m))\n",
        "        for n in range(10):\n",
        "            dE_CM[str(m)][str(n)]=Energy(model_dict_mn[str(m)][str(n)], vh[0][0], vh[1][0])-Energy(model_dict_CM, vh[0][0], vh[1][0])\n",
        "            dE_CM_m[str(m)][str(n)]=Energy(model_dict_mn[str(m)][str(n)], vh_m[0][0], vh_m[1][0])-Energy(model_dict_CM_m[str(m)], vh_m[0][0], vh_m[1][0])\n",
        "    with open('{base}/loss_IG/3*3/data/3*3_PT20_0.1M_n_hid={n_hid}_T={T}_dE.pkl'.format(base=base, n_hid=n_hid, T=T), 'wb') as f:\n",
        "        pkl.dump({'CM':dE_CM, 'CM_m':dE_CM_m}, f)"
      ],
      "execution_count": null,
      "outputs": []
    },
    {
      "cell_type": "markdown",
      "metadata": {
        "id": "YufSaiJLjW3Q"
      },
      "source": [
        "# Calculate bias moments"
      ]
    },
    {
      "cell_type": "code",
      "metadata": {
        "id": "2yCElcfZA3_U",
        "colab": {
          "base_uri": "https://localhost:8080/"
        },
        "outputId": "d97e19f8-8445-4884-d546-bb64fe9d65af"
      },
      "source": [
        "T='3.2'\n",
        "S=pd.read_pickle('{base}/loss_IG/3*3/data/3*3_PT20_0.1M_T={T}_S.pkl'.format(base=base, T=T))\n",
        "for n_hid in n_hid_list:\n",
        "    bias_2nd_moment1=0; bias_2nd_moment2=0\n",
        "    FE=pd.read_pickle('{base}/loss_IG/3*3/data/3*3_PT20_0.1M_n_hid={n_hid}_T={T}_FE.pkl'.format(base=base, n_hid=n_hid, T=T))\n",
        "    FE_V=pd.read_pickle('{base}/loss_IG/3*3/data/3*3_PT20_0.1M_n_hid={n_hid}_T={T}_FE_V.pkl'.format(base=base, n_hid=n_hid, T=T))\n",
        "    FE_CM=FE['CM']; FE_CM_m=FE['CM_m']; FE_mn=FE['mn']\n",
        "    FE_V_CM=FE['CM']; FE_V_CM_m=FE['CM_m']; FE_V_mn=FE['mn']\n",
        "    bias_CM=-S['CM']-FE_CM+FE_V_CM\n",
        "    for m in range(10):\n",
        "        bias_CM_m=-S['CM_m'][str(m)]-FE_CM_m[str(m)]+FE_V_CM_m[str(m)]\n",
        "        for n in range(10):\n",
        "            bias_tmp_mn=-S['CM']-FE_mn[str(m)][str(n)]+FE_V_mn[str(m)][str(n)]\n",
        "            bias_2nd_moment1+=(bias_CM-bias_tmp_mn)**2 \n",
        "            bias_2nd_moment2+=(bias_CM_m-bias_tmp_mn)**2\n",
        "    print(n_hid, bias_2nd_moment1/100, bias_2nd_moment2/100)"
      ],
      "execution_count": 20,
      "outputs": [
        {
          "output_type": "stream",
          "text": [
            "1 5.32481111024183e-32 7.767157794213292e-05\n",
            "2 1.5777218104420237e-31 7.76715779421337e-05\n",
            "4 9.466330862652141e-32 7.767157794213388e-05\n",
            "8 0.0 7.767157794213317e-05\n"
          ],
          "name": "stdout"
        }
      ]
    },
    {
      "cell_type": "markdown",
      "metadata": {
        "id": "2o2jZ7ezjdVP"
      },
      "source": [
        "# Calculate variances"
      ]
    },
    {
      "cell_type": "code",
      "metadata": {
        "id": "3gUDw445wQFX",
        "colab": {
          "base_uri": "https://localhost:8080/"
        },
        "outputId": "50d65ac5-02a7-499b-8797-9f1939bd7d0d"
      },
      "source": [
        "T='3.2'\n",
        "for n_hid in n_hid_list:\n",
        "    variance1=0; variance2=0\n",
        "    dE=pd.read_pickle('{base}/loss_IG/3*3/data/3*3_PT20_0.1M_n_hid={n_hid}_T={T}_dE.pkl'.format(base=base, n_hid=n_hid, T=T))\n",
        "    FE=pd.read_pickle('{base}/loss_IG/3*3/data/3*3_PT20_0.1M_n_hid={n_hid}_T={T}_FE.pkl'.format(base=base, n_hid=n_hid, T=T))\n",
        "    FE_CM=FE['CM']; FE_CM_m=FE['CM_m']; FE_mn=FE['mn']\n",
        "    for m in range(10):\n",
        "        for n in range(10):\n",
        "            variance1=+dE['CM'][str(m)][str(n)]-FE_mn[str(m)][str(n)]-FE_CM\n",
        "            variance2=+dE['CM_m'][str(m)][str(n)]-FE_mn[str(m)][str(n)]-FE_CM_m[str(m)]\n",
        "    print(n_hid, variance1/100, variance2/100)"
      ],
      "execution_count": 21,
      "outputs": [
        {
          "output_type": "stream",
          "text": [
            "1 0.4402790680559873 0.4623458073759556\n",
            "2 0.5226168239562392 0.5456614530964494\n",
            "4 0.5399302059117499 0.5787943670119334\n",
            "8 0.5369412495508992 0.5633270252304874\n"
          ],
          "name": "stdout"
        }
      ]
    },
    {
      "cell_type": "code",
      "metadata": {
        "colab": {
          "base_uri": "https://localhost:8080/",
          "height": 514
        },
        "id": "qsvUWsFCTpwN",
        "outputId": "e8a62fdb-85cc-4951-e659-03c05f00eda0"
      },
      "source": [
        "T='3.2'\n",
        "dict0={}\n",
        "for m in range(10):\n",
        "    dict0[str(m)]=[]\n",
        "    for n in range(10):\n",
        "        value=[]\n",
        "        for n_hid in [1,2,4,8]:\n",
        "            FE=pd.read_pickle('{base}/loss_IG/3*3/data/3*3_PT20_0.1M_n_hid={n_hid}_T={T}_FE.pkl'.format(base=base, n_hid=n_hid, T=T))\n",
        "            FE_V=pd.read_pickle('{base}/loss_IG/3*3/data/3*3_PT20_0.1M_n_hid={n_hid}_T={T}_FE_V.pkl'.format(base=base, n_hid=n_hid, T=T))\n",
        "            S=pd.read_pickle('{base}/loss_IG/3*3/data/3*3_PT20_0.1M_T={T}_S.pkl'.format(base=base, T=T))\n",
        "            value.append(np.round(-S['CM_m'][str(m)]-FE['mn'][str(m)][str(n)]+FE_V['mn'][str(m)][str(n)],3))\n",
        "        dict0[str(m)].append(value)\n",
        "df = pd.DataFrame(data=dict0)\n",
        "\n",
        "df.T\n",
        "# Bias\n",
        "# column index:m, row index:n, 1칸에 n_hid=1,2,4,8순서대로 값 기입"
      ],
      "execution_count": 44,
      "outputs": [
        {
          "output_type": "execute_result",
          "data": {
            "text/html": [
              "<div>\n",
              "<style scoped>\n",
              "    .dataframe tbody tr th:only-of-type {\n",
              "        vertical-align: middle;\n",
              "    }\n",
              "\n",
              "    .dataframe tbody tr th {\n",
              "        vertical-align: top;\n",
              "    }\n",
              "\n",
              "    .dataframe thead th {\n",
              "        text-align: right;\n",
              "    }\n",
              "</style>\n",
              "<table border=\"1\" class=\"dataframe\">\n",
              "  <thead>\n",
              "    <tr style=\"text-align: right;\">\n",
              "      <th></th>\n",
              "      <th>0</th>\n",
              "      <th>1</th>\n",
              "      <th>2</th>\n",
              "      <th>3</th>\n",
              "      <th>4</th>\n",
              "      <th>5</th>\n",
              "      <th>6</th>\n",
              "      <th>7</th>\n",
              "      <th>8</th>\n",
              "      <th>9</th>\n",
              "    </tr>\n",
              "  </thead>\n",
              "  <tbody>\n",
              "    <tr>\n",
              "      <th>0</th>\n",
              "      <td>[0.374, 0.1, 0.045, 0.013]</td>\n",
              "      <td>[0.44, 0.108, 0.02, 0.048]</td>\n",
              "      <td>[0.378, 0.135, 0.08, -0.004]</td>\n",
              "      <td>[0.334, 0.141, 0.045, 0.035]</td>\n",
              "      <td>[0.48, 0.139, 0.048, 0.025]</td>\n",
              "      <td>[0.599, 0.107, 0.115, -0.008]</td>\n",
              "      <td>[0.55, 0.109, 0.038, -0.091]</td>\n",
              "      <td>[0.473, 0.16, 0.054, 0.011]</td>\n",
              "      <td>[0.309, 0.106, 0.052, 0.012]</td>\n",
              "      <td>[0.392, 0.092, 0.09, 0.005]</td>\n",
              "    </tr>\n",
              "    <tr>\n",
              "      <th>1</th>\n",
              "      <td>[0.334, 0.109, 0.013, 0.048]</td>\n",
              "      <td>[0.442, 0.127, 0.02, 0.077]</td>\n",
              "      <td>[0.461, 0.138, 0.043, 0.028]</td>\n",
              "      <td>[0.469, 0.13, -0.011, 0.014]</td>\n",
              "      <td>[0.471, 0.109, 0.056, 0.042]</td>\n",
              "      <td>[0.299, 0.142, 0.038, 0.074]</td>\n",
              "      <td>[0.387, 0.126, 0.058, 0.017]</td>\n",
              "      <td>[0.348, 0.104, 0.058, 0.028]</td>\n",
              "      <td>[0.539, 0.135, 0.049, 0.022]</td>\n",
              "      <td>[0.327, 0.144, 0.057, 0.011]</td>\n",
              "    </tr>\n",
              "    <tr>\n",
              "      <th>2</th>\n",
              "      <td>[0.648, 0.092, 0.093, 0.04]</td>\n",
              "      <td>[0.464, 0.131, 0.051, 0.024]</td>\n",
              "      <td>[0.469, 0.107, 0.081, 0.036]</td>\n",
              "      <td>[0.349, 0.13, 0.101, 0.007]</td>\n",
              "      <td>[0.392, 0.103, 0.067, 0.003]</td>\n",
              "      <td>[0.441, 0.109, 0.034, -0.017]</td>\n",
              "      <td>[0.403, 0.123, -0.158, -0.021]</td>\n",
              "      <td>[0.445, 0.117, 0.019, 0.035]</td>\n",
              "      <td>[0.46, -0.594, 0.064, 0.037]</td>\n",
              "      <td>[0.504, 0.131, -0.018, 0.05]</td>\n",
              "    </tr>\n",
              "    <tr>\n",
              "      <th>3</th>\n",
              "      <td>[0.586, 0.108, 0.057, 0.003]</td>\n",
              "      <td>[0.464, 0.086, -0.203, 0.047]</td>\n",
              "      <td>[0.391, -0.596, -0.069, 0.023]</td>\n",
              "      <td>[0.404, 0.093, 0.054, 0.011]</td>\n",
              "      <td>[0.499, 0.095, 0.003, 0.072]</td>\n",
              "      <td>[0.526, 0.102, 0.121, 0.054]</td>\n",
              "      <td>[0.429, 0.09, 0.124, 0.028]</td>\n",
              "      <td>[0.406, 0.15, -0.088, -0.009]</td>\n",
              "      <td>[0.472, 0.115, 0.12, 0.035]</td>\n",
              "      <td>[0.435, -0.62, 0.03, -0.012]</td>\n",
              "    </tr>\n",
              "    <tr>\n",
              "      <th>4</th>\n",
              "      <td>[0.425, 0.135, 0.076, 0.034]</td>\n",
              "      <td>[0.315, 0.103, 0.052, 0.036]</td>\n",
              "      <td>[0.468, 0.14, 0.059, 0.039]</td>\n",
              "      <td>[0.349, 0.161, 0.055, 0.002]</td>\n",
              "      <td>[0.348, 0.158, 0.022, 0.037]</td>\n",
              "      <td>[0.286, 0.108, 0.067, 0.029]</td>\n",
              "      <td>[0.327, 0.126, 0.077, -0.048]</td>\n",
              "      <td>[0.463, 0.162, 0.047, 0.01]</td>\n",
              "      <td>[0.514, 0.119, 0.092, 0.084]</td>\n",
              "      <td>[0.501, 0.161, 0.103, 0.023]</td>\n",
              "    </tr>\n",
              "    <tr>\n",
              "      <th>5</th>\n",
              "      <td>[0.382, 0.169, 0.067, 0.026]</td>\n",
              "      <td>[0.406, 0.101, 0.058, -0.04]</td>\n",
              "      <td>[0.357, 0.111, 0.045, 0.028]</td>\n",
              "      <td>[0.444, 0.119, -0.025, 0.019]</td>\n",
              "      <td>[0.413, 0.106, 0.021, -0.045]</td>\n",
              "      <td>[0.42, 0.127, 0.106, 0.036]</td>\n",
              "      <td>[0.478, 0.135, -0.006, -0.026]</td>\n",
              "      <td>[0.631, 0.113, 0.045, 0.037]</td>\n",
              "      <td>[0.41, 0.17, 0.064, 0.06]</td>\n",
              "      <td>[0.497, 0.11, 0.01, 0.018]</td>\n",
              "    </tr>\n",
              "    <tr>\n",
              "      <th>6</th>\n",
              "      <td>[0.525, 0.122, 0.077, 0.009]</td>\n",
              "      <td>[0.341, 0.138, 0.042, 0.063]</td>\n",
              "      <td>[0.444, 0.129, 0.069, 0.059]</td>\n",
              "      <td>[0.348, 0.121, -0.058, 0.025]</td>\n",
              "      <td>[0.4, 0.116, 0.081, -0.004]</td>\n",
              "      <td>[0.373, 0.103, 0.038, 0.022]</td>\n",
              "      <td>[0.368, 0.115, 0.061, 0.026]</td>\n",
              "      <td>[0.421, -0.6, 0.047, -0.014]</td>\n",
              "      <td>[0.319, 0.119, 0.067, -0.079]</td>\n",
              "      <td>[0.512, 0.102, 0.064, 0.045]</td>\n",
              "    </tr>\n",
              "    <tr>\n",
              "      <th>7</th>\n",
              "      <td>[0.41, 0.105, 0.021, 0.024]</td>\n",
              "      <td>[0.479, 0.135, -0.03, 0.033]</td>\n",
              "      <td>[0.77, 0.107, 0.058, -0.003]</td>\n",
              "      <td>[0.482, 0.099, 0.034, 0.044]</td>\n",
              "      <td>[0.426, 0.118, -0.106, -0.013]</td>\n",
              "      <td>[0.535, 0.116, -0.018, 0.007]</td>\n",
              "      <td>[0.396, 0.091, 0.077, 0.002]</td>\n",
              "      <td>[0.477, 0.106, 0.043, -0.076]</td>\n",
              "      <td>[0.53, 0.13, 0.125, -0.022]</td>\n",
              "      <td>[0.539, 0.098, 0.022, 0.049]</td>\n",
              "    </tr>\n",
              "    <tr>\n",
              "      <th>8</th>\n",
              "      <td>[0.605, 0.184, 0.049, 0.053]</td>\n",
              "      <td>[0.524, 0.138, 0.009, 0.029]</td>\n",
              "      <td>[0.437, 0.118, 0.046, 0.039]</td>\n",
              "      <td>[0.435, 0.176, 0.047, 0.031]</td>\n",
              "      <td>[0.405, 0.097, -0.022, 0.039]</td>\n",
              "      <td>[0.518, 0.106, 0.003, 0.09]</td>\n",
              "      <td>[0.441, 0.108, 0.062, 0.042]</td>\n",
              "      <td>[0.627, 0.156, -0.006, 0.029]</td>\n",
              "      <td>[0.557, 0.114, 0.043, 0.065]</td>\n",
              "      <td>[0.417, 0.088, 0.017, 0.059]</td>\n",
              "    </tr>\n",
              "    <tr>\n",
              "      <th>9</th>\n",
              "      <td>[0.445, 0.137, 0.074, 0.028]</td>\n",
              "      <td>[0.393, 0.164, 0.019, 0.045]</td>\n",
              "      <td>[0.299, 0.157, 0.032, 0.037]</td>\n",
              "      <td>[0.426, 0.138, 0.056, 0.029]</td>\n",
              "      <td>[0.469, 0.124, 0.037, 0.01]</td>\n",
              "      <td>[0.418, 0.112, 0.051, 0.008]</td>\n",
              "      <td>[0.42, 0.099, 0.003, 0.024]</td>\n",
              "      <td>[0.479, 0.131, 0.03, 0.019]</td>\n",
              "      <td>[0.38, 0.169, 0.041, 0.018]</td>\n",
              "      <td>[0.335, 0.154, 0.037, 0.011]</td>\n",
              "    </tr>\n",
              "  </tbody>\n",
              "</table>\n",
              "</div>"
            ],
            "text/plain": [
              "                              0  ...                             9\n",
              "0    [0.374, 0.1, 0.045, 0.013]  ...   [0.392, 0.092, 0.09, 0.005]\n",
              "1  [0.334, 0.109, 0.013, 0.048]  ...  [0.327, 0.144, 0.057, 0.011]\n",
              "2   [0.648, 0.092, 0.093, 0.04]  ...  [0.504, 0.131, -0.018, 0.05]\n",
              "3  [0.586, 0.108, 0.057, 0.003]  ...  [0.435, -0.62, 0.03, -0.012]\n",
              "4  [0.425, 0.135, 0.076, 0.034]  ...  [0.501, 0.161, 0.103, 0.023]\n",
              "5  [0.382, 0.169, 0.067, 0.026]  ...    [0.497, 0.11, 0.01, 0.018]\n",
              "6  [0.525, 0.122, 0.077, 0.009]  ...  [0.512, 0.102, 0.064, 0.045]\n",
              "7   [0.41, 0.105, 0.021, 0.024]  ...  [0.539, 0.098, 0.022, 0.049]\n",
              "8  [0.605, 0.184, 0.049, 0.053]  ...  [0.417, 0.088, 0.017, 0.059]\n",
              "9  [0.445, 0.137, 0.074, 0.028]  ...  [0.335, 0.154, 0.037, 0.011]\n",
              "\n",
              "[10 rows x 10 columns]"
            ]
          },
          "metadata": {
            "tags": []
          },
          "execution_count": 44
        }
      ]
    },
    {
      "cell_type": "code",
      "metadata": {
        "id": "TSVebjfHhIjO"
      },
      "source": [
        "T='3.2'\n",
        "dict_CM_m={}; dict_CM={}\n",
        "for m in range(10):\n",
        "    dict_CM_m[str(m)]=[]\n",
        "    dict_CM[str(m)]=[]\n",
        "    for n in range(10):\n",
        "        value1=[]; value2=[]\n",
        "        for n_hid in [1,2,4,8]:\n",
        "            FE=pd.read_pickle('{base}/loss_IG/3*3/data/3*3_PT20_0.1M_n_hid={n_hid}_T={T}_FE.pkl'.format(base=base, n_hid=n_hid, T=T))\n",
        "            dE=pd.read_pickle('{base}/loss_IG/3*3/data/3*3_PT20_0.1M_n_hid={n_hid}_T={T}_dE.pkl'.format(base=base, n_hid=n_hid, T=T))\n",
        "            value1.append(np.round(dE['CM_m'][str(m)][str(n)]-FE['mn'][str(m)][str(n)]+FE['CM_m'][str(m)],3))\n",
        "            value2.append(np.round(dE['CM'][str(m)][str(n)]-FE['mn'][str(m)][str(n)]+FE['CM'],3))\n",
        "        dict_CM_m[str(m)].append(value1)\n",
        "        dict_CM[str(m)].append(value2)\n",
        "df_CM = pd.DataFrame(data=dict_CM); df_CM_m = pd.DataFrame(data=dict_CM_m) "
      ],
      "execution_count": 45,
      "outputs": []
    },
    {
      "cell_type": "code",
      "metadata": {
        "colab": {
          "base_uri": "https://localhost:8080/",
          "height": 514
        },
        "id": "1rqtm7O0ufH4",
        "outputId": "38248616-22f9-4cd3-e7ae-cc19867d55b7"
      },
      "source": [
        "df_CM.T\n",
        "# CM모델을 이상모델로 삼은 Variance\n",
        "# column index:m, row index:n, 1칸에 n_hid=1,2,4,8순서대로 값 기입"
      ],
      "execution_count": 46,
      "outputs": [
        {
          "output_type": "execute_result",
          "data": {
            "text/html": [
              "<div>\n",
              "<style scoped>\n",
              "    .dataframe tbody tr th:only-of-type {\n",
              "        vertical-align: middle;\n",
              "    }\n",
              "\n",
              "    .dataframe tbody tr th {\n",
              "        vertical-align: top;\n",
              "    }\n",
              "\n",
              "    .dataframe thead th {\n",
              "        text-align: right;\n",
              "    }\n",
              "</style>\n",
              "<table border=\"1\" class=\"dataframe\">\n",
              "  <thead>\n",
              "    <tr style=\"text-align: right;\">\n",
              "      <th></th>\n",
              "      <th>0</th>\n",
              "      <th>1</th>\n",
              "      <th>2</th>\n",
              "      <th>3</th>\n",
              "      <th>4</th>\n",
              "      <th>5</th>\n",
              "      <th>6</th>\n",
              "      <th>7</th>\n",
              "      <th>8</th>\n",
              "      <th>9</th>\n",
              "    </tr>\n",
              "  </thead>\n",
              "  <tbody>\n",
              "    <tr>\n",
              "      <th>0</th>\n",
              "      <td>[-0.091, 0.107, 0.97, 5.665]</td>\n",
              "      <td>[-0.109, 0.182, 0.947, 5.744]</td>\n",
              "      <td>[-0.092, 0.11, 1.014, 5.303]</td>\n",
              "      <td>[20.807, 0.138, 0.967, 7.862]</td>\n",
              "      <td>[-0.027, 0.107, 0.955, 7.763]</td>\n",
              "      <td>[0.115, 0.096, 3.523, 2.146]</td>\n",
              "      <td>[0.009, 0.188, 0.932, 5.059]</td>\n",
              "      <td>[0.009, 0.141, 0.989, 2.36]</td>\n",
              "      <td>[-0.16, 0.179, 3.634, 4.695]</td>\n",
              "      <td>[-0.05, 0.169, 1.006, 2.367]</td>\n",
              "    </tr>\n",
              "    <tr>\n",
              "      <th>1</th>\n",
              "      <td>[-0.098, 0.205, 1.038, 7.91]</td>\n",
              "      <td>[-0.011, 0.116, 0.904, 5.854]</td>\n",
              "      <td>[0.02, 0.126, 0.947, 5.479]</td>\n",
              "      <td>[-0.008, 0.094, 18.65, 5.228]</td>\n",
              "      <td>[-0.01, 0.112, 0.949, 8.161]</td>\n",
              "      <td>[-0.115, 0.139, 0.872, 5.207]</td>\n",
              "      <td>[-0.101, 0.226, 0.944, 8.175]</td>\n",
              "      <td>[-0.097, 0.184, 0.964, 4.634]</td>\n",
              "      <td>[0.105, 0.128, 0.875, 7.602]</td>\n",
              "      <td>[-0.092, 0.131, 0.985, 5.217]</td>\n",
              "    </tr>\n",
              "    <tr>\n",
              "      <th>2</th>\n",
              "      <td>[0.145, 8.459, 4.017, 7.113]</td>\n",
              "      <td>[-0.004, 0.123, 0.979, 7.221]</td>\n",
              "      <td>[0.033, 0.105, 7.759, 5.647]</td>\n",
              "      <td>[-0.103, 0.098, 3.859, 2.363]</td>\n",
              "      <td>[-0.063, 0.184, 3.545, 5.688]</td>\n",
              "      <td>[-0.13, 0.124, 0.95, 6.056]</td>\n",
              "      <td>[-0.064, 0.091, 3.556, 5.312]</td>\n",
              "      <td>[-0.071, 0.13, 4.109, 5.784]</td>\n",
              "      <td>[0.02, -0.516, 0.978, 7.325]</td>\n",
              "      <td>[0.044, 0.139, 17.562, 5.374]</td>\n",
              "    </tr>\n",
              "    <tr>\n",
              "      <th>3</th>\n",
              "      <td>[0.099, 0.122, 7.077, 5.016]</td>\n",
              "      <td>[0.012, 0.177, 3.693, 7.562]</td>\n",
              "      <td>[-0.057, 7.643, 4.774, 7.469]</td>\n",
              "      <td>[-0.032, 0.063, 3.856, 5.609]</td>\n",
              "      <td>[-0.034, 0.075, 0.868, 4.745]</td>\n",
              "      <td>[-0.029, 0.096, 4.032, 5.461]</td>\n",
              "      <td>[-0.024, 0.11, 7.654, 7.798]</td>\n",
              "      <td>[-0.059, 0.155, 3.377, 5.79]</td>\n",
              "      <td>[-0.021, 0.191, 19.217, 5.033]</td>\n",
              "      <td>[-0.093, 7.727, 0.952, 5.167]</td>\n",
              "    </tr>\n",
              "    <tr>\n",
              "      <th>4</th>\n",
              "      <td>[-0.087, 0.106, 0.971, 5.661]</td>\n",
              "      <td>[-0.125, 0.191, 0.899, 7.345]</td>\n",
              "      <td>[-0.011, 0.106, 0.886, 7.63]</td>\n",
              "      <td>[-0.094, 0.144, 1.212, 5.931]</td>\n",
              "      <td>[-0.083, 0.154, 0.926, 5.598]</td>\n",
              "      <td>[-0.157, 0.197, 0.986, 5.666]</td>\n",
              "      <td>[-0.11, 0.117, 3.53, 9.89]</td>\n",
              "      <td>[-0.015, 0.124, 0.941, 5.641]</td>\n",
              "      <td>[-0.086, 0.198, 0.974, 7.254]</td>\n",
              "      <td>[0.055, 0.124, 5.278, 7.299]</td>\n",
              "    </tr>\n",
              "    <tr>\n",
              "      <th>5</th>\n",
              "      <td>[-0.051, 0.115, 1.028, 7.666]</td>\n",
              "      <td>[-0.046, 0.09, 6.05, 5.47]</td>\n",
              "      <td>[-0.078, 0.18, 0.859, 5.217]</td>\n",
              "      <td>[20.566, 0.192, 0.908, 7.754]</td>\n",
              "      <td>[-0.018, 8.969, 0.913, 5.193]</td>\n",
              "      <td>[-0.013, 0.122, 3.796, 7.322]</td>\n",
              "      <td>[20.615, 0.108, 3.555, 5.567]</td>\n",
              "      <td>[0.105, 0.125, 0.977, 5.214]</td>\n",
              "      <td>[-0.012, 0.144, 0.98, 2.273]</td>\n",
              "      <td>[-0.021, 0.188, 0.935, 2.268]</td>\n",
              "    </tr>\n",
              "    <tr>\n",
              "      <th>6</th>\n",
              "      <td>[0.031, 0.203, 1.043, 9.235]</td>\n",
              "      <td>[-0.103, 0.131, 0.995, 5.25]</td>\n",
              "      <td>[0.008, 0.209, 8.047, 5.185]</td>\n",
              "      <td>[-0.092, 0.21, 0.915, 5.073]</td>\n",
              "      <td>[-0.088, 0.117, 7.537, 5.502]</td>\n",
              "      <td>[-0.14, 0.186, 0.938, 9.248]</td>\n",
              "      <td>[-0.087, 0.194, 0.929, 2.158]</td>\n",
              "      <td>[-0.046, -0.522, 0.95, 7.551]</td>\n",
              "      <td>[-0.132, 8.489, 0.954, 8.045]</td>\n",
              "      <td>[0.08, 0.172, 1.004, 5.506]</td>\n",
              "    </tr>\n",
              "    <tr>\n",
              "      <th>7</th>\n",
              "      <td>[-0.036, 0.18, 6.946, 2.298]</td>\n",
              "      <td>[0.033, 0.127, 3.573, 9.118]</td>\n",
              "      <td>[0.152, 0.115, 3.783, 8.476]</td>\n",
              "      <td>[0.018, 0.103, 0.951, 7.685]</td>\n",
              "      <td>[-0.039, 0.136, 3.901, 8.93]</td>\n",
              "      <td>[0.084, 0.119, 0.917, 7.595]</td>\n",
              "      <td>[-0.164, 0.098, 3.892, 5.696]</td>\n",
              "      <td>[-0.051, 0.194, 0.998, 7.611]</td>\n",
              "      <td>[0.082, 0.201, 3.638, 7.444]</td>\n",
              "      <td>[0.014, 0.178, 0.92, 5.446]</td>\n",
              "    </tr>\n",
              "    <tr>\n",
              "      <th>8</th>\n",
              "      <td>[0.162, 0.133, 0.901, 7.617]</td>\n",
              "      <td>[-0.001, 0.144, 6.199, 2.165]</td>\n",
              "      <td>[-0.025, 0.125, 0.933, 4.799]</td>\n",
              "      <td>[-0.011, 0.148, 4.795, 5.165]</td>\n",
              "      <td>[-0.058, 0.173, 3.655, 5.682]</td>\n",
              "      <td>[-0.092, 0.087, 3.605, 5.412]</td>\n",
              "      <td>[-0.024, 0.184, 0.938, 4.859]</td>\n",
              "      <td>[0.154, 0.157, 3.584, 7.421]</td>\n",
              "      <td>[0.058, 0.185, 0.962, 5.721]</td>\n",
              "      <td>[-0.027, 0.178, 3.552, 5.242]</td>\n",
              "    </tr>\n",
              "    <tr>\n",
              "      <th>9</th>\n",
              "      <td>[0.035, 0.134, 0.987, 5.977]</td>\n",
              "      <td>[-0.096, 0.133, 0.937, 5.608]</td>\n",
              "      <td>[-0.112, 0.155, 0.897, 5.48]</td>\n",
              "      <td>[-0.018, 0.225, 0.952, 6.004]</td>\n",
              "      <td>[-0.024, 0.21, 0.878, 7.845]</td>\n",
              "      <td>[-0.088, 0.2, 7.583, 2.299]</td>\n",
              "      <td>[-0.024, 0.112, 3.559, 7.847]</td>\n",
              "      <td>[-0.069, 0.214, 0.906, 6.119]</td>\n",
              "      <td>[-0.026, 0.15, 1.065, 2.257]</td>\n",
              "      <td>[-0.09, 0.127, 0.901, 5.545]</td>\n",
              "    </tr>\n",
              "  </tbody>\n",
              "</table>\n",
              "</div>"
            ],
            "text/plain": [
              "                               0  ...                              9\n",
              "0   [-0.091, 0.107, 0.97, 5.665]  ...   [-0.05, 0.169, 1.006, 2.367]\n",
              "1   [-0.098, 0.205, 1.038, 7.91]  ...  [-0.092, 0.131, 0.985, 5.217]\n",
              "2   [0.145, 8.459, 4.017, 7.113]  ...  [0.044, 0.139, 17.562, 5.374]\n",
              "3   [0.099, 0.122, 7.077, 5.016]  ...  [-0.093, 7.727, 0.952, 5.167]\n",
              "4  [-0.087, 0.106, 0.971, 5.661]  ...   [0.055, 0.124, 5.278, 7.299]\n",
              "5  [-0.051, 0.115, 1.028, 7.666]  ...  [-0.021, 0.188, 0.935, 2.268]\n",
              "6   [0.031, 0.203, 1.043, 9.235]  ...    [0.08, 0.172, 1.004, 5.506]\n",
              "7   [-0.036, 0.18, 6.946, 2.298]  ...    [0.014, 0.178, 0.92, 5.446]\n",
              "8   [0.162, 0.133, 0.901, 7.617]  ...  [-0.027, 0.178, 3.552, 5.242]\n",
              "9   [0.035, 0.134, 0.987, 5.977]  ...   [-0.09, 0.127, 0.901, 5.545]\n",
              "\n",
              "[10 rows x 10 columns]"
            ]
          },
          "metadata": {
            "tags": []
          },
          "execution_count": 46
        }
      ]
    },
    {
      "cell_type": "code",
      "metadata": {
        "colab": {
          "base_uri": "https://localhost:8080/",
          "height": 514
        },
        "id": "F-_6HaDDu3uv",
        "outputId": "a81eb968-7ac8-47d1-a89a-c88c52128213"
      },
      "source": [
        "df_CM_m.T\n",
        "# CM_m모델을 이상모델삼은 Variance\n",
        "# column index:m, row index:n, 1칸에 n_hid=1,2,4,8순서대로 값 기입"
      ],
      "execution_count": 47,
      "outputs": [
        {
          "output_type": "execute_result",
          "data": {
            "text/html": [
              "<div>\n",
              "<style scoped>\n",
              "    .dataframe tbody tr th:only-of-type {\n",
              "        vertical-align: middle;\n",
              "    }\n",
              "\n",
              "    .dataframe tbody tr th {\n",
              "        vertical-align: top;\n",
              "    }\n",
              "\n",
              "    .dataframe thead th {\n",
              "        text-align: right;\n",
              "    }\n",
              "</style>\n",
              "<table border=\"1\" class=\"dataframe\">\n",
              "  <thead>\n",
              "    <tr style=\"text-align: right;\">\n",
              "      <th></th>\n",
              "      <th>0</th>\n",
              "      <th>1</th>\n",
              "      <th>2</th>\n",
              "      <th>3</th>\n",
              "      <th>4</th>\n",
              "      <th>5</th>\n",
              "      <th>6</th>\n",
              "      <th>7</th>\n",
              "      <th>8</th>\n",
              "      <th>9</th>\n",
              "    </tr>\n",
              "  </thead>\n",
              "  <tbody>\n",
              "    <tr>\n",
              "      <th>0</th>\n",
              "      <td>[0.081, 0.186, 0.663, 6.063]</td>\n",
              "      <td>[0.076, 0.23, 0.623, 4.719]</td>\n",
              "      <td>[0.081, 0.193, 0.712, 5.68]</td>\n",
              "      <td>[19.21, 0.209, 0.655, 8.375]</td>\n",
              "      <td>[0.151, 0.196, 0.646, 7.7]</td>\n",
              "      <td>[0.291, 0.174, 3.854, 1.379]</td>\n",
              "      <td>[0.194, 0.237, 0.618, 4.245]</td>\n",
              "      <td>[0.181, 0.227, 0.671, 1.308]</td>\n",
              "      <td>[0.014, 0.229, 3.949, 3.448]</td>\n",
              "      <td>[0.119, 0.211, 0.699, 1.671]</td>\n",
              "    </tr>\n",
              "    <tr>\n",
              "      <th>1</th>\n",
              "      <td>[-0.011, 0.103, 0.3, 4.919]</td>\n",
              "      <td>[0.081, 0.042, 0.266, 7.354]</td>\n",
              "      <td>[0.11, 0.062, 0.278, 1.96]</td>\n",
              "      <td>[0.091, 0.025, 11.037, 1.815]</td>\n",
              "      <td>[0.089, 0.036, 0.313, 5.405]</td>\n",
              "      <td>[-0.033, 0.071, 0.261, 1.889]</td>\n",
              "      <td>[0.001, 0.121, 0.311, 9.245]</td>\n",
              "      <td>[-0.007, 0.094, 0.322, 6.857]</td>\n",
              "      <td>[0.191, 0.052, 0.289, 5.008]</td>\n",
              "      <td>[-0.009, 0.056, 0.318, 7.154]</td>\n",
              "    </tr>\n",
              "    <tr>\n",
              "      <th>2</th>\n",
              "      <td>[0.163, 6.528, 2.973, 6.513]</td>\n",
              "      <td>[0.015, 0.245, 1.871, 6.659]</td>\n",
              "      <td>[0.052, 0.224, 7.017, 5.278]</td>\n",
              "      <td>[-0.083, 0.213, 2.607, 2.766]</td>\n",
              "      <td>[-0.045, 0.342, 2.647, 5.694]</td>\n",
              "      <td>[-0.111, 0.257, 1.825, 5.782]</td>\n",
              "      <td>[-0.046, 0.212, 2.393, 4.762]</td>\n",
              "      <td>[-0.052, 0.244, 3.005, 5.247]</td>\n",
              "      <td>[0.039, -0.349, 1.856, 6.574]</td>\n",
              "      <td>[0.064, 0.261, 16.026, 5.231]</td>\n",
              "    </tr>\n",
              "    <tr>\n",
              "      <th>3</th>\n",
              "      <td>[0.205, 0.496, 6.827, 5.126]</td>\n",
              "      <td>[0.113, 0.57, 2.296, 8.498]</td>\n",
              "      <td>[0.044, 4.179, 4.204, 6.643]</td>\n",
              "      <td>[0.067, 0.42, 3.551, 4.777]</td>\n",
              "      <td>[0.079, 0.43, 2.032, 3.973]</td>\n",
              "      <td>[0.087, 0.438, 2.865, 5.506]</td>\n",
              "      <td>[0.078, 0.484, 5.972, 6.751]</td>\n",
              "      <td>[0.044, 0.513, 3.137, 4.637]</td>\n",
              "      <td>[0.087, 0.564, 15.653, 3.992]</td>\n",
              "      <td>[0.02, 4.242, 2.441, 4.874]</td>\n",
              "    </tr>\n",
              "    <tr>\n",
              "      <th>4</th>\n",
              "      <td>[0.039, -0.114, 0.46, 6.672]</td>\n",
              "      <td>[-0.015, -0.068, 0.391, 6.866]</td>\n",
              "      <td>[0.108, -0.116, 0.39, 5.58]</td>\n",
              "      <td>[0.017, -0.087, 0.574, 4.232]</td>\n",
              "      <td>[0.026, -0.08, 0.399, 4.211]</td>\n",
              "      <td>[-0.047, -0.064, 0.501, 6.405]</td>\n",
              "      <td>[-0.001, -0.101, 3.799, 7.852]</td>\n",
              "      <td>[0.104, -0.079, 0.405, 5.463]</td>\n",
              "      <td>[0.062, -0.047, 0.456, 6.233]</td>\n",
              "      <td>[0.167, -0.1, 5.1, 7.034]</td>\n",
              "    </tr>\n",
              "    <tr>\n",
              "      <th>5</th>\n",
              "      <td>[0.56, 0.207, 0.776, 8.466]</td>\n",
              "      <td>[0.567, 0.187, 5.516, 3.053]</td>\n",
              "      <td>[0.528, 0.316, 0.667, 6.29]</td>\n",
              "      <td>[16.217, 0.305, 0.707, 8.578]</td>\n",
              "      <td>[0.587, 7.328, 0.727, 2.759]</td>\n",
              "      <td>[0.584, 0.22, 3.388, 6.182]</td>\n",
              "      <td>[16.261, 0.196, 3.136, 3.178]</td>\n",
              "      <td>[0.73, 0.228, 0.838, 4.838]</td>\n",
              "      <td>[0.595, 0.237, 0.755, 2.402]</td>\n",
              "      <td>[0.602, 0.306, 0.764, 2.476]</td>\n",
              "    </tr>\n",
              "    <tr>\n",
              "      <th>6</th>\n",
              "      <td>[0.023, 0.244, 0.291, 9.546]</td>\n",
              "      <td>[-0.11, 0.154, 0.222, 5.464]</td>\n",
              "      <td>[0.001, 0.24, 7.104, 5.466]</td>\n",
              "      <td>[-0.098, 0.246, 0.159, 4.233]</td>\n",
              "      <td>[-0.094, 0.148, 5.851, 3.959]</td>\n",
              "      <td>[-0.147, 0.214, 0.177, 8.351]</td>\n",
              "      <td>[-0.094, 0.264, 0.224, 3.207]</td>\n",
              "      <td>[-0.054, -0.455, 0.223, 6.435]</td>\n",
              "      <td>[-0.139, 7.152, 0.218, 5.493]</td>\n",
              "      <td>[0.073, 0.2, 0.251, 5.921]</td>\n",
              "    </tr>\n",
              "    <tr>\n",
              "      <th>7</th>\n",
              "      <td>[-0.043, 0.142, 6.49, 4.405]</td>\n",
              "      <td>[0.026, 0.115, 2.849, 7.192]</td>\n",
              "      <td>[0.129, 0.1, 3.043, 7.513]</td>\n",
              "      <td>[0.008, 0.091, 1.436, 7.026]</td>\n",
              "      <td>[-0.048, 0.115, 3.125, 7.066]</td>\n",
              "      <td>[0.076, 0.105, 1.46, 6.966]</td>\n",
              "      <td>[-0.181, 0.078, 2.923, 5.345]</td>\n",
              "      <td>[-0.065, 0.156, 1.545, 6.738]</td>\n",
              "      <td>[0.075, 0.173, 2.838, 6.8]</td>\n",
              "      <td>[-0.0, 0.139, 1.386, 5.581]</td>\n",
              "    </tr>\n",
              "    <tr>\n",
              "      <th>8</th>\n",
              "      <td>[0.263, -0.003, 1.197, 7.421]</td>\n",
              "      <td>[0.113, -0.002, 5.425, 2.161]</td>\n",
              "      <td>[0.079, -0.015, 1.273, 3.233]</td>\n",
              "      <td>[0.09, 0.012, 4.377, 5.748]</td>\n",
              "      <td>[0.047, 0.009, 2.861, 3.365]</td>\n",
              "      <td>[0.039, -0.053, 2.85, 5.176]</td>\n",
              "      <td>[0.08, 0.016, 1.239, 3.144]</td>\n",
              "      <td>[0.26, 0.017, 2.563, 8.857]</td>\n",
              "      <td>[0.169, 0.02, 1.245, 3.575]</td>\n",
              "      <td>[0.074, 0.019, 2.591, 4.734]</td>\n",
              "    </tr>\n",
              "    <tr>\n",
              "      <th>9</th>\n",
              "      <td>[0.069, -0.076, 0.39, 5.37]</td>\n",
              "      <td>[-0.053, -0.082, 0.339, 4.956]</td>\n",
              "      <td>[-0.078, -0.072, 0.311, 5.002]</td>\n",
              "      <td>[0.019, -0.029, 0.347, 6.541]</td>\n",
              "      <td>[0.02, -0.024, 0.316, 8.088]</td>\n",
              "      <td>[-0.044, -0.051, 7.141, 1.659]</td>\n",
              "      <td>[0.012, -0.118, 5.594, 7.167]</td>\n",
              "      <td>[-0.02, -0.039, 0.304, 5.269]</td>\n",
              "      <td>[0.007, -0.062, 0.423, 2.075]</td>\n",
              "      <td>[-0.054, -0.075, 0.334, 5.435]</td>\n",
              "    </tr>\n",
              "  </tbody>\n",
              "</table>\n",
              "</div>"
            ],
            "text/plain": [
              "                               0  ...                               9\n",
              "0   [0.081, 0.186, 0.663, 6.063]  ...    [0.119, 0.211, 0.699, 1.671]\n",
              "1    [-0.011, 0.103, 0.3, 4.919]  ...   [-0.009, 0.056, 0.318, 7.154]\n",
              "2   [0.163, 6.528, 2.973, 6.513]  ...   [0.064, 0.261, 16.026, 5.231]\n",
              "3   [0.205, 0.496, 6.827, 5.126]  ...     [0.02, 4.242, 2.441, 4.874]\n",
              "4   [0.039, -0.114, 0.46, 6.672]  ...       [0.167, -0.1, 5.1, 7.034]\n",
              "5    [0.56, 0.207, 0.776, 8.466]  ...    [0.602, 0.306, 0.764, 2.476]\n",
              "6   [0.023, 0.244, 0.291, 9.546]  ...      [0.073, 0.2, 0.251, 5.921]\n",
              "7   [-0.043, 0.142, 6.49, 4.405]  ...     [-0.0, 0.139, 1.386, 5.581]\n",
              "8  [0.263, -0.003, 1.197, 7.421]  ...    [0.074, 0.019, 2.591, 4.734]\n",
              "9    [0.069, -0.076, 0.39, 5.37]  ...  [-0.054, -0.075, 0.334, 5.435]\n",
              "\n",
              "[10 rows x 10 columns]"
            ]
          },
          "metadata": {
            "tags": []
          },
          "execution_count": 47
        }
      ]
    }
  ]
}