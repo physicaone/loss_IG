{
  "nbformat": 4,
  "nbformat_minor": 0,
  "metadata": {
    "colab": {
      "name": "Copy of [210516]sampling_with_PT.ipynb",
      "provenance": [],
      "collapsed_sections": [],
      "machine_shape": "hm",
      "include_colab_link": true
    },
    "kernelspec": {
      "display_name": "Python 3",
      "language": "python",
      "name": "python3"
    },
    "language_info": {
      "codemirror_mode": {
        "name": "ipython",
        "version": 3
      },
      "file_extension": ".py",
      "mimetype": "text/x-python",
      "name": "python",
      "nbconvert_exporter": "python",
      "pygments_lexer": "ipython3",
      "version": "3.7.4"
    },
    "widgets": {
      "application/vnd.jupyter.widget-state+json": {
        "ed137cc07d4b4436aeda13a6465b71b4": {
          "model_module": "@jupyter-widgets/controls",
          "model_name": "HBoxModel",
          "state": {
            "_view_name": "HBoxView",
            "_dom_classes": [],
            "_model_name": "HBoxModel",
            "_view_module": "@jupyter-widgets/controls",
            "_model_module_version": "1.5.0",
            "_view_count": null,
            "_view_module_version": "1.5.0",
            "box_style": "",
            "layout": "IPY_MODEL_e225b6e23f534f6781fdef9cd9528713",
            "_model_module": "@jupyter-widgets/controls",
            "children": [
              "IPY_MODEL_507c17752ad34f33b113d76336599744",
              "IPY_MODEL_9ea93da40a2f40d78c214c393fcb15d5"
            ]
          }
        },
        "e225b6e23f534f6781fdef9cd9528713": {
          "model_module": "@jupyter-widgets/base",
          "model_name": "LayoutModel",
          "state": {
            "_view_name": "LayoutView",
            "grid_template_rows": null,
            "right": null,
            "justify_content": null,
            "_view_module": "@jupyter-widgets/base",
            "overflow": null,
            "_model_module_version": "1.2.0",
            "_view_count": null,
            "flex_flow": null,
            "width": null,
            "min_width": null,
            "border": null,
            "align_items": null,
            "bottom": null,
            "_model_module": "@jupyter-widgets/base",
            "top": null,
            "grid_column": null,
            "overflow_y": null,
            "overflow_x": null,
            "grid_auto_flow": null,
            "grid_area": null,
            "grid_template_columns": null,
            "flex": null,
            "_model_name": "LayoutModel",
            "justify_items": null,
            "grid_row": null,
            "max_height": null,
            "align_content": null,
            "visibility": null,
            "align_self": null,
            "height": null,
            "min_height": null,
            "padding": null,
            "grid_auto_rows": null,
            "grid_gap": null,
            "max_width": null,
            "order": null,
            "_view_module_version": "1.2.0",
            "grid_template_areas": null,
            "object_position": null,
            "object_fit": null,
            "grid_auto_columns": null,
            "margin": null,
            "display": null,
            "left": null
          }
        },
        "507c17752ad34f33b113d76336599744": {
          "model_module": "@jupyter-widgets/controls",
          "model_name": "FloatProgressModel",
          "state": {
            "_view_name": "ProgressView",
            "style": "IPY_MODEL_68573a8bd87b44be8cfe233508e9e508",
            "_dom_classes": [],
            "description": "100%",
            "_model_name": "FloatProgressModel",
            "bar_style": "success",
            "max": 10,
            "_view_module": "@jupyter-widgets/controls",
            "_model_module_version": "1.5.0",
            "value": 10,
            "_view_count": null,
            "_view_module_version": "1.5.0",
            "orientation": "horizontal",
            "min": 0,
            "description_tooltip": null,
            "_model_module": "@jupyter-widgets/controls",
            "layout": "IPY_MODEL_51b0078f21954c8683c2d155871453c8"
          }
        },
        "9ea93da40a2f40d78c214c393fcb15d5": {
          "model_module": "@jupyter-widgets/controls",
          "model_name": "HTMLModel",
          "state": {
            "_view_name": "HTMLView",
            "style": "IPY_MODEL_cbcd493ef42248adbcfce30557fafa8e",
            "_dom_classes": [],
            "description": "",
            "_model_name": "HTMLModel",
            "placeholder": "​",
            "_view_module": "@jupyter-widgets/controls",
            "_model_module_version": "1.5.0",
            "value": " 10/10 [5:35:32&lt;00:00, 2013.22s/it]",
            "_view_count": null,
            "_view_module_version": "1.5.0",
            "description_tooltip": null,
            "_model_module": "@jupyter-widgets/controls",
            "layout": "IPY_MODEL_f5a66bce32e6473c9bac22cd271eadce"
          }
        },
        "68573a8bd87b44be8cfe233508e9e508": {
          "model_module": "@jupyter-widgets/controls",
          "model_name": "ProgressStyleModel",
          "state": {
            "_view_name": "StyleView",
            "_model_name": "ProgressStyleModel",
            "description_width": "initial",
            "_view_module": "@jupyter-widgets/base",
            "_model_module_version": "1.5.0",
            "_view_count": null,
            "_view_module_version": "1.2.0",
            "bar_color": null,
            "_model_module": "@jupyter-widgets/controls"
          }
        },
        "51b0078f21954c8683c2d155871453c8": {
          "model_module": "@jupyter-widgets/base",
          "model_name": "LayoutModel",
          "state": {
            "_view_name": "LayoutView",
            "grid_template_rows": null,
            "right": null,
            "justify_content": null,
            "_view_module": "@jupyter-widgets/base",
            "overflow": null,
            "_model_module_version": "1.2.0",
            "_view_count": null,
            "flex_flow": null,
            "width": null,
            "min_width": null,
            "border": null,
            "align_items": null,
            "bottom": null,
            "_model_module": "@jupyter-widgets/base",
            "top": null,
            "grid_column": null,
            "overflow_y": null,
            "overflow_x": null,
            "grid_auto_flow": null,
            "grid_area": null,
            "grid_template_columns": null,
            "flex": null,
            "_model_name": "LayoutModel",
            "justify_items": null,
            "grid_row": null,
            "max_height": null,
            "align_content": null,
            "visibility": null,
            "align_self": null,
            "height": null,
            "min_height": null,
            "padding": null,
            "grid_auto_rows": null,
            "grid_gap": null,
            "max_width": null,
            "order": null,
            "_view_module_version": "1.2.0",
            "grid_template_areas": null,
            "object_position": null,
            "object_fit": null,
            "grid_auto_columns": null,
            "margin": null,
            "display": null,
            "left": null
          }
        },
        "cbcd493ef42248adbcfce30557fafa8e": {
          "model_module": "@jupyter-widgets/controls",
          "model_name": "DescriptionStyleModel",
          "state": {
            "_view_name": "StyleView",
            "_model_name": "DescriptionStyleModel",
            "description_width": "",
            "_view_module": "@jupyter-widgets/base",
            "_model_module_version": "1.5.0",
            "_view_count": null,
            "_view_module_version": "1.2.0",
            "_model_module": "@jupyter-widgets/controls"
          }
        },
        "f5a66bce32e6473c9bac22cd271eadce": {
          "model_module": "@jupyter-widgets/base",
          "model_name": "LayoutModel",
          "state": {
            "_view_name": "LayoutView",
            "grid_template_rows": null,
            "right": null,
            "justify_content": null,
            "_view_module": "@jupyter-widgets/base",
            "overflow": null,
            "_model_module_version": "1.2.0",
            "_view_count": null,
            "flex_flow": null,
            "width": null,
            "min_width": null,
            "border": null,
            "align_items": null,
            "bottom": null,
            "_model_module": "@jupyter-widgets/base",
            "top": null,
            "grid_column": null,
            "overflow_y": null,
            "overflow_x": null,
            "grid_auto_flow": null,
            "grid_area": null,
            "grid_template_columns": null,
            "flex": null,
            "_model_name": "LayoutModel",
            "justify_items": null,
            "grid_row": null,
            "max_height": null,
            "align_content": null,
            "visibility": null,
            "align_self": null,
            "height": null,
            "min_height": null,
            "padding": null,
            "grid_auto_rows": null,
            "grid_gap": null,
            "max_width": null,
            "order": null,
            "_view_module_version": "1.2.0",
            "grid_template_areas": null,
            "object_position": null,
            "object_fit": null,
            "grid_auto_columns": null,
            "margin": null,
            "display": null,
            "left": null
          }
        },
        "3f422b9f48074d509f747de8eb3d03b6": {
          "model_module": "@jupyter-widgets/controls",
          "model_name": "HBoxModel",
          "state": {
            "_view_name": "HBoxView",
            "_dom_classes": [],
            "_model_name": "HBoxModel",
            "_view_module": "@jupyter-widgets/controls",
            "_model_module_version": "1.5.0",
            "_view_count": null,
            "_view_module_version": "1.5.0",
            "box_style": "",
            "layout": "IPY_MODEL_4e993dd928834f709b0f712423803c47",
            "_model_module": "@jupyter-widgets/controls",
            "children": [
              "IPY_MODEL_b36c7498c39541379be2034f116de8d2",
              "IPY_MODEL_c990cedd784c4cca9339943107b92b51"
            ]
          }
        },
        "4e993dd928834f709b0f712423803c47": {
          "model_module": "@jupyter-widgets/base",
          "model_name": "LayoutModel",
          "state": {
            "_view_name": "LayoutView",
            "grid_template_rows": null,
            "right": null,
            "justify_content": null,
            "_view_module": "@jupyter-widgets/base",
            "overflow": null,
            "_model_module_version": "1.2.0",
            "_view_count": null,
            "flex_flow": null,
            "width": null,
            "min_width": null,
            "border": null,
            "align_items": null,
            "bottom": null,
            "_model_module": "@jupyter-widgets/base",
            "top": null,
            "grid_column": null,
            "overflow_y": null,
            "overflow_x": null,
            "grid_auto_flow": null,
            "grid_area": null,
            "grid_template_columns": null,
            "flex": null,
            "_model_name": "LayoutModel",
            "justify_items": null,
            "grid_row": null,
            "max_height": null,
            "align_content": null,
            "visibility": null,
            "align_self": null,
            "height": null,
            "min_height": null,
            "padding": null,
            "grid_auto_rows": null,
            "grid_gap": null,
            "max_width": null,
            "order": null,
            "_view_module_version": "1.2.0",
            "grid_template_areas": null,
            "object_position": null,
            "object_fit": null,
            "grid_auto_columns": null,
            "margin": null,
            "display": null,
            "left": null
          }
        },
        "b36c7498c39541379be2034f116de8d2": {
          "model_module": "@jupyter-widgets/controls",
          "model_name": "FloatProgressModel",
          "state": {
            "_view_name": "ProgressView",
            "style": "IPY_MODEL_96ae4f31ed504f32b58ca708b48f7d12",
            "_dom_classes": [],
            "description": "100%",
            "_model_name": "FloatProgressModel",
            "bar_style": "success",
            "max": 10,
            "_view_module": "@jupyter-widgets/controls",
            "_model_module_version": "1.5.0",
            "value": 10,
            "_view_count": null,
            "_view_module_version": "1.5.0",
            "orientation": "horizontal",
            "min": 0,
            "description_tooltip": null,
            "_model_module": "@jupyter-widgets/controls",
            "layout": "IPY_MODEL_1499286c9f1e4c6798fb5b31806cc455"
          }
        },
        "c990cedd784c4cca9339943107b92b51": {
          "model_module": "@jupyter-widgets/controls",
          "model_name": "HTMLModel",
          "state": {
            "_view_name": "HTMLView",
            "style": "IPY_MODEL_74003b4df2df4079b64ccf6ddd4c1935",
            "_dom_classes": [],
            "description": "",
            "_model_name": "HTMLModel",
            "placeholder": "​",
            "_view_module": "@jupyter-widgets/controls",
            "_model_module_version": "1.5.0",
            "value": " 10/10 [33:28&lt;00:00, 200.84s/it]",
            "_view_count": null,
            "_view_module_version": "1.5.0",
            "description_tooltip": null,
            "_model_module": "@jupyter-widgets/controls",
            "layout": "IPY_MODEL_99a6403d47604efb97300069bd16c2f5"
          }
        },
        "96ae4f31ed504f32b58ca708b48f7d12": {
          "model_module": "@jupyter-widgets/controls",
          "model_name": "ProgressStyleModel",
          "state": {
            "_view_name": "StyleView",
            "_model_name": "ProgressStyleModel",
            "description_width": "initial",
            "_view_module": "@jupyter-widgets/base",
            "_model_module_version": "1.5.0",
            "_view_count": null,
            "_view_module_version": "1.2.0",
            "bar_color": null,
            "_model_module": "@jupyter-widgets/controls"
          }
        },
        "1499286c9f1e4c6798fb5b31806cc455": {
          "model_module": "@jupyter-widgets/base",
          "model_name": "LayoutModel",
          "state": {
            "_view_name": "LayoutView",
            "grid_template_rows": null,
            "right": null,
            "justify_content": null,
            "_view_module": "@jupyter-widgets/base",
            "overflow": null,
            "_model_module_version": "1.2.0",
            "_view_count": null,
            "flex_flow": null,
            "width": null,
            "min_width": null,
            "border": null,
            "align_items": null,
            "bottom": null,
            "_model_module": "@jupyter-widgets/base",
            "top": null,
            "grid_column": null,
            "overflow_y": null,
            "overflow_x": null,
            "grid_auto_flow": null,
            "grid_area": null,
            "grid_template_columns": null,
            "flex": null,
            "_model_name": "LayoutModel",
            "justify_items": null,
            "grid_row": null,
            "max_height": null,
            "align_content": null,
            "visibility": null,
            "align_self": null,
            "height": null,
            "min_height": null,
            "padding": null,
            "grid_auto_rows": null,
            "grid_gap": null,
            "max_width": null,
            "order": null,
            "_view_module_version": "1.2.0",
            "grid_template_areas": null,
            "object_position": null,
            "object_fit": null,
            "grid_auto_columns": null,
            "margin": null,
            "display": null,
            "left": null
          }
        },
        "74003b4df2df4079b64ccf6ddd4c1935": {
          "model_module": "@jupyter-widgets/controls",
          "model_name": "DescriptionStyleModel",
          "state": {
            "_view_name": "StyleView",
            "_model_name": "DescriptionStyleModel",
            "description_width": "",
            "_view_module": "@jupyter-widgets/base",
            "_model_module_version": "1.5.0",
            "_view_count": null,
            "_view_module_version": "1.2.0",
            "_model_module": "@jupyter-widgets/controls"
          }
        },
        "99a6403d47604efb97300069bd16c2f5": {
          "model_module": "@jupyter-widgets/base",
          "model_name": "LayoutModel",
          "state": {
            "_view_name": "LayoutView",
            "grid_template_rows": null,
            "right": null,
            "justify_content": null,
            "_view_module": "@jupyter-widgets/base",
            "overflow": null,
            "_model_module_version": "1.2.0",
            "_view_count": null,
            "flex_flow": null,
            "width": null,
            "min_width": null,
            "border": null,
            "align_items": null,
            "bottom": null,
            "_model_module": "@jupyter-widgets/base",
            "top": null,
            "grid_column": null,
            "overflow_y": null,
            "overflow_x": null,
            "grid_auto_flow": null,
            "grid_area": null,
            "grid_template_columns": null,
            "flex": null,
            "_model_name": "LayoutModel",
            "justify_items": null,
            "grid_row": null,
            "max_height": null,
            "align_content": null,
            "visibility": null,
            "align_self": null,
            "height": null,
            "min_height": null,
            "padding": null,
            "grid_auto_rows": null,
            "grid_gap": null,
            "max_width": null,
            "order": null,
            "_view_module_version": "1.2.0",
            "grid_template_areas": null,
            "object_position": null,
            "object_fit": null,
            "grid_auto_columns": null,
            "margin": null,
            "display": null,
            "left": null
          }
        },
        "2c610d247d48490aaff9dc771bd2cb9c": {
          "model_module": "@jupyter-widgets/controls",
          "model_name": "HBoxModel",
          "state": {
            "_view_name": "HBoxView",
            "_dom_classes": [],
            "_model_name": "HBoxModel",
            "_view_module": "@jupyter-widgets/controls",
            "_model_module_version": "1.5.0",
            "_view_count": null,
            "_view_module_version": "1.5.0",
            "box_style": "",
            "layout": "IPY_MODEL_f8d2ea748e054096b8766c0c7a9e1b32",
            "_model_module": "@jupyter-widgets/controls",
            "children": [
              "IPY_MODEL_126ae94d97a44cd482f3215e4ea13e9d",
              "IPY_MODEL_ec7318876d6b45e19505b0c48f1e9081"
            ]
          }
        },
        "f8d2ea748e054096b8766c0c7a9e1b32": {
          "model_module": "@jupyter-widgets/base",
          "model_name": "LayoutModel",
          "state": {
            "_view_name": "LayoutView",
            "grid_template_rows": null,
            "right": null,
            "justify_content": null,
            "_view_module": "@jupyter-widgets/base",
            "overflow": null,
            "_model_module_version": "1.2.0",
            "_view_count": null,
            "flex_flow": null,
            "width": null,
            "min_width": null,
            "border": null,
            "align_items": null,
            "bottom": null,
            "_model_module": "@jupyter-widgets/base",
            "top": null,
            "grid_column": null,
            "overflow_y": null,
            "overflow_x": null,
            "grid_auto_flow": null,
            "grid_area": null,
            "grid_template_columns": null,
            "flex": null,
            "_model_name": "LayoutModel",
            "justify_items": null,
            "grid_row": null,
            "max_height": null,
            "align_content": null,
            "visibility": null,
            "align_self": null,
            "height": null,
            "min_height": null,
            "padding": null,
            "grid_auto_rows": null,
            "grid_gap": null,
            "max_width": null,
            "order": null,
            "_view_module_version": "1.2.0",
            "grid_template_areas": null,
            "object_position": null,
            "object_fit": null,
            "grid_auto_columns": null,
            "margin": null,
            "display": null,
            "left": null
          }
        },
        "126ae94d97a44cd482f3215e4ea13e9d": {
          "model_module": "@jupyter-widgets/controls",
          "model_name": "FloatProgressModel",
          "state": {
            "_view_name": "ProgressView",
            "style": "IPY_MODEL_1b58ebbcd9f8430680c00bcf3e38193a",
            "_dom_classes": [],
            "description": "100%",
            "_model_name": "FloatProgressModel",
            "bar_style": "success",
            "max": 10,
            "_view_module": "@jupyter-widgets/controls",
            "_model_module_version": "1.5.0",
            "value": 10,
            "_view_count": null,
            "_view_module_version": "1.5.0",
            "orientation": "horizontal",
            "min": 0,
            "description_tooltip": null,
            "_model_module": "@jupyter-widgets/controls",
            "layout": "IPY_MODEL_d474aa566e084246aa1695d8fcd018d4"
          }
        },
        "ec7318876d6b45e19505b0c48f1e9081": {
          "model_module": "@jupyter-widgets/controls",
          "model_name": "HTMLModel",
          "state": {
            "_view_name": "HTMLView",
            "style": "IPY_MODEL_bb1b3b7e287046758b2fffff111f9d7d",
            "_dom_classes": [],
            "description": "",
            "_model_name": "HTMLModel",
            "placeholder": "​",
            "_view_module": "@jupyter-widgets/controls",
            "_model_module_version": "1.5.0",
            "value": " 10/10 [29:15&lt;00:00, 175.59s/it]",
            "_view_count": null,
            "_view_module_version": "1.5.0",
            "description_tooltip": null,
            "_model_module": "@jupyter-widgets/controls",
            "layout": "IPY_MODEL_ac6a2d8e37bb40a59fac794f6b9b1a98"
          }
        },
        "1b58ebbcd9f8430680c00bcf3e38193a": {
          "model_module": "@jupyter-widgets/controls",
          "model_name": "ProgressStyleModel",
          "state": {
            "_view_name": "StyleView",
            "_model_name": "ProgressStyleModel",
            "description_width": "initial",
            "_view_module": "@jupyter-widgets/base",
            "_model_module_version": "1.5.0",
            "_view_count": null,
            "_view_module_version": "1.2.0",
            "bar_color": null,
            "_model_module": "@jupyter-widgets/controls"
          }
        },
        "d474aa566e084246aa1695d8fcd018d4": {
          "model_module": "@jupyter-widgets/base",
          "model_name": "LayoutModel",
          "state": {
            "_view_name": "LayoutView",
            "grid_template_rows": null,
            "right": null,
            "justify_content": null,
            "_view_module": "@jupyter-widgets/base",
            "overflow": null,
            "_model_module_version": "1.2.0",
            "_view_count": null,
            "flex_flow": null,
            "width": null,
            "min_width": null,
            "border": null,
            "align_items": null,
            "bottom": null,
            "_model_module": "@jupyter-widgets/base",
            "top": null,
            "grid_column": null,
            "overflow_y": null,
            "overflow_x": null,
            "grid_auto_flow": null,
            "grid_area": null,
            "grid_template_columns": null,
            "flex": null,
            "_model_name": "LayoutModel",
            "justify_items": null,
            "grid_row": null,
            "max_height": null,
            "align_content": null,
            "visibility": null,
            "align_self": null,
            "height": null,
            "min_height": null,
            "padding": null,
            "grid_auto_rows": null,
            "grid_gap": null,
            "max_width": null,
            "order": null,
            "_view_module_version": "1.2.0",
            "grid_template_areas": null,
            "object_position": null,
            "object_fit": null,
            "grid_auto_columns": null,
            "margin": null,
            "display": null,
            "left": null
          }
        },
        "bb1b3b7e287046758b2fffff111f9d7d": {
          "model_module": "@jupyter-widgets/controls",
          "model_name": "DescriptionStyleModel",
          "state": {
            "_view_name": "StyleView",
            "_model_name": "DescriptionStyleModel",
            "description_width": "",
            "_view_module": "@jupyter-widgets/base",
            "_model_module_version": "1.5.0",
            "_view_count": null,
            "_view_module_version": "1.2.0",
            "_model_module": "@jupyter-widgets/controls"
          }
        },
        "ac6a2d8e37bb40a59fac794f6b9b1a98": {
          "model_module": "@jupyter-widgets/base",
          "model_name": "LayoutModel",
          "state": {
            "_view_name": "LayoutView",
            "grid_template_rows": null,
            "right": null,
            "justify_content": null,
            "_view_module": "@jupyter-widgets/base",
            "overflow": null,
            "_model_module_version": "1.2.0",
            "_view_count": null,
            "flex_flow": null,
            "width": null,
            "min_width": null,
            "border": null,
            "align_items": null,
            "bottom": null,
            "_model_module": "@jupyter-widgets/base",
            "top": null,
            "grid_column": null,
            "overflow_y": null,
            "overflow_x": null,
            "grid_auto_flow": null,
            "grid_area": null,
            "grid_template_columns": null,
            "flex": null,
            "_model_name": "LayoutModel",
            "justify_items": null,
            "grid_row": null,
            "max_height": null,
            "align_content": null,
            "visibility": null,
            "align_self": null,
            "height": null,
            "min_height": null,
            "padding": null,
            "grid_auto_rows": null,
            "grid_gap": null,
            "max_width": null,
            "order": null,
            "_view_module_version": "1.2.0",
            "grid_template_areas": null,
            "object_position": null,
            "object_fit": null,
            "grid_auto_columns": null,
            "margin": null,
            "display": null,
            "left": null
          }
        },
        "ee48589fb92847c6b2d23102f1743ca4": {
          "model_module": "@jupyter-widgets/controls",
          "model_name": "HBoxModel",
          "state": {
            "_view_name": "HBoxView",
            "_dom_classes": [],
            "_model_name": "HBoxModel",
            "_view_module": "@jupyter-widgets/controls",
            "_model_module_version": "1.5.0",
            "_view_count": null,
            "_view_module_version": "1.5.0",
            "box_style": "",
            "layout": "IPY_MODEL_fa32d99dc79943dab45fa924cabff7c2",
            "_model_module": "@jupyter-widgets/controls",
            "children": [
              "IPY_MODEL_2fdb20636cb240e395bcbbf8e2be6687",
              "IPY_MODEL_de58ca5ae24940c69207f814197e5b79"
            ]
          }
        },
        "fa32d99dc79943dab45fa924cabff7c2": {
          "model_module": "@jupyter-widgets/base",
          "model_name": "LayoutModel",
          "state": {
            "_view_name": "LayoutView",
            "grid_template_rows": null,
            "right": null,
            "justify_content": null,
            "_view_module": "@jupyter-widgets/base",
            "overflow": null,
            "_model_module_version": "1.2.0",
            "_view_count": null,
            "flex_flow": null,
            "width": null,
            "min_width": null,
            "border": null,
            "align_items": null,
            "bottom": null,
            "_model_module": "@jupyter-widgets/base",
            "top": null,
            "grid_column": null,
            "overflow_y": null,
            "overflow_x": null,
            "grid_auto_flow": null,
            "grid_area": null,
            "grid_template_columns": null,
            "flex": null,
            "_model_name": "LayoutModel",
            "justify_items": null,
            "grid_row": null,
            "max_height": null,
            "align_content": null,
            "visibility": null,
            "align_self": null,
            "height": null,
            "min_height": null,
            "padding": null,
            "grid_auto_rows": null,
            "grid_gap": null,
            "max_width": null,
            "order": null,
            "_view_module_version": "1.2.0",
            "grid_template_areas": null,
            "object_position": null,
            "object_fit": null,
            "grid_auto_columns": null,
            "margin": null,
            "display": null,
            "left": null
          }
        },
        "2fdb20636cb240e395bcbbf8e2be6687": {
          "model_module": "@jupyter-widgets/controls",
          "model_name": "FloatProgressModel",
          "state": {
            "_view_name": "ProgressView",
            "style": "IPY_MODEL_bff4e9f4fa404b008d67e2c49cbd546a",
            "_dom_classes": [],
            "description": "100%",
            "_model_name": "FloatProgressModel",
            "bar_style": "success",
            "max": 100,
            "_view_module": "@jupyter-widgets/controls",
            "_model_module_version": "1.5.0",
            "value": 100,
            "_view_count": null,
            "_view_module_version": "1.5.0",
            "orientation": "horizontal",
            "min": 0,
            "description_tooltip": null,
            "_model_module": "@jupyter-widgets/controls",
            "layout": "IPY_MODEL_b69b9783207c4a908fcb36c1bcbc0362"
          }
        },
        "de58ca5ae24940c69207f814197e5b79": {
          "model_module": "@jupyter-widgets/controls",
          "model_name": "HTMLModel",
          "state": {
            "_view_name": "HTMLView",
            "style": "IPY_MODEL_58cf3516efb24862a0cd419f1e5bacf8",
            "_dom_classes": [],
            "description": "",
            "_model_name": "HTMLModel",
            "placeholder": "​",
            "_view_module": "@jupyter-widgets/controls",
            "_model_module_version": "1.5.0",
            "value": " 100/100 [1:17:28&lt;00:00, 46.49s/it]",
            "_view_count": null,
            "_view_module_version": "1.5.0",
            "description_tooltip": null,
            "_model_module": "@jupyter-widgets/controls",
            "layout": "IPY_MODEL_88661bcde5794fd8a1994e9fb696b10a"
          }
        },
        "bff4e9f4fa404b008d67e2c49cbd546a": {
          "model_module": "@jupyter-widgets/controls",
          "model_name": "ProgressStyleModel",
          "state": {
            "_view_name": "StyleView",
            "_model_name": "ProgressStyleModel",
            "description_width": "initial",
            "_view_module": "@jupyter-widgets/base",
            "_model_module_version": "1.5.0",
            "_view_count": null,
            "_view_module_version": "1.2.0",
            "bar_color": null,
            "_model_module": "@jupyter-widgets/controls"
          }
        },
        "b69b9783207c4a908fcb36c1bcbc0362": {
          "model_module": "@jupyter-widgets/base",
          "model_name": "LayoutModel",
          "state": {
            "_view_name": "LayoutView",
            "grid_template_rows": null,
            "right": null,
            "justify_content": null,
            "_view_module": "@jupyter-widgets/base",
            "overflow": null,
            "_model_module_version": "1.2.0",
            "_view_count": null,
            "flex_flow": null,
            "width": null,
            "min_width": null,
            "border": null,
            "align_items": null,
            "bottom": null,
            "_model_module": "@jupyter-widgets/base",
            "top": null,
            "grid_column": null,
            "overflow_y": null,
            "overflow_x": null,
            "grid_auto_flow": null,
            "grid_area": null,
            "grid_template_columns": null,
            "flex": null,
            "_model_name": "LayoutModel",
            "justify_items": null,
            "grid_row": null,
            "max_height": null,
            "align_content": null,
            "visibility": null,
            "align_self": null,
            "height": null,
            "min_height": null,
            "padding": null,
            "grid_auto_rows": null,
            "grid_gap": null,
            "max_width": null,
            "order": null,
            "_view_module_version": "1.2.0",
            "grid_template_areas": null,
            "object_position": null,
            "object_fit": null,
            "grid_auto_columns": null,
            "margin": null,
            "display": null,
            "left": null
          }
        },
        "58cf3516efb24862a0cd419f1e5bacf8": {
          "model_module": "@jupyter-widgets/controls",
          "model_name": "DescriptionStyleModel",
          "state": {
            "_view_name": "StyleView",
            "_model_name": "DescriptionStyleModel",
            "description_width": "",
            "_view_module": "@jupyter-widgets/base",
            "_model_module_version": "1.5.0",
            "_view_count": null,
            "_view_module_version": "1.2.0",
            "_model_module": "@jupyter-widgets/controls"
          }
        },
        "88661bcde5794fd8a1994e9fb696b10a": {
          "model_module": "@jupyter-widgets/base",
          "model_name": "LayoutModel",
          "state": {
            "_view_name": "LayoutView",
            "grid_template_rows": null,
            "right": null,
            "justify_content": null,
            "_view_module": "@jupyter-widgets/base",
            "overflow": null,
            "_model_module_version": "1.2.0",
            "_view_count": null,
            "flex_flow": null,
            "width": null,
            "min_width": null,
            "border": null,
            "align_items": null,
            "bottom": null,
            "_model_module": "@jupyter-widgets/base",
            "top": null,
            "grid_column": null,
            "overflow_y": null,
            "overflow_x": null,
            "grid_auto_flow": null,
            "grid_area": null,
            "grid_template_columns": null,
            "flex": null,
            "_model_name": "LayoutModel",
            "justify_items": null,
            "grid_row": null,
            "max_height": null,
            "align_content": null,
            "visibility": null,
            "align_self": null,
            "height": null,
            "min_height": null,
            "padding": null,
            "grid_auto_rows": null,
            "grid_gap": null,
            "max_width": null,
            "order": null,
            "_view_module_version": "1.2.0",
            "grid_template_areas": null,
            "object_position": null,
            "object_fit": null,
            "grid_auto_columns": null,
            "margin": null,
            "display": null,
            "left": null
          }
        },
        "7e912ead571a4bcfb4f1dd1fb9065aa2": {
          "model_module": "@jupyter-widgets/controls",
          "model_name": "HBoxModel",
          "state": {
            "_view_name": "HBoxView",
            "_dom_classes": [],
            "_model_name": "HBoxModel",
            "_view_module": "@jupyter-widgets/controls",
            "_model_module_version": "1.5.0",
            "_view_count": null,
            "_view_module_version": "1.5.0",
            "box_style": "",
            "layout": "IPY_MODEL_7a55eeeda4c0473d8063f55ff7af87f6",
            "_model_module": "@jupyter-widgets/controls",
            "children": [
              "IPY_MODEL_7cab16599225491486cb848fb2928481",
              "IPY_MODEL_b9557315a8fd4b689c45bd8500ab5914"
            ]
          }
        },
        "7a55eeeda4c0473d8063f55ff7af87f6": {
          "model_module": "@jupyter-widgets/base",
          "model_name": "LayoutModel",
          "state": {
            "_view_name": "LayoutView",
            "grid_template_rows": null,
            "right": null,
            "justify_content": null,
            "_view_module": "@jupyter-widgets/base",
            "overflow": null,
            "_model_module_version": "1.2.0",
            "_view_count": null,
            "flex_flow": null,
            "width": null,
            "min_width": null,
            "border": null,
            "align_items": null,
            "bottom": null,
            "_model_module": "@jupyter-widgets/base",
            "top": null,
            "grid_column": null,
            "overflow_y": null,
            "overflow_x": null,
            "grid_auto_flow": null,
            "grid_area": null,
            "grid_template_columns": null,
            "flex": null,
            "_model_name": "LayoutModel",
            "justify_items": null,
            "grid_row": null,
            "max_height": null,
            "align_content": null,
            "visibility": null,
            "align_self": null,
            "height": null,
            "min_height": null,
            "padding": null,
            "grid_auto_rows": null,
            "grid_gap": null,
            "max_width": null,
            "order": null,
            "_view_module_version": "1.2.0",
            "grid_template_areas": null,
            "object_position": null,
            "object_fit": null,
            "grid_auto_columns": null,
            "margin": null,
            "display": null,
            "left": null
          }
        },
        "7cab16599225491486cb848fb2928481": {
          "model_module": "@jupyter-widgets/controls",
          "model_name": "FloatProgressModel",
          "state": {
            "_view_name": "ProgressView",
            "style": "IPY_MODEL_bfa723c24d1a40a1a241676c931de018",
            "_dom_classes": [],
            "description": "100%",
            "_model_name": "FloatProgressModel",
            "bar_style": "success",
            "max": 100,
            "_view_module": "@jupyter-widgets/controls",
            "_model_module_version": "1.5.0",
            "value": 100,
            "_view_count": null,
            "_view_module_version": "1.5.0",
            "orientation": "horizontal",
            "min": 0,
            "description_tooltip": null,
            "_model_module": "@jupyter-widgets/controls",
            "layout": "IPY_MODEL_e74b9b5fb42d406d9a17d23e39a4e86f"
          }
        },
        "b9557315a8fd4b689c45bd8500ab5914": {
          "model_module": "@jupyter-widgets/controls",
          "model_name": "HTMLModel",
          "state": {
            "_view_name": "HTMLView",
            "style": "IPY_MODEL_8924ae92d13047188711a854872db283",
            "_dom_classes": [],
            "description": "",
            "_model_name": "HTMLModel",
            "placeholder": "​",
            "_view_module": "@jupyter-widgets/controls",
            "_model_module_version": "1.5.0",
            "value": " 100/100 [1:19:08&lt;00:00, 47.49s/it]",
            "_view_count": null,
            "_view_module_version": "1.5.0",
            "description_tooltip": null,
            "_model_module": "@jupyter-widgets/controls",
            "layout": "IPY_MODEL_bf2c549c9a824e25b285bcc6738ba7b8"
          }
        },
        "bfa723c24d1a40a1a241676c931de018": {
          "model_module": "@jupyter-widgets/controls",
          "model_name": "ProgressStyleModel",
          "state": {
            "_view_name": "StyleView",
            "_model_name": "ProgressStyleModel",
            "description_width": "initial",
            "_view_module": "@jupyter-widgets/base",
            "_model_module_version": "1.5.0",
            "_view_count": null,
            "_view_module_version": "1.2.0",
            "bar_color": null,
            "_model_module": "@jupyter-widgets/controls"
          }
        },
        "e74b9b5fb42d406d9a17d23e39a4e86f": {
          "model_module": "@jupyter-widgets/base",
          "model_name": "LayoutModel",
          "state": {
            "_view_name": "LayoutView",
            "grid_template_rows": null,
            "right": null,
            "justify_content": null,
            "_view_module": "@jupyter-widgets/base",
            "overflow": null,
            "_model_module_version": "1.2.0",
            "_view_count": null,
            "flex_flow": null,
            "width": null,
            "min_width": null,
            "border": null,
            "align_items": null,
            "bottom": null,
            "_model_module": "@jupyter-widgets/base",
            "top": null,
            "grid_column": null,
            "overflow_y": null,
            "overflow_x": null,
            "grid_auto_flow": null,
            "grid_area": null,
            "grid_template_columns": null,
            "flex": null,
            "_model_name": "LayoutModel",
            "justify_items": null,
            "grid_row": null,
            "max_height": null,
            "align_content": null,
            "visibility": null,
            "align_self": null,
            "height": null,
            "min_height": null,
            "padding": null,
            "grid_auto_rows": null,
            "grid_gap": null,
            "max_width": null,
            "order": null,
            "_view_module_version": "1.2.0",
            "grid_template_areas": null,
            "object_position": null,
            "object_fit": null,
            "grid_auto_columns": null,
            "margin": null,
            "display": null,
            "left": null
          }
        },
        "8924ae92d13047188711a854872db283": {
          "model_module": "@jupyter-widgets/controls",
          "model_name": "DescriptionStyleModel",
          "state": {
            "_view_name": "StyleView",
            "_model_name": "DescriptionStyleModel",
            "description_width": "",
            "_view_module": "@jupyter-widgets/base",
            "_model_module_version": "1.5.0",
            "_view_count": null,
            "_view_module_version": "1.2.0",
            "_model_module": "@jupyter-widgets/controls"
          }
        },
        "bf2c549c9a824e25b285bcc6738ba7b8": {
          "model_module": "@jupyter-widgets/base",
          "model_name": "LayoutModel",
          "state": {
            "_view_name": "LayoutView",
            "grid_template_rows": null,
            "right": null,
            "justify_content": null,
            "_view_module": "@jupyter-widgets/base",
            "overflow": null,
            "_model_module_version": "1.2.0",
            "_view_count": null,
            "flex_flow": null,
            "width": null,
            "min_width": null,
            "border": null,
            "align_items": null,
            "bottom": null,
            "_model_module": "@jupyter-widgets/base",
            "top": null,
            "grid_column": null,
            "overflow_y": null,
            "overflow_x": null,
            "grid_auto_flow": null,
            "grid_area": null,
            "grid_template_columns": null,
            "flex": null,
            "_model_name": "LayoutModel",
            "justify_items": null,
            "grid_row": null,
            "max_height": null,
            "align_content": null,
            "visibility": null,
            "align_self": null,
            "height": null,
            "min_height": null,
            "padding": null,
            "grid_auto_rows": null,
            "grid_gap": null,
            "max_width": null,
            "order": null,
            "_view_module_version": "1.2.0",
            "grid_template_areas": null,
            "object_position": null,
            "object_fit": null,
            "grid_auto_columns": null,
            "margin": null,
            "display": null,
            "left": null
          }
        },
        "721cb7b79b0141c9b0a78d6014dc07d0": {
          "model_module": "@jupyter-widgets/controls",
          "model_name": "HBoxModel",
          "state": {
            "_view_name": "HBoxView",
            "_dom_classes": [],
            "_model_name": "HBoxModel",
            "_view_module": "@jupyter-widgets/controls",
            "_model_module_version": "1.5.0",
            "_view_count": null,
            "_view_module_version": "1.5.0",
            "box_style": "",
            "layout": "IPY_MODEL_27db8b81f1b04d00ad14c9971d32f0d0",
            "_model_module": "@jupyter-widgets/controls",
            "children": [
              "IPY_MODEL_f7961b3e821a4a8686650e1125fd2fed",
              "IPY_MODEL_159ddd1009c14e02af100dfdba09ba50"
            ]
          }
        },
        "27db8b81f1b04d00ad14c9971d32f0d0": {
          "model_module": "@jupyter-widgets/base",
          "model_name": "LayoutModel",
          "state": {
            "_view_name": "LayoutView",
            "grid_template_rows": null,
            "right": null,
            "justify_content": null,
            "_view_module": "@jupyter-widgets/base",
            "overflow": null,
            "_model_module_version": "1.2.0",
            "_view_count": null,
            "flex_flow": null,
            "width": null,
            "min_width": null,
            "border": null,
            "align_items": null,
            "bottom": null,
            "_model_module": "@jupyter-widgets/base",
            "top": null,
            "grid_column": null,
            "overflow_y": null,
            "overflow_x": null,
            "grid_auto_flow": null,
            "grid_area": null,
            "grid_template_columns": null,
            "flex": null,
            "_model_name": "LayoutModel",
            "justify_items": null,
            "grid_row": null,
            "max_height": null,
            "align_content": null,
            "visibility": null,
            "align_self": null,
            "height": null,
            "min_height": null,
            "padding": null,
            "grid_auto_rows": null,
            "grid_gap": null,
            "max_width": null,
            "order": null,
            "_view_module_version": "1.2.0",
            "grid_template_areas": null,
            "object_position": null,
            "object_fit": null,
            "grid_auto_columns": null,
            "margin": null,
            "display": null,
            "left": null
          }
        },
        "f7961b3e821a4a8686650e1125fd2fed": {
          "model_module": "@jupyter-widgets/controls",
          "model_name": "FloatProgressModel",
          "state": {
            "_view_name": "ProgressView",
            "style": "IPY_MODEL_5103bcc451c54cbda44fbfade341a8d1",
            "_dom_classes": [],
            "description": "100%",
            "_model_name": "FloatProgressModel",
            "bar_style": "success",
            "max": 100,
            "_view_module": "@jupyter-widgets/controls",
            "_model_module_version": "1.5.0",
            "value": 100,
            "_view_count": null,
            "_view_module_version": "1.5.0",
            "orientation": "horizontal",
            "min": 0,
            "description_tooltip": null,
            "_model_module": "@jupyter-widgets/controls",
            "layout": "IPY_MODEL_3207271746f74cc7a83cf0e654689d3e"
          }
        },
        "159ddd1009c14e02af100dfdba09ba50": {
          "model_module": "@jupyter-widgets/controls",
          "model_name": "HTMLModel",
          "state": {
            "_view_name": "HTMLView",
            "style": "IPY_MODEL_99f6c9c3589a451194192c85ee0c2d66",
            "_dom_classes": [],
            "description": "",
            "_model_name": "HTMLModel",
            "placeholder": "​",
            "_view_module": "@jupyter-widgets/controls",
            "_model_module_version": "1.5.0",
            "value": " 100/100 [1:21:59&lt;00:00, 49.20s/it]",
            "_view_count": null,
            "_view_module_version": "1.5.0",
            "description_tooltip": null,
            "_model_module": "@jupyter-widgets/controls",
            "layout": "IPY_MODEL_862c1ee760ba4dc89d24d7cc46f8baea"
          }
        },
        "5103bcc451c54cbda44fbfade341a8d1": {
          "model_module": "@jupyter-widgets/controls",
          "model_name": "ProgressStyleModel",
          "state": {
            "_view_name": "StyleView",
            "_model_name": "ProgressStyleModel",
            "description_width": "initial",
            "_view_module": "@jupyter-widgets/base",
            "_model_module_version": "1.5.0",
            "_view_count": null,
            "_view_module_version": "1.2.0",
            "bar_color": null,
            "_model_module": "@jupyter-widgets/controls"
          }
        },
        "3207271746f74cc7a83cf0e654689d3e": {
          "model_module": "@jupyter-widgets/base",
          "model_name": "LayoutModel",
          "state": {
            "_view_name": "LayoutView",
            "grid_template_rows": null,
            "right": null,
            "justify_content": null,
            "_view_module": "@jupyter-widgets/base",
            "overflow": null,
            "_model_module_version": "1.2.0",
            "_view_count": null,
            "flex_flow": null,
            "width": null,
            "min_width": null,
            "border": null,
            "align_items": null,
            "bottom": null,
            "_model_module": "@jupyter-widgets/base",
            "top": null,
            "grid_column": null,
            "overflow_y": null,
            "overflow_x": null,
            "grid_auto_flow": null,
            "grid_area": null,
            "grid_template_columns": null,
            "flex": null,
            "_model_name": "LayoutModel",
            "justify_items": null,
            "grid_row": null,
            "max_height": null,
            "align_content": null,
            "visibility": null,
            "align_self": null,
            "height": null,
            "min_height": null,
            "padding": null,
            "grid_auto_rows": null,
            "grid_gap": null,
            "max_width": null,
            "order": null,
            "_view_module_version": "1.2.0",
            "grid_template_areas": null,
            "object_position": null,
            "object_fit": null,
            "grid_auto_columns": null,
            "margin": null,
            "display": null,
            "left": null
          }
        },
        "99f6c9c3589a451194192c85ee0c2d66": {
          "model_module": "@jupyter-widgets/controls",
          "model_name": "DescriptionStyleModel",
          "state": {
            "_view_name": "StyleView",
            "_model_name": "DescriptionStyleModel",
            "description_width": "",
            "_view_module": "@jupyter-widgets/base",
            "_model_module_version": "1.5.0",
            "_view_count": null,
            "_view_module_version": "1.2.0",
            "_model_module": "@jupyter-widgets/controls"
          }
        },
        "862c1ee760ba4dc89d24d7cc46f8baea": {
          "model_module": "@jupyter-widgets/base",
          "model_name": "LayoutModel",
          "state": {
            "_view_name": "LayoutView",
            "grid_template_rows": null,
            "right": null,
            "justify_content": null,
            "_view_module": "@jupyter-widgets/base",
            "overflow": null,
            "_model_module_version": "1.2.0",
            "_view_count": null,
            "flex_flow": null,
            "width": null,
            "min_width": null,
            "border": null,
            "align_items": null,
            "bottom": null,
            "_model_module": "@jupyter-widgets/base",
            "top": null,
            "grid_column": null,
            "overflow_y": null,
            "overflow_x": null,
            "grid_auto_flow": null,
            "grid_area": null,
            "grid_template_columns": null,
            "flex": null,
            "_model_name": "LayoutModel",
            "justify_items": null,
            "grid_row": null,
            "max_height": null,
            "align_content": null,
            "visibility": null,
            "align_self": null,
            "height": null,
            "min_height": null,
            "padding": null,
            "grid_auto_rows": null,
            "grid_gap": null,
            "max_width": null,
            "order": null,
            "_view_module_version": "1.2.0",
            "grid_template_areas": null,
            "object_position": null,
            "object_fit": null,
            "grid_auto_columns": null,
            "margin": null,
            "display": null,
            "left": null
          }
        }
      }
    },
    "accelerator": "GPU"
  },
  "cells": [
    {
      "cell_type": "markdown",
      "metadata": {
        "id": "view-in-github",
        "colab_type": "text"
      },
      "source": [
        "<a href=\"https://colab.research.google.com/github/physicaone/loss_IG/blob/master/%5B210516%5Dsampling_with_PT4.ipynb\" target=\"_parent\"><img src=\"https://colab.research.google.com/assets/colab-badge.svg\" alt=\"Open In Colab\"/></a>"
      ]
    },
    {
      "cell_type": "code",
      "metadata": {
        "colab": {
          "base_uri": "https://localhost:8080/"
        },
        "id": "Te6zZB8sZFDm",
        "outputId": "db42365c-640a-4a77-ec23-be5ffafa87ed"
      },
      "source": [
        "try:\n",
        "    from google.colab import drive\n",
        "    drive.mount('/content/drive')\n",
        "    base='drive/MyDrive'\n",
        "except:\n",
        "    base='Google Drive'"
      ],
      "execution_count": null,
      "outputs": [
        {
          "output_type": "stream",
          "text": [
            "Mounted at /content/drive\n"
          ],
          "name": "stdout"
        }
      ]
    },
    {
      "cell_type": "code",
      "metadata": {
        "id": "JBWjLs2eV-0R"
      },
      "source": [
        "import numpy as np\n",
        "import torch\n",
        "import torchvision.datasets\n",
        "import torchvision.models\n",
        "import torchvision.transforms\n",
        "import torch.nn.functional as F\n",
        "from torchvision import datasets, transforms\n",
        "from torchvision.utils import make_grid\n",
        "import torch.utils.data\n",
        "import torch.nn as nn\n",
        "from itertools import combinations\n",
        "from itertools import permutations\n",
        "from datetime import datetime\n",
        "from tqdm import tqdm, tnrange\n",
        "import warnings\n",
        "warnings.filterwarnings(\"ignore\")\n",
        "import pickle as pkl\n",
        "import pandas as pd\n",
        "import matplotlib.pyplot as plt\n",
        "import matplotlib.gridspec as gridspec\n",
        "%matplotlib inline\n",
        "# np.seterr(divide='ignore', invalid='ignore')\n",
        "import itertools\n",
        "import re\n",
        "from time import sleep"
      ],
      "execution_count": null,
      "outputs": []
    },
    {
      "cell_type": "markdown",
      "metadata": {
        "id": "QZMPF-Cs4prw"
      },
      "source": [
        "#Define RBM class"
      ]
    },
    {
      "cell_type": "code",
      "metadata": {
        "id": "4UlSsScJdssV"
      },
      "source": [
        "class RBM(nn.Module):\n",
        "\n",
        "    def __init__(self, n_vis, n_hid, k, use_cuda):\n",
        "        \"\"\"Create a RBM.\"\"\"\n",
        "        super(RBM, self).__init__()\n",
        "        \n",
        "        if use_cuda==True:\n",
        "            self.v = nn.Parameter(torch.ones(1, n_vis).cuda())\n",
        "            self.h = nn.Parameter(torch.zeros(1, n_hid).cuda())\n",
        "            self.W = nn.Parameter(torch.randn(n_hid, n_vis).cuda())\n",
        "            self.k = k\n",
        "        else:\n",
        "            self.v = nn.Parameter(torch.ones(1, n_vis))\n",
        "            self.h = nn.Parameter(torch.zeros(1, n_hid))\n",
        "            self.W = nn.Parameter(torch.randn(n_hid, n_vis))\n",
        "            self.k = k     \n",
        "\n",
        "    def visible_to_hidden(self, v, beta):\n",
        "        return torch.sigmoid(F.linear(v, self.W, self.h)*beta)\n",
        "\n",
        "    def hidden_to_visible(self, h, beta):\n",
        "        return torch.sigmoid(F.linear(h, self.W.t(), self.v)*beta)\n",
        "\n",
        "    def free_energy(self, v):\n",
        "        v_term = torch.matmul(v, self.v.t())\n",
        "        w_x_h = F.linear(v, self.W, self.h)\n",
        "        h_term = torch.sum(F.softplus(w_x_h), dim=1)\n",
        "        return torch.mean(-h_term - v_term)\n",
        "    \n",
        "    def energy2(self, v, h):\n",
        "        return -torch.matmul(v, self.v.t())-torch.matmul(torch.matmul(v, self.W.t()),h.t())-torch.matmul(h, self.h.t())\n",
        "\n",
        "    def forward(self, v):\n",
        "        h = self.visible_to_hidden(v)\n",
        "        h = h.bernoulli()\n",
        "        for _ in range(self.k):\n",
        "            v_gibb = self.hidden_to_visible(h)\n",
        "            v_gibb = v_gibb.bernoulli()\n",
        "            h = self.visible_to_hidden(v_gibb)\n",
        "            h = h.bernoulli()\n",
        "        return v, v_gibb"
      ],
      "execution_count": null,
      "outputs": []
    },
    {
      "cell_type": "markdown",
      "metadata": {
        "id": "0JcNwwuj4lFg"
      },
      "source": [
        "# Check CUDA availability"
      ]
    },
    {
      "cell_type": "code",
      "metadata": {
        "colab": {
          "base_uri": "https://localhost:8080/"
        },
        "id": "zdT15FDJV-0X",
        "outputId": "9c001446-b2a8-45f2-ae63-9495b93ce3a0"
      },
      "source": [
        "CUDA = torch.cuda.is_available()\n",
        "CUDA_DEVICE = 0\n",
        "\n",
        "if CUDA:\n",
        "    device='cuda'\n",
        "else:\n",
        "    device='cpu'\n",
        "torch.cuda.is_available(); CUDA"
      ],
      "execution_count": null,
      "outputs": [
        {
          "output_type": "execute_result",
          "data": {
            "text/plain": [
              "True"
            ]
          },
          "metadata": {
            "tags": []
          },
          "execution_count": 4
        }
      ]
    },
    {
      "cell_type": "markdown",
      "metadata": {
        "id": "HDzjIM3bidLM"
      },
      "source": [
        "# Define fundamental functions"
      ]
    },
    {
      "cell_type": "code",
      "metadata": {
        "id": "N0jqccefV-0X"
      },
      "source": [
        "# 아래 두 함수는 PT와는 아무 상관 없습니다. 10진법을 2진법으로 바꾸고 리스트 형태로 변형하는 함수입니다. 예)15->[1,1,1,1]\n",
        "# 그리고 그 다음은 역함수입니다.\n",
        "def decimal_to_binary(integer):\n",
        "    string=bin(integer)[2:]\n",
        "    list0=[float(d) for d in string]\n",
        "    while len(list0)<n_hid:\n",
        "        list0=[0.]+list0\n",
        "    return torch.tensor([list0])\n",
        "\n",
        "def binary_to_decimal(list0):\n",
        "    value=0\n",
        "    list0=list0.tolist()\n",
        "    for i in range(len(list0)):\n",
        "        value+=list0[-i-1]*2**(i)\n",
        "    return value\n",
        "\n",
        "# 이 함수는 PT에 사용되는 transition 확률을 계산합니다.\n",
        "def swap_prob(i,j, model, list00, list11):\n",
        "    v1=torch.tensor(list00[i]).view(1,n_vis)\n",
        "    v2=torch.tensor(list00[j]).view(1,n_vis)\n",
        "    h1=torch.tensor(list11[i]).view(1,n_hid)\n",
        "    h2=torch.tensor(list11[j]).view(1,n_hid)\n",
        "    beta1=beta_list[i]\n",
        "    beta2=beta_list[j]\n",
        "    return torch.exp((beta2-beta1)*(model.energy2(v2, h2)-model.energy2(v1, h1)))\n",
        "\n",
        "# 이 함수는 tansition 확률에 의거, swap을 수행합니다.\n",
        "def swap(list0, list1, model):\n",
        "    k=np.random.randint(0, len(list0)-1)\n",
        "    combination=[k, k+1]\n",
        "    if swap_prob(combination[0], combination[1], model, list0, list1)>=np.random.rand():\n",
        "        a=list0[combination[0]]\n",
        "        b=list0[combination[1]] \n",
        "        list0[combination[0]]=b\n",
        "        list0[combination[1]]=a\n",
        "        \n",
        "        c=list1[combination[0]]\n",
        "        d=list1[combination[1]] \n",
        "        list1[combination[0]]=d\n",
        "        list1[combination[1]]=c\n",
        "    else: None\n",
        "#     return list0, list1\n",
        "#     combinations=list(itertools.combinations(list(range(len(list0))), 2))\n",
        "#     for k in range(len(combinations)):\n",
        "#         if swap_prob(combinations[k][1], combinations[k][0])>=np.random.rand():\n",
        "#             list0[combinations[k][0]]=list0[combinations[k][1]]; list0[combinations[k][1]]=list0[combinations[k][0]]\n",
        "#         else: None\n",
        "#     return list0\n",
        "\n",
        "def P_h(list0):\n",
        "    config_count={}\n",
        "    for i in range(len(list0)):\n",
        "        config_count[str(int(binary_to_decimal(list0[i][0])))]=0\n",
        "    for i in range(len(list0)):\n",
        "        config_count[str(int(binary_to_decimal(list0[i][0])))]+=1\n",
        "    return config_count\n",
        "\n",
        "def prod(L):\n",
        "    p=1\n",
        "    for i in L:\n",
        "        p= i * p\n",
        "    return p\n",
        "\n",
        "# def Estimate_Z(model0, states):\n",
        "#     Z=0\n",
        "#     for i in range(len(states[0])):\n",
        "#         Z+=torch.exp(-model0.energy2(states[0][i], states[1][i])).detach()\n",
        "#     return float(Z.detach().numpy())\n",
        "\n",
        "def get_hist(list00, color='red'):\n",
        "    bins=range(int(min(list00)-30), int(max(list00)+30), 1)\n",
        "    y1,x1,_ = plt.hist(list00, bins = bins, histtype='step', color=color)\n",
        "    x1 = 0.5*(x1[1:]+x1[:-1])\n",
        "    return x1, y1\n",
        "\n",
        "def flatten_list(list0):\n",
        "    flattened = [val for sublist in list0 for val in sublist]\n",
        "    return flattened\n"
      ],
      "execution_count": null,
      "outputs": []
    },
    {
      "cell_type": "markdown",
      "metadata": {
        "id": "JVUbdwS_ihkm"
      },
      "source": [
        "# Define stat. physical functions"
      ]
    },
    {
      "cell_type": "code",
      "metadata": {
        "id": "xmv-j18uV-0Z"
      },
      "source": [
        "def Entropy(fullconfigs):\n",
        "    config_count={} # 각 hidden layer state 갯수 파악 (k)\n",
        "    for i in range(len(fullconfigs)):\n",
        "        config_count[str(fullconfigs[i])]=0\n",
        "    for i in range(len(fullconfigs)):\n",
        "        config_count[str(fullconfigs[i])]+=1\n",
        "\n",
        "    listk=[]\n",
        "    for i in range(len(list(config_count.values()))):\n",
        "        listk.append(int(list(config_count.values())[i]))\n",
        "    listmk=[]\n",
        "    kcount={} # 갯수의 갯수 파악 (m_k)\n",
        "    for i in range(len(listk)):\n",
        "        kcount[listk[i]]=0\n",
        "    for i in range(len(listk)):\n",
        "        kcount[listk[i]]+=1\n",
        "    for i in range(len(kcount)):\n",
        "        listmk.append(kcount[sorted(list(kcount))[i]])\n",
        "    x,y= sorted(list(kcount)), listmk\n",
        "\n",
        "    list100=[]\n",
        "    list100kmk=[]\n",
        "    for i in range(len(x)):\n",
        "        list100kmk.append(x[i]*y[i])\n",
        "    for i in range(len(x)):\n",
        "        for j in range(list100kmk[i]):\n",
        "            list100.append(x[i])\n",
        "    N=len(list100)\n",
        "    H_s=0\n",
        "    for i in range(len(x)):\n",
        "        H_s-=(x[i]*y[i]/N)*np.log(x[i]/N)\n",
        "    return H_s\n",
        "\n",
        "def FE_mean_std(model0_dict, p):\n",
        "    FE_list=[]\n",
        "    for i in range(len(p)):\n",
        "        # n_vis=len(model0_dict['v'][0]); n_hid=len(model0_dict['h'][0])\n",
        "        integer=list(p.keys())[i]\n",
        "        h=decimal_to_binary(int(integer)).to(device)\n",
        "        a=model0_dict['v'].view(1,n_vis).detach()\n",
        "        b=model0_dict['h'].view(1,n_hid).detach()\n",
        "        W=model0_dict['W'].view(n_hid,n_vis).detach()\n",
        "        \n",
        "        FE=prod(torch.sigmoid(-F.linear(h, W.t(), a)).detach()[0])*100000\n",
        "        FE=FE*p[integer]\n",
        "        FE=FE/sum(list(p.values()))\n",
        "        FE=torch.log(FE.detach())-torch.log(torch.tensor([[100000]]))-torch.dot(b[0],h[0].t())\n",
        "        FE_list.append(FE.detach())\n",
        "    return [float(torch.mean(torch.tensor(FE_list)).detach().numpy()), float(torch.std(torch.tensor(FE_list)).detach().numpy())]\n",
        "\n",
        "def dE_mean_std(model0_dict, model1_dict, v_list, h_list):\n",
        "    dE=[]\n",
        "    for i in range(len(v_list)):\n",
        "        E0=model0_dict.energy2(v_list[i].float().detach(), h_list[i].float().detach())[0].detach()\n",
        "        E1=model1_dict.energy2(v_list[i].float().detach(), h_list[i].float().detach())[0].detach()\n",
        "        dE.append(E1-E0)\n",
        "    return [float(torch.mean(torch.tensor(dE)).numpy()), float(torch.std(torch.tensor(dE)).numpy())]\n",
        "\n",
        "def Energy(model0_dict, v_list, h_list):\n",
        "    a=model0_dict['v'].detach()\n",
        "    b=model0_dict['h'].detach()\n",
        "    W=model0_dict['W'].detach()\n",
        "    values=[]\n",
        "    for i in range(len(v_list)):\n",
        "        e=-np.matmul(v_list[i], a.t())-np.matmul(np.matmul(v_list[i], W.t()), h_list[i].t())-np.matmul(h_list[i], b.t())\n",
        "        values.append(e.detach())\n",
        "    return float(np.mean(values))\n",
        "    \n",
        "def Energy_GPU(model0_dict, v_list0, h_list0):\n",
        "    n_split=4\n",
        "    a=model0_dict['v'].detach().cuda().view(n_vis)\n",
        "    b=model0_dict['h'].detach().cuda().view(n_hid)\n",
        "    W=model0_dict['W'].detach().cuda().view(n_hid, n_vis)\n",
        "    values=[]\n",
        "    for i in range(n_split):\n",
        "        v_list=torch.stack(list(v_list0[i*int(len(v_list0)/n_split):(i+1)*int(len(v_list0)/n_split)]))\n",
        "        h_list=torch.stack(list(h_list0[i*int(len(h_list0)/n_split):(i+1)*int(len(h_list0)/n_split)]))\n",
        "\n",
        "        v_list=v_list.detach().cuda().view(len(v_list), n_vis); h_list=h_list.detach().cuda().view(len(h_list),n_hid)\n",
        "        e=-torch.matmul(v_list.float(), a)-torch.diagonal(torch.matmul(torch.matmul(v_list.float(), W.t()), h_list.float().t()))-torch.matmul(h_list.float(), b)\n",
        "        values.append(np.mean(e.cpu().detach().numpy()))\n",
        "    return np.mean(values)\n",
        "\n",
        "def FE_V(model0, v0):\n",
        "    v0=torch.tensor(v0)\n",
        "    a=model0['v'].detach()\n",
        "    b=model0['h'].detach()\n",
        "    W=model0['W'].detach()\n",
        "    values=[]\n",
        "    for i in range(len(v0)):\n",
        "        v_term = torch.matmul(v0[i].detach(), a.t()).detach()\n",
        "        w_x_h = F.linear(v0[i].detach(), W, b).detach()\n",
        "        h_term = torch.sum(F.softplus(w_x_h), dim=1).detach()\n",
        "        values.append(torch.mean(-h_term - v_term).detach().numpy())\n",
        "    return float(np.mean(values))\n",
        "    \n",
        "def sampling_with_PT(fullmodel, eq_step, n_step):\n",
        "    # states for full model\n",
        "    hidden_states_now0=[decimal_to_binary(2**n_hid-1)]*len(beta_list)\n",
        "    visible_states_now0=[1.]*len(beta_list)\n",
        "\n",
        "    coldest_hidden0=[]\n",
        "    coldest_visible0=[]\n",
        "    \n",
        "    # equilibrium steps for full model\n",
        "    for step in range(eq_step):\n",
        "        for i in range(len(beta_list)):\n",
        "            visible_states_now0[i]=fullmodel.hidden_to_visible(hidden_states_now0[i].to(device), beta_list[i]).bernoulli().detach()\n",
        "            hidden_states_now0[i]=fullmodel.visible_to_hidden(visible_states_now0[i].to(device), beta_list[i]).bernoulli().detach()\n",
        "    \n",
        "\n",
        "    # Tasks with PT\n",
        "    for step in range(n_step):\n",
        "        for i in range(len(beta_list)):\n",
        "            # Gibbs sampling of fu\n",
        "            visible_states_now0[i]=fullmodel.hidden_to_visible(hidden_states_now0[i].to(device), beta_list[i]).bernoulli().detach()\n",
        "            hidden_states_now0[i]=fullmodel.visible_to_hidden(visible_states_now0[i].to(device), beta_list[i]).bernoulli().detach()\n",
        "        swap(visible_states_now0, hidden_states_now0, fullmodel)\n",
        "        coldest_hidden0.append(hidden_states_now0[0].int())\n",
        "        coldest_visible0.append(visible_states_now0[0].int())\n",
        "\n",
        "    return coldest_visible0, coldest_hidden0"
      ],
      "execution_count": null,
      "outputs": []
    },
    {
      "cell_type": "code",
      "metadata": {
        "id": "aAai0VLA3KYy"
      },
      "source": [
        "n_hid_list=[1,2,4,8]\n",
        "T_list=['14.8']\n",
        "beta_list=torch.tensor(np.linspace(1,0,20).astype(int)).to(device)\n",
        "n_vis=9\n",
        "T='3.2'\n",
        "fullconfigs=pd.read_pickle('{base}/loss_IG/3*3/3*3_full_T={T}.pkl'.format(base=base, T=T))\n"
      ],
      "execution_count": null,
      "outputs": []
    },
    {
      "cell_type": "code",
      "metadata": {
        "id": "Rzjqsl_mYpcW"
      },
      "source": [
        "m=3; n=2\n",
        "n_hid=2\n",
        "models=pd.read_pickle('{base}/loss_IG/3*3/state_dict/n_hid={n_hid}_T={T}_mn.pkl'.format(base=base, n_hid=n_hid, T=T))[str(m)][str(n)]\n",
        "vh0=pd.read_pickle('{base}/loss_IG/3*3/samples/3*3_PT20_0.1M_n_hid={n_hid}_T={T}_m={m}_n={n}.pkl'.format(base=base, n_hid=n_hid, T=T, m=m, n=n))"
      ],
      "execution_count": null,
      "outputs": []
    },
    {
      "cell_type": "code",
      "metadata": {
        "id": "MhfB74cscxhh",
        "colab": {
          "base_uri": "https://localhost:8080/"
        },
        "outputId": "689c2487-b927-4f8e-b51e-8eac0a7cc426"
      },
      "source": [
        "Energy(models, vh0[0][0], vh0[1][0])"
      ],
      "execution_count": null,
      "outputs": [
        {
          "output_type": "execute_result",
          "data": {
            "text/plain": [
              "-8.581841367619038"
            ]
          },
          "metadata": {
            "tags": []
          },
          "execution_count": 10
        }
      ]
    },
    {
      "cell_type": "code",
      "metadata": {
        "id": "v5QACR1idSEx",
        "colab": {
          "base_uri": "https://localhost:8080/"
        },
        "outputId": "84f18b77-21e3-484e-afb0-28b31ccc5503"
      },
      "source": [
        "Energy_GPU(models, vh0[0][0], vh0[1][0])"
      ],
      "execution_count": null,
      "outputs": [
        {
          "output_type": "execute_result",
          "data": {
            "text/plain": [
              "-8.581841"
            ]
          },
          "metadata": {
            "tags": []
          },
          "execution_count": 11
        }
      ]
    },
    {
      "cell_type": "markdown",
      "metadata": {
        "id": "mEf_P22LiXKb"
      },
      "source": [
        "# mn model의 샘플 만들기\n"
      ]
    },
    {
      "cell_type": "code",
      "metadata": {
        "id": "yFmksUeFj3AI",
        "colab": {
          "base_uri": "https://localhost:8080/",
          "height": 66,
          "referenced_widgets": [
            "ed137cc07d4b4436aeda13a6465b71b4",
            "e225b6e23f534f6781fdef9cd9528713",
            "507c17752ad34f33b113d76336599744",
            "9ea93da40a2f40d78c214c393fcb15d5",
            "68573a8bd87b44be8cfe233508e9e508",
            "51b0078f21954c8683c2d155871453c8",
            "cbcd493ef42248adbcfce30557fafa8e",
            "f5a66bce32e6473c9bac22cd271eadce"
          ]
        },
        "outputId": "5f70b44e-f54e-427a-b3ed-606e6cec4946"
      },
      "source": [
        "for n_hid in n_hid_list:\n",
        "    models=pd.read_pickle('{base}/loss_IG/3*3/state_dict/n_hid={n_hid}_T={T}_mn.pkl'.format(base=base, n_hid=n_hid, T=T))\n",
        "    for m in tnrange(10):\n",
        "        for n in range(10):\n",
        "            list_v=[]; list_h=[]\n",
        "            model1_dict=models[str(m)][str(n)]\n",
        "            model1=RBM(n_vis=n_vis, n_hid=n_hid, k=1, use_cuda=CUDA)\n",
        "            model1.load_state_dict(model1_dict)\n",
        "            a0, b0=sampling_with_PT(model1, 100, 100000)\n",
        "            list_v.append(a0); list_h.append(b0)\n",
        "            with open('{base}/loss_IG/3*3/samples/3*3_PT20_0.1M_n_hid={n_hid}_T={T}_m={m}_n={n}.pkl'.format(base=base, n_hid=n_hid, T=T, m=m, n=n), 'wb') as f:\n",
        "                pkl.dump([list_v, list_h], f)"
      ],
      "execution_count": null,
      "outputs": [
        {
          "output_type": "display_data",
          "data": {
            "application/vnd.jupyter.widget-view+json": {
              "model_id": "ed137cc07d4b4436aeda13a6465b71b4",
              "version_minor": 0,
              "version_major": 2
            },
            "text/plain": [
              "HBox(children=(FloatProgress(value=0.0, max=10.0), HTML(value='')))"
            ]
          },
          "metadata": {
            "tags": []
          }
        },
        {
          "output_type": "stream",
          "text": [
            "\n"
          ],
          "name": "stdout"
        }
      ]
    },
    {
      "cell_type": "markdown",
      "metadata": {
        "id": "RfiZCv5tiTWy"
      },
      "source": [
        "# CM_m model의 샘플 만들기\n"
      ]
    },
    {
      "cell_type": "code",
      "metadata": {
        "id": "G70_NAJB2gQT",
        "colab": {
          "base_uri": "https://localhost:8080/",
          "height": 66,
          "referenced_widgets": [
            "3f422b9f48074d509f747de8eb3d03b6",
            "4e993dd928834f709b0f712423803c47",
            "b36c7498c39541379be2034f116de8d2",
            "c990cedd784c4cca9339943107b92b51",
            "96ae4f31ed504f32b58ca708b48f7d12",
            "1499286c9f1e4c6798fb5b31806cc455",
            "74003b4df2df4079b64ccf6ddd4c1935",
            "99a6403d47604efb97300069bd16c2f5"
          ]
        },
        "outputId": "e6ad0d35-ba01-42e3-baa1-ac5e3a74a005"
      },
      "source": [
        "for n_hid in n_hid_list:\n",
        "    models=pd.read_pickle('{base}/loss_IG/3*3/state_dict/n_hid={n_hid}_T={T}_CM_m.pkl'.format(base=base, n_hid=n_hid, T=T))\n",
        "    for m in tnrange(10):\n",
        "        list_v=[]; list_h=[]\n",
        "        model1_dict=models[str(m)]\n",
        "        model1=RBM(n_vis=n_vis, n_hid=n_hid, k=1, use_cuda=CUDA)\n",
        "        model1.load_state_dict(model1_dict)\n",
        "        a0, b0=sampling_with_PT(model1, 100, 100000)\n",
        "        list_v.append(a0); list_h.append(b0)\n",
        "        with open('{base}/loss_IG/3*3/samples/3*3_PT20_0.1M_n_hid={n_hid}_T={T}_CM_m={m}.pkl'.format(base=base, n_hid=n_hid, T=T, m=m), 'wb') as f:\n",
        "            pkl.dump([list_v, list_h], f)"
      ],
      "execution_count": null,
      "outputs": [
        {
          "output_type": "display_data",
          "data": {
            "application/vnd.jupyter.widget-view+json": {
              "model_id": "3f422b9f48074d509f747de8eb3d03b6",
              "version_minor": 0,
              "version_major": 2
            },
            "text/plain": [
              "HBox(children=(FloatProgress(value=0.0, max=10.0), HTML(value='')))"
            ]
          },
          "metadata": {
            "tags": []
          }
        },
        {
          "output_type": "stream",
          "text": [
            "\n"
          ],
          "name": "stdout"
        }
      ]
    },
    {
      "cell_type": "markdown",
      "metadata": {
        "id": "kBMXW2GJiNlT"
      },
      "source": [
        "# CM model의 샘플 만들기"
      ]
    },
    {
      "cell_type": "code",
      "metadata": {
        "id": "gAx6StlB2gZE"
      },
      "source": [
        "for n_hid in n_hid_list:\n",
        "    list_v=[]; list_h=[]\n",
        "    model1_dict=pd.read_pickle('{base}/loss_IG/3*3/state_dict/n_hid={n_hid}_T={T}_CM.pkl'.format(base=base, n_hid=n_hid, T=T))\n",
        "    \n",
        "    model1=RBM(n_vis=n_vis, n_hid=n_hid, k=1, use_cuda=CUDA)\n",
        "    model1.load_state_dict(model1_dict)\n",
        "    a0, b0=sampling_with_PT(model1, 100, 100000)\n",
        "    list_v.append(a0); list_h.append(b0)\n",
        "    with open('{base}/loss_IG/3*3/samples/3*3_PT20_0.1M_n_hid={n_hid}_T={T}_CM.pkl'.format(base=base, n_hid=n_hid, T=T), 'wb') as f:\n",
        "        pkl.dump([list_v, list_h], f)"
      ],
      "execution_count": null,
      "outputs": []
    },
    {
      "cell_type": "markdown",
      "metadata": {
        "id": "kUcPRPd7W8hD"
      },
      "source": [
        "# Entropy of m"
      ]
    },
    {
      "cell_type": "code",
      "metadata": {
        "id": "Nq-5AgJ3W7t2"
      },
      "source": [
        "S_m={}\n",
        "for m in range(10):\n",
        "    S_m[str(m)]=Entropy(fullconfigs[m])\n",
        "S_CM=Entropy(flatten_list(fullconfigs))\n",
        "with open('{base}/loss_IG/3*3/data/3*3_PT20_0.1M_n_T={T}_S.pkl'.format(base=base, T=T), 'wb') as f:\n",
        "    pkl.dump({'CM_m':S_m, 'CM':S_CM}, f)"
      ],
      "execution_count": null,
      "outputs": []
    },
    {
      "cell_type": "markdown",
      "metadata": {
        "id": "AK4dvvtecQ4r"
      },
      "source": [
        "# CM, CM_m, mn의 Free energy 계산"
      ]
    },
    {
      "cell_type": "code",
      "metadata": {
        "id": "3ts9y-Xls-dG",
        "colab": {
          "base_uri": "https://localhost:8080/",
          "height": 66,
          "referenced_widgets": [
            "2c610d247d48490aaff9dc771bd2cb9c",
            "f8d2ea748e054096b8766c0c7a9e1b32",
            "126ae94d97a44cd482f3215e4ea13e9d",
            "ec7318876d6b45e19505b0c48f1e9081",
            "1b58ebbcd9f8430680c00bcf3e38193a",
            "d474aa566e084246aa1695d8fcd018d4",
            "bb1b3b7e287046758b2fffff111f9d7d",
            "ac6a2d8e37bb40a59fac794f6b9b1a98"
          ]
        },
        "outputId": "c7228cec-e6bd-4fb5-8503-58e589bbfec5"
      },
      "source": [
        "for n_hid in n_hid_list:\n",
        "    dict0={}; dict1={}; dict2={}\n",
        "    model_dicts_mn=pd.read_pickle('{base}/loss_IG/3*3/state_dict/n_hid={n_hid}_T={T}_mn.pkl'.format(base=base, n_hid=n_hid, T=T))\n",
        "    model_dicts_CM_m=pd.read_pickle('{base}/loss_IG/3*3/state_dict/n_hid={n_hid}_T={T}_CM_m.pkl'.format(base=base, n_hid=n_hid, T=T))\n",
        "    model_dicts_CM=pd.read_pickle('{base}/loss_IG/3*3/state_dict/n_hid={n_hid}_T={T}_CM.pkl'.format(base=base, n_hid=n_hid, T=T))\n",
        "\n",
        "    for m in tnrange(10):\n",
        "        dict0[str(m)]={}\n",
        "        for n in range(10):\n",
        "            vh0=pd.read_pickle('{base}/loss_IG/3*3/samples/3*3_PT20_0.1M_n_hid={n_hid}_T={T}_m={m}_n={n}.pkl'.format(base=base, n_hid=n_hid,T=T,m=m,n=n))\n",
        "            model_dict0=model_dicts_mn[str(m)][str(n)]\n",
        "            dict0[str(m)][str(n)]=FE_mean_std(model_dict0, P_h(vh0[1][0]))[0]\n",
        "        vh1=pd.read_pickle('{base}/loss_IG/3*3/samples/3*3_PT20_0.1M_n_hid={n_hid}_T={T}_CM_m={m}.pkl'.format(base=base, n_hid=n_hid,T=T,m=m))\n",
        "        model_dict1=model_dicts_CM_m[str(m)]\n",
        "        dict1[str(m)]=FE_mean_std(model_dict1, P_h(vh1[1][0]))[0]\n",
        "    vh2=pd.read_pickle('{base}/loss_IG/3*3/samples/3*3_PT20_0.1M_n_hid={n_hid}_T={T}_CM.pkl'.format(base=base, n_hid=n_hid,T=T))\n",
        "    model_dict2=model_dicts_CM\n",
        "    dict2=FE_mean_std(model_dict2,\n",
        "    P_h(vh2[1][0]))[0]\n",
        "    with open('{base}/loss_IG/3*3/data/3*3_PT20_0.1M_n_hid={n_hid}_T={T}_FE.pkl'.format(base=base, n_hid=n_hid, T=T), 'wb') as f:\n",
        "        pkl.dump({'mn':dict0, 'CM_m':dict1, 'CM':dict2}, f)"
      ],
      "execution_count": null,
      "outputs": [
        {
          "output_type": "display_data",
          "data": {
            "application/vnd.jupyter.widget-view+json": {
              "model_id": "2c610d247d48490aaff9dc771bd2cb9c",
              "version_minor": 0,
              "version_major": 2
            },
            "text/plain": [
              "HBox(children=(FloatProgress(value=0.0, max=10.0), HTML(value='')))"
            ]
          },
          "metadata": {
            "tags": []
          }
        },
        {
          "output_type": "stream",
          "text": [
            "\n"
          ],
          "name": "stdout"
        }
      ]
    },
    {
      "cell_type": "markdown",
      "metadata": {
        "id": "VzxR-Hb9cdhT"
      },
      "source": [
        "# CM, CM_m, mn의 marginalized Free energy 계산"
      ]
    },
    {
      "cell_type": "code",
      "metadata": {
        "id": "RT2FB8VghHOZ"
      },
      "source": [
        "for n_hid in [8]:\n",
        "    dict0={}; dict1={}; dict2={}\n",
        "    model_dicts_mn=pd.read_pickle('{base}/loss_IG/3*3/state_dict/n_hid={n_hid}_T={T}_mn.pkl'.format(base=base, n_hid=n_hid, T=T))\n",
        "    model_dicts_CM_m=pd.read_pickle('{base}/loss_IG/3*3/state_dict/n_hid={n_hid}_T={T}_CM_m.pkl'.format(base=base, n_hid=n_hid, T=T))\n",
        "    model_dicts_CM=pd.read_pickle('{base}/loss_IG/3*3/state_dict/n_hid={n_hid}_T={T}_CM.pkl'.format(base=base, n_hid=n_hid, T=T))\n",
        "\n",
        "    for m in tnrange(10):\n",
        "        dict0[str(m)]={}\n",
        "        for n in range(10):\n",
        "            vh0=pd.read_pickle('{base}/loss_IG/3*3/samples/3*3_PT20_0.1M_n_hid={n_hid}_T={T}_m={m}_n={n}.pkl'.format(base=base, n_hid=n_hid,T=T,m=m,n=n))\n",
        "            model_dict0=model_dicts_mn[str(m)][str(n)]\n",
        "            dict0[str(m)][str(n)]=FE_V(model_dict0, fullconfigs[m])\n",
        "        vh1=pd.read_pickle('{base}/loss_IG/3*3/samples/3*3_PT20_0.1M_n_hid={n_hid}_T={T}_CM_m={m}.pkl'.format(base=base, n_hid=n_hid,T=T,m=m))\n",
        "        model_dict1=model_dicts_CM_m[str(m)]\n",
        "        dict1[str(m)]=FE_V(model_dict1, fullconfigs[m])\n",
        "    vh2=pd.read_pickle('{base}/loss_IG/3*3/samples/3*3_PT20_0.1M_n_hid={n_hid}_T={T}_CM.pkl'.format(base=base, n_hid=n_hid,T=T))\n",
        "    model_dict2=model_dicts_CM\n",
        "    dict2=FE_V(model_dict2, flatten_list(fullconfigs))\n",
        "    with open('{base}/loss_IG/3*3/data/3*3_PT20_0.1M_n_hid={n_hid}_T={T}_FE_V.pkl'.format(base=base, n_hid=n_hid, T=T), 'wb') as f:\n",
        "        pkl.dump({'mn':dict0, 'CM_m':dict1, 'CM':dict2}, f)"
      ],
      "execution_count": null,
      "outputs": []
    },
    {
      "cell_type": "markdown",
      "metadata": {
        "id": "Otm9UBq8cktd"
      },
      "source": [
        "# CM, CM_m, mn의 <E'-E> 계산"
      ]
    },
    {
      "cell_type": "code",
      "metadata": {
        "id": "Eyuyf9G-Isbz"
      },
      "source": [
        "for n_hid in n_hid_list:\n",
        "    dE_CM={}; dE_CM_m={}\n",
        "    model_dict_CM=pd.read_pickle('{base}/loss_IG/3*3/state_dict/n_hid={n_hid}_T={T}_CM.pkl'.format(base=base, n_hid=n_hid, T=T))\n",
        "    model_dict_CM_m=pd.read_pickle('{base}/loss_IG/3*3/state_dict/n_hid={n_hid}_T={T}_CM_m.pkl'.format(base=base, n_hid=n_hid, T=T))\n",
        "    model_dict_mn=pd.read_pickle('{base}/loss_IG/3*3/state_dict/n_hid={n_hid}_T={T}_mn.pkl'.format(base=base, n_hid=n_hid, T=T))\n",
        "    vh=pd.read_pickle('{base}/loss_IG/3*3/samples/3*3_PT20_0.1M_n_hid={n_hid}_T={T}_CM.pkl'.format(base=base, n_hid=n_hid, T=T))\n",
        "    for m in tnrange(10):\n",
        "        dE_CM[str(m)]={}; dE_CM_m[str(m)]={}\n",
        "        vh_m=pd.read_pickle('{base}/loss_IG/3*3/samples/3*3_PT20_0.1M_n_hid={n_hid}_T={T}_CM_m={m}.pkl'.format(base=base, n_hid=n_hid, T=T, m=m))\n",
        "        for n in range(10):\n",
        "            dE_CM[str(m)][str(n)]=Energy(model_dict_mn[str(m)][str(n)], vh[0][0], vh[1][0])-Energy(model_dict_CM, vh[0][0], vh[1][0])\n",
        "            dE_CM_m[str(m)][str(n)]=Energy(model_dict_mn[str(m)][str(n)], vh_m[0][0], vh_m[1][0])-Energy(model_dict_CM_m[str(m)], vh_m[0][0], vh_m[1][0])\n",
        "    with open('{base}/loss_IG/3*3/data/3*3_PT20_0.1M_n_hid={n_hid}_T={T}_dE.pkl'.format(base=base, n_hid=n_hid, T=T), 'wb') as f:\n",
        "        pkl.dump({'CM':dE_CM, 'CM_m':dE_CM_m}, f)"
      ],
      "execution_count": null,
      "outputs": []
    },
    {
      "cell_type": "code",
      "metadata": {
        "id": "oE9hi4WbfuLm",
        "colab": {
          "base_uri": "https://localhost:8080/",
          "height": 165,
          "referenced_widgets": [
            "ee48589fb92847c6b2d23102f1743ca4",
            "fa32d99dc79943dab45fa924cabff7c2",
            "2fdb20636cb240e395bcbbf8e2be6687",
            "de58ca5ae24940c69207f814197e5b79",
            "bff4e9f4fa404b008d67e2c49cbd546a",
            "b69b9783207c4a908fcb36c1bcbc0362",
            "58cf3516efb24862a0cd419f1e5bacf8",
            "88661bcde5794fd8a1994e9fb696b10a",
            "7e912ead571a4bcfb4f1dd1fb9065aa2",
            "7a55eeeda4c0473d8063f55ff7af87f6",
            "7cab16599225491486cb848fb2928481",
            "b9557315a8fd4b689c45bd8500ab5914",
            "bfa723c24d1a40a1a241676c931de018",
            "e74b9b5fb42d406d9a17d23e39a4e86f",
            "8924ae92d13047188711a854872db283",
            "bf2c549c9a824e25b285bcc6738ba7b8",
            "721cb7b79b0141c9b0a78d6014dc07d0",
            "27db8b81f1b04d00ad14c9971d32f0d0",
            "f7961b3e821a4a8686650e1125fd2fed",
            "159ddd1009c14e02af100dfdba09ba50",
            "5103bcc451c54cbda44fbfade341a8d1",
            "3207271746f74cc7a83cf0e654689d3e",
            "99f6c9c3589a451194192c85ee0c2d66",
            "862c1ee760ba4dc89d24d7cc46f8baea"
          ]
        },
        "outputId": "f119347c-12cd-4071-967d-3ffffc5c9896"
      },
      "source": [
        "for T in [14.8]:\n",
        "    for n_hid in [2,4,8]:\n",
        "        dE={}\n",
        "        model_dict_mn=pd.read_pickle('{base}/loss_IG/3*3/state_dict/n_hid={n_hid}_T={T}_mn.pkl'.format(base=base, n_hid=n_hid, T=T))\n",
        "        for i in tnrange(100):\n",
        "            i=str(i).zfill(2)\n",
        "            vh0=pd.read_pickle('{base}/loss_IG/3*3/samples/3*3_PT20_0.1M_n_hid={n_hid}_T={T}_m={m}_n={n}.pkl'.format(base=base, n_hid=n_hid, T=T, m=i[0], n=i[1]))\n",
        "            model0=model_dict_mn[i[0]][i[1]]\n",
        "            dE[str(i)]={}\n",
        "            for j in range(100):\n",
        "                j=str(j).zfill(2)\n",
        "                model1=model_dict_mn[j[0]][j[1]]\n",
        "                dE[str(i)][str(j)]=float(Energy_GPU(model1, vh0[0][0], vh0[1][0]))-float(Energy_GPU(model0, vh0[0][0], vh0[1][0]))\n",
        "        with open('{base}/loss_IG/3*3/data/3*3_PT20_0.1M_n_hid={n_hid}_T={T}_dE10000.pkl'.format(base=base, n_hid=n_hid, T=T), 'wb') as f:\n",
        "            pkl.dump(dE, f) "
      ],
      "execution_count": null,
      "outputs": [
        {
          "output_type": "display_data",
          "data": {
            "application/vnd.jupyter.widget-view+json": {
              "model_id": "ee48589fb92847c6b2d23102f1743ca4",
              "version_minor": 0,
              "version_major": 2
            },
            "text/plain": [
              "HBox(children=(FloatProgress(value=0.0), HTML(value='')))"
            ]
          },
          "metadata": {
            "tags": []
          }
        },
        {
          "output_type": "stream",
          "text": [
            "\n"
          ],
          "name": "stdout"
        },
        {
          "output_type": "display_data",
          "data": {
            "application/vnd.jupyter.widget-view+json": {
              "model_id": "7e912ead571a4bcfb4f1dd1fb9065aa2",
              "version_minor": 0,
              "version_major": 2
            },
            "text/plain": [
              "HBox(children=(FloatProgress(value=0.0), HTML(value='')))"
            ]
          },
          "metadata": {
            "tags": []
          }
        },
        {
          "output_type": "stream",
          "text": [
            "\n"
          ],
          "name": "stdout"
        },
        {
          "output_type": "display_data",
          "data": {
            "application/vnd.jupyter.widget-view+json": {
              "model_id": "721cb7b79b0141c9b0a78d6014dc07d0",
              "version_minor": 0,
              "version_major": 2
            },
            "text/plain": [
              "HBox(children=(FloatProgress(value=0.0), HTML(value='')))"
            ]
          },
          "metadata": {
            "tags": []
          }
        },
        {
          "output_type": "stream",
          "text": [
            "\n"
          ],
          "name": "stdout"
        }
      ]
    },
    {
      "cell_type": "code",
      "metadata": {
        "id": "-q_LCL0mJtK9"
      },
      "source": [
        ""
      ],
      "execution_count": null,
      "outputs": []
    }
  ]
}