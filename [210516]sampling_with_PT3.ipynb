{
  "nbformat": 4,
  "nbformat_minor": 0,
  "metadata": {
    "colab": {
      "name": "[210516]sampling_with_PT.ipynb",
      "provenance": [],
      "collapsed_sections": [],
      "toc_visible": true,
      "machine_shape": "hm",
      "include_colab_link": true
    },
    "kernelspec": {
      "display_name": "Python 3",
      "language": "python",
      "name": "python3"
    },
    "language_info": {
      "codemirror_mode": {
        "name": "ipython",
        "version": 3
      },
      "file_extension": ".py",
      "mimetype": "text/x-python",
      "name": "python",
      "nbconvert_exporter": "python",
      "pygments_lexer": "ipython3",
      "version": "3.7.4"
    }
  },
  "cells": [
    {
      "cell_type": "markdown",
      "metadata": {
        "id": "view-in-github",
        "colab_type": "text"
      },
      "source": [
        "<a href=\"https://colab.research.google.com/github/physicaone/loss_IG/blob/master/%5B210516%5Dsampling_with_PT3.ipynb\" target=\"_parent\"><img src=\"https://colab.research.google.com/assets/colab-badge.svg\" alt=\"Open In Colab\"/></a>"
      ]
    },
    {
      "cell_type": "code",
      "metadata": {
        "colab": {
          "base_uri": "https://localhost:8080/"
        },
        "id": "Te6zZB8sZFDm",
        "outputId": "9fcc04d9-b72a-4836-eafd-ca90078af813"
      },
      "source": [
        "from google.colab import drive\n",
        "drive.mount('/content/drive')"
      ],
      "execution_count": 3,
      "outputs": [
        {
          "output_type": "stream",
          "text": [
            "Drive already mounted at /content/drive; to attempt to forcibly remount, call drive.mount(\"/content/drive\", force_remount=True).\n"
          ],
          "name": "stdout"
        }
      ]
    },
    {
      "cell_type": "code",
      "metadata": {
        "id": "JBWjLs2eV-0R"
      },
      "source": [
        "import numpy as np\n",
        "import torch\n",
        "import torchvision.datasets\n",
        "import torchvision.models\n",
        "import torchvision.transforms\n",
        "import torch.nn.functional as F\n",
        "from torchvision import datasets, transforms\n",
        "from torchvision.utils import make_grid\n",
        "import torch.utils.data\n",
        "import torch.nn as nn\n",
        "from itertools import combinations\n",
        "from itertools import permutations\n",
        "from datetime import datetime\n",
        "from tqdm import tqdm, tnrange\n",
        "import warnings\n",
        "warnings.filterwarnings(\"ignore\")\n",
        "import pickle as pkl\n",
        "import pandas as pd\n",
        "import matplotlib.pyplot as plt\n",
        "import matplotlib.gridspec as gridspec\n",
        "%matplotlib inline\n",
        "# np.seterr(divide='ignore', invalid='ignore')\n",
        "import itertools\n",
        "import re\n",
        "from time import sleep"
      ],
      "execution_count": 2,
      "outputs": []
    },
    {
      "cell_type": "code",
      "metadata": {
        "id": "4UlSsScJdssV"
      },
      "source": [
        "class RBM(nn.Module):\n",
        "\n",
        "    def __init__(self, n_vis, n_hid, k, use_cuda):\n",
        "        \"\"\"Create a RBM.\"\"\"\n",
        "        super(RBM, self).__init__()\n",
        "        \n",
        "        if use_cuda==True:\n",
        "            self.v = nn.Parameter(torch.ones(1, n_vis).cuda())\n",
        "            self.h = nn.Parameter(torch.zeros(1, n_hid).cuda())\n",
        "            self.W = nn.Parameter(torch.randn(n_hid, n_vis).cuda())\n",
        "            self.k = k\n",
        "        else:\n",
        "            self.v = nn.Parameter(torch.ones(1, n_vis))\n",
        "            self.h = nn.Parameter(torch.zeros(1, n_hid))\n",
        "            self.W = nn.Parameter(torch.randn(n_hid, n_vis))\n",
        "            self.k = k     \n",
        "\n",
        "    def visible_to_hidden(self, v, beta):\n",
        "        return torch.sigmoid(F.linear(v, self.W, self.h)*beta)\n",
        "\n",
        "    def hidden_to_visible(self, h, beta):\n",
        "        return torch.sigmoid(F.linear(h, self.W.t(), self.v)*beta)\n",
        "\n",
        "    def free_energy(self, v):\n",
        "        v_term = torch.matmul(v, self.v.t())\n",
        "        w_x_h = F.linear(v, self.W, self.h)\n",
        "        h_term = torch.sum(F.softplus(w_x_h), dim=1)\n",
        "        return torch.mean(-h_term - v_term)\n",
        "    \n",
        "    def energy2(self, v, h):\n",
        "        return -torch.matmul(v, self.v.t())-torch.matmul(torch.matmul(v, self.W.t()),h.t())-torch.matmul(h, self.h.t())\n",
        "\n",
        "    def forward(self, v):\n",
        "        h = self.visible_to_hidden(v)\n",
        "        h = h.bernoulli()\n",
        "        for _ in range(self.k):\n",
        "            v_gibb = self.hidden_to_visible(h)\n",
        "            v_gibb = v_gibb.bernoulli()\n",
        "            h = self.visible_to_hidden(v_gibb)\n",
        "            h = h.bernoulli()\n",
        "        return v, v_gibb"
      ],
      "execution_count": 3,
      "outputs": []
    },
    {
      "cell_type": "code",
      "metadata": {
        "colab": {
          "base_uri": "https://localhost:8080/"
        },
        "id": "zdT15FDJV-0X",
        "outputId": "8e768d22-7056-41d8-a6a9-1796c6e4d1a4"
      },
      "source": [
        "CUDA = torch.cuda.is_available()\n",
        "CUDA_DEVICE = 0\n",
        "\n",
        "if CUDA:\n",
        "    device='cuda'\n",
        "else:\n",
        "    device='cpu'\n",
        "torch.cuda.is_available()"
      ],
      "execution_count": 4,
      "outputs": [
        {
          "output_type": "execute_result",
          "data": {
            "text/plain": [
              "False"
            ]
          },
          "metadata": {
            "tags": []
          },
          "execution_count": 4
        }
      ]
    },
    {
      "cell_type": "code",
      "metadata": {
        "colab": {
          "base_uri": "https://localhost:8080/"
        },
        "id": "mN1weUbRE5G0",
        "outputId": "4a9eed97-e3c6-43f5-dea9-ad67c2dd9d18"
      },
      "source": [
        "CUDA"
      ],
      "execution_count": 5,
      "outputs": [
        {
          "output_type": "execute_result",
          "data": {
            "text/plain": [
              "False"
            ]
          },
          "metadata": {
            "tags": []
          },
          "execution_count": 5
        }
      ]
    },
    {
      "cell_type": "code",
      "metadata": {
        "id": "N0jqccefV-0X"
      },
      "source": [
        "# 아래 두 함수는 PT와는 아무 상관 없습니다. 10진법을 2진법으로 바꾸고 리스트 형태로 변형하는 함수입니다. 예)15->[1,1,1,1]\n",
        "# 그리고 그 다음은 역함수입니다.\n",
        "def decimal_to_binary(integer):\n",
        "    string=bin(integer)[2:]\n",
        "    list0=[float(d) for d in string]\n",
        "    while len(list0)<n_hid:\n",
        "        list0=[0.]+list0\n",
        "    return torch.tensor([list0])\n",
        "\n",
        "def binary_to_decimal(list0):\n",
        "    value=0\n",
        "    for i in range(len(list0)):\n",
        "        value+=list0[-i-1]*2**(i)\n",
        "    return value\n",
        "\n",
        "# 이 함수는 PT에 사용되는 transition 확률을 계산합니다.\n",
        "def swap_prob(i,j, model, list00, list11):\n",
        "    v1=torch.tensor(list00[i]).view(1,n_vis)\n",
        "    v2=torch.tensor(list00[j]).view(1,n_vis)\n",
        "    h1=torch.tensor(list11[i]).view(1,n_hid)\n",
        "    h2=torch.tensor(list11[j]).view(1,n_hid)\n",
        "    beta1=beta_list[i]\n",
        "    beta2=beta_list[j]\n",
        "    return torch.exp((beta2-beta1)*(model.energy2(v2, h2)-model.energy2(v1, h1)))\n",
        "\n",
        "# 이 함수는 tansition 확률에 의거, swap을 수행합니다.\n",
        "def swap(list0, list1, model):\n",
        "    k=np.random.randint(0, len(list0)-1)\n",
        "    combination=[k, k+1]\n",
        "    if swap_prob(combination[0], combination[1], model, list0, list1)>=np.random.rand():\n",
        "        a=list0[combination[0]]\n",
        "        b=list0[combination[1]] \n",
        "        list0[combination[0]]=b\n",
        "        list0[combination[1]]=a\n",
        "        \n",
        "        c=list1[combination[0]]\n",
        "        d=list1[combination[1]] \n",
        "        list1[combination[0]]=d\n",
        "        list1[combination[1]]=c\n",
        "    else: None\n",
        "#     return list0, list1\n",
        "#     combinations=list(itertools.combinations(list(range(len(list0))), 2))\n",
        "#     for k in range(len(combinations)):\n",
        "#         if swap_prob(combinations[k][1], combinations[k][0])>=np.random.rand():\n",
        "#             list0[combinations[k][0]]=list0[combinations[k][1]]; list0[combinations[k][1]]=list0[combinations[k][0]]\n",
        "#         else: None\n",
        "#     return list0\n",
        "\n",
        "def P_h(list0):\n",
        "    config_count={}\n",
        "    for i in range(len(list0)):\n",
        "        config_count[str(int(binary_to_decimal(list0[i][0])))]=0\n",
        "    for i in range(len(list0)):\n",
        "        config_count[str(int(binary_to_decimal(list0[i][0])))]+=1\n",
        "    return config_count\n",
        "\n",
        "def prod(L):\n",
        "    p=1\n",
        "    for i in L:\n",
        "        p= i * p\n",
        "    return p\n",
        "\n",
        "# def Estimate_Z(model0, states):\n",
        "#     Z=0\n",
        "#     for i in range(len(states[0])):\n",
        "#         Z+=torch.exp(-model0.energy2(states[0][i], states[1][i])).detach()\n",
        "#     return float(Z.detach().numpy())\n",
        "\n",
        "def get_hist(list00, color='red'):\n",
        "    bins=range(int(min(list00)-30), int(max(list00)+30), 1)\n",
        "    y1,x1,_ = plt.hist(list00, bins = bins, histtype='step', color=color)\n",
        "    x1 = 0.5*(x1[1:]+x1[:-1])\n",
        "    return x1, y1\n"
      ],
      "execution_count": 6,
      "outputs": []
    },
    {
      "cell_type": "markdown",
      "metadata": {
        "id": "dUQr7zL8V-0Y"
      },
      "source": [
        "# $F=\\ln[Q(\\vec{h})\\prod_i\\sigma(-a_i-\\sum_jW_{ij}h_j)]-\\vec{b}\\cdot\\vec{h}$"
      ]
    },
    {
      "cell_type": "code",
      "metadata": {
        "id": "xmv-j18uV-0Z"
      },
      "source": [
        "def FE_mean_std(model0_dict, p):\n",
        "    FE_list=[]\n",
        "    for i in range(len(p)):\n",
        "        # n_vis=len(model0_dict['v'][0]); n_hid=len(model0_dict['h'][0])\n",
        "        integer=list(p.keys())[i]\n",
        "        h=decimal_to_binary(int(integer)).to(device)\n",
        "        a=model0_dict['v'].view(1,n_vis).detach()\n",
        "        b=model0_dict['h'].view(1,n_hid).detach()\n",
        "        W=model0_dict['W'].view(n_hid,n_vis).detach()\n",
        "        \n",
        "        FE=prod(torch.sigmoid(-F.linear(h, W.t(), a)).detach()[0])*100000\n",
        "        FE=FE*p[integer]\n",
        "        FE=FE/sum(list(p.values()))\n",
        "        FE=torch.log(FE.detach())-torch.log(torch.tensor([[100000]]))-torch.dot(b[0],h[0].t())\n",
        "        FE_list.append(FE.detach())\n",
        "    return [torch.mean(torch.tensor(FE_list)).detach().numpy(), torch.std(torch.tensor(FE_list)).detach().numpy()]\n",
        "\n",
        "def dE_mean_std(model0, model1, v_list, h_list):\n",
        "    dE=[]\n",
        "    for i in range(len(v_list)):\n",
        "        E0=model0.energy2(v_list[i].float().detach(), h_list[i].float().detach())[0].detach()\n",
        "        E1=model1.energy2(v_list[i].float().detach(), h_list[i].float().detach())[0].detach()\n",
        "        dE.append(E1-E0)\n",
        "    return [torch.mean(torch.tensor(dE)).numpy(), torch.std(torch.tensor(dE)).numpy()]\n",
        "\n",
        "def FE_V(model0, v0):\n",
        "    a=model0['v'].detach()\n",
        "    b=model0['h'].detach()\n",
        "    W=model0['W'].detach()\n",
        "    values=[]\n",
        "    for i in range(len(v0)):\n",
        "        v_term = torch.matmul(v0[i].detach(), a.t()).detach()\n",
        "        w_x_h = F.linear(v0[i].detach(), W, b).detach()\n",
        "        h_term = torch.sum(F.softplus(w_x_h), dim=1).detach()\n",
        "        values.append(torch.mean(-h_term - v_term).detach().numpy())\n",
        "    return np.mean(values)\n",
        "\n",
        "def sampling_with_PT(fullmodel, eq_step, n_step):\n",
        "    # states for full model\n",
        "    hidden_states_now0=[decimal_to_binary(2**n_hid-1)]*len(beta_list)\n",
        "    visible_states_now0=[1.]*len(beta_list)\n",
        "\n",
        "    coldest_hidden0=[]\n",
        "    coldest_visible0=[]\n",
        "    \n",
        "    # equilibrium steps for full model\n",
        "    for step in range(eq_step):\n",
        "        for i in range(len(beta_list)):\n",
        "            visible_states_now0[i]=fullmodel.hidden_to_visible(hidden_states_now0[i].to(device), beta_list[i]).bernoulli().detach()\n",
        "            hidden_states_now0[i]=fullmodel.visible_to_hidden(visible_states_now0[i].to(device), beta_list[i]).bernoulli().detach()\n",
        "    \n",
        "\n",
        "    # Tasks with PT\n",
        "    for step in tnrange(n_step):\n",
        "        for i in range(len(beta_list)):\n",
        "            # Gibbs sampling of fu\n",
        "            visible_states_now0[i]=fullmodel.hidden_to_visible(hidden_states_now0[i].to(device), beta_list[i]).bernoulli().detach()\n",
        "            hidden_states_now0[i]=fullmodel.visible_to_hidden(visible_states_now0[i].to(device), beta_list[i]).bernoulli().detach()\n",
        "        swap(visible_states_now0, hidden_states_now0, fullmodel)\n",
        "        coldest_hidden0.append(hidden_states_now0[0].int())\n",
        "        coldest_visible0.append(visible_states_now0[0].int())\n",
        "\n",
        "    return coldest_visible0, coldest_hidden0"
      ],
      "execution_count": 11,
      "outputs": []
    },
    {
      "cell_type": "code",
      "metadata": {
        "id": "XotZAIO613E5"
      },
      "source": [
        "beta_list=torch.tensor(np.linspace(1,0,10).astype(int)).to(device)\n",
        "n_vis=9\n",
        "T='cri'\n",
        "for n_hid in [2,4,6,8]:\n",
        "    list_v=[]; list_h=[]\n",
        "    for i in range(10):\n",
        "        por='full'\n",
        "        model1_dict=torch.load('drive/MyDrive/loss_IG/3*3/state_dict/2021-05-02_n_hid={n_hid}_{por}_T={T}{c1}'.format(n_hid=n_hid, por=por, T=T, c1=i), map_location=device)\n",
        "        model1=RBM(n_vis=n_vis, n_hid=n_hid, k=1, use_cuda=CUDA)\n",
        "        model1.load_state_dict(model1_dict)\n",
        "        a0, b0=sampling_with_PT(model1, 100, 100000)\n",
        "        list_v.append(a0)\n",
        "        list_h.append(b0)\n",
        "    with open('drive/MyDrive/loss_IG/3*3/samples/3*3_PT_0.1M_n_hid={n_hid}_T={T}.pkl'.format(n_hid=n_hid, T=T), 'wb') as f:\n",
        "        pkl.dump([list_v, list_h], f)"
      ],
      "execution_count": null,
      "outputs": []
    },
    {
      "cell_type": "code",
      "metadata": {
        "id": "OOm6AxqLpzb3"
      },
      "source": [
        "fullconfigs=torch.tensor(pd.read_pickle('drive/MyDrive/loss_IG/3*3/3*3_cri_full.pkl'))\n",
        "n_vis=9\n",
        "T='cri'\n",
        "por='full'\n",
        "PT={}\n",
        "for n_hid in [1,2,4,6,8]:\n",
        "    PT[str(n_hid)]=[]\n",
        "    v_and_h=pd.read_pickle('drive/MyDrive/loss_IG/3*3/samples/3*3_PT_0.1M_n_hid={n_hid}_T={T}.pkl'.format(n_hid=n_hid, T=T))\n",
        "\n",
        "    for j in tnrange(10):\n",
        "        v_list=v_and_h[0]; h_list=v_and_h[1]\n",
        "        model0_dict=torch.load('drive/MyDrive/loss_IG/3*3/state_dict/2021-05-02_n_hid={n_hid}_{por}_T={T}{c0}'.format(n_hid=n_hid, por=por, T=T, c0=j), map_location=device)\n",
        "        model0=RBM(n_vis=n_vis, n_hid=n_hid, k=1, use_cuda=CUDA)\n",
        "        model0.load_state_dict(model0_dict)\n",
        "        PT[str(n_hid)].append({'FE{c0}'.format(c0=j):FE_mean_std(model0_dict, P_h(h_list[j]))})\n",
        "        PT[str(n_hid)].append({'FE_V{c0}'.format(c0=j):FE_V(model0_dict, fullconfigs)})\n",
        "\n",
        "        for k in range(10):\n",
        "            if j!=k:\n",
        "                por='full'\n",
        "                model1_dict=torch.load('drive/MyDrive/loss_IG/3*3/state_dict/2021-05-02_n_hid={n_hid}_{por}_T={T}{c1}'.format(n_hid=n_hid, por=por, T=T, c1=k), map_location=device)\n",
        "                model1=RBM(n_vis=n_vis, n_hid=n_hid, k=1, use_cuda=CUDA)\n",
        "                model1.load_state_dict(model1_dict)\n",
        "                PT[str(n_hid)].append({'dE{c0}{c1}'.format(c0=j,c1=k):dE_mean_std(model0, model1, v_list[j], h_list[j])})\n",
        "    del v_and_h\n",
        "with open('drive/MyDrive/loss_IG/3*3/data_PT_0.1M_{T}.pkl'.format(T=T), 'wb') as f:\n",
        "    pkl.dump(PT, f)"
      ],
      "execution_count": null,
      "outputs": []
    },
    {
      "cell_type": "code",
      "metadata": {
        "id": "0xgzYuDCUnx9"
      },
      "source": [
        ""
      ],
      "execution_count": null,
      "outputs": []
    },
    {
      "cell_type": "code",
      "metadata": {
        "id": "9HU_r_jtV-0d"
      },
      "source": [
        "def get_listmk(epoch1):\n",
        "    config_count={} # 각 hidden layer state 갯수 파악 (k)\n",
        "    for i in range(len(epoch1)):\n",
        "        config_count[str(epoch1[i])]=0\n",
        "    for i in range(len(epoch1)):\n",
        "        config_count[str(epoch1[i])]+=1\n",
        "        \n",
        "    listk=[]\n",
        "    for i in range(len(list(config_count.values()))):\n",
        "        listk.append(int(list(config_count.values())[i]))\n",
        "    listmk=[]\n",
        "    kcount={}\n",
        "\n",
        "\n",
        "    # 갯수의 갯수 파악 (m_k)\n",
        "    for i in range(len(listk)):\n",
        "        kcount[listk[i]]=0\n",
        "    for i in range(len(listk)):\n",
        "        kcount[listk[i]]+=1\n",
        "    for i in range(len(kcount)):\n",
        "        listmk.append(kcount[sorted(list(kcount))[i]])\n",
        "\n",
        "    return sorted(list(kcount)), listmk\n",
        "    \n",
        "\n",
        "def get_H_s(x, y):\n",
        "    list100=[]\n",
        "    list100kmk=[]\n",
        "    for i in range(len(x)):\n",
        "        list100kmk.append(x[i]*y[i])\n",
        "    for i in range(len(x)):\n",
        "        for j in range(list100kmk[i]):\n",
        "            list100.append(x[i])\n",
        "    N=len(list100)\n",
        "    H_s=0\n",
        "    for i in range(len(x)):\n",
        "        H_s-=(x[i]*y[i]/N)*np.log(x[i]/N)\n",
        "    return H_s"
      ],
      "execution_count": null,
      "outputs": []
    },
    {
      "cell_type": "code",
      "metadata": {
        "id": "UlMCazxcnHlO"
      },
      "source": [
        "fullconfigs=torch.tensor(pd.read_pickle('drive/MyDrive/loss_IG/Ising/lr=0.01/4*4_inf_full.pkl'))"
      ],
      "execution_count": null,
      "outputs": []
    },
    {
      "cell_type": "code",
      "metadata": {
        "id": "ZatMwvZXSBW4",
        "colab": {
          "base_uri": "https://localhost:8080/"
        },
        "outputId": "b78e0b82-f03d-4587-ef1c-f24675ef735a"
      },
      "source": [
        "x,y=get_listmk(fullconfigs)\n",
        "S=get_H_s(x, y)\n",
        "S"
      ],
      "execution_count": null,
      "outputs": [
        {
          "output_type": "execute_result",
          "data": {
            "text/plain": [
              "11.090354888959125"
            ]
          },
          "metadata": {
            "tags": []
          },
          "execution_count": 70
        }
      ]
    },
    {
      "cell_type": "code",
      "metadata": {
        "id": "CGJqPa96nAba"
      },
      "source": [
        ""
      ],
      "execution_count": null,
      "outputs": []
    }
  ]
}