{
  "nbformat": 4,
  "nbformat_minor": 0,
  "metadata": {
    "colab": {
      "name": "[210516]sampling_with_PT.ipynb",
      "provenance": [],
      "collapsed_sections": [],
      "toc_visible": true,
      "machine_shape": "hm",
      "include_colab_link": true
    },
    "kernelspec": {
      "display_name": "Python 3",
      "language": "python",
      "name": "python3"
    },
    "language_info": {
      "codemirror_mode": {
        "name": "ipython",
        "version": 3
      },
      "file_extension": ".py",
      "mimetype": "text/x-python",
      "name": "python",
      "nbconvert_exporter": "python",
      "pygments_lexer": "ipython3",
      "version": "3.7.4"
    },
    "widgets": {
      "application/vnd.jupyter.widget-state+json": {
        "00ca9df915834ad284dd112710088dd6": {
          "model_module": "@jupyter-widgets/controls",
          "model_name": "HBoxModel",
          "state": {
            "_view_name": "HBoxView",
            "_dom_classes": [],
            "_model_name": "HBoxModel",
            "_view_module": "@jupyter-widgets/controls",
            "_model_module_version": "1.5.0",
            "_view_count": null,
            "_view_module_version": "1.5.0",
            "box_style": "",
            "layout": "IPY_MODEL_35ac79ab0fc64b9998b2fd759fc7c1e5",
            "_model_module": "@jupyter-widgets/controls",
            "children": [
              "IPY_MODEL_83226a90ce234e108a752035b07b8553",
              "IPY_MODEL_c3e2e7c93d314d01b5d699e002c1dbf0"
            ]
          }
        },
        "35ac79ab0fc64b9998b2fd759fc7c1e5": {
          "model_module": "@jupyter-widgets/base",
          "model_name": "LayoutModel",
          "state": {
            "_view_name": "LayoutView",
            "grid_template_rows": null,
            "right": null,
            "justify_content": null,
            "_view_module": "@jupyter-widgets/base",
            "overflow": null,
            "_model_module_version": "1.2.0",
            "_view_count": null,
            "flex_flow": null,
            "width": null,
            "min_width": null,
            "border": null,
            "align_items": null,
            "bottom": null,
            "_model_module": "@jupyter-widgets/base",
            "top": null,
            "grid_column": null,
            "overflow_y": null,
            "overflow_x": null,
            "grid_auto_flow": null,
            "grid_area": null,
            "grid_template_columns": null,
            "flex": null,
            "_model_name": "LayoutModel",
            "justify_items": null,
            "grid_row": null,
            "max_height": null,
            "align_content": null,
            "visibility": null,
            "align_self": null,
            "height": null,
            "min_height": null,
            "padding": null,
            "grid_auto_rows": null,
            "grid_gap": null,
            "max_width": null,
            "order": null,
            "_view_module_version": "1.2.0",
            "grid_template_areas": null,
            "object_position": null,
            "object_fit": null,
            "grid_auto_columns": null,
            "margin": null,
            "display": null,
            "left": null
          }
        },
        "83226a90ce234e108a752035b07b8553": {
          "model_module": "@jupyter-widgets/controls",
          "model_name": "FloatProgressModel",
          "state": {
            "_view_name": "ProgressView",
            "style": "IPY_MODEL_b4e48be17d7047e495719382d2637a5d",
            "_dom_classes": [],
            "description": " 15%",
            "_model_name": "FloatProgressModel",
            "bar_style": "",
            "max": 100000,
            "_view_module": "@jupyter-widgets/controls",
            "_model_module_version": "1.5.0",
            "value": 14663,
            "_view_count": null,
            "_view_module_version": "1.5.0",
            "orientation": "horizontal",
            "min": 0,
            "description_tooltip": null,
            "_model_module": "@jupyter-widgets/controls",
            "layout": "IPY_MODEL_aba21186d9b84cdebd755d3d2e2fb11d"
          }
        },
        "c3e2e7c93d314d01b5d699e002c1dbf0": {
          "model_module": "@jupyter-widgets/controls",
          "model_name": "HTMLModel",
          "state": {
            "_view_name": "HTMLView",
            "style": "IPY_MODEL_2056e16ffa394f31a33a14059ca0c86e",
            "_dom_classes": [],
            "description": "",
            "_model_name": "HTMLModel",
            "placeholder": "​",
            "_view_module": "@jupyter-widgets/controls",
            "_model_module_version": "1.5.0",
            "value": " 14663/100000 [00:43&lt;03:46, 376.61it/s]",
            "_view_count": null,
            "_view_module_version": "1.5.0",
            "description_tooltip": null,
            "_model_module": "@jupyter-widgets/controls",
            "layout": "IPY_MODEL_7fb1808f8be246bb9b1db3f92c87004b"
          }
        },
        "b4e48be17d7047e495719382d2637a5d": {
          "model_module": "@jupyter-widgets/controls",
          "model_name": "ProgressStyleModel",
          "state": {
            "_view_name": "StyleView",
            "_model_name": "ProgressStyleModel",
            "description_width": "initial",
            "_view_module": "@jupyter-widgets/base",
            "_model_module_version": "1.5.0",
            "_view_count": null,
            "_view_module_version": "1.2.0",
            "bar_color": null,
            "_model_module": "@jupyter-widgets/controls"
          }
        },
        "aba21186d9b84cdebd755d3d2e2fb11d": {
          "model_module": "@jupyter-widgets/base",
          "model_name": "LayoutModel",
          "state": {
            "_view_name": "LayoutView",
            "grid_template_rows": null,
            "right": null,
            "justify_content": null,
            "_view_module": "@jupyter-widgets/base",
            "overflow": null,
            "_model_module_version": "1.2.0",
            "_view_count": null,
            "flex_flow": null,
            "width": null,
            "min_width": null,
            "border": null,
            "align_items": null,
            "bottom": null,
            "_model_module": "@jupyter-widgets/base",
            "top": null,
            "grid_column": null,
            "overflow_y": null,
            "overflow_x": null,
            "grid_auto_flow": null,
            "grid_area": null,
            "grid_template_columns": null,
            "flex": null,
            "_model_name": "LayoutModel",
            "justify_items": null,
            "grid_row": null,
            "max_height": null,
            "align_content": null,
            "visibility": null,
            "align_self": null,
            "height": null,
            "min_height": null,
            "padding": null,
            "grid_auto_rows": null,
            "grid_gap": null,
            "max_width": null,
            "order": null,
            "_view_module_version": "1.2.0",
            "grid_template_areas": null,
            "object_position": null,
            "object_fit": null,
            "grid_auto_columns": null,
            "margin": null,
            "display": null,
            "left": null
          }
        },
        "2056e16ffa394f31a33a14059ca0c86e": {
          "model_module": "@jupyter-widgets/controls",
          "model_name": "DescriptionStyleModel",
          "state": {
            "_view_name": "StyleView",
            "_model_name": "DescriptionStyleModel",
            "description_width": "",
            "_view_module": "@jupyter-widgets/base",
            "_model_module_version": "1.5.0",
            "_view_count": null,
            "_view_module_version": "1.2.0",
            "_model_module": "@jupyter-widgets/controls"
          }
        },
        "7fb1808f8be246bb9b1db3f92c87004b": {
          "model_module": "@jupyter-widgets/base",
          "model_name": "LayoutModel",
          "state": {
            "_view_name": "LayoutView",
            "grid_template_rows": null,
            "right": null,
            "justify_content": null,
            "_view_module": "@jupyter-widgets/base",
            "overflow": null,
            "_model_module_version": "1.2.0",
            "_view_count": null,
            "flex_flow": null,
            "width": null,
            "min_width": null,
            "border": null,
            "align_items": null,
            "bottom": null,
            "_model_module": "@jupyter-widgets/base",
            "top": null,
            "grid_column": null,
            "overflow_y": null,
            "overflow_x": null,
            "grid_auto_flow": null,
            "grid_area": null,
            "grid_template_columns": null,
            "flex": null,
            "_model_name": "LayoutModel",
            "justify_items": null,
            "grid_row": null,
            "max_height": null,
            "align_content": null,
            "visibility": null,
            "align_self": null,
            "height": null,
            "min_height": null,
            "padding": null,
            "grid_auto_rows": null,
            "grid_gap": null,
            "max_width": null,
            "order": null,
            "_view_module_version": "1.2.0",
            "grid_template_areas": null,
            "object_position": null,
            "object_fit": null,
            "grid_auto_columns": null,
            "margin": null,
            "display": null,
            "left": null
          }
        }
      }
    }
  },
  "cells": [
    {
      "cell_type": "markdown",
      "metadata": {
        "id": "view-in-github",
        "colab_type": "text"
      },
      "source": [
        "<a href=\"https://colab.research.google.com/github/physicaone/loss_IG/blob/master/%5B210516%5Dsampling_with_PT2.ipynb\" target=\"_parent\"><img src=\"https://colab.research.google.com/assets/colab-badge.svg\" alt=\"Open In Colab\"/></a>"
      ]
    },
    {
      "cell_type": "code",
      "metadata": {
        "colab": {
          "base_uri": "https://localhost:8080/"
        },
        "id": "Te6zZB8sZFDm",
        "outputId": "07ad1da8-9e09-449f-b459-ebf1c1d007e3"
      },
      "source": [
        "from google.colab import drive\n",
        "drive.mount('/content/drive')"
      ],
      "execution_count": 2,
      "outputs": [
        {
          "output_type": "stream",
          "text": [
            "Mounted at /content/drive\n"
          ],
          "name": "stdout"
        }
      ]
    },
    {
      "cell_type": "code",
      "metadata": {
        "id": "JBWjLs2eV-0R"
      },
      "source": [
        "import numpy as np\n",
        "import torch\n",
        "import torchvision.datasets\n",
        "import torchvision.models\n",
        "import torchvision.transforms\n",
        "import torch.nn.functional as F\n",
        "from torchvision import datasets, transforms\n",
        "from torchvision.utils import make_grid\n",
        "import torch.utils.data\n",
        "import torch.nn as nn\n",
        "from itertools import combinations\n",
        "from datetime import datetime\n",
        "from tqdm import tqdm, tnrange\n",
        "import warnings\n",
        "warnings.filterwarnings(\"ignore\")\n",
        "import pickle as pkl\n",
        "import pandas as pd\n",
        "import matplotlib.pyplot as plt\n",
        "import matplotlib.gridspec as gridspec\n",
        "%matplotlib inline\n",
        "# np.seterr(divide='ignore', invalid='ignore')\n",
        "import itertools\n",
        "import re\n",
        "from time import sleep"
      ],
      "execution_count": 18,
      "outputs": []
    },
    {
      "cell_type": "code",
      "metadata": {
        "id": "4UlSsScJdssV"
      },
      "source": [
        "class RBM(nn.Module):\n",
        "\n",
        "    def __init__(self, n_vis, n_hid, k, use_cuda):\n",
        "        \"\"\"Create a RBM.\"\"\"\n",
        "        super(RBM, self).__init__()\n",
        "        \n",
        "        if use_cuda==True:\n",
        "            self.v = nn.Parameter(torch.ones(1, n_vis).cuda())\n",
        "            self.h = nn.Parameter(torch.zeros(1, n_hid).cuda())\n",
        "            self.W = nn.Parameter(torch.randn(n_hid, n_vis).cuda())\n",
        "            self.k = k\n",
        "        else:\n",
        "            self.v = nn.Parameter(torch.ones(1, n_vis))\n",
        "            self.h = nn.Parameter(torch.zeros(1, n_hid))\n",
        "            self.W = nn.Parameter(torch.randn(n_hid, n_vis))\n",
        "            self.k = k     \n",
        "\n",
        "    def visible_to_hidden(self, v, beta):\n",
        "        return torch.sigmoid(F.linear(v, self.W, self.h)*beta)\n",
        "\n",
        "    def hidden_to_visible(self, h, beta):\n",
        "        return torch.sigmoid(F.linear(h, self.W.t(), self.v)*beta)\n",
        "\n",
        "    def free_energy(self, v):\n",
        "        v_term = torch.matmul(v, self.v.t())\n",
        "        w_x_h = F.linear(v, self.W, self.h)\n",
        "        h_term = torch.sum(F.softplus(w_x_h), dim=1)\n",
        "        return torch.mean(-h_term - v_term)\n",
        "    \n",
        "    def energy(self, v):\n",
        "        v=v.bernoulli()\n",
        "        h=torch.sigmoid(F.linear(v, self.W, self.h))\n",
        "        h=h.bernoulli()\n",
        "        return -torch.matmul(v, self.v.t())-torch.matmul(torch.matmul(v, self.W.t()),h.t())-torch.matmul(h, self.h.t())\n",
        "    \n",
        "    def energy2(self, v, h):\n",
        "        v=v.bernoulli()\n",
        "        h=h.bernoulli()\n",
        "        return -torch.matmul(v, self.v.t())-torch.matmul(torch.matmul(v, self.W.t()),h.t())-torch.matmul(h, self.h.t())\n",
        "\n",
        "    def forward(self, v):\n",
        "        h = self.visible_to_hidden(v)\n",
        "        h = h.bernoulli()\n",
        "        for _ in range(self.k):\n",
        "            v_gibb = self.hidden_to_visible(h)\n",
        "            v_gibb = v_gibb.bernoulli()\n",
        "            h = self.visible_to_hidden(v_gibb)\n",
        "            h = h.bernoulli()\n",
        "        return v, v_gibb"
      ],
      "execution_count": 4,
      "outputs": []
    },
    {
      "cell_type": "code",
      "metadata": {
        "colab": {
          "base_uri": "https://localhost:8080/"
        },
        "id": "zdT15FDJV-0X",
        "outputId": "8562f713-106b-4c2f-df66-fd0154fd3e4e"
      },
      "source": [
        "CUDA = torch.cuda.is_available()\n",
        "CUDA_DEVICE = 0\n",
        "\n",
        "if CUDA:\n",
        "    device='cuda'\n",
        "else:\n",
        "    device='cpu'\n",
        "torch.cuda.is_available()"
      ],
      "execution_count": 5,
      "outputs": [
        {
          "output_type": "execute_result",
          "data": {
            "text/plain": [
              "False"
            ]
          },
          "metadata": {
            "tags": []
          },
          "execution_count": 5
        }
      ]
    },
    {
      "cell_type": "code",
      "metadata": {
        "colab": {
          "base_uri": "https://localhost:8080/"
        },
        "id": "mN1weUbRE5G0",
        "outputId": "b7c6a02c-4ed4-432f-eaad-0f0fd6c8f307"
      },
      "source": [
        "CUDA"
      ],
      "execution_count": 6,
      "outputs": [
        {
          "output_type": "execute_result",
          "data": {
            "text/plain": [
              "False"
            ]
          },
          "metadata": {
            "tags": []
          },
          "execution_count": 6
        }
      ]
    },
    {
      "cell_type": "code",
      "metadata": {
        "id": "N0jqccefV-0X"
      },
      "source": [
        "# 아래 두 함수는 PT와는 아무 상관 없습니다. 10진법을 2진법으로 바꾸고 리스트 형태로 변형하는 함수입니다. 예)15->[1,1,1,1]\n",
        "# 그리고 그 다음은 역함수입니다.\n",
        "def decimal_to_binary(integer):\n",
        "    string=bin(integer)[2:]\n",
        "    list0=[float(d) for d in string]\n",
        "    while len(list0)<n_hid:\n",
        "        list0=[0.]+list0\n",
        "    return torch.tensor([list0])\n",
        "\n",
        "def binary_to_decimal(list0):\n",
        "    value=0\n",
        "    for i in range(len(list0)):\n",
        "        value+=list0[-i-1]*2**(i)\n",
        "    return value\n",
        "\n",
        "# 이 함수는 PT에 사용되는 transition 확률을 계산합니다.\n",
        "def swap_prob(i,j, model, list00, list11):\n",
        "    v1=torch.tensor(list00[i]).view(1,n_vis)\n",
        "    v2=torch.tensor(list00[j]).view(1,n_vis)\n",
        "    h1=torch.tensor(list11[i]).view(1,n_hid)\n",
        "    h2=torch.tensor(list11[j]).view(1,n_hid)\n",
        "    beta1=beta_list[i]\n",
        "    beta2=beta_list[j]\n",
        "    return torch.exp((beta2-beta1)*(model.energy2(v2, h2)-model.energy2(v1, h1)))\n",
        "\n",
        "# 이 함수는 tansition 확률에 의거, swap을 수행합니다.\n",
        "def swap(list0, list1, model):\n",
        "    k=np.random.randint(0, len(list0)-1)\n",
        "    combination=[k, k+1]\n",
        "    if swap_prob(combination[0], combination[1], model, list0, list1)>=np.random.rand():\n",
        "        a=list0[combination[0]]\n",
        "        b=list0[combination[1]] \n",
        "        list0[combination[0]]=b\n",
        "        list0[combination[1]]=a\n",
        "        \n",
        "        c=list1[combination[0]]\n",
        "        d=list1[combination[1]] \n",
        "        list1[combination[0]]=d\n",
        "        list1[combination[1]]=c\n",
        "    else: None\n",
        "#     return list0, list1\n",
        "#     combinations=list(itertools.combinations(list(range(len(list0))), 2))\n",
        "#     for k in range(len(combinations)):\n",
        "#         if swap_prob(combinations[k][1], combinations[k][0])>=np.random.rand():\n",
        "#             list0[combinations[k][0]]=list0[combinations[k][1]]; list0[combinations[k][1]]=list0[combinations[k][0]]\n",
        "#         else: None\n",
        "#     return list0\n",
        "\n",
        "def P_h(list0):\n",
        "    config_count={}\n",
        "    for i in range(len(list0)):\n",
        "        config_count[str(int(binary_to_decimal(list0[i][0])))]=0\n",
        "    for i in range(len(list0)):\n",
        "        config_count[str(int(binary_to_decimal(list0[i][0])))]+=1\n",
        "    return config_count\n",
        "\n",
        "def prod(L):\n",
        "    p=1\n",
        "    for i in L:\n",
        "        p= i * p\n",
        "    return p\n",
        "\n",
        "# def Estimate_Z(model0, states):\n",
        "#     Z=0\n",
        "#     for i in range(len(states[0])):\n",
        "#         Z+=torch.exp(-model0.energy2(states[0][i], states[1][i])).detach()\n",
        "#     return float(Z.detach().numpy())\n",
        "\n",
        "def get_hist(list00, color='red'):\n",
        "    bins=range(int(min(list00)-30), int(max(list00)+30), 1)\n",
        "    y1,x1,_ = plt.hist(list00, bins = bins, histtype='step', color=color)\n",
        "    x1 = 0.5*(x1[1:]+x1[:-1])\n",
        "    return x1, y1\n",
        "\n",
        "def Shannon_entropy(list0):\n",
        "    H_s=0\n",
        "    N=np.sum(list0)\n",
        "    for i in range(len(list0)):\n",
        "        H_s-=list0[i]*np.log(list0[i]/N)/N\n",
        "    return H_s\n",
        "\n"
      ],
      "execution_count": 7,
      "outputs": []
    },
    {
      "cell_type": "markdown",
      "metadata": {
        "id": "68HLefHiV-0Y"
      },
      "source": [
        "eq step 도입하기. 수렴성 확인하기 <br>\n",
        "다 0으로 vs 랜덤으로 초기조건 주고, 초기효과가 사라지는 시점 비교해보기 <br>\n",
        "h간의 FE편차가 얼마나 줄어드는가 (시계열적으로) \n",
        "<!-- beta_list 간격좀 바꿔보기 -->\n",
        "<!-- PT 1스텝당 스왑 몇번 할지 -->\n",
        "<!-- T별로 Autocorrelation 측정해보기 -->"
      ]
    },
    {
      "cell_type": "markdown",
      "metadata": {
        "id": "dUQr7zL8V-0Y"
      },
      "source": [
        "# $F=\\ln[Q(\\vec{h})\\prod_i\\sigma(-a_i-\\sum_jW_{ij}h_j)]-\\vec{b}\\cdot\\vec{h}$"
      ]
    },
    {
      "cell_type": "code",
      "metadata": {
        "id": "xmv-j18uV-0Z"
      },
      "source": [
        "def FE_mean_std(model0, p):\n",
        "    FE_list=[]\n",
        "    for i in range(len(p)):\n",
        "        integer=list(p.keys())[i]\n",
        "        n_vis=len(model0.v[0]); n_hid=len(model0.h[0])\n",
        "        h=decimal_to_binary(int(integer)).to(device)\n",
        "        a=model0.v.view(1,n_vis).detach()\n",
        "        b=model0.h.view(1,n_hid).detach()\n",
        "        W=model0.W.view(n_hid,n_vis).detach()\n",
        "        \n",
        "        FE=prod(torch.sigmoid(-F.linear(h, W.t(), a)).detach()[0])*100000\n",
        "        FE=FE*p[integer]\n",
        "        FE=FE/sum(list(p.values()))\n",
        "        FE=torch.log(FE.detach())-torch.log(torch.tensor([[100000]]))-torch.dot(b[0],h[0].t())\n",
        "        FE_list.append(FE.detach())\n",
        "    return torch.mean(torch.tensor(FE_list)), torch.std(torch.tensor(FE_list))\n",
        "\n",
        "def dE_mean_std(model0, model1, v_list, h_list):\n",
        "    dE=[]\n",
        "    for i in range(len(v_list)):\n",
        "        E0=model0.energy2(v_list[i], h_list[i]).detach()[0]\n",
        "        E1=model1.energy2(v_list[i], h_list[i]).detach()[0]\n",
        "        dE.append(E1-E0)\n",
        "    return torch.mean(torch.tensor(dE)), torch.std(torch.tensor(dE))\n",
        "\n",
        "# step별 온도별 스테이트를 모두 저장하지 않고 매 스텝의 온도별 값 1개씩만 hidden_states_now에 기록합니다.\n",
        "# 물론, 가장 차가운 모델(beta=1)은 스텝별 상태도 따로 저장하여 그 결과를 샘플링 결과로써 활용합니다.\n",
        "def FE_and_dE_PT(fullmodel, submodel, eq_step, n_step):\n",
        "    # states for full model\n",
        "    hidden_states_now0=[decimal_to_binary(2**n_hid-1)]*len(beta_list)\n",
        "    visible_states_now0=[1.]*len(beta_list)\n",
        "    # states for sub model\n",
        "    hidden_states_now1=[decimal_to_binary(2**n_hid-1)]*len(beta_list)\n",
        "    visible_states_now1=[1.]*len(beta_list)\n",
        "    # lists for fullmode samples\n",
        "    coldest_hidden0=[]\n",
        "    coldest_visible0=[]\n",
        "    # lists for submodel samples\n",
        "    coldest_hidden1=[]\n",
        "    coldest_visible1=[]\n",
        "    # lists for FE of full model\n",
        "    FE0_mean_list=[]\n",
        "    FE0_std_list=[]\n",
        "    # lists for Fe of sub model\n",
        "    FE1_mean_list=[]\n",
        "    FE1_std_list=[]\n",
        "    # lists for dE\n",
        "    dE_mean_list=[]\n",
        "    dE_std_list=[]\n",
        "    \n",
        "    # equilibrium steps for full model\n",
        "    for step in range(eq_step):\n",
        "        for i in range(len(beta_list)):\n",
        "            visible_states_now0[i]=fullmodel.hidden_to_visible(hidden_states_now0[i].to(device), beta_list[i]).bernoulli().detach()\n",
        "            hidden_states_now0[i]=fullmodel.visible_to_hidden(visible_states_now0[i].to(device), beta_list[i]).bernoulli().detach()\n",
        "    \n",
        "    # equilibrium steps for sub model\n",
        "    for step in range(eq_step):\n",
        "        for i in range(len(beta_list)):\n",
        "            visible_states_now1[i]=submodel.hidden_to_visible(hidden_states_now1[i].to(device), beta_list[i]).bernoulli().detach()\n",
        "            hidden_states_now1[i]=submodel.visible_to_hidden(visible_states_now1[i].to(device), beta_list[i]).bernoulli().detach()\n",
        "\n",
        "    # Tasks with PT\n",
        "    for step in tnrange(n_step):\n",
        "        for i in range(len(beta_list)):\n",
        "            # Gibbs sampling of fu\n",
        "            visible_states_now0[i]=fullmodel.hidden_to_visible(hidden_states_now0[i].to(device), beta_list[i]).bernoulli().detach()\n",
        "            hidden_states_now0[i]=fullmodel.visible_to_hidden(visible_states_now0[i].to(device), beta_list[i]).bernoulli().detach()\n",
        "            visible_states_now1[i]=submodel.hidden_to_visible(hidden_states_now1[i].to(device), beta_list[i]).bernoulli().detach()\n",
        "            hidden_states_now1[i]=submodel.visible_to_hidden(visible_states_now1[i].to(device), beta_list[i]).bernoulli().detach()\n",
        "        swap(visible_states_now0, hidden_states_now0, fullmodel)\n",
        "        swap(visible_states_now1, hidden_states_now1, submodel)\n",
        "        coldest_hidden0.append(hidden_states_now0[0])\n",
        "        coldest_visible0.append(visible_states_now0[0])\n",
        "        coldest_hidden1.append(hidden_states_now1[0])\n",
        "        coldest_visible1.append(visible_states_now1[0])\n",
        "        if step%(n_step/10)==0:\n",
        "            Fm0, Fs0=FE_mean_std(fullmodel, P_h(coldest_hidden0))\n",
        "            FE0_mean_list.append(Fm0)\n",
        "            FE0_std_list.append(Fs0)\n",
        "            Fm1, Fs1=FE_mean_std(submodel, P_h(coldest_hidden1))\n",
        "            FE1_mean_list.append(Fm1)\n",
        "            FE1_std_list.append(Fs1)\n",
        "            Em, Es=dE_mean_std(fullmodel, submodel, coldest_visible0, coldest_hidden0)\n",
        "            dE_mean_list.append(Em)\n",
        "            dE_std_list.append(Es)\n",
        "\n",
        "    return FE0_mean_list, FE0_std_list, FE1_mean_list, FE1_std_list, dE_mean_list, dE_std_list"
      ],
      "execution_count": 13,
      "outputs": []
    },
    {
      "cell_type": "code",
      "metadata": {
        "colab": {
          "base_uri": "https://localhost:8080/"
        },
        "id": "0U3zvYOTZkJs",
        "outputId": "d49ee89c-98e4-4ebf-8af7-5e4c12d84c0e"
      },
      "source": [
        "comb = combinations(range(1,11), 2)\n",
        "list(comb)[0]"
      ],
      "execution_count": 22,
      "outputs": [
        {
          "output_type": "execute_result",
          "data": {
            "text/plain": [
              "(1, 2)"
            ]
          },
          "metadata": {
            "tags": []
          },
          "execution_count": 22
        }
      ]
    },
    {
      "cell_type": "code",
      "metadata": {
        "colab": {
          "base_uri": "https://localhost:8080/",
          "height": 49,
          "referenced_widgets": [
            "00ca9df915834ad284dd112710088dd6",
            "35ac79ab0fc64b9998b2fd759fc7c1e5",
            "83226a90ce234e108a752035b07b8553",
            "c3e2e7c93d314d01b5d699e002c1dbf0",
            "b4e48be17d7047e495719382d2637a5d",
            "aba21186d9b84cdebd755d3d2e2fb11d",
            "2056e16ffa394f31a33a14059ca0c86e",
            "7fb1808f8be246bb9b1db3f92c87004b"
          ]
        },
        "id": "prZ1B6ZIV-0a",
        "outputId": "961ebcfa-9786-4cc5-bccc-e59516e88652"
      },
      "source": [
        "beta_list=torch.tensor(np.linspace(1,0,10).astype(int)).to(device)\n",
        "n_vis=9\n",
        "T='cri'\n",
        "def get_data(n_hid, T, fullmodel, submodel):\n",
        "\n",
        "    FE0_mean_list16, FE0_std_list16, FE1_mean_list16, FE1_std_list16, dE_mean_list16, dE_std_list16=FE_and_dE_PT(fullmodel, submodel, 10, 100000)\n",
        "    return [FE0_mean_list16, FE0_std_list16, FE1_mean_list16, FE1_std_list16, dE_mean_list16, dE_std_list16]\n",
        "comb_list = list(combinations(range(1,11), 2))\n",
        "PT={}\n",
        "for n_hid in [1,2,4,6,8]:\n",
        "    PT[str(n_hid)]=[]\n",
        "    for comb in comb_list:\n",
        "        por='full'\n",
        "        model0=torch.load('drive/MyDrive/loss_IG/3*3/state_dict/2021-05-02_n_hid={n_hid}_{por}_T={T}{c1}'.format(n_hid=n_hid, por=por, T=T, c1=comb[0]), map_location=device)\n",
        "        fullmodel=RBM(n_vis=n_vis, n_hid=n_hid, k=1, use_cuda=CUDA)\n",
        "        fullmodel.load_state_dict(model0)\n",
        "        por='full'\n",
        "        model1=torch.load('drive/MyDrive/loss_IG/3*3/state_dict/2021-05-02_n_hid={n_hid}_{por}_T={T}{c2}'.format(n_hid=n_hid, por=por, T=T, c2=comb[1]), map_location=device)\n",
        "        submodel=RBM(n_vis=n_vis, n_hid=n_hid, k=1, use_cuda=CUDA)\n",
        "        submodel.load_state_dict(model1)\n",
        "        PT[str(n_hid)].append(get_data(n_hid, T, fullmodel, submodel))\n",
        "with open('drive/MyDrive/loss_IG/3*3/data_PT20_1M_{T}_combs.pkl'.format(T=T), 'wb') as f:\n",
        "    pkl.dump(PT, f)"
      ],
      "execution_count": null,
      "outputs": [
        {
          "output_type": "display_data",
          "data": {
            "application/vnd.jupyter.widget-view+json": {
              "model_id": "00ca9df915834ad284dd112710088dd6",
              "version_minor": 0,
              "version_major": 2
            },
            "text/plain": [
              "HBox(children=(FloatProgress(value=0.0, max=100000.0), HTML(value='')))"
            ]
          },
          "metadata": {
            "tags": []
          }
        }
      ]
    },
    {
      "cell_type": "code",
      "metadata": {
        "id": "fCTsNyK5f6XI"
      },
      "source": [
        "beta_list=torch.tensor(np.linspace(1,0,40).astype(int)).to(device)\n",
        "n_vis=16\n",
        "T='zero'\n",
        "def get_data(n_hid, T):\n",
        "    por='full'\n",
        "    model0=torch.load('drive/MyDrive/loss_IG/Ising/lr=0.01/state_dict/2021-05-02_n_hid={n_hid}_epoch=1000_{por}_T={T}'.format(n_hid=n_hid, por=por, T=T), map_location=device)\n",
        "    fullmodel=RBM(n_vis=n_vis, n_hid=n_hid, k=1, use_cuda=CUDA)\n",
        "    fullmodel.load_state_dict(model0)\n",
        "    por='sub'\n",
        "    model1=torch.load('drive/MyDrive/loss_IG/Ising/lr=0.01/state_dict/2021-05-02_n_hid={n_hid}_epoch=1000_{por}_T={T}'.format(n_hid=n_hid, por=por, T=T), map_location=device)\n",
        "    submodel=RBM(n_vis=n_vis, n_hid=n_hid, k=1, use_cuda=CUDA)\n",
        "    submodel.load_state_dict(model1)\n",
        "    FE0_mean_list16, FE0_std_list16, FE1_mean_list16, FE1_std_list16, dE_mean_list16, dE_std_list16=FE_and_dE_PT(fullmodel, submodel, 10, 1000000)\n",
        "    return [FE0_mean_list16, FE0_std_list16, FE1_mean_list16, FE1_std_list16, dE_mean_list16, dE_std_list16]\n",
        "PT40=[]\n",
        "for n_hid in [1,2,4,8,16]:\n",
        "    PT40.append(get_data(n_hid, T))\n",
        "with open('drive/MyDrive/loss_IG/Ising/lr=0.01/data_PT40_1M_{T}.pkl'.format(T=T), 'wb') as f:\n",
        "    pkl.dump(PT40, f)"
      ],
      "execution_count": null,
      "outputs": []
    },
    {
      "cell_type": "code",
      "metadata": {
        "colab": {
          "base_uri": "https://localhost:8080/",
          "height": 439
        },
        "id": "vQ3DH8BZV-0b",
        "outputId": "9e255351-ea02-44df-bf33-9de5c6e076d6"
      },
      "source": [
        "T='cri'\n",
        "i=1\n",
        "data0=np.array(pd.read_pickle('drive/MyDrive/loss_IG/Ising/lr=0.01/data_PT20_1M_{T}.pkl'.format(T=T)))\n",
        "d = {'Fmean': data0[i][0], 'Fstd': data0[i][1], 'Fp_mean':data0[i][2], 'Fp_std':data0[i][3], 'dE_mean':data0[i][4], 'dE_std':data0[i][5]}\n",
        "df = pd.DataFrame(data=d, index=['0.1M', '0.2M', '0.3M' , '0.4M' , '0.5M' , '0.6M', '0.7M', '0.8M', '0.9M', '1M'])\n",
        "df.style.set_table_attributes(\"style='display:inline'\").set_caption('Caption table')\n",
        "df\n",
        "\n",
        "# n_hid=16"
      ],
      "execution_count": null,
      "outputs": [
        {
          "output_type": "error",
          "ename": "EOFError",
          "evalue": "ignored",
          "traceback": [
            "\u001b[0;31m---------------------------------------------------------------------------\u001b[0m",
            "\u001b[0;31mEOFError\u001b[0m                                  Traceback (most recent call last)",
            "\u001b[0;32m<ipython-input-55-e34576df7510>\u001b[0m in \u001b[0;36m<module>\u001b[0;34m()\u001b[0m\n\u001b[1;32m      1\u001b[0m \u001b[0mT\u001b[0m\u001b[0;34m=\u001b[0m\u001b[0;34m'cri'\u001b[0m\u001b[0;34m\u001b[0m\u001b[0;34m\u001b[0m\u001b[0m\n\u001b[1;32m      2\u001b[0m \u001b[0mi\u001b[0m\u001b[0;34m=\u001b[0m\u001b[0;36m1\u001b[0m\u001b[0;34m\u001b[0m\u001b[0;34m\u001b[0m\u001b[0m\n\u001b[0;32m----> 3\u001b[0;31m \u001b[0mdata0\u001b[0m\u001b[0;34m=\u001b[0m\u001b[0mnp\u001b[0m\u001b[0;34m.\u001b[0m\u001b[0marray\u001b[0m\u001b[0;34m(\u001b[0m\u001b[0mpd\u001b[0m\u001b[0;34m.\u001b[0m\u001b[0mread_pickle\u001b[0m\u001b[0;34m(\u001b[0m\u001b[0;34m'drive/MyDrive/loss_IG/Ising/lr=0.01/data_PT20_1M_{T}.pkl'\u001b[0m\u001b[0;34m.\u001b[0m\u001b[0mformat\u001b[0m\u001b[0;34m(\u001b[0m\u001b[0mT\u001b[0m\u001b[0;34m=\u001b[0m\u001b[0mT\u001b[0m\u001b[0;34m)\u001b[0m\u001b[0;34m)\u001b[0m\u001b[0;34m)\u001b[0m\u001b[0;34m\u001b[0m\u001b[0;34m\u001b[0m\u001b[0m\n\u001b[0m\u001b[1;32m      4\u001b[0m \u001b[0md\u001b[0m \u001b[0;34m=\u001b[0m \u001b[0;34m{\u001b[0m\u001b[0;34m'Fmean'\u001b[0m\u001b[0;34m:\u001b[0m \u001b[0mdata0\u001b[0m\u001b[0;34m[\u001b[0m\u001b[0mi\u001b[0m\u001b[0;34m]\u001b[0m\u001b[0;34m[\u001b[0m\u001b[0;36m0\u001b[0m\u001b[0;34m]\u001b[0m\u001b[0;34m,\u001b[0m \u001b[0;34m'Fstd'\u001b[0m\u001b[0;34m:\u001b[0m \u001b[0mdata0\u001b[0m\u001b[0;34m[\u001b[0m\u001b[0mi\u001b[0m\u001b[0;34m]\u001b[0m\u001b[0;34m[\u001b[0m\u001b[0;36m1\u001b[0m\u001b[0;34m]\u001b[0m\u001b[0;34m,\u001b[0m \u001b[0;34m'Fp_mean'\u001b[0m\u001b[0;34m:\u001b[0m\u001b[0mdata0\u001b[0m\u001b[0;34m[\u001b[0m\u001b[0mi\u001b[0m\u001b[0;34m]\u001b[0m\u001b[0;34m[\u001b[0m\u001b[0;36m2\u001b[0m\u001b[0;34m]\u001b[0m\u001b[0;34m,\u001b[0m \u001b[0;34m'Fp_std'\u001b[0m\u001b[0;34m:\u001b[0m\u001b[0mdata0\u001b[0m\u001b[0;34m[\u001b[0m\u001b[0mi\u001b[0m\u001b[0;34m]\u001b[0m\u001b[0;34m[\u001b[0m\u001b[0;36m3\u001b[0m\u001b[0;34m]\u001b[0m\u001b[0;34m,\u001b[0m \u001b[0;34m'dE_mean'\u001b[0m\u001b[0;34m:\u001b[0m\u001b[0mdata0\u001b[0m\u001b[0;34m[\u001b[0m\u001b[0mi\u001b[0m\u001b[0;34m]\u001b[0m\u001b[0;34m[\u001b[0m\u001b[0;36m4\u001b[0m\u001b[0;34m]\u001b[0m\u001b[0;34m,\u001b[0m \u001b[0;34m'dE_std'\u001b[0m\u001b[0;34m:\u001b[0m\u001b[0mdata0\u001b[0m\u001b[0;34m[\u001b[0m\u001b[0mi\u001b[0m\u001b[0;34m]\u001b[0m\u001b[0;34m[\u001b[0m\u001b[0;36m5\u001b[0m\u001b[0;34m]\u001b[0m\u001b[0;34m}\u001b[0m\u001b[0;34m\u001b[0m\u001b[0;34m\u001b[0m\u001b[0m\n\u001b[1;32m      5\u001b[0m \u001b[0mdf\u001b[0m \u001b[0;34m=\u001b[0m \u001b[0mpd\u001b[0m\u001b[0;34m.\u001b[0m\u001b[0mDataFrame\u001b[0m\u001b[0;34m(\u001b[0m\u001b[0mdata\u001b[0m\u001b[0;34m=\u001b[0m\u001b[0md\u001b[0m\u001b[0;34m,\u001b[0m \u001b[0mindex\u001b[0m\u001b[0;34m=\u001b[0m\u001b[0;34m[\u001b[0m\u001b[0;34m'0.1M'\u001b[0m\u001b[0;34m,\u001b[0m \u001b[0;34m'0.2M'\u001b[0m\u001b[0;34m,\u001b[0m \u001b[0;34m'0.3M'\u001b[0m \u001b[0;34m,\u001b[0m \u001b[0;34m'0.4M'\u001b[0m \u001b[0;34m,\u001b[0m \u001b[0;34m'0.5M'\u001b[0m \u001b[0;34m,\u001b[0m \u001b[0;34m'0.6M'\u001b[0m\u001b[0;34m,\u001b[0m \u001b[0;34m'0.7M'\u001b[0m\u001b[0;34m,\u001b[0m \u001b[0;34m'0.8M'\u001b[0m\u001b[0;34m,\u001b[0m \u001b[0;34m'0.9M'\u001b[0m\u001b[0;34m,\u001b[0m \u001b[0;34m'1M'\u001b[0m\u001b[0;34m]\u001b[0m\u001b[0;34m)\u001b[0m\u001b[0;34m\u001b[0m\u001b[0;34m\u001b[0m\u001b[0m\n",
            "\u001b[0;32m/usr/local/lib/python3.7/dist-packages/pandas/io/pickle.py\u001b[0m in \u001b[0;36mread_pickle\u001b[0;34m(filepath_or_buffer, compression)\u001b[0m\n\u001b[1;32m    180\u001b[0m                 \u001b[0;31m# We want to silence any warnings about, e.g. moved modules.\u001b[0m\u001b[0;34m\u001b[0m\u001b[0;34m\u001b[0m\u001b[0;34m\u001b[0m\u001b[0m\n\u001b[1;32m    181\u001b[0m                 \u001b[0mwarnings\u001b[0m\u001b[0;34m.\u001b[0m\u001b[0msimplefilter\u001b[0m\u001b[0;34m(\u001b[0m\u001b[0;34m\"ignore\"\u001b[0m\u001b[0;34m,\u001b[0m \u001b[0mWarning\u001b[0m\u001b[0;34m)\u001b[0m\u001b[0;34m\u001b[0m\u001b[0;34m\u001b[0m\u001b[0m\n\u001b[0;32m--> 182\u001b[0;31m                 \u001b[0;32mreturn\u001b[0m \u001b[0mpickle\u001b[0m\u001b[0;34m.\u001b[0m\u001b[0mload\u001b[0m\u001b[0;34m(\u001b[0m\u001b[0mf\u001b[0m\u001b[0;34m)\u001b[0m\u001b[0;34m\u001b[0m\u001b[0;34m\u001b[0m\u001b[0m\n\u001b[0m\u001b[1;32m    183\u001b[0m         \u001b[0;32mexcept\u001b[0m \u001b[0mexcs_to_catch\u001b[0m\u001b[0;34m:\u001b[0m\u001b[0;34m\u001b[0m\u001b[0;34m\u001b[0m\u001b[0m\n\u001b[1;32m    184\u001b[0m             \u001b[0;31m# e.g.\u001b[0m\u001b[0;34m\u001b[0m\u001b[0;34m\u001b[0m\u001b[0;34m\u001b[0m\u001b[0m\n",
            "\u001b[0;31mEOFError\u001b[0m: Ran out of input"
          ]
        }
      ]
    },
    {
      "cell_type": "code",
      "metadata": {
        "id": "6dKC_Zb5V-0d"
      },
      "source": [
        "fullconfigs=torch.tensor(pd.read_pickle('drive/MyDrive/loss_IG/Ising/lr=0.01/4*4_cri_full.pkl'))"
      ],
      "execution_count": null,
      "outputs": []
    },
    {
      "cell_type": "code",
      "metadata": {
        "id": "zuj952xrRLhZ"
      },
      "source": [
        ""
      ],
      "execution_count": null,
      "outputs": []
    },
    {
      "cell_type": "code",
      "metadata": {
        "colab": {
          "base_uri": "https://localhost:8080/"
        },
        "id": "NhHuvIpaV-0d",
        "outputId": "52c5c23a-dc77-4503-f218-5d205957195e"
      },
      "source": [
        "def FE_V(model, v):\n",
        "    a=model['v']\n",
        "    b=model['h']\n",
        "    W=model['W']\n",
        "    v_term = torch.matmul(v, a.t())\n",
        "    w_x_h = F.linear(v, W, b)\n",
        "    h_term = torch.sum(F.softplus(w_x_h), dim=1)\n",
        "    return torch.mean(-h_term - v_term)\n",
        "n_vis=16\n",
        "for n_hid in [1,2,4,8,16]:\n",
        "    Fq=[]\n",
        "    por='full'\n",
        "    T='cri'\n",
        "    model0=torch.load('drive/MyDrive/loss_IG/Ising/lr=0.01/state_dict/2021-05-02_n_hid={n_hid}_epoch=1000_{por}_T={T}'.format(n_hid=n_hid, por=por, T=T), map_location=device)\n",
        "\n",
        "    for i in range(len(fullconfigs)):\n",
        "        Fq.append(FE_V(model0, fullconfigs[i]).detach().numpy())\n",
        "    print(n_hid, np.mean(Fq))\n",
        "#     print(n_hid, first_term(model0, torch.tensor(fullconfigs)))\n"
      ],
      "execution_count": null,
      "outputs": [
        {
          "output_type": "stream",
          "text": [
            "1 -32.865833\n",
            "2 -40.138954\n",
            "4 -45.82806\n",
            "8 -52.908585\n",
            "16 -51.624096\n"
          ],
          "name": "stdout"
        }
      ]
    },
    {
      "cell_type": "code",
      "metadata": {
        "id": "9HU_r_jtV-0d"
      },
      "source": [
        "def get_listmk(epoch1):\n",
        "    config_count={} # 각 hidden layer state 갯수 파악 (k)\n",
        "    for i in range(len(epoch1)):\n",
        "        config_count[str(epoch1[i])]=0\n",
        "    for i in range(len(epoch1)):\n",
        "        config_count[str(epoch1[i])]+=1\n",
        "        \n",
        "    listk=[]\n",
        "    for i in range(len(list(config_count.values()))):\n",
        "        listk.append(int(list(config_count.values())[i]))\n",
        "    listmk=[]\n",
        "    kcount={}\n",
        "\n",
        "\n",
        "    # 갯수의 갯수 파악 (m_k)\n",
        "    for i in range(len(listk)):\n",
        "        kcount[listk[i]]=0\n",
        "    for i in range(len(listk)):\n",
        "        kcount[listk[i]]+=1\n",
        "    for i in range(len(kcount)):\n",
        "        listmk.append(kcount[sorted(list(kcount))[i]])\n",
        "\n",
        "    return sorted(list(kcount)), listmk\n",
        "    \n",
        "\n",
        "def get_H_s(x, y):\n",
        "    list100=[]\n",
        "    list100kmk=[]\n",
        "    for i in range(len(x)):\n",
        "        list100kmk.append(x[i]*y[i])\n",
        "    for i in range(len(x)):\n",
        "        for j in range(list100kmk[i]):\n",
        "            list100.append(x[i])\n",
        "    N=len(list100)\n",
        "    H_s=0\n",
        "    for i in range(len(x)):\n",
        "        H_s-=(x[i]*y[i]/N)*np.log(x[i]/N)\n",
        "    return H_s"
      ],
      "execution_count": null,
      "outputs": []
    },
    {
      "cell_type": "code",
      "metadata": {
        "id": "UlMCazxcnHlO"
      },
      "source": [
        "fullconfigs=torch.tensor(pd.read_pickle('drive/MyDrive/loss_IG/Ising/lr=0.01/4*4_inf_full.pkl'))"
      ],
      "execution_count": null,
      "outputs": []
    },
    {
      "cell_type": "code",
      "metadata": {
        "id": "ZatMwvZXSBW4",
        "colab": {
          "base_uri": "https://localhost:8080/"
        },
        "outputId": "b78e0b82-f03d-4587-ef1c-f24675ef735a"
      },
      "source": [
        "x,y=get_listmk(fullconfigs)\n",
        "S=get_H_s(x, y)\n",
        "S"
      ],
      "execution_count": null,
      "outputs": [
        {
          "output_type": "execute_result",
          "data": {
            "text/plain": [
              "11.090354888959125"
            ]
          },
          "metadata": {
            "tags": []
          },
          "execution_count": 70
        }
      ]
    },
    {
      "cell_type": "code",
      "metadata": {
        "colab": {
          "base_uri": "https://localhost:8080/"
        },
        "id": "QyuLNUpLSJpS",
        "outputId": "78da5bf6-2d51-49fd-da4c-ebd68185698e"
      },
      "source": [
        "S"
      ],
      "execution_count": null,
      "outputs": [
        {
          "output_type": "execute_result",
          "data": {
            "text/plain": [
              "4.559761116966414"
            ]
          },
          "metadata": {
            "tags": []
          },
          "execution_count": 68
        }
      ]
    },
    {
      "cell_type": "code",
      "metadata": {
        "id": "CGJqPa96nAba"
      },
      "source": [
        ""
      ],
      "execution_count": null,
      "outputs": []
    }
  ]
}