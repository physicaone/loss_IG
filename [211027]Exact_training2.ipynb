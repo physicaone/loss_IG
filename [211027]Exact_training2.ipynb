{
  "nbformat": 4,
  "nbformat_minor": 0,
  "metadata": {
    "colab": {
      "name": "Copy of Copy of Copy of Untitled2.ipynb",
      "provenance": [],
      "authorship_tag": "ABX9TyMbtEYZa6TqtoMinCq+/AZX",
      "include_colab_link": true
    },
    "kernelspec": {
      "name": "python3",
      "display_name": "Python 3"
    },
    "language_info": {
      "name": "python"
    },
    "widgets": {
      "application/vnd.jupyter.widget-state+json": {
        "6ed0b92245e14e7fb25ab1010fc96efc": {
          "model_module": "@jupyter-widgets/controls",
          "model_name": "HBoxModel",
          "model_module_version": "1.5.0",
          "state": {
            "_view_name": "HBoxView",
            "_dom_classes": [],
            "_model_name": "HBoxModel",
            "_view_module": "@jupyter-widgets/controls",
            "_model_module_version": "1.5.0",
            "_view_count": null,
            "_view_module_version": "1.5.0",
            "box_style": "",
            "layout": "IPY_MODEL_c9ce923665a04d6ab9514e7a47d7cffb",
            "_model_module": "@jupyter-widgets/controls",
            "children": [
              "IPY_MODEL_a1234777815545eb879d86dbdd007db7",
              "IPY_MODEL_70abe4ce19904b6785a9170bb87e4183",
              "IPY_MODEL_ed54ede036cd463fa3f3717318516447"
            ]
          }
        },
        "c9ce923665a04d6ab9514e7a47d7cffb": {
          "model_module": "@jupyter-widgets/base",
          "model_name": "LayoutModel",
          "model_module_version": "1.2.0",
          "state": {
            "_view_name": "LayoutView",
            "grid_template_rows": null,
            "right": null,
            "justify_content": null,
            "_view_module": "@jupyter-widgets/base",
            "overflow": null,
            "_model_module_version": "1.2.0",
            "_view_count": null,
            "flex_flow": null,
            "width": null,
            "min_width": null,
            "border": null,
            "align_items": null,
            "bottom": null,
            "_model_module": "@jupyter-widgets/base",
            "top": null,
            "grid_column": null,
            "overflow_y": null,
            "overflow_x": null,
            "grid_auto_flow": null,
            "grid_area": null,
            "grid_template_columns": null,
            "flex": null,
            "_model_name": "LayoutModel",
            "justify_items": null,
            "grid_row": null,
            "max_height": null,
            "align_content": null,
            "visibility": null,
            "align_self": null,
            "height": null,
            "min_height": null,
            "padding": null,
            "grid_auto_rows": null,
            "grid_gap": null,
            "max_width": null,
            "order": null,
            "_view_module_version": "1.2.0",
            "grid_template_areas": null,
            "object_position": null,
            "object_fit": null,
            "grid_auto_columns": null,
            "margin": null,
            "display": null,
            "left": null
          }
        },
        "a1234777815545eb879d86dbdd007db7": {
          "model_module": "@jupyter-widgets/controls",
          "model_name": "HTMLModel",
          "model_module_version": "1.5.0",
          "state": {
            "_view_name": "HTMLView",
            "style": "IPY_MODEL_c6457ac7f763487d994eda2a6b49c54b",
            "_dom_classes": [],
            "description": "",
            "_model_name": "HTMLModel",
            "placeholder": "​",
            "_view_module": "@jupyter-widgets/controls",
            "_model_module_version": "1.5.0",
            "value": "  0%",
            "_view_count": null,
            "_view_module_version": "1.5.0",
            "description_tooltip": null,
            "_model_module": "@jupyter-widgets/controls",
            "layout": "IPY_MODEL_12d1d8ea03c4447eaa29c701366e8618"
          }
        },
        "70abe4ce19904b6785a9170bb87e4183": {
          "model_module": "@jupyter-widgets/controls",
          "model_name": "FloatProgressModel",
          "model_module_version": "1.5.0",
          "state": {
            "_view_name": "ProgressView",
            "style": "IPY_MODEL_247d20b9089c482280cda04007558ca4",
            "_dom_classes": [],
            "description": "",
            "_model_name": "FloatProgressModel",
            "bar_style": "",
            "max": 100000,
            "_view_module": "@jupyter-widgets/controls",
            "_model_module_version": "1.5.0",
            "value": 4,
            "_view_count": null,
            "_view_module_version": "1.5.0",
            "orientation": "horizontal",
            "min": 0,
            "description_tooltip": null,
            "_model_module": "@jupyter-widgets/controls",
            "layout": "IPY_MODEL_e17111e5ed774cada93ffd8255d98c95"
          }
        },
        "ed54ede036cd463fa3f3717318516447": {
          "model_module": "@jupyter-widgets/controls",
          "model_name": "HTMLModel",
          "model_module_version": "1.5.0",
          "state": {
            "_view_name": "HTMLView",
            "style": "IPY_MODEL_c74587245a6e4dedaa7fc2951892bfe1",
            "_dom_classes": [],
            "description": "",
            "_model_name": "HTMLModel",
            "placeholder": "​",
            "_view_module": "@jupyter-widgets/controls",
            "_model_module_version": "1.5.0",
            "value": " 4/100000 [01:09&lt;468:23:05, 16.86s/it]",
            "_view_count": null,
            "_view_module_version": "1.5.0",
            "description_tooltip": null,
            "_model_module": "@jupyter-widgets/controls",
            "layout": "IPY_MODEL_7b87024509c44fa4ba33a70422b0907d"
          }
        },
        "c6457ac7f763487d994eda2a6b49c54b": {
          "model_module": "@jupyter-widgets/controls",
          "model_name": "DescriptionStyleModel",
          "model_module_version": "1.5.0",
          "state": {
            "_view_name": "StyleView",
            "_model_name": "DescriptionStyleModel",
            "description_width": "",
            "_view_module": "@jupyter-widgets/base",
            "_model_module_version": "1.5.0",
            "_view_count": null,
            "_view_module_version": "1.2.0",
            "_model_module": "@jupyter-widgets/controls"
          }
        },
        "12d1d8ea03c4447eaa29c701366e8618": {
          "model_module": "@jupyter-widgets/base",
          "model_name": "LayoutModel",
          "model_module_version": "1.2.0",
          "state": {
            "_view_name": "LayoutView",
            "grid_template_rows": null,
            "right": null,
            "justify_content": null,
            "_view_module": "@jupyter-widgets/base",
            "overflow": null,
            "_model_module_version": "1.2.0",
            "_view_count": null,
            "flex_flow": null,
            "width": null,
            "min_width": null,
            "border": null,
            "align_items": null,
            "bottom": null,
            "_model_module": "@jupyter-widgets/base",
            "top": null,
            "grid_column": null,
            "overflow_y": null,
            "overflow_x": null,
            "grid_auto_flow": null,
            "grid_area": null,
            "grid_template_columns": null,
            "flex": null,
            "_model_name": "LayoutModel",
            "justify_items": null,
            "grid_row": null,
            "max_height": null,
            "align_content": null,
            "visibility": null,
            "align_self": null,
            "height": null,
            "min_height": null,
            "padding": null,
            "grid_auto_rows": null,
            "grid_gap": null,
            "max_width": null,
            "order": null,
            "_view_module_version": "1.2.0",
            "grid_template_areas": null,
            "object_position": null,
            "object_fit": null,
            "grid_auto_columns": null,
            "margin": null,
            "display": null,
            "left": null
          }
        },
        "247d20b9089c482280cda04007558ca4": {
          "model_module": "@jupyter-widgets/controls",
          "model_name": "ProgressStyleModel",
          "model_module_version": "1.5.0",
          "state": {
            "_view_name": "StyleView",
            "_model_name": "ProgressStyleModel",
            "description_width": "",
            "_view_module": "@jupyter-widgets/base",
            "_model_module_version": "1.5.0",
            "_view_count": null,
            "_view_module_version": "1.2.0",
            "bar_color": null,
            "_model_module": "@jupyter-widgets/controls"
          }
        },
        "e17111e5ed774cada93ffd8255d98c95": {
          "model_module": "@jupyter-widgets/base",
          "model_name": "LayoutModel",
          "model_module_version": "1.2.0",
          "state": {
            "_view_name": "LayoutView",
            "grid_template_rows": null,
            "right": null,
            "justify_content": null,
            "_view_module": "@jupyter-widgets/base",
            "overflow": null,
            "_model_module_version": "1.2.0",
            "_view_count": null,
            "flex_flow": null,
            "width": null,
            "min_width": null,
            "border": null,
            "align_items": null,
            "bottom": null,
            "_model_module": "@jupyter-widgets/base",
            "top": null,
            "grid_column": null,
            "overflow_y": null,
            "overflow_x": null,
            "grid_auto_flow": null,
            "grid_area": null,
            "grid_template_columns": null,
            "flex": null,
            "_model_name": "LayoutModel",
            "justify_items": null,
            "grid_row": null,
            "max_height": null,
            "align_content": null,
            "visibility": null,
            "align_self": null,
            "height": null,
            "min_height": null,
            "padding": null,
            "grid_auto_rows": null,
            "grid_gap": null,
            "max_width": null,
            "order": null,
            "_view_module_version": "1.2.0",
            "grid_template_areas": null,
            "object_position": null,
            "object_fit": null,
            "grid_auto_columns": null,
            "margin": null,
            "display": null,
            "left": null
          }
        },
        "c74587245a6e4dedaa7fc2951892bfe1": {
          "model_module": "@jupyter-widgets/controls",
          "model_name": "DescriptionStyleModel",
          "model_module_version": "1.5.0",
          "state": {
            "_view_name": "StyleView",
            "_model_name": "DescriptionStyleModel",
            "description_width": "",
            "_view_module": "@jupyter-widgets/base",
            "_model_module_version": "1.5.0",
            "_view_count": null,
            "_view_module_version": "1.2.0",
            "_model_module": "@jupyter-widgets/controls"
          }
        },
        "7b87024509c44fa4ba33a70422b0907d": {
          "model_module": "@jupyter-widgets/base",
          "model_name": "LayoutModel",
          "model_module_version": "1.2.0",
          "state": {
            "_view_name": "LayoutView",
            "grid_template_rows": null,
            "right": null,
            "justify_content": null,
            "_view_module": "@jupyter-widgets/base",
            "overflow": null,
            "_model_module_version": "1.2.0",
            "_view_count": null,
            "flex_flow": null,
            "width": null,
            "min_width": null,
            "border": null,
            "align_items": null,
            "bottom": null,
            "_model_module": "@jupyter-widgets/base",
            "top": null,
            "grid_column": null,
            "overflow_y": null,
            "overflow_x": null,
            "grid_auto_flow": null,
            "grid_area": null,
            "grid_template_columns": null,
            "flex": null,
            "_model_name": "LayoutModel",
            "justify_items": null,
            "grid_row": null,
            "max_height": null,
            "align_content": null,
            "visibility": null,
            "align_self": null,
            "height": null,
            "min_height": null,
            "padding": null,
            "grid_auto_rows": null,
            "grid_gap": null,
            "max_width": null,
            "order": null,
            "_view_module_version": "1.2.0",
            "grid_template_areas": null,
            "object_position": null,
            "object_fit": null,
            "grid_auto_columns": null,
            "margin": null,
            "display": null,
            "left": null
          }
        }
      }
    }
  },
  "cells": [
    {
      "cell_type": "markdown",
      "metadata": {
        "id": "view-in-github",
        "colab_type": "text"
      },
      "source": [
        "<a href=\"https://colab.research.google.com/github/physicaone/loss_IG/blob/master/%5B211027%5DExact_training2.ipynb\" target=\"_parent\"><img src=\"https://colab.research.google.com/assets/colab-badge.svg\" alt=\"Open In Colab\"/></a>"
      ]
    },
    {
      "cell_type": "code",
      "metadata": {
        "id": "To4RcII2inSY",
        "colab": {
          "base_uri": "https://localhost:8080/"
        },
        "outputId": "d935a2b5-1b02-444e-bf67-46cf9f39ddea"
      },
      "source": [
        "import numpy as np\n",
        "import torch\n",
        "import torchvision.datasets\n",
        "import torchvision.models\n",
        "import torchvision.transforms\n",
        "import torch.optim as optim\n",
        "import torch.nn.functional as F\n",
        "from torchvision import datasets, transforms\n",
        "import torch.utils.data\n",
        "import torch.nn as nn\n",
        "from tqdm import tqdm, tnrange\n",
        "import warnings\n",
        "warnings.filterwarnings(\"ignore\")\n",
        "\n",
        "import pickle as pkl\n",
        "import pandas as pd\n",
        "from scipy.stats import entropy\n",
        "CUDA = torch.cuda.is_available()\n",
        "CUDA_DEVICE = 0\n",
        "if CUDA:\n",
        "    device='cuda:1'\n",
        "else:\n",
        "    device='cpu'\n",
        "torch.cuda.is_available()\n",
        "\n",
        "CUDA = torch.cuda.is_available()\n",
        "CUDA_DEVICE = 0\n",
        "try:\n",
        "    from google.colab import drive\n",
        "    drive.mount('/content/drive')\n",
        "    base='drive/MyDrive'\n",
        "except:\n",
        "    if torch.cuda.device_count()>1:\n",
        "        base='.'\n",
        "    else:\n",
        "        base='Google Drive'\n",
        "\n",
        "if CUDA:\n",
        "    device='cuda:1'\n",
        "else:\n",
        "    device='cpu'\n",
        "torch.cuda.is_available()\n"
      ],
      "execution_count": 1,
      "outputs": [
        {
          "output_type": "stream",
          "name": "stdout",
          "text": [
            "Mounted at /content/drive\n"
          ]
        },
        {
          "output_type": "execute_result",
          "data": {
            "text/plain": [
              "False"
            ]
          },
          "metadata": {},
          "execution_count": 1
        }
      ]
    },
    {
      "cell_type": "code",
      "metadata": {
        "id": "VPBnJ67MrIEn"
      },
      "source": [
        "\n",
        "def decimal_to_binary(integer, n_hid):\n",
        "    string=bin(int(integer))[2:]\n",
        "    list0=[float(d) for d in string]\n",
        "    while len(list0)<n_hid:\n",
        "        list0=[0.]+list0\n",
        "    return torch.tensor([list0])\n",
        "\n",
        "def Ising_energy(v_list):\n",
        "    L = 3\n",
        "    E_list=[]\n",
        "    for n in range(len(v_list)):\n",
        "        v=v_list[n]\n",
        "        E = 0\n",
        "        for i in range(L):\n",
        "            for j in range(L):\n",
        "                s = v[i,j]\n",
        "                neigh = v[(i+1)%L, j] + v[i,(j+1)%L] + v[(i-1)%L,j] + v[i,(j-1)%L] \n",
        "                E += -neigh * s\n",
        "        E_list.append(E/2)\n",
        "    return np.array(E_list)\n",
        "    \n",
        "class RBM(nn.Module):\n",
        "\n",
        "    def __init__(self, n_vis, n_hid, k):\n",
        "        \"\"\"Create a RBM.\"\"\"\n",
        "        super(RBM, self).__init__()\n",
        "        \n",
        "        self.v_bias = nn.Parameter(torch.ones(1, n_vis).to(device))\n",
        "        self.h_bias = nn.Parameter(torch.zeros(1, n_hid).to(device))\n",
        "        self.Weight = nn.Parameter(torch.randn(n_hid, n_vis).to(device))\n",
        "        self.k = k\n",
        "\n",
        "\n",
        "    def v2h(self, v):\n",
        "        return torch.sigmoid(F.linear(v, self.Weight, self.h_bias))\n",
        "\n",
        "    def h2v(self, h):\n",
        "        return torch.sigmoid(F.linear(h, self.Weight.t(), self.v_bias))\n",
        "    \n",
        "    def Fv(self, v):\n",
        "        v_term = torch.matmul(v, self.v_bias.t()).view(len(v))\n",
        "        h_term = torch.sum(F.softplus(F.linear(v, self.Weight, self.h_bias)), dim=1)\n",
        "        return -h_term -v_term\n",
        "\n",
        "    def energy(self, v, h):\n",
        "        v=v.bernoulli()\n",
        "        h=h.bernoulli()\n",
        "        return -torch.matmul(v, self.v_bias.t())-torch.matmul(torch.matmul(v, self.Weight.t()),h.t())-torch.matmul(h, self.h_bias.t())\n",
        "    \n",
        "    def Energy_GPU2(self, v_list0, h_list0):\n",
        "        m_split=2**12\n",
        "        n_split=2\n",
        "        e_list=[]\n",
        "        \n",
        "        for j in range(m_split):\n",
        "            v_list1=torch.stack(list(v_list0[j*int(len(v_list0)/m_split):(j+1)*int(len(v_list0)/m_split)]))\n",
        "            h_list1=torch.stack(list(h_list0[j*int(len(h_list0)/m_split):(j+1)*int(len(h_list0)/m_split)]))\n",
        "\n",
        "            a=self.v_bias.to(device).view(n_vis)\n",
        "            b=self.h_bias.to(device).view(n_hid)\n",
        "            W=self.Weight.to(device).view(n_hid, n_vis)\n",
        "            e=(-torch.matmul(v_list1.float(), a)-torch.diagonal(torch.matmul(torch.matmul(v_list1.float(), W.t()), h_list1.float().t()))-torch.matmul(h_list1.float(), b))\n",
        "            e_list.append(e)\n",
        "        return torch.stack(e_list).view(len(v_list0))\n",
        "    \n",
        "from torch.utils.data import Dataset\n",
        "\n",
        "class CustomDataset(Dataset): \n",
        "    def __init__(self, dataset):\n",
        "        data_x = dataset\n",
        "        self.x_data = data_x\n",
        "#         self.y_data = data_y\n",
        "\n",
        "    # 총 데이터의 개수를 리턴\n",
        "    def __len__(self): \n",
        "        return len(self.x_data)\n",
        "    # 인덱스를 입력받아 그에 맵핑되는 입출력 데이터를 파이토치의 Tensor 형태로 리턴\n",
        "    def __getitem__(self, idx): \n",
        "        x = torch.FloatTensor(self.x_data[idx])\n",
        "#         y = torch.FloatTensor([self.y_data[idx]])\n",
        "        return x\n",
        "\n",
        "def data_to_loader(fullconfigs):\n",
        "    fulldata=CustomDataset(fullconfigs)\n",
        "    full_dataset = fulldata\n",
        "    full_loader = torch.utils.data.DataLoader(full_dataset, batch_size)\n",
        "    return full_loader\n",
        "\n",
        "def train_and_get_data(n_hid, model, lr):\n",
        "    # 처음부터 모델을 훈련하려는 경우\n",
        "    if model==0:\n",
        "        rbm=RBM(n_vis, n_hid, k)\n",
        "    # 훈련된 모델을 이어서 훈련하려는 경우\n",
        "    else:\n",
        "        modela=RBM(n_vis=n_vis, n_hid=n_hid, k=1)\n",
        "        rbm=modela.load_state_dict(model)\n",
        "    train_loss_list=[]\n",
        "#     train_op = optim.Adam(rbm.parameters(), lr)\n",
        "    train_op = optim.SGD(rbm.parameters(), lr, momentum=0.9)\n",
        "    rbm.train()\n",
        "    train_loss_list=[]\n",
        "    for epoch in tnrange(n_epochs):\n",
        "        Fv=torch.dot(rbm.Fv(v_list_ising2), Pv)\n",
        "        F=-torch.log(torch.sum(torch.exp(-rbm.Energy_GPU2(v_list_rbm, h_list_rbm))))\n",
        "        train_loss = Fv-F\n",
        "        train_loss_list.append(float((train_loss-S).detach().cpu().numpy()))\n",
        "        train_op.zero_grad()\n",
        "        train_loss.backward()\n",
        "        train_op.step()\n",
        "        print(epoch, (Fv-F-S).detach().float())\n",
        "        if epoch>30 and train_loss_list[-1]>=train_loss_list[-30]and train_loss_list[-1]>=train_loss_list[-10]:\n",
        "            break\n",
        "        # if epoch>=50 and epoch%10==0:\n",
        "        #     with open('loss_n_hid={n_hid}_T={T}.pkl'.format(n_hid=n_hid, T=T), 'wb') as f:\n",
        "        #         pkl.dump(train_loss_list, f)\n",
        "        #     with open('model_n_hid={n_hid}_T={T}.pkl'.format(n_hid=n_hid, T=T), 'wb') as f:\n",
        "        #         pkl.dump(rbm.cpu(), f)\n",
        "    rbm=rbm.cpu()\n",
        "    return rbm.state_dict(), min(train_loss_list)\n"
      ],
      "execution_count": 21,
      "outputs": []
    },
    {
      "cell_type": "code",
      "metadata": {
        "id": "yu3QpRUBrIHD"
      },
      "source": [
        "# Hyper parameter들을 설정\n",
        "n_vis=9\n",
        "k=1\n",
        "n_epochs=100000\n",
        "lr=0.1\n",
        "    \n"
      ],
      "execution_count": 22,
      "outputs": []
    },
    {
      "cell_type": "code",
      "metadata": {
        "id": "50vRcy9OrIJJ",
        "colab": {
          "base_uri": "https://localhost:8080/",
          "height": 113,
          "referenced_widgets": [
            "6ed0b92245e14e7fb25ab1010fc96efc",
            "c9ce923665a04d6ab9514e7a47d7cffb",
            "a1234777815545eb879d86dbdd007db7",
            "70abe4ce19904b6785a9170bb87e4183",
            "ed54ede036cd463fa3f3717318516447",
            "c6457ac7f763487d994eda2a6b49c54b",
            "12d1d8ea03c4447eaa29c701366e8618",
            "247d20b9089c482280cda04007558ca4",
            "e17111e5ed774cada93ffd8255d98c95",
            "c74587245a6e4dedaa7fc2951892bfe1",
            "7b87024509c44fa4ba33a70422b0907d"
          ]
        },
        "outputId": "8c7bfb19-f2e0-4916-ac18-bbf8fd05c629"
      },
      "source": [
        "\n",
        "torch.set_printoptions(precision=10)\n",
        "for n_hid in [12]:\n",
        "    # v_list_rbm=[]; h_list_rbm=[]\n",
        "    # for s in tqdm(range(2**(n_vis+n_hid))):\n",
        "    #     full=decimal_to_binary(s, n_hid+n_vis)[0]\n",
        "    #     v=full[:n_vis]; h=full[-n_hid:]\n",
        "    #     v_list_rbm.append(v); h_list_rbm.append(h)\n",
        "    # v_list_rbm=torch.stack(v_list_rbm).to(device)\n",
        "    # h_list_rbm=torch.stack(h_list_rbm).to(device)\n",
        "\n",
        "    # v_list_ising=[]\n",
        "    # v_list_ising2=[]\n",
        "    # for s in range(2**n_vis):\n",
        "    #     v=decimal_to_binary(s, n_vis)[0]\n",
        "    #     v_list_ising.append(np.reshape(v,(3,3))*2-1)\n",
        "    #     v_list_ising2.append(v)\n",
        "    # v_list_ising2=torch.stack(v_list_ising2).to(device)        \n",
        "    for T in [1.9,3.6,16]:\n",
        "        bf_list=np.exp(-Ising_energy(v_list_ising)/T)\n",
        "        S=entropy(bf_list)\n",
        "        Pv=torch.tensor(bf_list/sum(bf_list)).to(device)\n",
        "\n",
        "        model_dict={}\n",
        "        error_dict={}\n",
        "        for m in range(10):\n",
        "            model0, loss=train_and_get_data(n_hid, 0, lr=0.1)\n",
        "            model_dict[str(m)]=model0\n",
        "            error_dict[str(m)]=loss\n",
        "        with open('{base}/loss_IG/3*3/Exact_state_dict/model_n_hid={n_hid}_T={T}.pkl'.format(base=base, n_hid=n_hid, T=T), 'wb') as f:\n",
        "            pkl.dump(model_dict, f)\n",
        "        with open('{base}/loss_IG/3*3/Exact_error/error_n_hid={n_hid}_T={T}.pkl'.format(base=base, n_hid=n_hid, T=T), 'wb') as f:\n",
        "            pkl.dump(error_dict, f)\n",
        "        # with open('model_n_hid={n_hid}_T={T}.pkl'.format(n_hid=n_hid, T=T), 'wb') as f:\n",
        "        #     pkl.dump(model0, f)"
      ],
      "execution_count": null,
      "outputs": [
        {
          "output_type": "display_data",
          "data": {
            "application/vnd.jupyter.widget-view+json": {
              "model_id": "6ed0b92245e14e7fb25ab1010fc96efc",
              "version_minor": 0,
              "version_major": 2
            },
            "text/plain": [
              "  0%|          | 0/100000 [00:00<?, ?it/s]"
            ]
          },
          "metadata": {}
        },
        {
          "output_type": "stream",
          "name": "stdout",
          "text": [
            "0 tensor(9.9599847794)\n",
            "1 tensor(9.0102663040)\n",
            "2 tensor(7.4924507141)\n",
            "3 tensor(6.0172071457)\n"
          ]
        }
      ]
    },
    {
      "cell_type": "code",
      "metadata": {
        "id": "JmAyM95srILa"
      },
      "source": [
        ""
      ],
      "execution_count": null,
      "outputs": []
    },
    {
      "cell_type": "code",
      "metadata": {
        "id": "ez8KMmdjrIN4"
      },
      "source": [
        ""
      ],
      "execution_count": null,
      "outputs": []
    },
    {
      "cell_type": "code",
      "metadata": {
        "id": "xj2w9Zo2rIP7"
      },
      "source": [
        ""
      ],
      "execution_count": null,
      "outputs": []
    },
    {
      "cell_type": "code",
      "metadata": {
        "id": "5kx-P8t9rISQ"
      },
      "source": [
        ""
      ],
      "execution_count": null,
      "outputs": []
    },
    {
      "cell_type": "code",
      "metadata": {
        "id": "6TEBRS4arIUQ"
      },
      "source": [
        ""
      ],
      "execution_count": null,
      "outputs": []
    }
  ]
}