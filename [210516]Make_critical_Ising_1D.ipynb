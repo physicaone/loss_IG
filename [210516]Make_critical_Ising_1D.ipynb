{
  "nbformat": 4,
  "nbformat_minor": 0,
  "metadata": {
    "colab": {
      "name": "Copy of [210516]Make_critical_Ising.ipynb",
      "provenance": [],
      "collapsed_sections": [],
      "include_colab_link": true
    },
    "kernelspec": {
      "display_name": "Python 3",
      "language": "python",
      "name": "python3"
    },
    "language_info": {
      "codemirror_mode": {
        "name": "ipython",
        "version": 3
      },
      "file_extension": ".py",
      "mimetype": "text/x-python",
      "name": "python",
      "nbconvert_exporter": "python",
      "pygments_lexer": "ipython3",
      "version": "3.7.4"
    }
  },
  "cells": [
    {
      "cell_type": "markdown",
      "metadata": {
        "id": "view-in-github",
        "colab_type": "text"
      },
      "source": [
        "<a href=\"https://colab.research.google.com/github/physicaone/loss_IG/blob/master/%5B210516%5DMake_critical_Ising_1D.ipynb\" target=\"_parent\"><img src=\"https://colab.research.google.com/assets/colab-badge.svg\" alt=\"Open In Colab\"/></a>"
      ]
    },
    {
      "cell_type": "code",
      "metadata": {
        "id": "PGYqwLBFNBWv"
      },
      "source": [
        "try:\n",
        "    from google.colab import drive\n",
        "    drive.mount('/content/drive')\n",
        "    base='drive/MyDrive'\n",
        "except:\n",
        "    base='Google Drive'"
      ],
      "execution_count": 81,
      "outputs": []
    },
    {
      "cell_type": "code",
      "metadata": {
        "id": "_Q3azp80BKMv"
      },
      "source": [
        "import numpy as np\n",
        "import matplotlib.pyplot as plt\n",
        "import time\n",
        "from tqdm import tqdm, tnrange\n",
        "import pickle as pkl\n",
        "import random"
      ],
      "execution_count": 80,
      "outputs": []
    },
    {
      "cell_type": "code",
      "metadata": {
        "id": "229a1bR3ManW"
      },
      "source": [
        "def Ising_model(config, T, n0, n_delta, n_sample):\n",
        "    #n0는 equlibrium에 도달하는데 걸리는 시간\n",
        "    #n_delta는 correlation이 줄어드는데 걸리는 시간\n",
        "    #n_sample은 sampling하고 싶어은 샘플의 숫자\n",
        "    L = len(config)\n",
        "    samples=[]\n",
        "    equil,count=0,0\n",
        "    #alpha\n",
        "    sampled=0 #샘플링된 샘플들의 숫자를 셉니다. \n",
        "    while sampled < n_sample: #원하는 갯수만큼 sampling을 해야 하므로 이 부분은 while문이 와야 합니다.\n",
        "        if equil < n0: #equilibrium에 도달할 때까지는 샘플을 수집해서는 안됩니다. \n",
        "            for i in range(L):\n",
        "                s = config[i]\n",
        "                neigh=config[(i+1)%L]+config[(i-1)%L] \n",
        "                DE = 2 * s * neigh \n",
        "\n",
        "                if DE < 0:\n",
        "                    s *= -1 \n",
        "                elif np.random.rand() < np.exp(- DE*1/T):\n",
        "                    s *= -1 \n",
        "                config[i] = s\n",
        "            equil += 1;\n",
        "\n",
        "        else: #이제는 sample을 수집해도 됩니다.\n",
        "            x = np.random.randint(L)\n",
        "            s = config[x]  \n",
        "            neigh=config[(x+1)%L]+config[(x-1)%L] \n",
        "            DE = 2 * s * neigh \n",
        "\n",
        "            #accept or reject \n",
        "            if DE < 0:\n",
        "                s *= -1 \n",
        "\n",
        "            elif np.random.rand() < np.exp(- DE*1/T):\n",
        "                s *= -1 \n",
        "\n",
        "            config[x] = s\n",
        "            count += 1;\n",
        "            equil+=1; #이건 굳이 없어도 됩니다. \n",
        "            if count == n_delta: #correlation이 큰 샘플은 버려야 합니다. 따라서 n_delta라는 step차이를 두고 sampling을 해야 합니다.\n",
        "                count = 0;\n",
        "                a=config.copy()\n",
        "                samples.append(np.float32(np.reshape(a,(1,L))+1)/2)\n",
        "                #beta\n",
        "                sampled+=1; \n",
        "                \n",
        "    return samples"
      ],
      "execution_count": 18,
      "outputs": []
    },
    {
      "cell_type": "code",
      "metadata": {
        "id": "klu2dJYtMap_"
      },
      "source": [
        "L=9\n",
        "config1 = - np.ones((L))\n",
        "\n",
        "\n",
        "\n",
        "\n",
        "n0 = 2000\n",
        "n_delta = 50\n",
        "n_sample=51200\n",
        "mcmax = n_sample+n0\n"
      ],
      "execution_count": 75,
      "outputs": []
    },
    {
      "cell_type": "code",
      "metadata": {
        "id": "eOFVvVMYMi67"
      },
      "source": [
        "for T in [1.9,3.6,16]:\n",
        "    list0=[]\n",
        "    for i in tnrange(10):\n",
        "        lat = Ising_model(config1, T, n0, n_delta, n_sample)\n",
        "        random.shuffle(lat)\n",
        "        random.shuffle(lat)\n",
        "        list0.append(lat)\n",
        "    with open('{base}/loss_IG/9*1/9*1_full_T={T}.pkl'.format(base=base, T=T), 'wb') as f:\n",
        "        pkl.dump(list0, f)"
      ],
      "execution_count": null,
      "outputs": []
    },
    {
      "cell_type": "code",
      "source": [
        ""
      ],
      "metadata": {
        "id": "9pE2knL7N8Ap"
      },
      "execution_count": null,
      "outputs": []
    },
    {
      "cell_type": "code",
      "source": [
        ""
      ],
      "metadata": {
        "id": "v_5egBqhN8C7"
      },
      "execution_count": null,
      "outputs": []
    }
  ]
}