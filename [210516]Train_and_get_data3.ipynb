{
  "nbformat": 4,
  "nbformat_minor": 0,
  "metadata": {
    "colab": {
      "name": "Copy of [210516]Train_and_get_data.ipynb",
      "provenance": [],
      "collapsed_sections": [],
      "machine_shape": "hm",
      "authorship_tag": "ABX9TyNXCO/2HLqVlljL9yeohRio",
      "include_colab_link": true
    },
    "kernelspec": {
      "name": "python3",
      "display_name": "Python 3"
    },
    "language_info": {
      "name": "python"
    },
    "accelerator": "GPU",
    "widgets": {
      "application/vnd.jupyter.widget-state+json": {
        "26526a6e8b244ccf8ab74e28bccc29fa": {
          "model_module": "@jupyter-widgets/controls",
          "model_name": "HBoxModel",
          "state": {
            "_view_name": "HBoxView",
            "_dom_classes": [],
            "_model_name": "HBoxModel",
            "_view_module": "@jupyter-widgets/controls",
            "_model_module_version": "1.5.0",
            "_view_count": null,
            "_view_module_version": "1.5.0",
            "box_style": "",
            "layout": "IPY_MODEL_4f13201436724d7887e796ca3f1ca1c8",
            "_model_module": "@jupyter-widgets/controls",
            "children": [
              "IPY_MODEL_d2b69c7c98f749e38573cc49df653685",
              "IPY_MODEL_b2ccfcdcf3a240e1b6281ffbac66f36f"
            ]
          }
        },
        "4f13201436724d7887e796ca3f1ca1c8": {
          "model_module": "@jupyter-widgets/base",
          "model_name": "LayoutModel",
          "state": {
            "_view_name": "LayoutView",
            "grid_template_rows": null,
            "right": null,
            "justify_content": null,
            "_view_module": "@jupyter-widgets/base",
            "overflow": null,
            "_model_module_version": "1.2.0",
            "_view_count": null,
            "flex_flow": null,
            "width": null,
            "min_width": null,
            "border": null,
            "align_items": null,
            "bottom": null,
            "_model_module": "@jupyter-widgets/base",
            "top": null,
            "grid_column": null,
            "overflow_y": null,
            "overflow_x": null,
            "grid_auto_flow": null,
            "grid_area": null,
            "grid_template_columns": null,
            "flex": null,
            "_model_name": "LayoutModel",
            "justify_items": null,
            "grid_row": null,
            "max_height": null,
            "align_content": null,
            "visibility": null,
            "align_self": null,
            "height": null,
            "min_height": null,
            "padding": null,
            "grid_auto_rows": null,
            "grid_gap": null,
            "max_width": null,
            "order": null,
            "_view_module_version": "1.2.0",
            "grid_template_areas": null,
            "object_position": null,
            "object_fit": null,
            "grid_auto_columns": null,
            "margin": null,
            "display": null,
            "left": null
          }
        },
        "d2b69c7c98f749e38573cc49df653685": {
          "model_module": "@jupyter-widgets/controls",
          "model_name": "FloatProgressModel",
          "state": {
            "_view_name": "ProgressView",
            "style": "IPY_MODEL_8c35b0d6c45f4587a59ebf4e930aefaa",
            "_dom_classes": [],
            "description": "  0%",
            "_model_name": "FloatProgressModel",
            "bar_style": "",
            "max": 10,
            "_view_module": "@jupyter-widgets/controls",
            "_model_module_version": "1.5.0",
            "value": 0,
            "_view_count": null,
            "_view_module_version": "1.5.0",
            "orientation": "horizontal",
            "min": 0,
            "description_tooltip": null,
            "_model_module": "@jupyter-widgets/controls",
            "layout": "IPY_MODEL_2bebc86ef288455ab47bc179c34f88c8"
          }
        },
        "b2ccfcdcf3a240e1b6281ffbac66f36f": {
          "model_module": "@jupyter-widgets/controls",
          "model_name": "HTMLModel",
          "state": {
            "_view_name": "HTMLView",
            "style": "IPY_MODEL_5a6c59a0715a4b818fe9f7bf0e7994e6",
            "_dom_classes": [],
            "description": "",
            "_model_name": "HTMLModel",
            "placeholder": "​",
            "_view_module": "@jupyter-widgets/controls",
            "_model_module_version": "1.5.0",
            "value": " 0/10 [00:00&lt;?, ?it/s]",
            "_view_count": null,
            "_view_module_version": "1.5.0",
            "description_tooltip": null,
            "_model_module": "@jupyter-widgets/controls",
            "layout": "IPY_MODEL_b43f0dd03dfb49edb62b8d2c5986f452"
          }
        },
        "8c35b0d6c45f4587a59ebf4e930aefaa": {
          "model_module": "@jupyter-widgets/controls",
          "model_name": "ProgressStyleModel",
          "state": {
            "_view_name": "StyleView",
            "_model_name": "ProgressStyleModel",
            "description_width": "initial",
            "_view_module": "@jupyter-widgets/base",
            "_model_module_version": "1.5.0",
            "_view_count": null,
            "_view_module_version": "1.2.0",
            "bar_color": null,
            "_model_module": "@jupyter-widgets/controls"
          }
        },
        "2bebc86ef288455ab47bc179c34f88c8": {
          "model_module": "@jupyter-widgets/base",
          "model_name": "LayoutModel",
          "state": {
            "_view_name": "LayoutView",
            "grid_template_rows": null,
            "right": null,
            "justify_content": null,
            "_view_module": "@jupyter-widgets/base",
            "overflow": null,
            "_model_module_version": "1.2.0",
            "_view_count": null,
            "flex_flow": null,
            "width": null,
            "min_width": null,
            "border": null,
            "align_items": null,
            "bottom": null,
            "_model_module": "@jupyter-widgets/base",
            "top": null,
            "grid_column": null,
            "overflow_y": null,
            "overflow_x": null,
            "grid_auto_flow": null,
            "grid_area": null,
            "grid_template_columns": null,
            "flex": null,
            "_model_name": "LayoutModel",
            "justify_items": null,
            "grid_row": null,
            "max_height": null,
            "align_content": null,
            "visibility": null,
            "align_self": null,
            "height": null,
            "min_height": null,
            "padding": null,
            "grid_auto_rows": null,
            "grid_gap": null,
            "max_width": null,
            "order": null,
            "_view_module_version": "1.2.0",
            "grid_template_areas": null,
            "object_position": null,
            "object_fit": null,
            "grid_auto_columns": null,
            "margin": null,
            "display": null,
            "left": null
          }
        },
        "5a6c59a0715a4b818fe9f7bf0e7994e6": {
          "model_module": "@jupyter-widgets/controls",
          "model_name": "DescriptionStyleModel",
          "state": {
            "_view_name": "StyleView",
            "_model_name": "DescriptionStyleModel",
            "description_width": "",
            "_view_module": "@jupyter-widgets/base",
            "_model_module_version": "1.5.0",
            "_view_count": null,
            "_view_module_version": "1.2.0",
            "_model_module": "@jupyter-widgets/controls"
          }
        },
        "b43f0dd03dfb49edb62b8d2c5986f452": {
          "model_module": "@jupyter-widgets/base",
          "model_name": "LayoutModel",
          "state": {
            "_view_name": "LayoutView",
            "grid_template_rows": null,
            "right": null,
            "justify_content": null,
            "_view_module": "@jupyter-widgets/base",
            "overflow": null,
            "_model_module_version": "1.2.0",
            "_view_count": null,
            "flex_flow": null,
            "width": null,
            "min_width": null,
            "border": null,
            "align_items": null,
            "bottom": null,
            "_model_module": "@jupyter-widgets/base",
            "top": null,
            "grid_column": null,
            "overflow_y": null,
            "overflow_x": null,
            "grid_auto_flow": null,
            "grid_area": null,
            "grid_template_columns": null,
            "flex": null,
            "_model_name": "LayoutModel",
            "justify_items": null,
            "grid_row": null,
            "max_height": null,
            "align_content": null,
            "visibility": null,
            "align_self": null,
            "height": null,
            "min_height": null,
            "padding": null,
            "grid_auto_rows": null,
            "grid_gap": null,
            "max_width": null,
            "order": null,
            "_view_module_version": "1.2.0",
            "grid_template_areas": null,
            "object_position": null,
            "object_fit": null,
            "grid_auto_columns": null,
            "margin": null,
            "display": null,
            "left": null
          }
        },
        "6031126af0b54fc6b95d85e0791dd5a7": {
          "model_module": "@jupyter-widgets/controls",
          "model_name": "HBoxModel",
          "state": {
            "_view_name": "HBoxView",
            "_dom_classes": [],
            "_model_name": "HBoxModel",
            "_view_module": "@jupyter-widgets/controls",
            "_model_module_version": "1.5.0",
            "_view_count": null,
            "_view_module_version": "1.5.0",
            "box_style": "",
            "layout": "IPY_MODEL_62363a0582a54be391a2df27b9df12a5",
            "_model_module": "@jupyter-widgets/controls",
            "children": [
              "IPY_MODEL_fdb028ea58a24fbfae145cac9cbf984a",
              "IPY_MODEL_469d9c18c6c048149a7f4501a192e2f3"
            ]
          }
        },
        "62363a0582a54be391a2df27b9df12a5": {
          "model_module": "@jupyter-widgets/base",
          "model_name": "LayoutModel",
          "state": {
            "_view_name": "LayoutView",
            "grid_template_rows": null,
            "right": null,
            "justify_content": null,
            "_view_module": "@jupyter-widgets/base",
            "overflow": null,
            "_model_module_version": "1.2.0",
            "_view_count": null,
            "flex_flow": null,
            "width": null,
            "min_width": null,
            "border": null,
            "align_items": null,
            "bottom": null,
            "_model_module": "@jupyter-widgets/base",
            "top": null,
            "grid_column": null,
            "overflow_y": null,
            "overflow_x": null,
            "grid_auto_flow": null,
            "grid_area": null,
            "grid_template_columns": null,
            "flex": null,
            "_model_name": "LayoutModel",
            "justify_items": null,
            "grid_row": null,
            "max_height": null,
            "align_content": null,
            "visibility": null,
            "align_self": null,
            "height": null,
            "min_height": null,
            "padding": null,
            "grid_auto_rows": null,
            "grid_gap": null,
            "max_width": null,
            "order": null,
            "_view_module_version": "1.2.0",
            "grid_template_areas": null,
            "object_position": null,
            "object_fit": null,
            "grid_auto_columns": null,
            "margin": null,
            "display": null,
            "left": null
          }
        },
        "fdb028ea58a24fbfae145cac9cbf984a": {
          "model_module": "@jupyter-widgets/controls",
          "model_name": "FloatProgressModel",
          "state": {
            "_view_name": "ProgressView",
            "style": "IPY_MODEL_2dd2f830147c439d91891639ee2c778f",
            "_dom_classes": [],
            "description": " 10%",
            "_model_name": "FloatProgressModel",
            "bar_style": "",
            "max": 300,
            "_view_module": "@jupyter-widgets/controls",
            "_model_module_version": "1.5.0",
            "value": 30,
            "_view_count": null,
            "_view_module_version": "1.5.0",
            "orientation": "horizontal",
            "min": 0,
            "description_tooltip": null,
            "_model_module": "@jupyter-widgets/controls",
            "layout": "IPY_MODEL_e98b1d7812484e56b810f34be015d34e"
          }
        },
        "469d9c18c6c048149a7f4501a192e2f3": {
          "model_module": "@jupyter-widgets/controls",
          "model_name": "HTMLModel",
          "state": {
            "_view_name": "HTMLView",
            "style": "IPY_MODEL_69fd7f43817c4cf9bd7a96ed9a4231bc",
            "_dom_classes": [],
            "description": "",
            "_model_name": "HTMLModel",
            "placeholder": "​",
            "_view_module": "@jupyter-widgets/controls",
            "_model_module_version": "1.5.0",
            "value": " 30/300 [00:20&lt;03:05,  1.45it/s]",
            "_view_count": null,
            "_view_module_version": "1.5.0",
            "description_tooltip": null,
            "_model_module": "@jupyter-widgets/controls",
            "layout": "IPY_MODEL_c3c534e941664bedae5a4673eb72166d"
          }
        },
        "2dd2f830147c439d91891639ee2c778f": {
          "model_module": "@jupyter-widgets/controls",
          "model_name": "ProgressStyleModel",
          "state": {
            "_view_name": "StyleView",
            "_model_name": "ProgressStyleModel",
            "description_width": "initial",
            "_view_module": "@jupyter-widgets/base",
            "_model_module_version": "1.5.0",
            "_view_count": null,
            "_view_module_version": "1.2.0",
            "bar_color": null,
            "_model_module": "@jupyter-widgets/controls"
          }
        },
        "e98b1d7812484e56b810f34be015d34e": {
          "model_module": "@jupyter-widgets/base",
          "model_name": "LayoutModel",
          "state": {
            "_view_name": "LayoutView",
            "grid_template_rows": null,
            "right": null,
            "justify_content": null,
            "_view_module": "@jupyter-widgets/base",
            "overflow": null,
            "_model_module_version": "1.2.0",
            "_view_count": null,
            "flex_flow": null,
            "width": null,
            "min_width": null,
            "border": null,
            "align_items": null,
            "bottom": null,
            "_model_module": "@jupyter-widgets/base",
            "top": null,
            "grid_column": null,
            "overflow_y": null,
            "overflow_x": null,
            "grid_auto_flow": null,
            "grid_area": null,
            "grid_template_columns": null,
            "flex": null,
            "_model_name": "LayoutModel",
            "justify_items": null,
            "grid_row": null,
            "max_height": null,
            "align_content": null,
            "visibility": null,
            "align_self": null,
            "height": null,
            "min_height": null,
            "padding": null,
            "grid_auto_rows": null,
            "grid_gap": null,
            "max_width": null,
            "order": null,
            "_view_module_version": "1.2.0",
            "grid_template_areas": null,
            "object_position": null,
            "object_fit": null,
            "grid_auto_columns": null,
            "margin": null,
            "display": null,
            "left": null
          }
        },
        "69fd7f43817c4cf9bd7a96ed9a4231bc": {
          "model_module": "@jupyter-widgets/controls",
          "model_name": "DescriptionStyleModel",
          "state": {
            "_view_name": "StyleView",
            "_model_name": "DescriptionStyleModel",
            "description_width": "",
            "_view_module": "@jupyter-widgets/base",
            "_model_module_version": "1.5.0",
            "_view_count": null,
            "_view_module_version": "1.2.0",
            "_model_module": "@jupyter-widgets/controls"
          }
        },
        "c3c534e941664bedae5a4673eb72166d": {
          "model_module": "@jupyter-widgets/base",
          "model_name": "LayoutModel",
          "state": {
            "_view_name": "LayoutView",
            "grid_template_rows": null,
            "right": null,
            "justify_content": null,
            "_view_module": "@jupyter-widgets/base",
            "overflow": null,
            "_model_module_version": "1.2.0",
            "_view_count": null,
            "flex_flow": null,
            "width": null,
            "min_width": null,
            "border": null,
            "align_items": null,
            "bottom": null,
            "_model_module": "@jupyter-widgets/base",
            "top": null,
            "grid_column": null,
            "overflow_y": null,
            "overflow_x": null,
            "grid_auto_flow": null,
            "grid_area": null,
            "grid_template_columns": null,
            "flex": null,
            "_model_name": "LayoutModel",
            "justify_items": null,
            "grid_row": null,
            "max_height": null,
            "align_content": null,
            "visibility": null,
            "align_self": null,
            "height": null,
            "min_height": null,
            "padding": null,
            "grid_auto_rows": null,
            "grid_gap": null,
            "max_width": null,
            "order": null,
            "_view_module_version": "1.2.0",
            "grid_template_areas": null,
            "object_position": null,
            "object_fit": null,
            "grid_auto_columns": null,
            "margin": null,
            "display": null,
            "left": null
          }
        }
      }
    }
  },
  "cells": [
    {
      "cell_type": "markdown",
      "metadata": {
        "id": "view-in-github",
        "colab_type": "text"
      },
      "source": [
        "<a href=\"https://colab.research.google.com/github/physicaone/loss_IG/blob/master/%5B210516%5DTrain_and_get_data3.ipynb\" target=\"_parent\"><img src=\"https://colab.research.google.com/assets/colab-badge.svg\" alt=\"Open In Colab\"/></a>"
      ]
    },
    {
      "cell_type": "code",
      "metadata": {
        "colab": {
          "base_uri": "https://localhost:8080/"
        },
        "id": "MNNY-OapKZ1e",
        "outputId": "5f1f4f8d-32fd-4fd0-ba3c-c701068b4d78"
      },
      "source": [
        "try:\n",
        "    from google.colab import drive\n",
        "    drive.mount('/content/drive')\n",
        "    base='drive/MyDrive'\n",
        "except:\n",
        "    base='Google Drive'"
      ],
      "execution_count": 14,
      "outputs": [
        {
          "output_type": "stream",
          "text": [
            "Drive already mounted at /content/drive; to attempt to forcibly remount, call drive.mount(\"/content/drive\", force_remount=True).\n"
          ],
          "name": "stdout"
        }
      ]
    },
    {
      "cell_type": "code",
      "metadata": {
        "id": "8WwA1oZ9JxYF"
      },
      "source": [
        "import numpy as np\n",
        "import torch\n",
        "import torchvision.datasets\n",
        "import torchvision.models\n",
        "import torchvision.transforms\n",
        "import torch.optim as optim\n",
        "import torch.nn.functional as F\n",
        "from torchvision import datasets, transforms\n",
        "from torchvision.utils import make_grid\n",
        "import torch.utils.data\n",
        "import torch.nn as nn\n",
        "from datetime import datetime\n",
        "from tqdm import tqdm, tnrange\n",
        "import warnings\n",
        "warnings.filterwarnings(\"ignore\")\n",
        "\n",
        "import random\n",
        "import pickle as pkl\n",
        "import pandas as pd\n",
        "import matplotlib.pyplot as plt\n",
        "import matplotlib.gridspec as gridspec\n",
        "%matplotlib inline\n",
        "# np.seterr(divide='ignore', invalid='ignore')\n",
        "import itertools\n",
        "import re\n",
        "from time import sleep"
      ],
      "execution_count": 15,
      "outputs": []
    },
    {
      "cell_type": "code",
      "metadata": {
        "id": "iq4s_-a3KJnN"
      },
      "source": [
        "class RBM(nn.Module):\n",
        "\n",
        "    def __init__(self, n_vis, n_hid, k, use_cuda):\n",
        "        \"\"\"Create a RBM.\"\"\"\n",
        "        super(RBM, self).__init__()\n",
        "        \n",
        "        if use_cuda==True:\n",
        "            self.v = nn.Parameter(torch.ones(1, n_vis).cuda())\n",
        "            self.h = nn.Parameter(torch.zeros(1, n_hid).cuda())\n",
        "            self.W = nn.Parameter(torch.randn(n_hid, n_vis).cuda())\n",
        "            self.k = k\n",
        "        else:\n",
        "            self.v = nn.Parameter(torch.ones(1, n_vis))\n",
        "            self.h = nn.Parameter(torch.zeros(1, n_hid))\n",
        "            self.W = nn.Parameter(torch.randn(n_hid, n_vis))\n",
        "            self.k = k     \n",
        "\n",
        "    def visible_to_hidden(self, v, beta):\n",
        "        return torch.sigmoid(F.linear(v, self.W, self.h)*beta)\n",
        "\n",
        "    def hidden_to_visible(self, h, beta):\n",
        "        return torch.sigmoid(F.linear(h, self.W.t(), self.v)*beta)\n",
        "\n",
        "    def free_energy(self, v):\n",
        "        v_term = torch.matmul(v, self.v.t())\n",
        "        w_x_h = F.linear(v, self.W, self.h)\n",
        "        h_term = torch.sum(F.softplus(w_x_h), dim=1)\n",
        "        return torch.mean(-h_term - v_term)\n",
        "    \n",
        "    def energy(self, v):\n",
        "        v=v.bernoulli()\n",
        "        h=torch.sigmoid(F.linear(v, self.W, self.h))\n",
        "        h=h.bernoulli()\n",
        "        return -torch.matmul(v, self.v.t())-torch.matmul(torch.matmul(v, self.W.t()),h.t())-torch.matmul(h, self.h.t())\n",
        "    \n",
        "    def energy2(self, v, h):\n",
        "        v=v.bernoulli()\n",
        "        h=h.bernoulli()\n",
        "        return -torch.matmul(v, self.v.t())-torch.matmul(torch.matmul(v, self.W.t()),h.t())-torch.matmul(h, self.h.t())\n",
        "\n",
        "    def forward(self, v):\n",
        "        h = self.visible_to_hidden(v,1)\n",
        "        h = h.bernoulli()\n",
        "        for _ in range(self.k):\n",
        "            v_gibb = self.hidden_to_visible(h,1).to(device)\n",
        "            v_gibb = v_gibb.bernoulli()\n",
        "            h = self.visible_to_hidden(v_gibb, 1).to(device)\n",
        "            h = h.bernoulli()\n",
        "        return v, v_gibb"
      ],
      "execution_count": 16,
      "outputs": []
    },
    {
      "cell_type": "code",
      "metadata": {
        "id": "Oeoe_rFeJz3M"
      },
      "source": [
        "\n",
        "def decimal_to_binary(integer):\n",
        "    string=bin(integer)[2:]\n",
        "    list0=[float(d) for d in string]\n",
        "    while len(list0)<n_hid:\n",
        "        list0=[0.]+list0\n",
        "    return torch.tensor([list0])\n",
        "\n",
        "def binary_to_decimal(list0):\n",
        "    value=0\n",
        "    for i in range(len(list0)):\n",
        "        value+=list0[-i-1]*2**(i)\n",
        "    return value\n"
      ],
      "execution_count": 17,
      "outputs": []
    },
    {
      "cell_type": "code",
      "metadata": {
        "id": "4OtodR59Jz50"
      },
      "source": [
        "# #Create infinite and zero T\n",
        "# n_hid=9\n",
        "# fullconfigs=[]\n",
        "# for i in range(512):\n",
        "#     for j in range(10):\n",
        "#         fullconfigs.append(decimal_to_binary(i).detach().numpy())\n",
        "# random.shuffle(fullconfigs)\n",
        "# with open('{base}/loss_IG/3*3/3*3_inf_full.pkl'.format(base=base), 'wb') as f:\n",
        "#     pkl.dump(fullconfigs, f)\n",
        "\n",
        "\n",
        "# fullconfigs=[]\n",
        "# for i in range(int(2**16/2)-16):\n",
        "#     fullconfigs.append(decimal_to_binary(0).detach().numpy())\n",
        "#     fullconfigs.append(decimal_to_binary(2**16-1).detach().numpy())\n",
        "# for i in range(9):\n",
        "#     fullconfigs.append(decimal_to_binary(2**i).detach().numpy())\n",
        "#     fullconfigs.append(decimal_to_binary(2**16-1-2**i).detach().numpy())\n",
        "# subconfigs=[]\n",
        "# for i in range(2984):\n",
        "#     subconfigs.append(decimal_to_binary(0).detach().numpy())\n",
        "#     subconfigs.append(decimal_to_binary(2**16-1).detach().numpy())\n",
        "# for i in range(9):\n",
        "#     subconfigs.append(decimal_to_binary(2**i).detach().numpy())\n",
        "#     subconfigs.append(decimal_to_binary(2**16-1-2**i).detach().numpy())\n",
        "# random.shuffle(fullconfigs)\n",
        "# random.shuffle(subconfigs)\n",
        "# with open('drive/MyDrive/loss_IG/3*3/3*3_zero_full.pkl', 'wb') as f:\n",
        "#     pkl.dump(fullconfigs, f)\n",
        "# with open('drive/MyDrive/loss_IG/3*3/3*3_zero_sub.pkl', 'wb') as f:\n",
        "#     pkl.dump(subconfigs, f)"
      ],
      "execution_count": 18,
      "outputs": []
    },
    {
      "cell_type": "code",
      "metadata": {
        "colab": {
          "base_uri": "https://localhost:8080/"
        },
        "id": "_uMwJNfoJz8c",
        "outputId": "29655d71-ad28-4cff-a4b8-89209da5a4cc"
      },
      "source": [
        "CUDA = torch.cuda.is_available()\n",
        "CUDA_DEVICE = 0\n",
        "\n",
        "if CUDA:\n",
        "    device='cuda'\n",
        "else:\n",
        "    device='cpu'\n",
        "torch.cuda.is_available()"
      ],
      "execution_count": 19,
      "outputs": [
        {
          "output_type": "execute_result",
          "data": {
            "text/plain": [
              "False"
            ]
          },
          "metadata": {
            "tags": []
          },
          "execution_count": 19
        }
      ]
    },
    {
      "cell_type": "code",
      "metadata": {
        "id": "rM0yA2GHJz-6"
      },
      "source": [
        "n_vis=9\n",
        "k=5\n",
        "n_epochs=300\n",
        "batch_size=512\n",
        "lr=0.001\n",
        "T='1.47'"
      ],
      "execution_count": 25,
      "outputs": []
    },
    {
      "cell_type": "code",
      "metadata": {
        "id": "QGxovHmTJ0BM"
      },
      "source": [
        "from torch.utils.data import Dataset\n",
        "\n",
        "class CustomDataset(Dataset): \n",
        "    def __init__(self, dataset):\n",
        "        data_x = dataset\n",
        "        self.x_data = data_x\n",
        "#         self.y_data = data_y\n",
        "\n",
        "    # 총 데이터의 개수를 리턴\n",
        "    def __len__(self): \n",
        "        return len(self.x_data)\n",
        "    # 인덱스를 입력받아 그에 맵핑되는 입출력 데이터를 파이토치의 Tensor 형태로 리턴\n",
        "    def __getitem__(self, idx): \n",
        "        x = torch.FloatTensor(self.x_data[idx])\n",
        "#         y = torch.FloatTensor([self.y_data[idx]])\n",
        "        return x"
      ],
      "execution_count": 26,
      "outputs": []
    },
    {
      "cell_type": "code",
      "metadata": {
        "id": "-iSKtLdZJ0Fx"
      },
      "source": [
        "fullconfigs=pd.read_pickle('{base}/loss_IG/3*3/3*3_full_T={T}.pkl'.format(base=base, T=T))\n",
        "def data_to_loader(fullconfigs):\n",
        "    fulldata=CustomDataset(fullconfigs)\n",
        "    full_dataset = fulldata\n",
        "    full_loader = torch.utils.data.DataLoader(full_dataset, batch_size)\n",
        "    return full_loader\n",
        "loader_list=[]\n",
        "for i in range(10):\n",
        "    loader_list.append(data_to_loader(fullconfigs[i]))\n",
        "    # loader_list.append(data_to_loader(fullconfigs[int(len(fullconfigs)*i/10):int(len(fullconfigs)*(i+1)/10)]))\n",
        "\n",
        "# subconfigs=pd.read_pickle('drive/MyDrive/loss_IG/Ising/lr=0.01/4*4_cri_sub.pkl')\n",
        "# subdata=CustomDataset(subconfigs)\n",
        "# sub_dataset = subdata\n",
        "# sub_loader = torch.utils.data.DataLoader(sub_dataset, batch_size)\n"
      ],
      "execution_count": 27,
      "outputs": []
    },
    {
      "cell_type": "code",
      "metadata": {
        "id": "CBWVyHvTJ0Hu"
      },
      "source": [
        "def train_and_get_data(n_hid, model, lr, train_loader):\n",
        "    if model==0:\n",
        "        rbm = RBM(n_vis, n_hid, k, use_cuda=CUDA)\n",
        "    else:\n",
        "        rbm=model\n",
        "    train_loss_list=[]\n",
        "    train_op = optim.Adam(rbm.parameters(), lr)\n",
        "    rbm.train()\n",
        "    for epoch in tnrange(n_epochs):\n",
        "        train_loss_epoch = []\n",
        "        for _, (data) in enumerate(train_loader):\n",
        "            data=data.to(device)\n",
        "            v, v_gibbs = rbm(data.view(-1, n_vis))\n",
        "            train_loss = rbm.free_energy(v) - rbm.free_energy(v_gibbs)\n",
        "            train_loss_epoch.append(train_loss.item())\n",
        "            train_op.zero_grad()\n",
        "            train_loss.backward()\n",
        "            train_op.step()\n",
        "        val=np.mean(train_loss_epoch)\n",
        "        train_loss_list.append(val)\n",
        "        # print(epoch, val)\n",
        "        # if epoch>1 and train_loss_list[-1]*train_loss_list[-2]<0:\n",
        "        #     break\n",
        "    # with open('drive/MyDrive/loss_IG/3*3/loss/2021-05-02_loss_n_hid={n_hid}_{por}_T={T}.pkl'.format(n_hid=n_hid, por=por, T=T), 'wb') as f:\n",
        "    #     pkl.dump(train_loss_list, f)\n",
        "    # torch.save(rbm.state_dict(), 'drive/MyDrive/loss_IG/3*3/state_dict/2021-05-02_n_hid={n_hid}_{por}_T={T}'.format(n_hid=n_hid, por=por, T=T))\n",
        "    rbm=rbm.cpu()\n",
        "    return rbm.state_dict()\n",
        "\n",
        "def CM_model(models):\n",
        "    new_v_bias=0; new_h_bias=0; new_Weight=0\n",
        "    for i in range(10):\n",
        "        new_v_bias+=models[str(i)]['v']/10\n",
        "        new_h_bias+=models[str(i)]['h']/10\n",
        "        new_Weight+=models[str(i)]['W']/10\n",
        "    return {'v':new_v_bias, 'h':new_h_bias, 'W':new_Weight}  "
      ],
      "execution_count": 28,
      "outputs": []
    },
    {
      "cell_type": "code",
      "metadata": {
        "id": "opE1aoZuJ0KA",
        "colab": {
          "base_uri": "https://localhost:8080/",
          "height": 81,
          "referenced_widgets": [
            "26526a6e8b244ccf8ab74e28bccc29fa",
            "4f13201436724d7887e796ca3f1ca1c8",
            "d2b69c7c98f749e38573cc49df653685",
            "b2ccfcdcf3a240e1b6281ffbac66f36f",
            "8c35b0d6c45f4587a59ebf4e930aefaa",
            "2bebc86ef288455ab47bc179c34f88c8",
            "5a6c59a0715a4b818fe9f7bf0e7994e6",
            "b43f0dd03dfb49edb62b8d2c5986f452",
            "6031126af0b54fc6b95d85e0791dd5a7",
            "62363a0582a54be391a2df27b9df12a5",
            "fdb028ea58a24fbfae145cac9cbf984a",
            "469d9c18c6c048149a7f4501a192e2f3",
            "2dd2f830147c439d91891639ee2c778f",
            "e98b1d7812484e56b810f34be015d34e",
            "69fd7f43817c4cf9bd7a96ed9a4231bc",
            "c3c534e941664bedae5a4673eb72166d"
          ]
        },
        "outputId": "b10b3a0e-823c-4f43-f3f6-5225b8cf228e"
      },
      "source": [
        "for n_hid in [1,2,4,8]:\n",
        "    dicts={}\n",
        "    for m in tnrange(10):\n",
        "        dicts[str(m)]={}\n",
        "        for n in range(10):\n",
        "            dicts[str(m)][str(n)]=train_and_get_data(n_hid,0,lr,train_loader=loader_list[m])\n",
        "    with open('{base}/loss_IG/3*3/state_dict/n_hid={n_hid}_T={T}_mn.pkl'.format(base=base, n_hid=n_hid, T=T, m=m, n=n), 'wb') as f:\n",
        "        pkl.dump(dicts, f)\n",
        "        \n",
        "# CM_m model 만들기\n",
        "    dict0={}\n",
        "    models=pd.read_pickle('{base}/loss_IG/3*3/state_dict/n_hid={n_hid}_T={T}_mn.pkl'.format(base=base, n_hid=n_hid, T=T))\n",
        "    for m in range(10):\n",
        "        dict0[str(m)]=CM_model(models[str(m)])\n",
        "    with open('{base}/loss_IG/3*3/state_dict/n_hid={n_hid}_T={T}_CM_m.pkl'.format(base=base, n_hid=n_hid, T=T), 'wb') as f:\n",
        "        pkl.dump(dict0, f)\n",
        "\n",
        "# CM model 만들기\n",
        "    models=pd.read_pickle('{base}/loss_IG/3*3/state_dict/n_hid={n_hid}_T={T}_CM_m.pkl'.format(base=base,n_hid=n_hid, T=T))\n",
        "    with open('{base}/loss_IG/3*3/state_dict/n_hid={n_hid}_T={T}_CM.pkl'.format(base=base, n_hid=n_hid, T=T), 'wb') as f:\n",
        "        pkl.dump(CM_model(models), f)"
      ],
      "execution_count": null,
      "outputs": [
        {
          "output_type": "display_data",
          "data": {
            "application/vnd.jupyter.widget-view+json": {
              "model_id": "26526a6e8b244ccf8ab74e28bccc29fa",
              "version_minor": 0,
              "version_major": 2
            },
            "text/plain": [
              "HBox(children=(FloatProgress(value=0.0, max=10.0), HTML(value='')))"
            ]
          },
          "metadata": {
            "tags": []
          }
        },
        {
          "output_type": "display_data",
          "data": {
            "application/vnd.jupyter.widget-view+json": {
              "model_id": "6031126af0b54fc6b95d85e0791dd5a7",
              "version_minor": 0,
              "version_major": 2
            },
            "text/plain": [
              "HBox(children=(FloatProgress(value=0.0, max=300.0), HTML(value='')))"
            ]
          },
          "metadata": {
            "tags": []
          }
        }
      ]
    },
    {
      "cell_type": "code",
      "metadata": {
        "id": "dW0wkoCbCMOS"
      },
      "source": [
        ""
      ],
      "execution_count": null,
      "outputs": []
    }
  ]
}