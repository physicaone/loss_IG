{
  "nbformat": 4,
  "nbformat_minor": 0,
  "metadata": {
    "colab": {
      "name": "[2105165]Make_critical_Ising.ipynb",
      "provenance": [],
      "collapsed_sections": [],
      "authorship_tag": "ABX9TyNYU0BYj2OlZ1hGlC6O099x",
      "include_colab_link": true
    },
    "kernelspec": {
      "name": "python3",
      "display_name": "Python 3"
    },
    "language_info": {
      "name": "python"
    }
  },
  "cells": [
    {
      "cell_type": "markdown",
      "metadata": {
        "id": "view-in-github",
        "colab_type": "text"
      },
      "source": [
        "<a href=\"https://colab.research.google.com/github/physicaone/loss_IG/blob/master/%5B2105165%5DMake_critical_Ising.ipynb\" target=\"_parent\"><img src=\"https://colab.research.google.com/assets/colab-badge.svg\" alt=\"Open In Colab\"/></a>"
      ]
    },
    {
      "cell_type": "code",
      "metadata": {
        "id": "_Q3azp80BKMv"
      },
      "source": [
        "import numpy as np\n",
        "import matplotlib.pyplot as plt\n",
        "import time\n",
        "from tqdm import tqdm, tnrange\n"
      ],
      "execution_count": 2,
      "outputs": []
    },
    {
      "cell_type": "code",
      "metadata": {
        "colab": {
          "base_uri": "https://localhost:8080/"
        },
        "id": "PGYqwLBFNBWv",
        "outputId": "726440a8-7200-49ff-a80d-1b36d4714785"
      },
      "source": [
        "from google.colab import drive\n",
        "drive.mount('/content/drive')"
      ],
      "execution_count": 3,
      "outputs": [
        {
          "output_type": "stream",
          "text": [
            "Drive already mounted at /content/drive; to attempt to forcibly remount, call drive.mount(\"/content/drive\", force_remount=True).\n"
          ],
          "name": "stdout"
        }
      ]
    },
    {
      "cell_type": "code",
      "metadata": {
        "id": "tvupOsLTMai9"
      },
      "source": [
        "def magnetization(lattice):\n",
        "    '''\n",
        "    This is a function that returns absolute of spontaneous magnetization of a spin configuration.\n",
        "    Not returns magnetization per spin.\n",
        "    '''\n",
        "    L = len(lattice)\n",
        "    m = 0\n",
        "    for i in range(L):\n",
        "        for j in range(L):\n",
        "            m += lattice[i,j]\n",
        "    \n",
        "    return abs(m)"
      ],
      "execution_count": 4,
      "outputs": []
    },
    {
      "cell_type": "code",
      "metadata": {
        "id": "229a1bR3ManW"
      },
      "source": [
        "def Ising_model(lattice, T, n0, d_delta, mcmax, n_sample):\n",
        "    '''\n",
        "    This if a function which conducts computing statistics of 2D Ising lattice. \n",
        "    This function returns (ensemble) averaged magnetization per spin, magnetic susceptibility, and 4th cummulant (the Binder cummulant).\n",
        "    '''\n",
        "    \n",
        "    L = len(lattice)\n",
        "    samples=[]\n",
        "    \n",
        "    m = 0\n",
        "    equil = 0\n",
        "    count = 0\n",
        "\n",
        "    while equil <= mcmax:\n",
        "        if equil < n0:\n",
        "            for i in range(L):\n",
        "                for j in range(L):\n",
        "                    s = lattice[i,j]\n",
        "                    neigh = lattice[(i+1)%L, j] + lattice[i,(j+1)%L] + lattice[(i-1)%L,j] + lattice[i,(j-1)%L]\n",
        "                    DE = 2 * s * neigh \n",
        "\n",
        "                    if DE < 0:\n",
        "                        s *= -1 \n",
        "                    elif np.random.rand() < np.exp(- DE*1/T):\n",
        "                        s *= -1 \n",
        "                    lattice[i,j] = s\n",
        "            equil += 1;\n",
        "\n",
        "        else:\n",
        "            x = np.random.randint(L)\n",
        "            y = np.random.randint(L)\n",
        "            s = lattice[x,y]  \n",
        "            neigh = lattice[(x+1)%L, y] + lattice[x,(y+1)%L] + lattice[(x-1)%L,y] + lattice[x,(y-1)%L]\n",
        "            DE = 2 * s * neigh \n",
        "\n",
        "            #accept or reject \n",
        "            if DE < 0:\n",
        "                s *= -1 \n",
        "\n",
        "            elif np.random.rand() < np.exp(- DE*1/T):\n",
        "                s *= -1 \n",
        "\n",
        "            lattice[x,y] = s\n",
        "            count += 1;\n",
        "            m = 0;\n",
        "\n",
        "            if count == n_delta:\n",
        "                count = 0;\n",
        "\n",
        "            equil += 1;\n",
        "            a=lattice.copy()\n",
        "            samples.append(np.float32(np.reshape(a,(1,16))+1)/2)\n",
        "    return samples\n"
      ],
      "execution_count": 5,
      "outputs": []
    },
    {
      "cell_type": "code",
      "metadata": {
        "id": "klu2dJYtMap_"
      },
      "source": [
        "L=4\n",
        "lattice1 = - np.ones((L,L))\n",
        "\n",
        "\n",
        "T =2.3\n",
        "\n",
        "\n",
        "n0 = 2000\n",
        "n_delta = 100\n",
        "mcmax = 2**16+n0-1\n"
      ],
      "execution_count": 6,
      "outputs": []
    },
    {
      "cell_type": "code",
      "metadata": {
        "colab": {
          "base_uri": "https://localhost:8080/"
        },
        "id": "EBt2OGiHMi4S",
        "outputId": "d3aaccc1-ec4e-4aea-a24b-9e15b9fa5a06"
      },
      "source": [
        "lat = Ising_model(lattice1, T, n0, n_delta, mcmax, 2**16)\n",
        "np.shape(lat)"
      ],
      "execution_count": 7,
      "outputs": [
        {
          "output_type": "execute_result",
          "data": {
            "text/plain": [
              "(65536, 1, 16)"
            ]
          },
          "metadata": {
            "tags": []
          },
          "execution_count": 7
        }
      ]
    },
    {
      "cell_type": "code",
      "metadata": {
        "id": "eOFVvVMYMi67"
      },
      "source": [
        "import pickle as pkl\n",
        "with open('drive/MyDrive/loss_IG/Ising/lr=0.01/4*4_cri_full.pkl', 'wb') as f:\n",
        "    pkl.dump(lat, f)"
      ],
      "execution_count": 8,
      "outputs": []
    },
    {
      "cell_type": "code",
      "metadata": {
        "id": "b_bPbQsrMi9P"
      },
      "source": [
        "np.random.shuffle(lat)\n",
        "with open('drive/MyDrive/loss_IG/Ising/lr=0.01/4*4_cri_sub.pkl', 'wb') as f:\n",
        "    pkl.dump(lat[:6000], f)"
      ],
      "execution_count": 9,
      "outputs": []
    },
    {
      "cell_type": "code",
      "metadata": {
        "id": "YxD8xW_yNMe7"
      },
      "source": [
        ""
      ],
      "execution_count": null,
      "outputs": []
    }
  ]
}