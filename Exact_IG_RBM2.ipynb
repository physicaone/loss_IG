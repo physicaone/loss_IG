{
  "nbformat": 4,
  "nbformat_minor": 0,
  "metadata": {
    "kernelspec": {
      "display_name": "Python 3",
      "language": "python",
      "name": "python3"
    },
    "language_info": {
      "codemirror_mode": {
        "name": "ipython",
        "version": 3
      },
      "file_extension": ".py",
      "mimetype": "text/x-python",
      "name": "python",
      "nbconvert_exporter": "python",
      "pygments_lexer": "ipython3",
      "version": "3.7.4"
    },
    "colab": {
      "name": "Exact_IG_RBM.ipynb",
      "provenance": [],
      "include_colab_link": true
    },
    "accelerator": "GPU"
  },
  "cells": [
    {
      "cell_type": "markdown",
      "metadata": {
        "id": "view-in-github",
        "colab_type": "text"
      },
      "source": [
        "<a href=\"https://colab.research.google.com/github/physicaone/loss_IG/blob/master/Exact_IG_RBM2.ipynb\" target=\"_parent\"><img src=\"https://colab.research.google.com/assets/colab-badge.svg\" alt=\"Open In Colab\"/></a>"
      ]
    },
    {
      "cell_type": "code",
      "metadata": {
        "colab": {
          "base_uri": "https://localhost:8080/"
        },
        "id": "agwohUsz5o4a",
        "outputId": "0eb56b0c-3ebf-400a-d44b-17b8a51d5994"
      },
      "source": [
        "try:\n",
        "    from google.colab import drive\n",
        "    drive.mount('/content/drive')\n",
        "    base='drive/MyDrive'\n",
        "except:\n",
        "    base='Google Drive'"
      ],
      "execution_count": 1,
      "outputs": [
        {
          "output_type": "stream",
          "text": [
            "Mounted at /content/drive\n"
          ],
          "name": "stdout"
        }
      ]
    },
    {
      "cell_type": "code",
      "metadata": {
        "id": "jTGgZ1I95o4b"
      },
      "source": [
        "import numpy as np\n",
        "import torch\n",
        "import torchvision.datasets\n",
        "import torchvision.models\n",
        "import torchvision.transforms\n",
        "import torch.optim as optim\n",
        "import torch.nn.functional as F\n",
        "from torchvision import datasets, transforms\n",
        "import torch.utils.data\n",
        "import torch.nn as nn\n",
        "from tqdm import tqdm, tnrange\n",
        "import warnings\n",
        "warnings.filterwarnings(\"ignore\")\n",
        "\n",
        "import pickle as pkl\n",
        "import pandas as pd\n",
        "from scipy.stats import entropy\n"
      ],
      "execution_count": 2,
      "outputs": []
    },
    {
      "cell_type": "code",
      "metadata": {
        "colab": {
          "base_uri": "https://localhost:8080/"
        },
        "id": "OlGmCR9_5o4c",
        "outputId": "3c49f576-d0a6-47d3-a722-090e13044a1c"
      },
      "source": [
        "CUDA = torch.cuda.is_available()\n",
        "CUDA_DEVICE = 0\n",
        "\n",
        "if CUDA:\n",
        "    device='cuda'\n",
        "else:\n",
        "    device='cpu'\n",
        "torch.cuda.is_available()"
      ],
      "execution_count": 3,
      "outputs": [
        {
          "output_type": "execute_result",
          "data": {
            "text/plain": [
              "True"
            ]
          },
          "metadata": {
            "tags": []
          },
          "execution_count": 3
        }
      ]
    },
    {
      "cell_type": "code",
      "metadata": {
        "id": "iEmPNPvR5o4d"
      },
      "source": [
        "\n",
        "def decimal_to_binary(integer, n_hid):\n",
        "    string=bin(int(integer))[2:]\n",
        "    list0=[float(d) for d in string]\n",
        "    while len(list0)<n_hid:\n",
        "        list0=[0.]+list0\n",
        "    return torch.tensor([list0])\n",
        "\n",
        "def Ising_energy(v_list):\n",
        "    L = 3\n",
        "    E_list=[]\n",
        "    for n in range(len(v_list)):\n",
        "        v=v_list[n]\n",
        "        E = 0\n",
        "        for i in range(L):\n",
        "            for j in range(L):\n",
        "                s = v[i,j]\n",
        "                neigh = v[(i+1)%L, j] + v[i,(j+1)%L] + v[(i-1)%L,j] + v[i,(j-1)%L] \n",
        "                E += -neigh * s\n",
        "        E_list.append(E/2)\n",
        "    return np.array(E_list)"
      ],
      "execution_count": 4,
      "outputs": []
    },
    {
      "cell_type": "markdown",
      "metadata": {
        "id": "7i4_mLai5o4e"
      },
      "source": [
        "# Define RBM graph"
      ]
    },
    {
      "cell_type": "code",
      "metadata": {
        "id": "Ijg5b3eL5o4e"
      },
      "source": [
        "class RBM(nn.Module):\n",
        "\n",
        "    def __init__(self, n_vis, n_hid, k):\n",
        "        \"\"\"Create a RBM.\"\"\"\n",
        "        super(RBM, self).__init__()\n",
        "        \n",
        "        self.v_bias = nn.Parameter(torch.ones(1, n_vis).to(device))\n",
        "        self.h_bias = nn.Parameter(torch.zeros(1, n_hid).to(device))\n",
        "        self.Weight = nn.Parameter(torch.randn(n_hid, n_vis).to(device))\n",
        "        self.k = k\n",
        "\n",
        "\n",
        "    def v2h(self, v):\n",
        "        return torch.sigmoid(F.linear(v, self.Weight, self.h_bias))\n",
        "\n",
        "    def h2v(self, h):\n",
        "        return torch.sigmoid(F.linear(h, self.Weight.t(), self.v_bias))\n",
        "    \n",
        "    def Fv(self, v):\n",
        "        v_term = torch.matmul(v, self.v_bias.t()).view(len(v))\n",
        "        h_term = torch.sum(F.softplus(F.linear(v, self.Weight, self.h_bias)), dim=1)\n",
        "        return -h_term -v_term\n",
        "\n",
        "    def energy(self, v, h):\n",
        "        v=v.bernoulli()\n",
        "        h=h.bernoulli()\n",
        "        return -torch.matmul(v, self.v_bias.t())-torch.matmul(torch.matmul(v, self.Weight.t()),h.t())-torch.matmul(h, self.h_bias.t())\n",
        "    \n",
        "    def Energy_GPU2(self, v_list0, h_list0):\n",
        "        n_split=torch.cuda.device_count()\n",
        "        e_list=[]\n",
        "        m_split=2**6\n",
        "        for j in range(m_split):\n",
        "            v_list1=torch.stack(list(v_list0[j*int(len(v_list0)/m_split):(j+1)*int(len(v_list0)/m_split)]))\n",
        "            h_list1=torch.stack(list(h_list0[j*int(len(h_list0)/m_split):(j+1)*int(len(h_list0)/m_split)]))\n",
        "            vs=[]\n",
        "            hs=[]\n",
        "            for i in range(n_split):\n",
        "                v_list2=torch.stack(list(v_list1[i*int(len(v_list1)/n_split):(i+1)*int(len(v_list1)/n_split)]))\n",
        "                h_list2=torch.stack(list(h_list1[i*int(len(h_list1)/n_split):(i+1)*int(len(h_list1)/n_split)]))\n",
        "                v_list2=v_list2.to(device='cuda:' + str(i)).view(len(v_list2), n_vis)\n",
        "                h_list2=h_list2.to(device='cuda:' + str(i)).view(len(h_list2), n_hid)\n",
        "                vs.append(v_list2)\n",
        "                hs.append(h_list2)\n",
        "            for i in range(n_split):  \n",
        "                a=self.v_bias.to(device='cuda:' + str(i)).view(n_vis)\n",
        "                b=self.h_bias.to(device='cuda:' + str(i)).view(n_hid)\n",
        "                W=self.Weight.to(device='cuda:' + str(i)).view(n_hid, n_vis)\n",
        "                e=(-torch.matmul(vs[i].float(), a)-torch.diagonal(torch.matmul(torch.matmul(vs[i].float(), W.t()), hs[i].float().t()))-torch.matmul(hs[i].float(), b)).to('cuda:0')\n",
        "                e_list.append(e)\n",
        "        return torch.stack(e_list).view(len(v_list0))\n",
        "    "
      ],
      "execution_count": 36,
      "outputs": []
    },
    {
      "cell_type": "markdown",
      "metadata": {
        "id": "zf9AI1sk5o4f"
      },
      "source": [
        "# Function to make a train data loader"
      ]
    },
    {
      "cell_type": "code",
      "metadata": {
        "id": "gOAesKc45o4f"
      },
      "source": [
        "from torch.utils.data import Dataset\n",
        "\n",
        "class CustomDataset(Dataset): \n",
        "    def __init__(self, dataset):\n",
        "        data_x = dataset\n",
        "        self.x_data = data_x\n",
        "#         self.y_data = data_y\n",
        "\n",
        "    # 총 데이터의 개수를 리턴\n",
        "    def __len__(self): \n",
        "        return len(self.x_data)\n",
        "    # 인덱스를 입력받아 그에 맵핑되는 입출력 데이터를 파이토치의 Tensor 형태로 리턴\n",
        "    def __getitem__(self, idx): \n",
        "        x = torch.FloatTensor(self.x_data[idx])\n",
        "#         y = torch.FloatTensor([self.y_data[idx]])\n",
        "        return x\n",
        "\n",
        "def data_to_loader(fullconfigs):\n",
        "    fulldata=CustomDataset(fullconfigs)\n",
        "    full_dataset = fulldata\n",
        "    full_loader = torch.utils.data.DataLoader(full_dataset, batch_size)\n",
        "    return full_loader\n",
        "\n",
        "\n"
      ],
      "execution_count": 37,
      "outputs": []
    },
    {
      "cell_type": "code",
      "metadata": {
        "id": "wCPjNHIp5o4g"
      },
      "source": [
        "def train_and_get_data(n_hid, model, lr):\n",
        "    # 처음부터 모델을 훈련하려는 경우\n",
        "    if model==0:\n",
        "        rbm=RBM(n_vis, n_hid, k)\n",
        "    # 훈련된 모델을 이어서 훈련하려는 경우\n",
        "    else: \n",
        "        model1=RBM(n_vis=n_vis, n_hid=n_hid, k=1, use_cuda=CUDA)\n",
        "        model1.load_state_dict(model)\n",
        "        rbm=model1\n",
        "    train_loss_list=[]\n",
        "#     train_op = optim.Adam(rbm.parameters(), lr)\n",
        "    train_op = optim.SGD(rbm.parameters(), lr, momentum=0.9)\n",
        "    rbm.train()\n",
        "    train_loss_list=[]\n",
        "    for epoch in range(n_epochs):\n",
        "        Fv=torch.dot(rbm.Fv(v_list_ising2), Pv)\n",
        "        F=-torch.log(torch.sum(torch.exp(-rbm.Energy_GPU2(v_list_rbm, h_list_rbm))))\n",
        "        train_loss = Fv-F\n",
        "        train_loss_list.append(float((train_loss-S).detach().cpu().numpy()))\n",
        "        train_op.zero_grad()\n",
        "        train_loss.backward()\n",
        "        train_op.step()\n",
        "        print(epoch, (Fv-F-S).detach().float())\n",
        "        if epoch>100 and train_loss_list[-1]>=train_loss_list[-30] and train_loss_list[-1]>=train_loss_list[-100]:\n",
        "            break\n",
        "    rbm=rbm.cpu()\n",
        "    return rbm.state_dict(), train_loss_list\n"
      ],
      "execution_count": 38,
      "outputs": []
    },
    {
      "cell_type": "code",
      "metadata": {
        "id": "jYmILvDx5o4g"
      },
      "source": [
        "# Hyper parameter들을 설정\n",
        "n_vis=9\n",
        "n_hid=12\n",
        "k=1\n",
        "n_epochs=100000000000\n",
        "batch_size=512\n",
        "lr=0.1\n",
        "T=16"
      ],
      "execution_count": 16,
      "outputs": []
    },
    {
      "cell_type": "code",
      "metadata": {
        "id": "ZxtXSnZz7413",
        "outputId": "e274c255-0c02-4076-ffc9-005bb1807573",
        "colab": {
          "base_uri": "https://localhost:8080/"
        }
      },
      "source": [
        "type(Ising_energy(v_list_ising))"
      ],
      "execution_count": 27,
      "outputs": [
        {
          "output_type": "execute_result",
          "data": {
            "text/plain": [
              "numpy.ndarray"
            ]
          },
          "metadata": {
            "tags": []
          },
          "execution_count": 27
        }
      ]
    },
    {
      "cell_type": "code",
      "metadata": {
        "id": "4HpVlXYC5o4h"
      },
      "source": [
        "torch.set_printoptions(precision=10)\n",
        "for n_hid in [10]:\n",
        "    v_list_rbm=[]; h_list_rbm=[]\n",
        "    for s in tnrange(2**(n_vis+n_hid)):\n",
        "        full=decimal_to_binary(s, n_hid+n_vis)[0]\n",
        "        v=full[:n_vis]; h=full[-n_hid:]\n",
        "        v_list_rbm.append(v); h_list_rbm.append(h)\n",
        "    v_list_rbm=torch.stack(v_list_rbm).to(device)\n",
        "    h_list_rbm=torch.stack(h_list_rbm).to(device)\n",
        "\n",
        "    v_list_ising=[]\n",
        "    v_list_ising2=[]\n",
        "    for s in range(2**n_vis):\n",
        "        v=decimal_to_binary(s, n_vis)[0]\n",
        "        v_list_ising.append(np.reshape(v,(3,3))*2-1)\n",
        "        v_list_ising2.append(v)\n",
        "    v_list_ising2=torch.stack(v_list_ising2).to(device)        \n",
        "    for T in [1.47, 1.78, 2.3, 5.2, 16]:\n",
        "\n",
        "        bf_list=np.exp(-Ising_energy(v_list_ising)/T)\n",
        "        S=entropy(bf_list)\n",
        "        Pv=torch.tensor(bf_list/sum(bf_list)).to(device)\n",
        "\n",
        "        # if n_hid>8: \n",
        "        #     m_split=\n",
        "        # else:\n",
        "        #     m_split=1\n",
        "        model0, loss=train_and_get_data(n_hid,0, lr=0.9)\n",
        "        \n",
        "        with open('{base}/loss_IG/3*3/train_error/loss_n_hid={n_hid}_T={T}.pkl'.format(base=base, n_hid=n_hid, T=T), 'wb') as f:\n",
        "            pkl.dump(loss, f)\n",
        "        with open('{base}/loss_IG/3*3/state_dict/model_n_hid={n_hid}_T={T}.pkl'.format(base=base, n_hid=n_hid, T=T), 'wb') as f:\n",
        "            pkl.dump(model0, f)"
      ],
      "execution_count": null,
      "outputs": []
    },
    {
      "cell_type": "code",
      "metadata": {
        "id": "jqnFvSFsHMqV"
      },
      "source": [
        ""
      ],
      "execution_count": null,
      "outputs": []
    }
  ]
}