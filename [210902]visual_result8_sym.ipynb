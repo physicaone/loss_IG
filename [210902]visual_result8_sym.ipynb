{
  "nbformat": 4,
  "nbformat_minor": 0,
  "metadata": {
    "colab": {
      "name": "Untitled3.ipynb",
      "provenance": [],
      "include_colab_link": true
    },
    "kernelspec": {
      "name": "python3",
      "display_name": "Python 3"
    },
    "language_info": {
      "name": "python"
    }
  },
  "cells": [
    {
      "cell_type": "markdown",
      "metadata": {
        "id": "view-in-github",
        "colab_type": "text"
      },
      "source": [
        "<a href=\"https://colab.research.google.com/github/physicaone/loss_IG/blob/master/%5B210902%5Dvisual_result8_sym.ipynb\" target=\"_parent\"><img src=\"https://colab.research.google.com/assets/colab-badge.svg\" alt=\"Open In Colab\"/></a>"
      ]
    },
    {
      "cell_type": "code",
      "metadata": {
        "colab": {
          "base_uri": "https://localhost:8080/"
        },
        "id": "xvdrd5idRE_h",
        "outputId": "d223dfdd-706f-4fe8-8816-67913c484873"
      },
      "source": [
        "import numpy as np\n",
        "import torch\n",
        "import torchvision.datasets\n",
        "import torchvision.models\n",
        "import torchvision.transforms\n",
        "import torch.optim as optim\n",
        "import torch.nn.functional as F\n",
        "from torchvision import datasets, transforms\n",
        "import torch.utils.data\n",
        "import torch.nn as nn\n",
        "from tqdm import tqdm, tnrange\n",
        "import warnings\n",
        "warnings.filterwarnings(\"ignore\")\n",
        "import random\n",
        "import pickle as pkl\n",
        "import pandas as pd\n",
        "from scipy.stats import entropy\n",
        "import copy\n",
        "import pandas as pd\n",
        "import numpy as np\n",
        "import matplotlib.pyplot as plt\n",
        "import matplotlib.gridspec as gridspec\n",
        "CUDA = torch.cuda.is_available()\n",
        "CUDA_DEVICE = 0\n",
        "\n",
        "try:\n",
        "    from google.colab import drive\n",
        "    drive.mount('/content/drive')\n",
        "    base='drive/MyDrive'\n",
        "except:\n",
        "    if torch.cuda.device_count()>1:\n",
        "        base='.'\n",
        "    else:\n",
        "        base='Google Drive'\n",
        "\n",
        "if CUDA:\n",
        "    device='cuda'\n",
        "else:\n",
        "    device='cpu'\n",
        "torch.cuda.is_available()"
      ],
      "execution_count": 1,
      "outputs": [
        {
          "output_type": "stream",
          "name": "stdout",
          "text": [
            "Mounted at /content/drive\n"
          ]
        },
        {
          "output_type": "execute_result",
          "data": {
            "text/plain": [
              "False"
            ]
          },
          "metadata": {},
          "execution_count": 1
        }
      ]
    },
    {
      "cell_type": "code",
      "metadata": {
        "id": "PqrThy83Q-Ux"
      },
      "source": [
        "def decimal_to_binary(integer, n_hid):\n",
        "    string=bin(int(integer))[2:]\n",
        "    list0=[float(d) for d in string]\n",
        "    while len(list0)<n_hid:\n",
        "        list0=[0.]+list0\n",
        "    return torch.tensor([list0])\n",
        "\n",
        "def Ising_energy(v_list):\n",
        "    L = 3\n",
        "    E_list=[]\n",
        "    for n in range(len(v_list)):\n",
        "        v=v_list[n]\n",
        "        E = 0\n",
        "        for i in range(L):\n",
        "            for j in range(L):\n",
        "                s = v[i,j]\n",
        "                neigh = v[(i+1)%L, j] + v[i,(j+1)%L] + v[(i-1)%L,j] + v[i,(j-1)%L] \n",
        "                E += -neigh * s\n",
        "        E_list.append(E/2)\n",
        "    return np.array(E_list)\n",
        "    \n",
        "class RBM(nn.Module):\n",
        "\n",
        "    def __init__(self, n_vis, n_hid, k):\n",
        "        \"\"\"Create a RBM.\"\"\"\n",
        "        super(RBM, self).__init__()\n",
        "        \n",
        "        self.v_bias = nn.Parameter(torch.zeros(1, n_vis).to(device))\n",
        "        self.h_bias = nn.Parameter(torch.zeros(1, n_hid).to(device))\n",
        "        self.Weight = nn.Parameter(torch.randn(n_hid, n_vis).to(device)*0.5)\n",
        "        self.k = k\n",
        "\n",
        "\n",
        "    def v2h(self, v):\n",
        "        return torch.sigmoid(F.linear(v, self.Weight, self.h_bias))\n",
        "\n",
        "    def h2v(self, h):\n",
        "        return torch.sigmoid(F.linear(h, self.Weight.t(), self.v_bias))\n",
        "    \n",
        "    def Fv(self, v):\n",
        "        v_term = torch.matmul(v, self.v_bias.t()).view(len(v))\n",
        "        h_term = torch.sum(F.softplus(F.linear(v, self.Weight, self.h_bias)), dim=1)\n",
        "        return -h_term -v_term\n",
        "\n",
        "    def energy(self, v, h):\n",
        "        v=v.bernoulli()\n",
        "        h=h.bernoulli()\n",
        "        return -torch.matmul(v, self.v_bias.t())-torch.matmul(torch.matmul(v, self.Weight.t()),h.t())-torch.matmul(h, self.h_bias.t())\n",
        "    \n",
        "    def Energy_GPU2(self, v_list0, h_list0):\n",
        "        if CUDA:\n",
        "            n_split=torch.cuda.device_count()\n",
        "        else:\n",
        "            n_split=1\n",
        "        e_list=[]\n",
        "        m_split=2**6\n",
        "        for j in range(m_split):\n",
        "            v_list1=torch.stack(list(v_list0[j*int(len(v_list0)/m_split):(j+1)*int(len(v_list0)/m_split)]))\n",
        "            h_list1=torch.stack(list(h_list0[j*int(len(h_list0)/m_split):(j+1)*int(len(h_list0)/m_split)]))\n",
        "            vs=[]\n",
        "            hs=[]\n",
        "            for i in range(n_split):\n",
        "                v_list2=torch.stack(list(v_list1[i*int(len(v_list1)/n_split):(i+1)*int(len(v_list1)/n_split)]))\n",
        "                h_list2=torch.stack(list(h_list1[i*int(len(h_list1)/n_split):(i+1)*int(len(h_list1)/n_split)]))\n",
        "                if CUDA:\n",
        "                    v_list2=v_list2.to(device='cuda:' + str(i)).view(len(v_list2), n_vis)\n",
        "                    h_list2=h_list2.to(device='cuda:' + str(i)).view(len(h_list2), n_hid)\n",
        "                else:\n",
        "                    None\n",
        "                vs.append(v_list2)\n",
        "                hs.append(h_list2)\n",
        "            for i in range(n_split): \n",
        "                if CUDA:\n",
        "                    a=self.v_bias.to(device='cuda:' + str(i)).view(n_vis)\n",
        "                    b=self.h_bias.to(device='cuda:' + str(i)).view(n_hid)\n",
        "                    W=self.Weight.to(device='cuda:' + str(i)).view(n_hid, n_vis)\n",
        "                    e=(-torch.matmul(vs[i].float(), a)-torch.diagonal(torch.matmul(torch.matmul(vs[i].float(), W.t()), hs[i].float().t()))-torch.matmul(hs[i].float(), b)).to('cuda:0')\n",
        "                    e_list.append(e)\n",
        "                else:\n",
        "                    a=self.v_bias.view(n_vis)\n",
        "                    b=self.h_bias.view(n_hid)\n",
        "                    W=self.Weight.view(n_hid, n_vis)\n",
        "                    e=(-torch.matmul(vs[i].float(), a)-torch.diagonal(torch.matmul(torch.matmul(vs[i].float(), W.t()), hs[i].float().t()))-torch.matmul(hs[i].float(), b))\n",
        "                    e_list.append(e)\n",
        "        return torch.stack(e_list).view(len(v_list0))\n",
        "    \n",
        "    def forward(self, v):\n",
        "        h = self.v2h(v)\n",
        "        h = h.bernoulli()\n",
        "        for _ in range(self.k):\n",
        "            v_gibbs = self.h2v(h).to(device)\n",
        "            v_gibbs = v_gibbs.bernoulli()\n",
        "            h = self.v2h(v_gibbs).to(device)\n",
        "            h = h.bernoulli()\n",
        "        return v, v_gibbs\n",
        "        "
      ],
      "execution_count": 2,
      "outputs": []
    },
    {
      "cell_type": "code",
      "metadata": {
        "id": "Le_fuUGLca4E"
      },
      "source": [
        "def CM(list0):\n",
        "    list1=np.reshape(np.array(list0),(3,3))\n",
        "    max_x=0; max_y=0\n",
        "    for i in range(3):\n",
        "        for j in range(3):\n",
        "            if list1[i][j]>list1[max_x][max_y]:\n",
        "                max_x=i; max_y=j\n",
        "    dx=0; dy=0\n",
        "    for i in [-1,1]:\n",
        "        for j in [-1,1]:\n",
        "            dx+=list1[(max_x+i+3)%3][(max_y+j+3)%3]*(i)/list1[max_x][max_y]\n",
        "            dy+=list1[(max_x+i+3)%3][(max_y+j+3)%3]*(j)/list1[max_x][max_y]\n",
        "    x=max_x+dx\n",
        "    y=max_y+dy\n",
        "    if x<0: x=x+3\n",
        "    if y<0: y=y+3\n",
        "    return x, y"
      ],
      "execution_count": 98,
      "outputs": []
    },
    {
      "cell_type": "code",
      "metadata": {
        "id": "JDzi7O2zyt81"
      },
      "source": [
        "# Hyper parameter들을 설정\n",
        "n_vis=9\n",
        "k=5\n",
        "lr=0.1\n",
        "vol=512\n",
        "batch_size=int(vol/2)\n",
        "epoch_to_save=[2**i for i in range(20)]\n",
        "n_epochs=epoch_to_save[-1]+1\n",
        "n_hid_list=[6]\n",
        "T_list=[16]\n",
        "T_color=['red', 'orange', 'green', 'blue', 'purple']\n",
        "n_hid_color=['darkred','red', 'orange', 'yellow', 'yellowgreen', 'green', 'skyblue', 'blue','darkblue','pink', 'purple', 'black']\n",
        "lr=0.1\n",
        "std=0.5"
      ],
      "execution_count": 5,
      "outputs": []
    },
    {
      "cell_type": "code",
      "metadata": {
        "colab": {
          "base_uri": "https://localhost:8080/",
          "height": 353
        },
        "id": "NVslnXWzSSR_",
        "outputId": "91ea16b5-261e-4909-eb02-9b9f5cf50b03"
      },
      "source": [
        "\n",
        "plt.figure(figsize=(8,5))\n",
        "\n",
        "n_vis=9\n",
        "Weights={}\n",
        "for T in T_list:\n",
        "    Weights[str(T)]={}\n",
        "    for n_hid in n_hid_list:\n",
        "        # Weights[str(T)][str(n_hid)]=torch.tensor([0.]*n_vis*n_hid)\n",
        "        models=pd.read_pickle('{base}/loss_IG/3*3/Exact_state_dict/model_n_hid={n_hid}_T={T}_sym.pkl'.format(base=base, n_hid=n_hid, T=T, lr=lr, vol=vol, std=std))\n",
        "        Weights[str(T)][str(n_hid)]=(models[str(9)][-1]['Weight'].t())\n",
        "#         for m in range(1,10):\n",
        "#             Weights[str(T)][str(n_hid)]+=(models[str(m)][-1]['Weight'].t())/10\n",
        "        Weights[str(T)][str(n_hid)]=np.array(Weights[str(T)][str(n_hid)])\n",
        "for i in range(1, len(n_hid_list)+1):\n",
        "    n_hid=str(n_hid_list[i-1])\n",
        "#         plt.subplot(2, 4, i)\n",
        "    plt.rcParams[\"font.size\"] = \"20\"\n",
        "    plt.title('Weights T={T}, n_hid={n_hid}'.format(T=T,n_hid=n_hid))\n",
        "    # plt.xlim(-20, 20)\n",
        "    # plt.ylim(0, 50)\n",
        "    for n in range(int(n_hid)):\n",
        "        for t in range(len(T_list)):\n",
        "            WP=[]\n",
        "            for j in range(n_vis):\n",
        "                WP.append(Weights[str(T_list[t])][n_hid][j][n])\n",
        "            plt.plot(range(n_vis),np.array(WP), c=n_hid_color[n], label = n, marker='o')\n",
        "#             plt.pcolor(Weights[str(T_list[t])][n_hid])\n",
        "\n",
        "\n",
        "\n",
        "\n",
        "#     plt.savefig('{base}/loss_IG/3*3/imgs/{j}.png'.format(base=base, j=j))\n",
        "\n",
        "#     plt.yscale('log')\n",
        "#     plt.ylim(0, 1400)\n",
        "    plt.legend(loc='lower right', bbox_to_anchor=(1.3, 0.1), ncol=1, fancybox=True, shadow=True)\n",
        "    # plt.ylim(1, 10000)"
      ],
      "execution_count": 6,
      "outputs": [
        {
          "output_type": "display_data",
          "data": {
            "image/png": "[encoded data removed]",
            "text/plain": [
              "<Figure size 576x360 with 1 Axes>"
            ]
          },
          "metadata": {
            "needs_background": "light"
          }
        }
      ]
    },
    {
      "cell_type": "code",
      "metadata": {
        "id": "_b2fJhflZxvi",
        "colab": {
          "base_uri": "https://localhost:8080/",
          "height": 33
        },
        "outputId": "6ab3e7aa-8095-4ec7-ce0a-eaabacae92bf"
      },
      "source": [
        "\n",
        "plt.figure(figsize=(8,5))\n",
        "\n",
        "n_vis=9\n",
        "Weights={}\n",
        "CMs={}\n",
        "for T in T_list:\n",
        "    CMs[str(T)]={}\n",
        "    for n_hid in n_hid_list:\n",
        "        CMs[str(T)][str(n_hid)]=[]\n",
        "        models=pd.read_pickle('{base}/loss_IG/3*3/Exact_state_dict/model_n_hid={n_hid}_T={T}_sym.pkl'.format(base=base, n_hid=n_hid, T=T, lr=lr, vol=vol, std=std))\n",
        "        for n in range(n_hid):\n",
        "            CMs[str(T)][str(n_hid)].append(CM(models[str(0)][-1]['Weight'][n]))\n"
      ],
      "execution_count": 104,
      "outputs": [
        {
          "output_type": "display_data",
          "data": {
            "text/plain": [
              "<Figure size 576x360 with 0 Axes>"
            ]
          },
          "metadata": {}
        }
      ]
    },
    {
      "cell_type": "code",
      "metadata": {
        "id": "gC7Tede3b_wJ",
        "outputId": "d004a203-ef39-432a-b147-27db19a45767",
        "colab": {
          "base_uri": "https://localhost:8080/"
        }
      },
      "source": [
        "CMs"
      ],
      "execution_count": 105,
      "outputs": [
        {
          "output_type": "execute_result",
          "data": {
            "text/plain": [
              "{'16': {'6': [(0.5526090719412661, 1.5526077607888178),\n",
              "   (0.2324109122157548, 2.9138080915429447),\n",
              "   (-29.02387586172027, -28.023023957068943),\n",
              "   (1.7059885696410682, -9.826493341604792),\n",
              "   (0.6271119049920124, 2.9358088406373324),\n",
              "   (1.9357491081387863, 1.6271702458749464)]}}"
            ]
          },
          "metadata": {},
          "execution_count": 105
        }
      ]
    },
    {
      "cell_type": "code",
      "metadata": {
        "id": "4esIuSFppzX9"
      },
      "source": [
        ""
      ],
      "execution_count": null,
      "outputs": []
    }
  ]
}