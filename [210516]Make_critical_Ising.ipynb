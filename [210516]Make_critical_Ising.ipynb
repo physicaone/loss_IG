{
  "nbformat": 4,
  "nbformat_minor": 0,
  "metadata": {
    "colab": {
      "name": "[210516]Make_critical_Ising.ipynb",
      "provenance": [],
      "collapsed_sections": [],
      "authorship_tag": "ABX9TyMC/UQS7wkUwa34B4ik8w3i",
      "include_colab_link": true
    },
    "kernelspec": {
      "name": "python3",
      "display_name": "Python 3"
    },
    "language_info": {
      "name": "python"
    }
  },
  "cells": [
    {
      "cell_type": "markdown",
      "metadata": {
        "id": "view-in-github",
        "colab_type": "text"
      },
      "source": [
        "<a href=\"https://colab.research.google.com/github/physicaone/loss_IG/blob/master/%5B210516%5DMake_critical_Ising.ipynb\" target=\"_parent\"><img src=\"https://colab.research.google.com/assets/colab-badge.svg\" alt=\"Open In Colab\"/></a>"
      ]
    },
    {
      "cell_type": "code",
      "metadata": {
        "colab": {
          "base_uri": "https://localhost:8080/"
        },
        "id": "PGYqwLBFNBWv",
        "outputId": "32df2e69-b123-4e4a-9cb1-90d26e719182"
      },
      "source": [
        "from google.colab import drive\n",
        "drive.mount('/content/drive')"
      ],
      "execution_count": 1,
      "outputs": [
        {
          "output_type": "stream",
          "text": [
            "Mounted at /content/drive\n"
          ],
          "name": "stdout"
        }
      ]
    },
    {
      "cell_type": "code",
      "metadata": {
        "id": "_Q3azp80BKMv"
      },
      "source": [
        "import numpy as np\n",
        "import matplotlib.pyplot as plt\n",
        "import time\n",
        "from tqdm import tqdm, tnrange\n"
      ],
      "execution_count": 2,
      "outputs": []
    },
    {
      "cell_type": "code",
      "metadata": {
        "id": "tvupOsLTMai9"
      },
      "source": [
        "def magnetization(lattice):\n",
        "    '''\n",
        "    This is a function that returns absolute of spontaneous magnetization of a spin configuration.\n",
        "    Not returns magnetization per spin.\n",
        "    '''\n",
        "    L = len(lattice)\n",
        "    m = 0\n",
        "    for i in range(L):\n",
        "        for j in range(L):\n",
        "            m += lattice[i,j]\n",
        "    \n",
        "    return abs(m)"
      ],
      "execution_count": 3,
      "outputs": []
    },
    {
      "cell_type": "code",
      "metadata": {
        "id": "229a1bR3ManW"
      },
      "source": [
        "def Ising_model(lattice, T, n0, n_delta, n_sample):\n",
        "    #n0는 equlibrium에 도달하는데 걸리는 시간\n",
        "    #n_delta는 correlation이 줄어드는데 걸리는 시간\n",
        "    #n_sample은 sampling하고 싶어은 샘플의 숫자\n",
        "    L = len(lattice)\n",
        "    samples=[]\n",
        "    equil,count=0,0\n",
        "    #alpha\n",
        "    sampled=0 #샘플링된 샘플들의 숫자를 셉니다. \n",
        "    while sampled < n_sample: #원하는 갯수만큼 sampling을 해야 하므로 이 부분은 while문이 와야 합니다.\n",
        "        if equil < n0: #equilibrium에 도달할 때까지는 샘플을 수집해서는 안됩니다. \n",
        "            for i in range(L):\n",
        "                for j in range(L):\n",
        "                    s = lattice[i,j]\n",
        "                    neigh = lattice[(i+1)%L, j] + lattice[i,(j+1)%L] + lattice[(i-1)%L,j] + lattice[i,(j-1)%L]\n",
        "                    DE = 2 * s * neigh \n",
        "\n",
        "                    if DE < 0:\n",
        "                        s *= -1 \n",
        "                    elif np.random.rand() < np.exp(- DE*1/T):\n",
        "                        s *= -1 \n",
        "                    lattice[i,j] = s\n",
        "            equil += 1;\n",
        "\n",
        "        else: #이제는 sample을 수집해도 됩니다.\n",
        "            x = np.random.randint(L)\n",
        "            y = np.random.randint(L)\n",
        "            s = lattice[x,y]  \n",
        "            neigh = lattice[(x+1)%L, y] + lattice[x,(y+1)%L] + lattice[(x-1)%L,y] + lattice[x,(y-1)%L]\n",
        "            DE = 2 * s * neigh \n",
        "\n",
        "            #accept or reject \n",
        "            if DE < 0:\n",
        "                s *= -1 \n",
        "\n",
        "            elif np.random.rand() < np.exp(- DE*1/T):\n",
        "                s *= -1 \n",
        "\n",
        "            lattice[x,y] = s\n",
        "            count += 1;\n",
        "            equil+=1; #이건 굳이 없어도 됩니다. \n",
        "            if count == n_delta: #correlation이 큰 샘플은 버려야 합니다. 따라서 n_delta라는 step차이를 두고 sampling을 해야 합니다.\n",
        "                count = 0;\n",
        "                a=lattice.copy()\n",
        "                samples.append(np.float32(np.reshape(a,(1,L*L))+1)/2)\n",
        "                #beta\n",
        "                sampled+=1; \n",
        "                \n",
        "    return samples"
      ],
      "execution_count": 8,
      "outputs": []
    },
    {
      "cell_type": "code",
      "metadata": {
        "id": "klu2dJYtMap_"
      },
      "source": [
        "L=3\n",
        "lattice1 = - np.ones((L,L))\n",
        "\n",
        "\n",
        "T =2.3\n",
        "\n",
        "\n",
        "n0 = 2000\n",
        "n_delta = 50\n",
        "n_sample=51200\n",
        "mcmax = n_sample+n0\n"
      ],
      "execution_count": 9,
      "outputs": []
    },
    {
      "cell_type": "code",
      "metadata": {
        "colab": {
          "base_uri": "https://localhost:8080/"
        },
        "id": "EBt2OGiHMi4S",
        "outputId": "8471593d-752a-4926-9449-dbe795a7a499"
      },
      "source": [
        "lat = Ising_model(lattice1, T, n0, n_delta, n_sample)\n",
        "np.shape(lat)"
      ],
      "execution_count": 10,
      "outputs": [
        {
          "output_type": "execute_result",
          "data": {
            "text/plain": [
              "(51200, 1, 9)"
            ]
          },
          "metadata": {
            "tags": []
          },
          "execution_count": 10
        }
      ]
    },
    {
      "cell_type": "code",
      "metadata": {
        "id": "eOFVvVMYMi67"
      },
      "source": [
        "import pickle as pkl\n",
        "with open('drive/MyDrive/loss_IG/3*3/3*3_cri_full.pkl', 'wb') as f:\n",
        "    pkl.dump(lat, f)"
      ],
      "execution_count": 11,
      "outputs": []
    },
    {
      "cell_type": "code",
      "metadata": {
        "id": "YxD8xW_yNMe7"
      },
      "source": [
        ""
      ],
      "execution_count": null,
      "outputs": []
    }
  ]
}